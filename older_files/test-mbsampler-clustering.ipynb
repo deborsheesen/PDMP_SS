{
 "cells": [
  {
   "cell_type": "code",
   "execution_count": 1,
   "metadata": {},
   "outputs": [
    {
     "data": {
      "text/plain": [
       "ZZ_clustering (generic function with 6 methods)"
      ]
     },
     "execution_count": 1,
     "metadata": {},
     "output_type": "execute_result"
    }
   ],
   "source": [
    "using StatsBase, Distributions, PyPlot\n",
    "include(\"mbsampler.jl\") \n",
    "using PyPlot, TimeIt, Distributions, Optim\n",
    "include(\"ZZ_subsampling.jl\")\n",
    "include(\"ZZ_clustering.jl\") "
   ]
  },
  {
   "cell_type": "code",
   "execution_count": 2,
   "metadata": {},
   "outputs": [
    {
     "data": {
      "text/plain": [
       "logistic_data (generic function with 2 methods)"
      ]
     },
     "execution_count": 2,
     "metadata": {},
     "output_type": "execute_result"
    }
   ],
   "source": [
    "function logistic_data(d, Nobs, β_true, px, py=0.1) \n",
    "    X = ones(d, Nobs)\n",
    "    X[2:end,:] = rand(Normal(), d-1, Nobs).*rand(Binomial(1,px), d-1, Nobs) \n",
    "    #y = [rand(Binomial(1,1./(1+exp.(-X[:,j]'β_true))), 1)[1] for j in 1:Nobs]\n",
    "    y = rand(Binomial(1,py), Nobs)\n",
    "    return X, y\n",
    "end"
   ]
  },
  {
   "cell_type": "code",
   "execution_count": 3,
   "metadata": {},
   "outputs": [
    {
     "data": {
      "text/plain": [
       "4948"
      ]
     },
     "execution_count": 3,
     "metadata": {},
     "output_type": "execute_result"
    }
   ],
   "source": [
    "d = 3\n",
    "Nobs = 10^4\n",
    "px = 5e-1\n",
    "py = 5e-1\n",
    "β_true = rand(d)\n",
    "X, y = logistic_data(d, Nobs, β_true, px, py)\n",
    "σ = 2\n",
    "A = eye(d)\n",
    "# root = find_root(X, y, σ)\n",
    "sum(y)"
   ]
  },
  {
   "cell_type": "code",
   "execution_count": 4,
   "metadata": {},
   "outputs": [
    {
     "data": {
      "text/plain": [
       "3-element Array{Float64,1}:\n",
       " -0.0208026 \n",
       " -0.0290754 \n",
       " -0.00436319"
      ]
     },
     "execution_count": 4,
     "metadata": {},
     "output_type": "execute_result"
    }
   ],
   "source": [
    "root = find_root(X, y, σ)"
   ]
  },
  {
   "cell_type": "code",
   "execution_count": 5,
   "metadata": {},
   "outputs": [],
   "source": [
    "d, Nobs = size(X)\n",
    "gradient_root = zeros(d, Nobs)\n",
    "for n in 1:Nobs \n",
    "    gradient_root[:,n] = [derivative(X[:,n], y[n], k, root, Nobs, σ)[1] for k in 1:d]\n",
    "end"
   ]
  },
  {
   "cell_type": "code",
   "execution_count": 6,
   "metadata": {},
   "outputs": [],
   "source": [
    "for i in 3\n",
    "    p = sortperm(gradient_root[i,:])\n",
    "    vector = gradient_root[i,p]\n",
    "    score = comp_score_wc(vector)\n",
    "    #plot(score)\n",
    "    #print(comp_minscore_fast(vector,\"wc\"))\n",
    "end\n",
    "\n",
    "clusters = [get_clustering_vec(gradient_root[i,:], 10, \"wc\") for i in 1:d];"
   ]
  },
  {
   "cell_type": "code",
   "execution_count": 7,
   "metadata": {},
   "outputs": [
    {
     "name": "stdout",
     "output_type": "stream",
     "text": [
      "[1"
     ]
    },
    {
     "data": {
      "image/png": "[encoded data removed]",
      "text/plain": [
       "PyPlot.Figure(PyObject <Figure size 640x480 with 1 Axes>)"
      ]
     },
     "metadata": {},
     "output_type": "display_data"
    },
    {
     "name": "stdout",
     "output_type": "stream",
     "text": [
      " 139; 2431 7532; 8513 9137; 556 1410; 9671 9915; 7532 8513; 1410 2430; 139 556; 9137 9671; 9915 10000]"
     ]
    }
   ],
   "source": [
    "N_cluster=10\n",
    "mode = \"wc\"\n",
    "for i in 3\n",
    "    p = sortperm(gradient_root[i,:])\n",
    "    vector = gradient_root[i,p]\n",
    "    score = comp_score_wc(vector)\n",
    "    split_table = greedy_split_cluster(vector, N_cluster, mode)\n",
    "    print(split_table)\n",
    "    plot(vector)\n",
    "    #print(comp_minscore_fast(vector,\"wc\"))\n",
    "end\n",
    "\n",
    "#split_table = greedy_split_cluster(vector, N_cluster, mode)"
   ]
  },
  {
   "cell_type": "code",
   "execution_count": 22,
   "metadata": {},
   "outputs": [
    {
     "data": {
      "text/plain": [
       "cmbsampler(7, 10, [0.171429, 0.171429, 0.0857143, 0.0857143, 0.142857, 0.0714286, 0.0714286], mbsampler[wumbsampler(4, 5, [0.3, 0.3, 0.15, 0.15], [0.166667, 0.166667, 0.333333, 0.333333]), wumbsampler(3, 5, [0.333333, 0.166667, 0.166667], [0.2, 0.4, 0.4])], Array{Int64,1}[[1, 2, 3, 4], [5, 6, 7]], 2, [4, 3], [5 1 5; 5 6 10])"
      ]
     },
     "execution_count": 22,
     "metadata": {},
     "output_type": "execute_result"
    }
   ],
   "source": [
    "w = [.1,.1,.2,.2,.05,.1,0.1]\n",
    "w/=sum(w)\n",
    "N, = size(w)\n",
    "x = 1:N\n",
    "mb_size =10\n",
    "clusters = [[1,2,3,4],[5,6,7]]\n",
    "\n",
    "scp = [mb_size/2,mb_size/2]\n",
    "\n",
    "csamplers = Array{mbsampler}(2)\n",
    "for (ci, c) in enumerate(clusters)\n",
    "    csamplers[ci] = wumbsampler(size(c)[1], scp[ci], w[c])\n",
    "end\n",
    "\n",
    "gw = cmbsampler(csamplers, clusters)\n"
   ]
  },
  {
   "cell_type": "code",
   "execution_count": 20,
   "metadata": {},
   "outputs": [
    {
     "data": {
      "text/plain": [
       "(253,)"
      ]
     },
     "execution_count": 20,
     "metadata": {},
     "output_type": "execute_result"
    }
   ],
   "source": [
    "size(clusters[1][1])"
   ]
  },
  {
   "cell_type": "code",
   "execution_count": null,
   "metadata": {
    "collapsed": true
   },
   "outputs": [],
   "source": []
  },
  {
   "cell_type": "code",
   "execution_count": null,
   "metadata": {
    "collapsed": true
   },
   "outputs": [],
   "source": []
  }
 ],
 "metadata": {
  "anaconda-cloud": {},
  "kernelspec": {
   "display_name": "Julia 0.6.4",
   "language": "julia",
   "name": "julia-0.6"
  },
  "language_info": {
   "file_extension": ".jl",
   "mimetype": "application/julia",
   "name": "julia",
   "version": "0.6.4"
  }
 },
 "nbformat": 4,
 "nbformat_minor": 2
}
