{
 "cells": [
  {
   "cell_type": "code",
   "execution_count": 1,
   "metadata": {
    "collapsed": false
   },
   "outputs": [
    {
     "data": {
      "text/plain": [
       "ZZ_clustering (generic function with 6 methods)"
      ]
     },
     "execution_count": 1,
     "metadata": {},
     "output_type": "execute_result"
    }
   ],
   "source": [
    "using StatsBase, Distributions, JLD2, PyPlot\n",
    "include(\"../mbsampler.jl\") \n",
    "using PyPlot, TimeIt, Distributions, Optim\n",
    "import PyPlot\n",
    "const plt = PyPlot\n",
    "include(\"../ZZ_subsampling.jl\")\n",
    "include(\"../ZZ_clustering.jl\")"
   ]
  },
  {
   "cell_type": "code",
   "execution_count": 2,
   "metadata": {
    "collapsed": false
   },
   "outputs": [
    {
     "data": {
      "text/plain": [
       "logistic_data (generic function with 2 methods)"
      ]
     },
     "execution_count": 2,
     "metadata": {},
     "output_type": "execute_result"
    }
   ],
   "source": [
    "function logistic_data(d, Nobs, β_true, px, py=0.1) \n",
    "    X = ones(d, Nobs)\n",
    "    X[2:end,:] = rand(Normal(), d-1, Nobs).*rand(Binomial(1,px), d-1, Nobs) \n",
    "    #y = [rand(Binomial(1,1./(1+exp.(-X[:,j]'β_true))), 1)[1] for j in 1:Nobs]\n",
    "    y = rand(Binomial(1,py), Nobs)\n",
    "    return X, y\n",
    "end"
   ]
  },
  {
   "cell_type": "code",
   "execution_count": 3,
   "metadata": {
    "collapsed": false
   },
   "outputs": [
    {
     "data": {
      "text/plain": [
       "49"
      ]
     },
     "execution_count": 3,
     "metadata": {},
     "output_type": "execute_result"
    }
   ],
   "source": [
    "d = 3\n",
    "Nobs = 10^2\n",
    "px = 5e-1\n",
    "py = 5e-1\n",
    "β_true = rand(d)\n",
    "X, y = logistic_data(d, Nobs, β_true, px, py)\n",
    "σ = 2\n",
    "A = eye(d)\n",
    "# root = find_root(X, y, σ)\n",
    "sum(y)"
   ]
  },
  {
   "cell_type": "code",
   "execution_count": 4,
   "metadata": {
    "collapsed": false
   },
   "outputs": [
    {
     "data": {
      "text/plain": [
       "3-element Array{Float64,1}:\n",
       " -0.0514241\n",
       " -0.0189904\n",
       " -0.150673 "
      ]
     },
     "execution_count": 4,
     "metadata": {},
     "output_type": "execute_result"
    }
   ],
   "source": [
    "root = find_root(X, y, σ)"
   ]
  },
  {
   "cell_type": "code",
   "execution_count": 5,
   "metadata": {
    "collapsed": true
   },
   "outputs": [],
   "source": [
    "d, Nobs = size(X)\n",
    "gradient_root = zeros(d, Nobs)\n",
    "for n in 1:Nobs \n",
    "    gradient_root[:,n] = [derivative(X[:,n], y[n], k, root, Nobs, σ)[1] for k in 1:d]\n",
    "end"
   ]
  },
  {
   "cell_type": "code",
   "execution_count": 10,
   "metadata": {
    "collapsed": false
   },
   "outputs": [
    {
     "data": {
      "image/png": "[encoded data removed]",
      "text/plain": [
       "PyPlot.Figure(PyObject <Figure size 640x480 with 1 Axes>)"
      ]
     },
     "metadata": {},
     "output_type": "display_data"
    },
    {
     "name": "stdout",
     "output_type": "stream",
     "text": [
      "cluster_node[cluster_node(true, 0.251403, 1, 3, 5, 0.0654466, 0.0222518, -0.163705), cluster_node(true, 0.231212, 6, 8, 28, 0.00858727, 0.0428329, -0.179792), cluster_node(true, 0.228833, 60, 66, 83, 0.0350152, 0.0482406, -0.145577), cluster_node(true, 0.211819, 45, 46, 49, 0.00530321, 0.0508585, -0.155657), cluster_node(true, 0.25277, 84, 88, 95, 0.029484, 0.0690143, -0.154271), cluster_node(true, 0.227123, 96, 99, 100, 0.0800605, 0.0, -0.147062), cluster_node(true, 0.109025, 29, 36, 40, 0.0180093, 0.0178575, -0.0731585), cluster_node(true, 0.026271, 41, 42, 44, 0.000367032, 0.00273718, -0.0231668), cluster_node(true, 0.0756373, 50, 51, 54, 0.0129289, 0.00781297, -0.0548954), cluster_node(true, 0.0477699, 55, 57, 59, 0.0129485, 0.00270364, -0.0321178)]"
     ]
    }
   ],
   "source": [
    "i=1\n",
    "    p = sortperm(gradient_root[i,:])\n",
    "    vector = gradient_root[i,p]\n",
    "    cluster_node_list = greedy_split_cluster(10,vector)\n",
    "    plot(vector)\n",
    "    print(cluster_node_list)\n"
   ]
  },
  {
   "cell_type": "code",
   "execution_count": 13,
   "metadata": {
    "collapsed": false
   },
   "outputs": [
    {
     "data": {
      "text/plain": [
       "10-element Array{Any,1}:\n",
       " [20, 33, 95, 45, 67]                                                              \n",
       " [41, 23, 63, 72, 8, 14, 18, 24, 43, 46  …  59, 61, 79, 82, 84, 97, 98, 91, 85, 77]\n",
       " [9, 31, 44, 71, 62, 12, 93, 56, 22, 6  …  36, 48, 57, 58, 65, 76, 83, 94, 51, 30] \n",
       " [68, 64, 29, 80, 69]                                                              \n",
       " [21, 40, 81, 55, 92, 28, 87, 37, 66, 52, 88, 1]                                   \n",
       " [10, 78, 4, 11, 34]                                                               \n",
       " [86, 49, 19, 96, 70, 50, 73, 5, 2, 25, 60, 16]                                    \n",
       " [90, 7, 89, 3]                                                                    \n",
       " [26, 100, 35, 13, 75]                                                             \n",
       " [39, 38, 42, 99, 74]                                                              "
      ]
     },
     "execution_count": 13,
     "metadata": {},
     "output_type": "execute_result"
    }
   ],
   "source": [
    "#vector=ones(100)\n",
    "perform_clustering(10, gradient_root[1,:])"
   ]
  },
  {
   "cell_type": "code",
   "execution_count": 31,
   "metadata": {
    "collapsed": false
   },
   "outputs": [
    {
     "name": "stdout",
     "output_type": "stream",
     "text": [
      "Tuple{Int64,Int64}[(1, 2), (2, 3), (3, 4), (4, 5)]"
     ]
    }
   ],
   "source": [
    "print([(i,j) for (i,j) in enumerate(2:5)])"
   ]
  },
  {
   "cell_type": "code",
   "execution_count": null,
   "metadata": {
    "collapsed": true
   },
   "outputs": [],
   "source": []
  }
 ],
 "metadata": {
  "anaconda-cloud": {},
  "kernelspec": {
   "display_name": "Julia 0.6.2",
   "language": "julia",
   "name": "julia-0.6"
  },
  "language_info": {
   "file_extension": ".jl",
   "mimetype": "application/julia",
   "name": "julia",
   "version": "0.6.2"
  }
 },
 "nbformat": 4,
 "nbformat_minor": 2
}
