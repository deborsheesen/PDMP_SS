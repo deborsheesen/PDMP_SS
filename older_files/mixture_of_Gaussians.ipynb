{
 "cells": [
  {
   "cell_type": "markdown",
   "metadata": {},
   "source": [
    "Consider first a mixture of 1-d Gaussians with pdf\n",
    "\n",
    "$$ f(x) = \\sum_{k=1}^K \\omega_k \\, \\frac{\\lambda_k^{1/2}}{\\sqrt{2 \\pi}} \\exp \\left \\{ - \\frac12 \\lambda_k (x - \\mu_k)^2 \\right \\} ~~ \\text{where} ~ \\sum_{k=1}^K \\omega_k = 1 $$\n",
    "are the mixture weights, $\\mu_1, \\ldots, \\mu_K$ are the mixture means and $\\lambda_1, \\ldots, \\lambda_K$ are the mixture precisions. \n",
    "\n",
    "\n",
    "Suppose we have observations $x^1, \\ldots, x^N$. \n",
    "Then for $r \\in \\{1, \\ldots, K\\}$,\n",
    "\\begin{eqnarray}\n",
    "- \\partial_{\\mu_r} \\log f(x) & = & - \\frac{\\partial}{\\partial \\mu_r} \\log \\left [ \\sum_{k=1}^K \\omega_k \\lambda_k^{1/2} \\exp \\left \\{ - \\frac12 \\lambda_k (x - \\mu_k)^2 \\right \\} \\right ] = \\frac{\\omega_r \\lambda_r^{3/2} \\exp \\left \\{ - \\frac12 \\lambda_k (x - \\mu_k)^2 \\right \\} (x - \\mu_r)} {\\sum_{k=1}^K \\omega_k \\lambda_k^{1/2} \\exp \\left \\{ - \\frac12 \\lambda_k (x - \\mu_k)^2 \\right \\}} \\\\\n",
    "%\n",
    "\\Rightarrow - \\partial_{\\mu_r} \\sum_{i=1}^N \\log f(x^i) & = & \\sum_{i=1}^N \\frac{\\omega_r \\lambda_r^{3/2} \\exp \\left \\{ - \\frac12 \\lambda_k (x^i - \\mu_k)^2 \\right \\} (x^i - \\mu_r)} {\\sum_{k=1}^K \\omega_k \\lambda_k^{1/2} \\exp \\left \\{ - \\frac12 \\lambda_k (x^i - \\mu_k)^2 \\right \\}}. \n",
    "\\end{eqnarray}\n",
    "\n",
    "Let $U(\\mu) = \\log \\left ( \\sum_{i=1}^N f(x^i) \\right )$ be the log-likelihood in terms of the parameters $\\mu = (\\mu_1, \\ldots, \\mu_r)$.\n",
    "Also suppose $\\lambda_1 = \\cdots = \\lambda_k = \\lambda$. Then \n",
    "\\begin{eqnarray} \n",
    "- \\partial_{\\mu_r} U(\\mu) \n",
    "& = & \n",
    "\\sum_{i=1}^N \\frac{\\omega_r \\lambda^{3/2} \\exp \\left \\{ - \\frac12 \\lambda (x^i - \\mu_r)^2 \\right \\}} {\\sum_{k=1}^K \\omega_k \\lambda^{1/2} \\exp \\left \\{ - \\frac12 \\lambda (x^i - \\mu_k)^2 \\right \\}} (x^i - \\mu_r) \n",
    "= \\sum_{i=1}^N a^i (x^i - \\mu_r), ~~ \\text{where} ~ a^i = \\frac{\\omega_r \\lambda^{3/2} \\exp \\left \\{ - \\frac12 \\lambda (x^i - \\mu_r)^2 \\right \\}} {\\sum_{k=1}^K \\omega_k \\lambda^{1/2} \\exp \\left \\{ - \\frac12 \\lambda (x^i - \\mu_k)^2 \\right \\}} \\\\\n",
    "%\n",
    "\\Rightarrow \\left \\{ \\theta \\, \\partial_{\\mu_r} U(\\mu) \\right \\}^+ & \n",
    "\\leq & \n",
    "\\lambda \\left \\{ \\sum_{i=1}^N \\theta \\, a^i \\, (x^i - \\mu_r) \\right \\}^+ \n",
    "\\leq \n",
    "\\lambda  \\sum_{i=1}^N \\left \\{ \\theta \\, a^i \\, (x^i - \\mu_r) \\right \\}^+ \n",
    "\\leq \n",
    "\\lambda \\sum_{i=1}^N \\left \\{ \\theta \\, (x^i - \\mu_r) \\right \\}^+ ,\n",
    "\\end{eqnarray} \n",
    "\n",
    "since $$ \\left | \\frac{\\omega_r \\lambda^{3/2} \\exp \\left \\{ - \\frac12 \\lambda (x^i - \\mu_r)^2 \\right \\} } {\\sum_{k=1}^K \\omega_k \\lambda^{1/2} \\exp \\left \\{ - \\frac12 \\lambda (x^i - \\mu_k)^2 \\right \\}}  \\right | \\leq \\lambda.$$\n",
    "\n",
    "Let $m_r(\\mu(t)) = \\left \\{ \\theta \\, \\partial_{\\mu_r} U(\\mu + \\theta \\, t) \\right \\}^+$. Then we want $M_i(t)$ such that $m_r(t) \\leq M_r(t)$ for all $t \\geq 0$. Therefore, choose $M_r(t) = \\sum_{i=1}^N \\left \\{ \\theta \\, (x^i - \\mu_r - \\theta \\, t) \\right \\}^+ = \\sum_{i=1}^N \\left \\{ \\theta \\, ( y^{(i)} - \\theta \\, t ) \\right \\}^+$, where $y^i = x^i - \\mu_r$ and $y^{(1)} \\leq \\cdots \\leq y^{(N)}$ are the $y^i$'s sorted. Now let's see what this is. \n",
    "\n",
    "If $\\theta = 1$, \n",
    "\n",
    "$$ M_r(t) =\n",
    "  \\begin{cases}\n",
    "    \\sum_{i=1}^N (y^{(i)} - t)  & \\quad \\text{if } t \\leq y^{(1)} \\\\\n",
    "    \\sum_{i=1}^k (y^{(i)} - t) + \\sum_{i=k+1}^N (t - y^{(i)}) & \\quad \\text{if } y^{(k)} \\leq t \\leq y^{(k+1)}, ~~ k = 1, \\ldots, N-1 \\\\\n",
    "    \\sum_{i=1}^N (t - y^{(i)})  & \\quad \\text{if } t > y^{(N)}\n",
    "  \\end{cases}\n",
    "$$\n",
    "\n",
    "Then $\\int_0^t M_i(s) \\, ds$ is a piecewise quadratic function. "
   ]
  },
  {
   "cell_type": "code",
   "execution_count": 8,
   "metadata": {
    "scrolled": true
   },
   "outputs": [
    {
     "data": {
      "text/plain": [
       "Plots.PlotlyBackend()"
      ]
     },
     "execution_count": 8,
     "metadata": {},
     "output_type": "execute_result"
    }
   ],
   "source": [
    "using Distributions\n",
    "using StatsBase\n",
    "using Plots\n",
    "plotly()"
   ]
  },
  {
   "cell_type": "code",
   "execution_count": 87,
   "metadata": {},
   "outputs": [
    {
     "data": {
      "text/plain": [
       "simulate_data (generic function with 1 method)"
      ]
     },
     "execution_count": 87,
     "metadata": {},
     "output_type": "execute_result"
    }
   ],
   "source": [
    "function simulate_data(μ, λ, ω, Nobs) \n",
    "    ω = ω./sum(ω)\n",
    "    K = size(μ)[1]\n",
    "    X = zeros(Nobs) \n",
    "    for i in 1:Nobs \n",
    "        u = rand(1)[1]\n",
    "        index = 1\n",
    "        w = ω[index]\n",
    "        while u >= w \n",
    "            index += 1\n",
    "            w += ω[index]\n",
    "        end\n",
    "        X[i] = rand(Normal(μ[index], 1/sqrt(λ[index]) ))    \n",
    "    end\n",
    "    return X\n",
    "end "
   ]
  },
  {
   "cell_type": "code",
   "execution_count": 133,
   "metadata": {},
   "outputs": [],
   "source": [
    "N = 100\n",
    "K = 10\n",
    "\n",
    "ω = rand(K)\n",
    "λ = ones(K)\n",
    "μ = 100*(1:10)\n",
    "\n",
    "X = simulate_data(μ, λ, ω, N);"
   ]
  },
  {
   "cell_type": "code",
   "execution_count": 136,
   "metadata": {},
   "outputs": [
    {
     "data": {
      "text/plain": [
       "derivative_moG (generic function with 1 method)"
      ]
     },
     "execution_count": 136,
     "metadata": {},
     "output_type": "execute_result"
    }
   ],
   "source": [
    "function derivative_moG(X, μ, ω, λ, r) \n",
    "    K = length(μ)\n",
    "    Nobs = length(X)\n",
    "    upper = ω[r]*λ[r]^1.5*exp.(-0.5*λ[r]*(X-μ[r]).^2).*(X-μ[r])\n",
    "    lower = reshape(sum(Diagonal(ω.*λ)*exp.(-0.5*Diagonal(λ)*(transpose(repmat(X,1,K)).-μ).^2),1),Nobs,) \n",
    "    return sum(upper ./ lower)\n",
    "end"
   ]
  },
  {
   "cell_type": "code",
   "execution_count": 137,
   "metadata": {},
   "outputs": [
    {
     "data": {
      "text/plain": [
       "-7.020124769070549"
      ]
     },
     "execution_count": 137,
     "metadata": {},
     "output_type": "execute_result"
    }
   ],
   "source": [
    "derivative_moG(X, μ, ω, λ, 4) "
   ]
  },
  {
   "cell_type": "code",
   "execution_count": 113,
   "metadata": {},
   "outputs": [
    {
     "data": {
      "text/plain": [
       "15"
      ]
     },
     "execution_count": 113,
     "metadata": {},
     "output_type": "execute_result"
    }
   ],
   "source": [
    "μ_min = -5 \n",
    "μ_max = 15"
   ]
  },
  {
   "cell_type": "code",
   "execution_count": 122,
   "metadata": {},
   "outputs": [
    {
     "data": {
      "text/plain": [
       "computational_bounds (generic function with 1 method)"
      ]
     },
     "execution_count": 122,
     "metadata": {},
     "output_type": "execute_result"
    }
   ],
   "source": [
    "function computational_bounds(X, μ) \n",
    "    return max(sum(X-μ_min)*( sum(X-μ_min)>0), -sum(X-μ_max)*( sum(X-μ_max)<0))\n",
    "end"
   ]
  },
  {
   "cell_type": "code",
   "execution_count": 123,
   "metadata": {},
   "outputs": [
    {
     "data": {
      "text/plain": [
       "1659.3896941982773"
      ]
     },
     "execution_count": 123,
     "metadata": {},
     "output_type": "execute_result"
    }
   ],
   "source": [
    "computational_bounds(X, μ) "
   ]
  },
  {
   "cell_type": "code",
   "execution_count": 138,
   "metadata": {},
   "outputs": [
    {
     "data": {
      "text/plain": [
       "1338.1200000000001"
      ]
     },
     "execution_count": 138,
     "metadata": {},
     "output_type": "execute_result"
    }
   ],
   "source": [
    "75.00+27.72+535.80+15.77+28.88+437.54+92.39+103.90+21.12"
   ]
  },
  {
   "cell_type": "code",
   "execution_count": null,
   "metadata": {},
   "outputs": [],
   "source": []
  }
 ],
 "metadata": {
  "kernelspec": {
   "display_name": "Julia 0.6.2",
   "language": "julia",
   "name": "julia-0.6"
  },
  "language_info": {
   "file_extension": ".jl",
   "mimetype": "application/julia",
   "name": "julia",
   "version": "0.6.2"
  }
 },
 "nbformat": 4,
 "nbformat_minor": 2
}
