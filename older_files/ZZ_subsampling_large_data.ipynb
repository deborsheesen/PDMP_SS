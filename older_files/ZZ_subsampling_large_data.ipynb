{
 "cells": [
  {
   "cell_type": "code",
   "execution_count": 1,
   "metadata": {},
   "outputs": [
    {
     "data": {
      "text/plain": [
       "ZZ_clustering (generic function with 6 methods)"
      ]
     },
     "execution_count": 1,
     "metadata": {},
     "output_type": "execute_result"
    }
   ],
   "source": [
    "using PyPlot, TimeIt, Distributions, Optim\n",
    "import PyPlot\n",
    "const plt = PyPlot\n",
    "include(\"ZZ_subsampling.jl\") \n",
    "include(\"ZZ_clustering.jl\") "
   ]
  },
  {
   "cell_type": "code",
   "execution_count": 2,
   "metadata": {},
   "outputs": [
    {
     "data": {
      "text/plain": [
       "logistic_data (generic function with 2 methods)"
      ]
     },
     "execution_count": 2,
     "metadata": {},
     "output_type": "execute_result"
    }
   ],
   "source": [
    "function logistic_data(d, Nobs, β_true, px, py=0.1) \n",
    "    X = ones(d, Nobs)\n",
    "    X[2:end,:] = 3rand(Normal(), d-1, Nobs).*rand(Binomial(1,px), d-1, Nobs) \n",
    "#     y = [rand(Binomial(1,1./(1+exp.(-X[:,j]'β_true))), 1)[1] for j in 1:Nobs]\n",
    "    y = rand(Binomial(1,py), Nobs)\n",
    "    return X, y\n",
    "end"
   ]
  },
  {
   "cell_type": "code",
   "execution_count": 14,
   "metadata": {
    "scrolled": true
   },
   "outputs": [
    {
     "data": {
      "text/plain": [
       "10021"
      ]
     },
     "execution_count": 14,
     "metadata": {},
     "output_type": "execute_result"
    }
   ],
   "source": [
    "d = 10^2\n",
    "Nobs = 10^6\n",
    "px = 1e-4\n",
    "py = 1e-2\n",
    "β_true = rand(d)\n",
    "X, y = logistic_data(d, Nobs, β_true, px, py)\n",
    "σ = 2\n",
    "A = eye(d)\n",
    "# root = find_root(X, y, σ)\n",
    "sum(y)"
   ]
  },
  {
   "cell_type": "code",
   "execution_count": 16,
   "metadata": {
    "scrolled": true
   },
   "outputs": [
    {
     "data": {
      "text/plain": [
       "100-element Array{Float64,1}:\n",
       " -4.54415  \n",
       "  0.0      \n",
       "  0.0      \n",
       "  0.0      \n",
       "  0.0111597\n",
       " -0.0460091\n",
       "  0.0      \n",
       " -0.0421613\n",
       " -0.0476767\n",
       "  0.0      \n",
       "  0.0      \n",
       "  0.0      \n",
       " -0.0197899\n",
       "  ⋮        \n",
       "  0.0138972\n",
       "  0.0471808\n",
       " -0.0512253\n",
       " -0.0757601\n",
       " -0.0299304\n",
       "  0.0216173\n",
       "  0.0      \n",
       " -0.0116771\n",
       "  0.101411 \n",
       "  0.089785 \n",
       "  0.0165518\n",
       "  0.013752 "
      ]
     },
     "execution_count": 16,
     "metadata": {},
     "output_type": "execute_result"
    }
   ],
   "source": [
    "root = find_root(X[:,1:10^4], y[1:10^4], σ)"
   ]
  },
  {
   "cell_type": "code",
   "execution_count": null,
   "metadata": {
    "collapsed": true
   },
   "outputs": [],
   "source": []
  },
  {
   "cell_type": "code",
   "execution_count": 17,
   "metadata": {
    "collapsed": true,
    "scrolled": true
   },
   "outputs": [],
   "source": [
    "ϵ = 1e-5\n",
    "weights_cv = zeros(d, Nobs)\n",
    "for n in 1:Nobs\n",
    "    weights_cv[:,n] = [abs.(X[i,n])*norm(X[:,n]) for i in 1:d] + ϵ\n",
    "end\n",
    "weights_cv ./= sum(weights_cv,2);\n",
    "\n",
    "weights = abs.(X) + ϵ\n",
    "weights ./= sum(weights,2);"
   ]
  },
  {
   "cell_type": "code",
   "execution_count": 18,
   "metadata": {},
   "outputs": [
    {
     "data": {
      "text/plain": [
       "true"
      ]
     },
     "execution_count": 18,
     "metadata": {},
     "output_type": "execute_result"
    }
   ],
   "source": [
    "β_0 = copy(root)\n",
    "mb_size = 10\n",
    "replace = true"
   ]
  },
  {
   "cell_type": "code",
   "execution_count": 19,
   "metadata": {},
   "outputs": [
    {
     "data": {
      "text/plain": [
       "(0.0018239493913808325, 0.045973721625031085)"
      ]
     },
     "execution_count": 19,
     "metadata": {},
     "output_type": "execute_result"
    }
   ],
   "source": [
    "minimum(1./(1+exp.(-X'root))), maximum(1./(1+exp.(-X'root)))"
   ]
  },
  {
   "cell_type": "markdown",
   "metadata": {},
   "source": [
    "### Run stuff:"
   ]
  },
  {
   "cell_type": "code",
   "execution_count": 22,
   "metadata": {},
   "outputs": [
    {
     "name": "stdout",
     "output_type": "stream",
     "text": [
      "0.0% of switches accepted \n",
      "0.6% of switches accepted \n",
      "0.18 minutes to run"
     ]
    }
   ],
   "source": [
    "max_attempts = 10^3\n",
    "mb_size = 50\n",
    "start = time()\n",
    "s_iid, b_iid = ZZ_logistic(X, y, max_attempts, β_0, mb_size, root, σ, A, false, nothing, replace)\n",
    "s_w, b_w = ZZ_logistic(X, y, max_attempts, β_0, mb_size, root, σ, A, false, weights, replace)\n",
    "print( round((time()-start)/60, 2), \" minutes to run\")"
   ]
  },
  {
   "cell_type": "code",
   "execution_count": 23,
   "metadata": {},
   "outputs": [
    {
     "name": "stdout",
     "output_type": "stream",
     "text": [
      "0.0% of switches accepted \n",
      "0.0% of switches accepted \n",
      "0.0% of switches accepted \n",
      "0.0% of switches accepted \n",
      "1 loops, best of 3: 324.73 ms per loop\n",
      "0.5% of switches accepted \n",
      "0.6% of switches accepted \n",
      "0.5% of switches accepted \n",
      "0.2% of switches accepted \n",
      "1 loops, best of 3: 11.08 s per loop\n"
     ]
    }
   ],
   "source": [
    "@timeit ZZ_logistic(X, y, max_attempts, β_0, mb_size, root, σ, A, false, nothing, replace);\n",
    "@timeit ZZ_logistic(X, y, max_attempts, β_0, mb_size, root, σ, A, false, weights, replace);"
   ]
  },
  {
   "cell_type": "code",
   "execution_count": 38,
   "metadata": {},
   "outputs": [
    {
     "name": "stdout",
     "output_type": "stream",
     "text": [
      "100 loops, best of 3: 1.33 ms per loop\n"
     ]
    }
   ],
   "source": [
    "N = 10^5\n",
    "weights = rand(N)\n",
    "@timeit wsample(1:N, Weights(weights), mb_size; replace=replace);"
   ]
  },
  {
   "cell_type": "code",
   "execution_count": 40,
   "metadata": {
    "scrolled": true
   },
   "outputs": [
    {
     "data": {
      "text/plain": [
       "100000-element Array{Float64,1}:\n",
       " 1.89579e-7\n",
       " 8.50981e-6\n",
       " 6.67805e-6\n",
       " 1.4845e-5 \n",
       " 1.06997e-5\n",
       " 1.77425e-5\n",
       " 1.67583e-5\n",
       " 4.25659e-6\n",
       " 1.39361e-5\n",
       " 1.48221e-6\n",
       " 1.79571e-5\n",
       " 1.49877e-5\n",
       " 1.07842e-5\n",
       " ⋮         \n",
       " 1.20503e-5\n",
       " 6.99051e-6\n",
       " 5.88715e-6\n",
       " 1.75439e-5\n",
       " 1.87152e-5\n",
       " 1.68901e-5\n",
       " 7.80551e-6\n",
       " 1.47171e-5\n",
       " 6.89979e-6\n",
       " 1.03556e-5\n",
       " 1.71234e-5\n",
       " 1.96626e-5"
      ]
     },
     "execution_count": 40,
     "metadata": {},
     "output_type": "execute_result"
    }
   ],
   "source": [
    "weights /= sum(weights)\n",
    "cumsum"
   ]
  },
  {
   "cell_type": "code",
   "execution_count": 25,
   "metadata": {},
   "outputs": [
    {
     "name": "stdout",
     "output_type": "stream",
     "text": [
      "10 loops, best of 3: 13.21 ms per loop\n"
     ]
    }
   ],
   "source": [
    "@timeit sample(1:Nobs, Weights(weights), mb_size; replace=replace);"
   ]
  },
  {
   "cell_type": "code",
   "execution_count": 28,
   "metadata": {},
   "outputs": [
    {
     "name": "stdout",
     "output_type": "stream",
     "text": [
      "100 loops, best of 3: 3.35 ms per loop\n"
     ]
    }
   ],
   "source": [
    "@timeit sample(1:Nobs, Weights(ones(Nobs)), mb_size; replace=replace);"
   ]
  },
  {
   "cell_type": "code",
   "execution_count": 30,
   "metadata": {},
   "outputs": [
    {
     "name": "stdout",
     "output_type": "stream",
     "text": [
      "1000000 loops, best of 3: 849.01 ns per loop\n",
      "1000000 loops, best of 3: 845.18 ns per loop\n"
     ]
    }
   ],
   "source": [
    "@timeit sample(1:10^3, mb_size; replace=replace);\n",
    "@timeit sample(1:10^5, mb_size; replace=replace);"
   ]
  },
  {
   "cell_type": "code",
   "execution_count": 36,
   "metadata": {},
   "outputs": [
    {
     "name": "stdout",
     "output_type": "stream",
     "text": [
      "10000000 loops, best of 3: 57.24 ns per loop\n"
     ]
    }
   ],
   "source": [
    "@timeit rand();"
   ]
  },
  {
   "cell_type": "code",
   "execution_count": null,
   "metadata": {
    "collapsed": true
   },
   "outputs": [],
   "source": []
  },
  {
   "cell_type": "code",
   "execution_count": null,
   "metadata": {
    "collapsed": true
   },
   "outputs": [],
   "source": []
  },
  {
   "cell_type": "code",
   "execution_count": null,
   "metadata": {
    "collapsed": true
   },
   "outputs": [],
   "source": []
  },
  {
   "cell_type": "code",
   "execution_count": null,
   "metadata": {
    "collapsed": true
   },
   "outputs": [],
   "source": []
  },
  {
   "cell_type": "code",
   "execution_count": 19,
   "metadata": {
    "scrolled": true
   },
   "outputs": [
    {
     "name": "stdout",
     "output_type": "stream",
     "text": [
      "0.027% of switches accepted \n",
      "2.0% of switches accepted \n",
      "1.51 minutes to run"
     ]
    }
   ],
   "source": [
    "start = time()\n",
    "s_CV_uw, b_CV_uw = ZZ_logistic(X, y, max_attempts, β_0, mb_size, root, σ, A, true, nothing, replace)\n",
    "s_CV_w, b_CV_w = ZZ_logistic(X, y, max_attempts, β_0, mb_size, root, σ, A, true, weights_cv, replace)\n",
    "print( round((time()-start)/60, 2), \" minutes to run\")"
   ]
  },
  {
   "cell_type": "code",
   "execution_count": 20,
   "metadata": {
    "scrolled": true
   },
   "outputs": [
    {
     "name": "stdout",
     "output_type": "stream",
     "text": [
      "0.017% of switches accepted \n",
      "0.45% of switches accepted \n",
      "3.08 minutes to run"
     ]
    }
   ],
   "source": [
    "start = time()\n",
    "s_sorted_uw, b_sorted_uw = ZZ_clustering(X, y, max_attempts, β_0, mb_size, root, σ, A, \"sorted\", false) \n",
    "s_sorted_w, b_sorted_w = ZZ_clustering(X, y, max_attempts, β_0, mb_size, root, σ, A, \"sorted\", true, 1e-2) \n",
    "print( round((time()-start)/60, 2), \" minutes to run\")"
   ]
  },
  {
   "cell_type": "markdown",
   "metadata": {},
   "source": [
    "### Plot boxplots of ACFs:"
   ]
  },
  {
   "cell_type": "code",
   "execution_count": 27,
   "metadata": {
    "collapsed": true
   },
   "outputs": [],
   "source": [
    "N_samples = 10^5-1\n",
    "samples_CV_uw = extract_samples(s_CV_uw, b_CV_uw, b_CV_uw[end]/N_samples)\n",
    "samples_CV_w = extract_samples(s_CV_w, b_CV_w, b_CV_w[end]/N_samples)\n",
    "samples_iid = extract_samples(s_iid, b_iid, b_iid[end]/N_samples)\n",
    "samples_w = extract_samples(s_w, b_w, b_w[end]/N_samples)\n",
    "samples_sorted_uw = extract_samples(s_sorted_uw, b_sorted_uw, b_sorted_uw[end]/N_samples);\n",
    "samples_sorted_w = extract_samples(s_sorted_w, b_sorted_w, b_sorted_w[end]/N_samples);"
   ]
  },
  {
   "cell_type": "code",
   "execution_count": 28,
   "metadata": {
    "collapsed": true
   },
   "outputs": [],
   "source": [
    "maxlag = 200\n",
    "acfs = zeros(6, d, maxlag)\n",
    "for dim in 1:d \n",
    "    acfs[1,dim,:] = acf(samples_CV_uw[dim,:], maxlag)\n",
    "    acfs[2,dim,:] = acf(samples_CV_w[dim,:], maxlag)\n",
    "    acfs[3,dim,:] = acf(samples_iid[dim,:], maxlag)\n",
    "    acfs[4,dim,:] = acf(samples_w[dim,:], maxlag)\n",
    "    acfs[5,dim,:] = acf(samples_sorted_uw[dim,:], maxlag)\n",
    "    acfs[6,dim,:] = acf(samples_sorted_w[dim,:], maxlag)\n",
    "end"
   ]
  },
  {
   "cell_type": "code",
   "execution_count": 29,
   "metadata": {
    "collapsed": true
   },
   "outputs": [],
   "source": [
    "acfs_CV_uw, acfs_CV_w, acfs_iid, acfs_w, acfs_sorted_uw, acfs_sorted_w = [], [], [], [], [], []\n",
    "xt = []\n",
    "for i in 1:20\n",
    "    push!(acfs_CV_uw, acfs[1,:,i*10])\n",
    "    push!(acfs_CV_w, acfs[2,:,i*10])\n",
    "    push!(acfs_iid, acfs[3,:,i*10])\n",
    "    push!(acfs_w, acfs[4,:,i*10])\n",
    "    push!(acfs_sorted_uw, acfs[5,:,i*10])\n",
    "    push!(acfs_sorted_w, acfs[6,:,i*10])\n",
    "    if i%5 == 0 \n",
    "        push!(xt, 10*i)\n",
    "    else \n",
    "        push!(xt, \"\")\n",
    "    end\n",
    "end"
   ]
  },
  {
   "cell_type": "code",
   "execution_count": 31,
   "metadata": {},
   "outputs": [
    {
     "data": {
      "image/png": "[encoded data removed]",
      "text/plain": [
       "PyPlot.Figure(PyObject <Figure size 1200x750 with 6 Axes>)"
      ]
     },
     "metadata": {},
     "output_type": "display_data"
    }
   ],
   "source": [
    "using PyPlot\n",
    "fig = figure(\"pyplot_subplot_mixed\", figsize=(12,7.5))\n",
    "\n",
    "a, b = -.5, 1.1\n",
    "subplot(231)\n",
    "boxplot(acfs_iid, showfliers=false)\n",
    "grid(alpha=0.35)\n",
    "xlabel(\"Lag\", fontsize=10)\n",
    "ylabel(\"ACF\", fontsize=10)\n",
    "xticks(1:20, xt)\n",
    "ylim([a,b])\n",
    "title(\"i.i.d. sub-sampling \\n without control variates\", fontsize=11)\n",
    "\n",
    "subplot(234)\n",
    "boxplot(acfs_w, showfliers=false)\n",
    "grid(alpha=0.35)\n",
    "xlabel(\"Lag\", fontsize=10)\n",
    "xticks(1:20, xt)\n",
    "ylabel(\"ACF\", fontsize=10)\n",
    "ylim([a,b])\n",
    "title(\"Weighted sub-sampling \\n without control variates\", fontsize=11)\n",
    "\n",
    "subplot(233)\n",
    "boxplot(acfs_sorted_uw, showfliers=false)\n",
    "grid(alpha=0.35)\n",
    "xlabel(\"Lag\", fontsize=10)\n",
    "xticks(1:20, xt)\n",
    "yticks(alpha=0)\n",
    "ylim([a,b])\n",
    "title(\"Sorted sub-sampling \\n without weighting\", fontsize=11)\n",
    "\n",
    "subplot(232)\n",
    "boxplot(acfs_CV_uw, showfliers=false)\n",
    "grid(alpha=0.35)\n",
    "xlabel(\"Lag\", fontsize=10)\n",
    "xticks(1:20, xt)\n",
    "yticks(alpha=0)\n",
    "ylim([a,b])\n",
    "title(\"i.i.d. sub-sampling \\n with control variates\", fontsize=11)\n",
    "\n",
    "subplot(235)\n",
    "boxplot(acfs_CV_w, showfliers=false)\n",
    "grid(alpha=0.35)\n",
    "xlabel(\"Lag\", fontsize=10)\n",
    "xticks(1:20, xt)\n",
    "yticks(alpha=0)\n",
    "ylim([a,b])\n",
    "title(\"Weighted sub-sampling \\n with control variates\", fontsize=11)\n",
    "\n",
    "subplot(236)\n",
    "boxplot(acfs_sorted_w, showfliers=false)\n",
    "grid(alpha=0.35)\n",
    "xlabel(\"Lag\", fontsize=10)\n",
    "xticks(1:20, xt)\n",
    "yticks(alpha=0)\n",
    "ylim([a,b])\n",
    "title(\"Hybrid sub-sampling\", fontsize=11)\n",
    "\n",
    "subplots_adjust(wspace=0.01, hspace=0.55)"
   ]
  },
  {
   "cell_type": "code",
   "execution_count": null,
   "metadata": {
    "collapsed": true
   },
   "outputs": [],
   "source": []
  },
  {
   "cell_type": "code",
   "execution_count": null,
   "metadata": {
    "collapsed": true
   },
   "outputs": [],
   "source": []
  }
 ],
 "metadata": {
  "kernelspec": {
   "display_name": "Julia 0.6.4",
   "language": "julia",
   "name": "julia-0.6"
  },
  "language_info": {
   "file_extension": ".jl",
   "mimetype": "application/julia",
   "name": "julia",
   "version": "0.6.4"
  }
 },
 "nbformat": 4,
 "nbformat_minor": 2
}
