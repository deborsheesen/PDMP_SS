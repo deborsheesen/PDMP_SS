{
 "cells": [
  {
   "cell_type": "code",
   "execution_count": 1,
   "metadata": {},
   "outputs": [
    {
     "data": {
      "text/plain": [
       "ZZ_dominated_Hessian (generic function with 4 methods)"
      ]
     },
     "execution_count": 1,
     "metadata": {},
     "output_type": "execute_result"
    }
   ],
   "source": [
    "import PyPlot\n",
    "using PyPlot, Distributions, Optim, TimeIt\n",
    "include(\"ZZ_subsampling.jl\") \n",
    "include(\"ZZ_clustering.jl\")\n",
    "include(\"ZZ_dominated_Hessian.jl\")"
   ]
  },
  {
   "cell_type": "code",
   "execution_count": 2,
   "metadata": {},
   "outputs": [
    {
     "data": {
      "text/plain": [
       "logistic_data (generic function with 2 methods)"
      ]
     },
     "execution_count": 2,
     "metadata": {},
     "output_type": "execute_result"
    }
   ],
   "source": [
    "function logistic_data(d, Nobs, p=0.1) \n",
    "    X = ones(d, Nobs)\n",
    "    X[2:(end-1),:] = rand(d-2, Nobs)\n",
    "    X[:,end] = 3rand(Normal(),d)\n",
    "    y = rand(Binomial(1,p), Nobs)\n",
    "    return X, y\n",
    "end"
   ]
  },
  {
   "cell_type": "code",
   "execution_count": 3,
   "metadata": {},
   "outputs": [
    {
     "data": {
      "text/plain": [
       "106"
      ]
     },
     "execution_count": 3,
     "metadata": {},
     "output_type": "execute_result"
    }
   ],
   "source": [
    "d, Nobs = 5, 1000\n",
    "X, y = logistic_data(d, Nobs, 0.1)\n",
    "X .*= rand(Binomial(1,0.4), d, Nobs)\n",
    "β_0 = zeros(d)\n",
    "sum(y)"
   ]
  },
  {
   "cell_type": "code",
   "execution_count": 7,
   "metadata": {
    "collapsed": true
   },
   "outputs": [],
   "source": [
    "mb_size = 10\n",
    "max_attempts = 10^5\n",
    "σ = 2\n",
    "A = eye(d)\n",
    "root = find_root(X, y, σ);"
   ]
  },
  {
   "cell_type": "code",
   "execution_count": 8,
   "metadata": {
    "collapsed": true
   },
   "outputs": [],
   "source": [
    "ϵ = 1e-5\n",
    "weights_cv = zeros(d, Nobs)\n",
    "for n in 1:Nobs\n",
    "    weights_cv[:,n] = [abs.(X[i,n])*norm(X[:,n]) for i in 1:d] + ϵ\n",
    "end\n",
    "weights_cv ./= sum(weights_cv,2);\n",
    "\n",
    "weights = abs.(X) + ϵ\n",
    "weights ./= sum(weights,2);"
   ]
  },
  {
   "cell_type": "code",
   "execution_count": 9,
   "metadata": {},
   "outputs": [
    {
     "data": {
      "text/plain": [
       "false"
      ]
     },
     "execution_count": 9,
     "metadata": {},
     "output_type": "execute_result"
    }
   ],
   "source": [
    "h = 1\n",
    "replace = false "
   ]
  },
  {
   "cell_type": "markdown",
   "metadata": {
    "collapsed": true
   },
   "source": [
    "#### ZZ_clustering"
   ]
  },
  {
   "cell_type": "code",
   "execution_count": 10,
   "metadata": {},
   "outputs": [
    {
     "name": "stdout",
     "output_type": "stream",
     "text": [
      "0.4% of switches accepted \n",
      "0.069% of switches accepted \n",
      "0.89% of switches accepted \n",
      "0.16 minutes to run \n",
      "Configuration temperatures: \n",
      "k-means: [-6.44, -8.82, -4.09, -6.22, -0.71]\n",
      "sorted + unweighted: [-3.37, -1.94, -0.69, -2.5, 1.42]\n",
      "sorted + weighted: [0.15, 0.17, 1.15, -0.15, 1.05]"
     ]
    }
   ],
   "source": [
    "start = time()\n",
    "s_kmeans, b_kmeans = ZZ_clustering(X, y, max_attempts, β_0, mb_size, root, σ, A, \"kmeans\", false) \n",
    "s_sorted_uw, b_sorted_uw = ZZ_clustering(X, y, max_attempts, β_0, mb_size, root, σ, A, \"sorted\", false) \n",
    "s_sorted_w, b_sorted_w = ZZ_clustering(X, y, max_attempts, β_0, mb_size, root, σ, A, \"sorted\", true, 1e-1) \n",
    "print( round((time()-start)/60, 2), \" minutes to run \\n\")\n",
    "samples_kmeans = extract_samples(s_kmeans, b_kmeans, h)\n",
    "samples_sorted_uw = extract_samples(s_sorted_uw, b_sorted_uw, h)\n",
    "samples_sorted_w = extract_samples(s_sorted_w, b_sorted_w, h)\n",
    "print(\"Configuration temperatures: \\n\")\n",
    "print(\"k-means: \", round.([compute_configT(samples_kmeans, i, X, y, Nobs, σ) for i in 1:d], 2), \"\\n\")\n",
    "print(\"sorted + unweighted: \", round.([compute_configT(samples_sorted_uw, i, X, y, Nobs, σ) for i in 1:d], 2), \"\\n\")\n",
    "print(\"sorted + weighted: \", round.([compute_configT(samples_sorted_w, i, X, y, Nobs, σ) for i in 1:d], 2))"
   ]
  },
  {
   "cell_type": "code",
   "execution_count": 11,
   "metadata": {},
   "outputs": [
    {
     "name": "stdout",
     "output_type": "stream",
     "text": [
      "0.88% of switches accepted \n"
     ]
    }
   ],
   "source": [
    "ZZ_clustering(X, y, max_attempts, β_0, mb_size, root, σ, A, \"sorted\", true, 1e-4);"
   ]
  },
  {
   "cell_type": "code",
   "execution_count": 12,
   "metadata": {},
   "outputs": [
    {
     "name": "stdout",
     "output_type": "stream",
     "text": [
      "0.96% of switches accepted \n"
     ]
    }
   ],
   "source": [
    "ZZ_clustering(X, y, max_attempts, β_0, mb_size, root, σ, A, \"sorted\", true, 1e-8);"
   ]
  },
  {
   "cell_type": "markdown",
   "metadata": {},
   "source": [
    "#### ZZ_subsampling:"
   ]
  },
  {
   "cell_type": "code",
   "execution_count": 13,
   "metadata": {
    "scrolled": true
   },
   "outputs": [
    {
     "name": "stdout",
     "output_type": "stream",
     "text": [
      "0.025% of switches accepted \n",
      "3.3% of switches accepted \n",
      "0.09 minutes to run \n",
      "Configuration temperatures: \n",
      "CV unweighted: [-1.28, -0.62, -0.44, -1.92, -0.62]\n",
      "CV weighted  : [1.15, 0.86, 1.18, 1.27, 1.29]"
     ]
    }
   ],
   "source": [
    "start = time()\n",
    "s_cv_unweighted, b_cv_unweighted = ZZ_logistic(X, y, max_attempts, β_0, 2mb_size, root, σ, A, true, nothing, replace)\n",
    "s_cv_weighted, b_cv_weighted = ZZ_logistic(X, y, max_attempts, β_0, 2mb_size, root, σ, A, true, weights_cv, replace)\n",
    "print( round((time()-start)/60, 2), \" minutes to run \\n\")\n",
    "samples_cv_unweighted = extract_samples(s_cv_unweighted, b_cv_unweighted, h)\n",
    "samples_cv_weighted = extract_samples(s_cv_weighted, b_cv_weighted, h);\n",
    "print(\"Configuration temperatures: \\n\")\n",
    "print(\"CV unweighted: \", round.([compute_configT(samples_cv_unweighted, i, X, y, Nobs, σ) for i in 1:d],2), \"\\n\")\n",
    "print(\"CV weighted  : \", round.([compute_configT(samples_cv_weighted, i, X, y, Nobs, σ) for i in 1:d],2))"
   ]
  },
  {
   "cell_type": "code",
   "execution_count": 14,
   "metadata": {},
   "outputs": [
    {
     "name": "stdout",
     "output_type": "stream",
     "text": [
      "0.39% of switches accepted \n",
      "0.41% of switches accepted \n",
      "2.8% of switches accepted \n",
      "0.11 minutes to run \n",
      "Configuration temperatures: \n",
      "iid       : [-10.03, -0.98, -2.96, 0.06, -0.46]\n",
      "weighted  : [0.09, 2.34, 0.75, 0.92, 0.35]\n",
      "unweighted: [3.33, -2.22, -5.48, -3.04, 3.38]"
     ]
    }
   ],
   "source": [
    "start = time()\n",
    "s_iid, b_iid = ZZ_logistic(X, y, max_attempts, β_0, 2mb_size, root, σ, A, false, nothing, replace)\n",
    "s_unweighted, b_unweighted = ZZ_logistic(X, y, max_attempts, β_0, 2mb_size, root, σ, A, false, ones(d,Nobs), replace)\n",
    "s_weighted, b_weighted = ZZ_logistic(X, y, max_attempts, β_0, 2mb_size, root, σ, A, false, weights, replace)\n",
    "print( round((time()-start)/60, 2), \" minutes to run \\n\")\n",
    "samples_iid = extract_samples(s_iid, b_iid, h)\n",
    "samples_unweighted = extract_samples(s_unweighted, b_unweighted, h)\n",
    "samples_weighted = extract_samples(s_weighted, b_weighted, h)\n",
    "print(\"Configuration temperatures: \\n\")\n",
    "print(\"iid       : \", round.([compute_configT(samples_iid, i, X, y, Nobs, σ) for i in 1:d], 2), \"\\n\")\n",
    "print(\"weighted  : \", round.([compute_configT(samples_weighted, i, X, y, Nobs, σ) for i in 1:d], 2), \"\\n\")\n",
    "print(\"unweighted: \", round.([compute_configT(samples_unweighted, i, X, y, Nobs, σ) for i in 1:d], 2)) "
   ]
  },
  {
   "cell_type": "markdown",
   "metadata": {
    "collapsed": true
   },
   "source": [
    "#### ZZ_dominated_Hessian:"
   ]
  },
  {
   "cell_type": "code",
   "execution_count": null,
   "metadata": {
    "collapsed": true
   },
   "outputs": [],
   "source": [
    "h = .1\n",
    "start = time()\n",
    "s_dH, b_dH = ZZ_dominated_Hessian(X, y, 10^5, β_0, σ, A) \n",
    "print( round((time()-start)/60, 2), \" minutes to run \\n\")\n",
    "samples_dH = extract_samples(s_dH, b_dH, h)\n",
    "print(\"Configuration temperatures: \\n\")\n",
    "print(round.([compute_configT(samples_dH, i, X, y, Nobs, σ) for i in 1:d], 2), \"\\n\")"
   ]
  },
  {
   "cell_type": "code",
   "execution_count": null,
   "metadata": {
    "collapsed": true
   },
   "outputs": [],
   "source": []
  },
  {
   "cell_type": "code",
   "execution_count": null,
   "metadata": {
    "collapsed": true
   },
   "outputs": [],
   "source": []
  }
 ],
 "metadata": {
  "kernelspec": {
   "display_name": "Julia 0.6.4",
   "language": "julia",
   "name": "julia-0.6"
  },
  "language_info": {
   "file_extension": ".jl",
   "mimetype": "application/julia",
   "name": "julia",
   "version": "0.6.4"
  }
 },
 "nbformat": 4,
 "nbformat_minor": 2
}
