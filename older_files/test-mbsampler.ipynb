{
 "cells": [
  {
   "cell_type": "code",
   "execution_count": 1,
   "metadata": {},
   "outputs": [
    {
     "data": {
      "text/plain": [
       "get_clustering_vec (generic function with 1 method)"
      ]
     },
     "execution_count": 1,
     "metadata": {},
     "output_type": "execute_result"
    }
   ],
   "source": [
    "using StatsBase, Distributions, PyPlot\n",
    "include(\"mbsampler.jl\") "
   ]
  },
  {
   "cell_type": "code",
   "execution_count": 2,
   "metadata": {},
   "outputs": [
    {
     "data": {
      "text/plain": [
       "0.07910467860603455"
      ]
     },
     "execution_count": 2,
     "metadata": {},
     "output_type": "execute_result"
    }
   ],
   "source": [
    "# approximate the mean of sin evaluated over x \n",
    "N = 7\n",
    "x = 1:N\n",
    "mean(map(sin,x))"
   ]
  },
  {
   "cell_type": "code",
   "execution_count": 3,
   "metadata": {},
   "outputs": [
    {
     "data": {
      "text/plain": [
       "1000000"
      ]
     },
     "execution_count": 3,
     "metadata": {},
     "output_type": "execute_result"
    }
   ],
   "source": [
    "# Set minibatch size\n",
    "mb_size = 1000000"
   ]
  },
  {
   "cell_type": "code",
   "execution_count": 4,
   "metadata": {},
   "outputs": [
    {
     "data": {
      "text/plain": [
       "0.07967403014636895"
      ]
     },
     "execution_count": 4,
     "metadata": {},
     "output_type": "execute_result"
    }
   ],
   "source": [
    "# Test uniform subsampling\n",
    "gw = umbsampler(N,mb_size)\n",
    "mbs_estimate(gw,sin,x)"
   ]
  },
  {
   "cell_type": "code",
   "execution_count": 5,
   "metadata": {},
   "outputs": [
    {
     "data": {
      "text/plain": [
       "0.07766917177217399"
      ]
     },
     "execution_count": 5,
     "metadata": {},
     "output_type": "execute_result"
    }
   ],
   "source": [
    "# Test weighted subsampling\n",
    "w = [.1,.2,.3,.05,.05,.37,0.1]\n",
    "w/=sum(w)\n",
    "gw = wumbsampler(N,mb_size,w)\n",
    "mbs_estimate(gw,sin,x)"
   ]
  },
  {
   "cell_type": "code",
   "execution_count": 6,
   "metadata": {},
   "outputs": [
    {
     "data": {
      "text/plain": [
       "0.0788239844792748"
      ]
     },
     "execution_count": 6,
     "metadata": {},
     "output_type": "execute_result"
    }
   ],
   "source": [
    "# Test grouped subsampling\n",
    "w = [.1,.1,.2,.2,.05,.1,0.1]\n",
    "w/=sum(w)\n",
    "g = [1,1, -1,-1, -1,1,1]\n",
    "\n",
    "mb_size = mb_size\n",
    "gw = gmbsampler(mb_size,w,g)\n",
    "mbs_estimate(gw,sin,x)"
   ]
  },
  {
   "cell_type": "code",
   "execution_count": 7,
   "metadata": {},
   "outputs": [
    {
     "data": {
      "text/plain": [
       "0.07870016011257522"
      ]
     },
     "execution_count": 7,
     "metadata": {},
     "output_type": "execute_result"
    }
   ],
   "source": [
    "# Test weighted subsampling\n",
    "w = [.1,.2,.3,.05,.05,.37,0.1]\n",
    "w/=sum(w)\n",
    "gw = wumbsampler(N,mb_size,w)\n",
    "mbs_estimate(gw,sin,x)"
   ]
  },
  {
   "cell_type": "code",
   "execution_count": 8,
   "metadata": {},
   "outputs": [
    {
     "data": {
      "text/plain": [
       "0.07826241692302788"
      ]
     },
     "execution_count": 8,
     "metadata": {},
     "output_type": "execute_result"
    }
   ],
   "source": [
    "# Test stratified/clustered subsampling\n",
    "w = [.1,.1,.2,.2,.05,.1,0.1]\n",
    "w/=sum(w)\n",
    "N, = size(w)\n",
    "x = 1:N\n",
    "\n",
    "clusters = [[1,2,3,4],[5,6,7]]\n",
    "scp = [mb_size/2,mb_size/2]\n",
    "\n",
    "csamplers = Array{mbsampler}(2)\n",
    "for (ci, c) in enumerate(clusters)\n",
    "    csamplers[ci] = wumbsampler(size(c)[1], scp[ci], w[c])\n",
    "end\n",
    "\n",
    "gw = cmbsampler(csamplers, clusters)\n",
    "gw.mb_table\n",
    "mbs_estimate(gw,sin,x)"
   ]
  },
  {
   "cell_type": "code",
   "execution_count": 9,
   "metadata": {},
   "outputs": [
    {
     "data": {
      "text/plain": [
       "Array{Array{Int64,1},1}"
      ]
     },
     "execution_count": 9,
     "metadata": {},
     "output_type": "execute_result"
    }
   ],
   "source": [
    "typeof(clusters)"
   ]
  },
  {
   "cell_type": "code",
   "execution_count": 10,
   "metadata": {},
   "outputs": [
    {
     "data": {
      "text/plain": [
       "2-element Array{Array{Array{Int64,1},1},1}:\n",
       " Array{Int64,1}[[1, 2, 3, 4], [5, 6, 7]]\n",
       " Array{Int64,1}[[1, 2, 3], [4, 5, 6, 7]]"
      ]
     },
     "execution_count": 10,
     "metadata": {},
     "output_type": "execute_result"
    }
   ],
   "source": [
    "cc = [[[1,2,3,4],[5,6,7]], [[1,2,3],[4,5,6,7]]]"
   ]
  },
  {
   "cell_type": "code",
   "execution_count": 11,
   "metadata": {},
   "outputs": [
    {
     "data": {
      "text/plain": [
       "4-element Array{Int64,1}:\n",
       " 1\n",
       " 2\n",
       " 3\n",
       " 4"
      ]
     },
     "execution_count": 11,
     "metadata": {},
     "output_type": "execute_result"
    }
   ],
   "source": [
    "cc[1][1]"
   ]
  },
  {
   "cell_type": "code",
   "execution_count": 15,
   "metadata": {},
   "outputs": [
    {
     "name": "stdout",
     "output_type": "stream",
     "text": [
      "[1, 1, -1, -1, -1, 1, 1]"
     ]
    },
    {
     "data": {
      "text/plain": [
       "2-element Array{Any,1}:\n",
       " Array{Int64,1}[[1], [2, 3]]\n",
       " Array{Int64,1}[[1], [1, 3]]"
      ]
     },
     "execution_count": 15,
     "metadata": {},
     "output_type": "execute_result"
    }
   ],
   "source": [
    "a_all = []\n",
    "a = []\n",
    "a2 = []\n",
    "a=push!(a, Int[1])\n",
    "a=push!(a, Int[2,3])\n",
    "a = convert(Array{Array{Int64,1},1},a)\n",
    "a2=push!(a2, Int[1])\n",
    "a2=push!(a2, Int[1,3])\n",
    "a2 = convert(Array{Array{Int64,1},1},a2)\n",
    "print(g)\n",
    "typeof(g)\n",
    "a_all = push!(a_all, a) \n",
    "a_all = push!(a_all, a2) \n",
    "a_all"
   ]
  },
  {
   "cell_type": "code",
   "execution_count": 13,
   "metadata": {},
   "outputs": [
    {
     "name": "stdout",
     "output_type": "stream",
     "text": [
      "Any[[1.0], [2.0, 3.0]]"
     ]
    }
   ],
   "source": [
    "a = []\n",
    "a=push!(a, [1])\n",
    "a=push!(a, [2,3]) \n",
    "for (i, e) in enumerate(a)\n",
    "    a[i] = convert(Array{Float64,1}, e)\n",
    "end\n",
    "print(a)"
   ]
  },
  {
   "cell_type": "code",
   "execution_count": 14,
   "metadata": {},
   "outputs": [
    {
     "ename": "LoadError",
     "evalue": "\u001b[91mMethodError: Cannot `convert` an object of type Array{Float64,1} to an object of type Float64\nThis may have arisen from a call to the constructor Float64(...),\nsince type constructors fall back to convert methods.\u001b[39m",
     "output_type": "error",
     "traceback": [
      "\u001b[91mMethodError: Cannot `convert` an object of type Array{Float64,1} to an object of type Float64\nThis may have arisen from a call to the constructor Float64(...),\nsince type constructors fall back to convert methods.\u001b[39m",
      "",
      "Stacktrace:",
      " [1] \u001b[1mcopy!\u001b[22m\u001b[22m\u001b[1m(\u001b[22m\u001b[22m::IndexLinear, ::Array{Float64,1}, ::IndexLinear, ::Array{Any,1}\u001b[1m)\u001b[22m\u001b[22m at \u001b[1m./abstractarray.jl:656\u001b[22m\u001b[22m",
      " [2] \u001b[1mconvert\u001b[22m\u001b[22m\u001b[1m(\u001b[22m\u001b[22m::Type{Array{Float64,1}}, ::Array{Any,1}\u001b[1m)\u001b[22m\u001b[22m at \u001b[1m./array.jl:373\u001b[22m\u001b[22m",
      " [3] \u001b[1minclude_string\u001b[22m\u001b[22m\u001b[1m(\u001b[22m\u001b[22m::String, ::String\u001b[1m)\u001b[22m\u001b[22m at \u001b[1m./loading.jl:522\u001b[22m\u001b[22m"
     ]
    }
   ],
   "source": [
    "convert(Array{Float64,1}, a)"
   ]
  },
  {
   "cell_type": "code",
   "execution_count": 15,
   "metadata": {},
   "outputs": [
    {
     "ename": "LoadError",
     "evalue": "\u001b[91mMethodError: no method matching push!(::Array{Float64,0}, ::String)\u001b[0m\nClosest candidates are:\n  push!(::Any, ::Any, \u001b[91m::Any\u001b[39m) at abstractarray.jl:1940\n  push!(::Any, ::Any, \u001b[91m::Any\u001b[39m, \u001b[91m::Any...\u001b[39m) at abstractarray.jl:1941\n  push!(\u001b[91m::Array{Any,1}\u001b[39m, ::ANY) at array.jl:658\n  ...\u001b[39m",
     "output_type": "error",
     "traceback": [
      "\u001b[91mMethodError: no method matching push!(::Array{Float64,0}, ::String)\u001b[0m\nClosest candidates are:\n  push!(::Any, ::Any, \u001b[91m::Any\u001b[39m) at abstractarray.jl:1940\n  push!(::Any, ::Any, \u001b[91m::Any\u001b[39m, \u001b[91m::Any...\u001b[39m) at abstractarray.jl:1941\n  push!(\u001b[91m::Array{Any,1}\u001b[39m, ::ANY) at array.jl:658\n  ...\u001b[39m",
      "",
      "Stacktrace:",
      " [1] \u001b[1minclude_string\u001b[22m\u001b[22m\u001b[1m(\u001b[22m\u001b[22m::String, ::String\u001b[1m)\u001b[22m\u001b[22m at \u001b[1m./loading.jl:522\u001b[22m\u001b[22m"
     ]
    }
   ],
   "source": [
    "my_stuff = zeros()\n",
    "push!(my_stuff, \"new element\")"
   ]
  },
  {
   "cell_type": "code",
   "execution_count": 16,
   "metadata": {},
   "outputs": [
    {
     "data": {
      "text/plain": [
       "ZZ_clustering (generic function with 6 methods)"
      ]
     },
     "execution_count": 16,
     "metadata": {},
     "output_type": "execute_result"
    }
   ],
   "source": [
    "using PyPlot, TimeIt, Distributions, Optim\n",
    "import PyPlot\n",
    "const plt = PyPlot\n",
    "include(\"ZZ_subsampling.jl\")\n",
    "include(\"ZZ_clustering.jl\") "
   ]
  },
  {
   "cell_type": "code",
   "execution_count": 17,
   "metadata": {},
   "outputs": [
    {
     "data": {
      "text/plain": [
       "logistic_data (generic function with 2 methods)"
      ]
     },
     "execution_count": 17,
     "metadata": {},
     "output_type": "execute_result"
    }
   ],
   "source": [
    "function logistic_data(d, Nobs, β_true, px, py=0.1) \n",
    "    X = ones(d, Nobs)\n",
    "    X[2:end,:] = rand(Normal(), d-1, Nobs).*rand(Binomial(1,px), d-1, Nobs) \n",
    "#     y = [rand(Binomial(1,1./(1+exp.(-X[:,j]'β_true))), 1)[1] for j in 1:Nobs]\n",
    "    y = rand(Binomial(1,py), Nobs)\n",
    "    return X, y\n",
    "end"
   ]
  },
  {
   "cell_type": "code",
   "execution_count": 18,
   "metadata": {},
   "outputs": [
    {
     "data": {
      "text/plain": [
       "5079"
      ]
     },
     "execution_count": 18,
     "metadata": {},
     "output_type": "execute_result"
    }
   ],
   "source": [
    "d = 2\n",
    "Nobs = 10^4\n",
    "px = 5e-1\n",
    "py = 5e-1\n",
    "β_true = rand(d)\n",
    "X, y = logistic_data(d, Nobs, β_true, px, py)\n",
    "σ = 2\n",
    "A = eye(d)\n",
    "# root = find_root(X, y, σ)\n",
    "sum(y)"
   ]
  },
  {
   "cell_type": "code",
   "execution_count": 19,
   "metadata": {},
   "outputs": [
    {
     "data": {
      "text/plain": [
       "2-element Array{Float64,1}:\n",
       " 0.0316224 \n",
       " 0.00973064"
      ]
     },
     "execution_count": 19,
     "metadata": {},
     "output_type": "execute_result"
    }
   ],
   "source": [
    "root = find_root(X, y, σ)"
   ]
  },
  {
   "cell_type": "code",
   "execution_count": 20,
   "metadata": {
    "slideshow": {
     "slide_type": "-"
    }
   },
   "outputs": [
    {
     "data": {
      "text/plain": [
       "([3 7 … 9841 9953; 17 46 … 9833 9980], [3267 655 … 0 0; 282 344 … 137 216])"
      ]
     },
     "execution_count": 20,
     "metadata": {},
     "output_type": "execute_result"
    }
   ],
   "source": [
    "clusters, cluster_sizes = find_clusters_sorted(root, X, y, 10)"
   ]
  },
  {
   "cell_type": "code",
   "execution_count": 21,
   "metadata": {},
   "outputs": [
    {
     "data": {
      "text/plain": [
       "(2, 10000)"
      ]
     },
     "execution_count": 21,
     "metadata": {},
     "output_type": "execute_result"
    }
   ],
   "source": [
    "size(clusters)"
   ]
  },
  {
   "cell_type": "code",
   "execution_count": 22,
   "metadata": {},
   "outputs": [
    {
     "ename": "LoadError",
     "evalue": "\u001b[91mBoundsError: attempt to access ()\n  at index [1]\u001b[39m",
     "output_type": "error",
     "traceback": [
      "\u001b[91mBoundsError: attempt to access ()\n  at index [1]\u001b[39m",
      "",
      "Stacktrace:",
      " [1] \u001b[1mgetindex\u001b[22m\u001b[22m\u001b[1m(\u001b[22m\u001b[22m::Tuple{}, ::Int64\u001b[1m)\u001b[22m\u001b[22m at \u001b[1m./tuple.jl:21\u001b[22m\u001b[22m",
      " [2] \u001b[1mmacro expansion\u001b[22m\u001b[22m at \u001b[1m./In[22]:28\u001b[22m\u001b[22m [inlined]",
      " [3] \u001b[1manonymous\u001b[22m\u001b[22m at \u001b[1m./<missing>:?\u001b[22m\u001b[22m",
      " [4] \u001b[1minclude_string\u001b[22m\u001b[22m\u001b[1m(\u001b[22m\u001b[22m::String, ::String\u001b[1m)\u001b[22m\u001b[22m at \u001b[1m./loading.jl:522\u001b[22m\u001b[22m"
     ]
    }
   ],
   "source": [
    "d, n_clusters = size(cluster_sizes)\n",
    "scp = convert(Array{Int64,1},ones(d))\n",
    "aclusters_all = []\n",
    "for i in 1:d\n",
    "    cindex_left = 1\n",
    "    aclusters = []\n",
    "    for ci in 1:n_clusters\n",
    "        cindices = cindex_left:cluster_sizes[i,ci]\n",
    "        cindex_left = cindex_left + cluster_sizes[i,ci]\n",
    "        #print(cindices)\n",
    "        #print(\"\\n\")\n",
    "        #print(clusters[d,cindices])\n",
    "        aclusters=push!(aclusters, clusters[i,cindices])\n",
    "        #scp[i]\n",
    "        aclusters = convert(Array{Array{Int64,1},1},aclusters)\n",
    "    end\n",
    "    push!(aclusters_all, copy(aclusters))\n",
    "end\n",
    "#aclusters_all = convert(Array{Array{Int64,1},1},aclusters_all)\n",
    "\n",
    "groups_all = convert(Array{Int64,1},ones(d))\n",
    "\n",
    "cmbsamplers = Array{cmbsampler}(d)\n",
    "\n",
    "for dim in 1:d\n",
    "    csamplers = Array{mbsampler}(n_clusters)\n",
    "    for (ci, c) in enumerate(clusters)\n",
    "        csamplers[ci] = wumbsampler(size(c)[1], scp[ci], w[c])\n",
    "    end\n",
    "end\n",
    "\n",
    "#gw = cmbsampler(csamplers, clusters)\n",
    "#print(aclusters_all[3])"
   ]
  },
  {
   "cell_type": "markdown",
   "metadata": {},
   "source": [
    "cluster_sizes[i,ci]"
   ]
  },
  {
   "cell_type": "code",
   "execution_count": 23,
   "metadata": {},
   "outputs": [
    {
     "data": {
      "text/plain": [
       "2×20 Array{Int64,2}:\n",
       " 3267  655  128  341  628   492  270  …    0    0     0    0   0    0    0\n",
       "  282  344  181  272  501  2952  130     255  453  2905  115  54  137  216"
      ]
     },
     "execution_count": 23,
     "metadata": {},
     "output_type": "execute_result"
    }
   ],
   "source": [
    "cluster_sizes"
   ]
  },
  {
   "cell_type": "code",
   "execution_count": 24,
   "metadata": {},
   "outputs": [
    {
     "data": {
      "text/plain": [
       "2×10000 Array{Int64,2}:\n",
       "  3   7   13   14   17   20   23   24  …  9748  9771  9780  9817  9841  9953\n",
       " 17  46  105  141  194  200  249  268     9600  9686  9712  9792  9833  9980"
      ]
     },
     "execution_count": 24,
     "metadata": {},
     "output_type": "execute_result"
    }
   ],
   "source": [
    "clusters"
   ]
  },
  {
   "cell_type": "code",
   "execution_count": 25,
   "metadata": {
    "collapsed": true
   },
   "outputs": [],
   "source": [
    "d, Nobs = size(X)\n",
    "gradient_root = zeros(d, Nobs)\n",
    "for n in 1:Nobs \n",
    "    gradient_root[:,n] = [derivative(X[:,n], y[n], k, root, Nobs, σ)[1] for k in 1:d]\n",
    "end"
   ]
  },
  {
   "cell_type": "code",
   "execution_count": 26,
   "metadata": {},
   "outputs": [
    {
     "data": {
      "text/plain": [
       "(2, 10000)"
      ]
     },
     "execution_count": 26,
     "metadata": {},
     "output_type": "execute_result"
    }
   ],
   "source": [
    "size(gradient_root)"
   ]
  },
  {
   "cell_type": "code",
   "execution_count": 27,
   "metadata": {},
   "outputs": [
    {
     "data": {
      "text/plain": [
       "2.432661149241412e-7"
      ]
     },
     "execution_count": 27,
     "metadata": {},
     "output_type": "execute_result"
    }
   ],
   "source": [
    "median(gradient_root)"
   ]
  },
  {
   "cell_type": "code",
   "execution_count": 28,
   "metadata": {},
   "outputs": [
    {
     "data": {
      "text/plain": [
       "greedyrelax2split_cluster (generic function with 1 method)"
      ]
     },
     "execution_count": 28,
     "metadata": {},
     "output_type": "execute_result"
    }
   ],
   "source": [
    "function comp_score(vector)\n",
    "    Nit, = size(vector)\n",
    "    score = zeros(Nit-1)\n",
    "    for i in 1:(Nit-1)\n",
    "        fmean1 = mean(vector[1:i])\n",
    "        fmean2 = mean(vector[(i+1):Nit])\n",
    "        val1 = sum(abs.(vector[1:i] - fmean1))\n",
    "        val2 = sum(abs.(vector[(i+1):Nit]) - fmean2)\n",
    "        score[i] = val1 + val2\n",
    "    end\n",
    "    #plot(score, yaxis=:log)\n",
    "    #print(score)\n",
    "    return score\n",
    "end\n",
    "function comp_score2(vector)\n",
    "    Nit, = size(vector)\n",
    "    score = zeros(Nit-1)\n",
    "    fmean = mean(vector)\n",
    "    for i in 1:(Nit-1)\n",
    "        fmean1 = mean(vector[1:i])\n",
    "        fmean2 = mean(vector[(i+1):Nit])\n",
    "        weight1 = i / Nit\n",
    "        weight2 = (Nit-i)/Nit\n",
    "        val1 = sum(abs.(weight1*vector[1:i] + weight2 * fmean2 - fmean))\n",
    "        val2 = sum(abs.(weight2*vector[(i+1):Nit] + weight1 * fmean1 - fmean))\n",
    "        score[i] = val1 + val2\n",
    "    end\n",
    "    plot(score)\n",
    "    #print(score)\n",
    "    return score\n",
    "end\n",
    "function comp_score2(vector,i0)\n",
    "    Nit, = size(vector)\n",
    "    score = zeros(Nit-1)\n",
    "    fmean = mean(vector)\n",
    "    for i in 1:(Nit-1)\n",
    "        fmean1 = mean(vector[1:i])\n",
    "        fmean2 = mean(vector[(i+1):Nit])\n",
    "        weight1 = i / Nit\n",
    "        weight2 = (Nit-i)/Nit\n",
    "        val1 = sum(abs.(weight1*vector[1:i] + weight2 * fmean2 - fmean))\n",
    "        val2 = sum(abs.(weight2*vector[(i+1):Nit] + weight1 * fmean1 - fmean))\n",
    "        score[i] = val1 + val2\n",
    "    end\n",
    "    plot((i0+1):(i0-1+Nit),score)\n",
    "    #print(score)\n",
    "    return score\n",
    "end\n",
    "\n",
    "\n",
    "\n",
    "\n",
    "function comp_score3(vector) #max min\n",
    "    Nit, = size(vector)\n",
    "    score = zeros(Nit-1)\n",
    "    fmean = mean(vector)\n",
    "    for i in 1:(Nit-1)\n",
    "        fmean1 = mean(vector[1:i])\n",
    "        fmean2 = mean(vector[(i+1):Nit])\n",
    "        weight1 = i / Nit\n",
    "        weight2 = (Nit-i)/Nit\n",
    "        val1 = sum(abs.(weight1*vector[1:i] + weight2 * fmean2 - fmean))\n",
    "        val2 = sum(abs.(weight2*vector[(i+1):Nit] + weight1 * fmean1 - fmean))\n",
    "        score[i] = val1 + val2\n",
    "    end\n",
    "    #plot(score, yaxis=:log)\n",
    "    #print(score)\n",
    "    return score\n",
    "end\n",
    "\n",
    "function find_split(vector)\n",
    "    _, imin = findmin(comp_score2(vector))\n",
    "    return imin\n",
    "end\n",
    "\n",
    "function find_split2(vector, i0)\n",
    "    fmean = mean(vector)\n",
    "    current_score = sum(abs.(vector - fmean))\n",
    "    split_score, split_index = findmin(comp_score2(vector,i0))\n",
    "    return (i0-1)+split_index, split_score, current_score\n",
    "end\n",
    "\n",
    "comp_score2fast\n",
    "function v2split_cluster(vector, logN_cluster)\n",
    "    Nit, = size(vector)\n",
    "    splits = []\n",
    "    imin = find_split(vector)\n",
    "    splits = push!(splits, imin)\n",
    "    if logN_cluster > 1\n",
    "        splits = push!(splits, v2split_cluster(vector[1:imin], logN_cluster-1)...)\n",
    "        splits = push!(splits, imin + v2split_cluster(vector[(imin+1):Nit], logN_cluster-1)...)\n",
    "    end\n",
    "    return splits\n",
    "end\n",
    "\n",
    "\n",
    "\n",
    "\n",
    "function greedyrelax2split_cluster(vector, N_cluster)\n",
    "    \n",
    "end"
   ]
  },
  {
   "cell_type": "code",
   "execution_count": 29,
   "metadata": {},
   "outputs": [
    {
     "data": {
      "text/plain": [
       "find_split2fast (generic function with 1 method)"
      ]
     },
     "execution_count": 29,
     "metadata": {},
     "output_type": "execute_result"
    }
   ],
   "source": [
    "function comp_score2fast(vector)\n",
    "    Nit, = size(vector)\n",
    "    score = zeros(2)\n",
    "    fmean = mean(vector)\n",
    "    left = 1\n",
    "    right = Nit\n",
    "    while true\n",
    "        print(\"========\\n\")\n",
    "        print(left)\n",
    "        print(\"-\")\n",
    "        print(right)\n",
    "        print(\"\\n\")\n",
    "        print(\"--------\\n\")\n",
    "        Nit = right-left\n",
    "        split_left = Int(left + floor(Nit/2))\n",
    "        split_right = split_left+1\n",
    "        print(split_left)\n",
    "        print(\"-|-\")\n",
    "        print(split_right)\n",
    "        print(\"\\n\")\n",
    "        for (ii,iv) in enumerate([split_left,split_right])\n",
    "            fmean1 = mean(vector[1:iv])\n",
    "            fmean2 = mean(vector[(iv+1):Nit])\n",
    "            weight1 = iv / Nit\n",
    "            weight2 = (Nit-iv)/Nit\n",
    "            val1 = sum(abs.(weight1*vector[1:iv] + weight2 * fmean2 - fmean))\n",
    "            val2 = sum(abs.(weight2*vector[(iv+1):Nit] + weight1 * fmean1 - fmean))\n",
    "            score[ii] = val1 + val2\n",
    "        end\n",
    "        if score[1] < score[2]\n",
    "            right = split_left\n",
    "        else\n",
    "            left = split_right\n",
    "        end\n",
    "        if left == right\n",
    "            print(\"\\n Done\\n\")\n",
    "            print(left)\n",
    "            print(\"\\n---\")\n",
    "            break\n",
    "        end\n",
    "    end\n",
    "    #plot((i0+1):(i0-1+Nit),score)\n",
    "    #print(score)\n",
    "    return min(score...), left\n",
    "end\n",
    "\n",
    "function find_split2fast(vector, i0)\n",
    "    fmean = mean(vector)\n",
    "    current_score = sum(abs.(vector - fmean))\n",
    "    split_score, split_index = comp_score2fast(vector)\n",
    "    return (i0-1)+split_index, split_score, current_score\n",
    "end"
   ]
  },
  {
   "cell_type": "code",
   "execution_count": 30,
   "metadata": {},
   "outputs": [
    {
     "data": {
      "text/plain": [
       "greedy2split_cluster (generic function with 1 method)"
      ]
     },
     "execution_count": 30,
     "metadata": {},
     "output_type": "execute_result"
    }
   ],
   "source": [
    "function greedy2split_cluster(vector, N_cluster)\n",
    "    split_table = zeros(N_cluster,6) # 1 range_start | 2 split index | 3 range_end | 4 current_score | 5 delta_score | 6 cluster index \n",
    "    temp = zeros(6)\n",
    "    Nit, = size(vector)\n",
    "    imin = find_split(vector)\n",
    "    print(\"imin: \",imin)\n",
    "    split_index1, split_score1, current_score1 = find_split2fast(vector[1:imin],1)\n",
    "    split_index2, split_score2, current_score2 = find_split2fast(vector[imin:Nit],imin+1)\n",
    "    print(\"split_index1: \",split_index1)\n",
    "    print(\"split_index2: \",split_index2)\n",
    "    split_table[1,1] = 1\n",
    "    split_table[1,2] = split_index1\n",
    "    split_table[1,3] = imin\n",
    "    split_table[1,4] = current_score1\n",
    "    #print(current_score1)\n",
    "    #print(split_score1)\n",
    "    split_table[1,5] = split_score1 - current_score1 \n",
    "    split_table[1,6] = 1\n",
    "    \n",
    "    split_table[2,1] = imin + 1\n",
    "    split_table[2,2] = split_index2\n",
    "    split_table[2,3] = Nit\n",
    "    split_table[2,4] = current_score2\n",
    "    split_table[2,5] = split_score2 - current_score2\n",
    "    split_table[1,6] = 2\n",
    "    \n",
    "    n_cluster = 2\n",
    "    \n",
    "    while n_cluster < N_cluster\n",
    "        \n",
    "        val, i = findmin(split_table[1:n_cluster,5])\n",
    "        if (val==Inf)\n",
    "            print(\"All scores are infinite\")\n",
    "            print(split_table[1:n_cluster,:])\n",
    "            print(\"blabla\")\n",
    "        end\n",
    "        temp[1] = split_table[i,1]\n",
    "        temp[3] = split_table[i,2]\n",
    "        print(\"split_table_temp\",split_table[:,5])\n",
    "        \n",
    "        if split_table[i,1] == split_table[i,2]\n",
    "            temp[2] = NaN\n",
    "            temp[5] = Inf\n",
    "        else\n",
    "            print(temp)\n",
    "            split_index_temp, split_score_temp, current_score_temp = find_split2fast(vector[Int(temp[1]):Int(temp[3])],Int(temp[1]))\n",
    "            temp[2] = split_index_temp\n",
    "            temp[5] = split_score_temp - current_score_temp\n",
    "        end \n",
    "        temp[4] = current_score_temp\n",
    "        temp[6] = split_table[i,6]\n",
    "        \n",
    "        \n",
    "        split_table[n_cluster+1,1] = split_table[i,2]\n",
    "        split_table[n_cluster+1,3] = split_table[i,3] \n",
    "        if (split_table[i,2]) == split_table[i,3]\n",
    "            split_table[n_cluster+1,2] = NaN\n",
    "            split_table[n_cluster+1,5] = Inf\n",
    "        else\n",
    "            split_index_temp, split_score_temp, current_score_temp = find_split2fast(vector[Int(split_table[n_cluster+1,1]):Int(split_table[n_cluster+1,3])],\n",
    "                                                                            Int(split_table[n_cluster+1,1]))\n",
    "            split_table[n_cluster+1,2] = split_index_temp\n",
    "            split_table[n_cluster+1,5] =  split_score_temp - current_score_temp\n",
    "        end    \n",
    "        split_table[n_cluster+1,4] = current_score_temp\n",
    "        split_table[n_cluster+1,6] = n_cluster+1\n",
    "        \n",
    "        \n",
    "        split_table[i,:] = copy(temp)\n",
    "        n_cluster = n_cluster + 1\n",
    "        \n",
    "    end\n",
    "    print(\"Split table:\", split_table,\"\\n\")\n",
    "    return convert(Array{Int64,2},split_table[:,[1,3]])\n",
    "end"
   ]
  },
  {
   "cell_type": "code",
   "execution_count": 31,
   "metadata": {},
   "outputs": [
    {
     "name": "stdout",
     "output_type": "stream",
     "text": [
      "imin: 5091========\n",
      "1-5091\n",
      "--------\n",
      "2546-|-2547\n",
      "========\n",
      "1-2546\n",
      "--------\n",
      "1273-|-1274\n",
      "========\n",
      "1274-2546\n",
      "--------\n",
      "1910-|-1911\n",
      "========\n",
      "1911-2546\n",
      "--------\n",
      "2228-|-2229\n",
      "========\n",
      "2229-2546\n",
      "--------\n",
      "2387-|-2388\n",
      "========\n",
      "2388-2546\n",
      "--------\n",
      "2467-|-2468\n",
      "========\n",
      "2468-2546\n",
      "--------\n",
      "2507-|-2508\n",
      "========\n",
      "2508-2546\n",
      "--------\n",
      "2527-|-2528\n",
      "========\n",
      "2528-2546\n",
      "--------\n",
      "2537-|-2538\n",
      "========\n",
      "2538-2546\n",
      "--------\n",
      "2542-|-2543\n",
      "========\n",
      "2543-2546\n",
      "--------\n",
      "2544-|-2545\n",
      "========\n",
      "2545-2546\n",
      "--------\n",
      "2545-|-2546\n",
      "\n",
      " Done\n",
      "2546\n",
      "---========\n",
      "1-4910\n",
      "--------\n",
      "2455-|-2456\n",
      "========\n",
      "2456-4910\n",
      "--------\n",
      "3683-|-3684\n",
      "========\n",
      "3684-4910\n",
      "--------\n",
      "4297-|-4298\n",
      "========\n",
      "4298-4910\n",
      "--------\n",
      "4604-|-4605\n",
      "========\n",
      "4605-4910\n",
      "--------\n",
      "4757-|-4758\n",
      "========\n",
      "4758-4910\n",
      "--------\n",
      "4834-|-4835\n",
      "========\n",
      "4835-4910\n",
      "--------\n",
      "4872-|-4873\n",
      "========\n",
      "4873-4910\n",
      "--------\n",
      "4891-|-4892\n",
      "========\n",
      "4892-4910\n",
      "--------\n",
      "4901-|-4902\n",
      "========\n",
      "4902-4910\n",
      "--------\n",
      "4906-|-4907\n",
      "========\n",
      "4907-4910\n",
      "--------\n",
      "4908-|-4909\n",
      "========\n",
      "4909-4910\n",
      "--------\n",
      "4909-|-4910\n",
      "\n",
      " Done\n",
      "4910\n",
      "---split_index1: 2546split_index2: 10001split_table_temp[NaN, NaN, 0.0, 0.0, 0.0, 0.0, 0.0, 0.0, 0.0, 0.0][5092.0, 0.0, 10001.0, 0.0, 0.0, 0.0]"
     ]
    },
    {
     "ename": "LoadError",
     "evalue": "\u001b[91mBoundsError: attempt to access 10000-element Array{Float64,1} at index [5092:10001]\u001b[39m",
     "output_type": "error",
     "traceback": [
      "\u001b[91mBoundsError: attempt to access 10000-element Array{Float64,1} at index [5092:10001]\u001b[39m",
      "",
      "Stacktrace:",
      " [1] \u001b[1mthrow_boundserror\u001b[22m\u001b[22m\u001b[1m(\u001b[22m\u001b[22m::Array{Float64,1}, ::Tuple{UnitRange{Int64}}\u001b[1m)\u001b[22m\u001b[22m at \u001b[1m./abstractarray.jl:434\u001b[22m\u001b[22m",
      " [2] \u001b[1mcheckbounds\u001b[22m\u001b[22m at \u001b[1m./abstractarray.jl:362\u001b[22m\u001b[22m [inlined]",
      " [3] \u001b[1mgetindex\u001b[22m\u001b[22m at \u001b[1m./array.jl:560\u001b[22m\u001b[22m [inlined]",
      " [4] \u001b[1mgreedy2split_cluster\u001b[22m\u001b[22m\u001b[1m(\u001b[22m\u001b[22m::Array{Float64,1}, ::Int64\u001b[1m)\u001b[22m\u001b[22m at \u001b[1m./In[30]:46\u001b[22m\u001b[22m",
      " [5] \u001b[1minclude_string\u001b[22m\u001b[22m\u001b[1m(\u001b[22m\u001b[22m::String, ::String\u001b[1m)\u001b[22m\u001b[22m at \u001b[1m./loading.jl:522\u001b[22m\u001b[22m"
     ]
    }
   ],
   "source": [
    "N_clusters=10\n",
    "dd=2\n",
    "p = sortperm(gradient_root[dd,:])\n",
    "split_table2 = greedy2split_cluster(gradient_root[dd,p], N_clusters)\n",
    "print(\"Split table2:\", split_table2,\"\\n\")\n",
    "\n",
    "#clusters = []\n",
    "#for i in 1:N_clusters\n",
    "#    clusters=push!(clusters, p[split_table2[i,1]:split_table2[i,2]])\n",
    "#end\n",
    "#clusters = convert(Array{Array{Int64,1},1},clusters)\n",
    "\n",
    "#for i in 1:N_clusters\n",
    "#    vector = gradient_root[dd,split_table[i,1]:split_table[i,2]]\n",
    "#    #print(vector)\n",
    "#    #print(\"\\n\")\n",
    "#    PyPlot.plt[:hist](vector,bins=100);\n",
    "#end\n",
    "#print(clusters)\n",
    "plot(gradient_root[dd,p])\n",
    "#for i in 1:N_clusters\n",
    "#    plot(split_table2[i,1],gradient_root[dd,split_table2[i,1]])\n",
    "#end"
   ]
  },
  {
   "cell_type": "code",
   "execution_count": 32,
   "metadata": {},
   "outputs": [
    {
     "ename": "LoadError",
     "evalue": "\u001b[91mUndefVarError: split_table2 not defined\u001b[39m",
     "output_type": "error",
     "traceback": [
      "\u001b[91mUndefVarError: split_table2 not defined\u001b[39m",
      "",
      "Stacktrace:",
      " [1] \u001b[1minclude_string\u001b[22m\u001b[22m\u001b[1m(\u001b[22m\u001b[22m::String, ::String\u001b[1m)\u001b[22m\u001b[22m at \u001b[1m./loading.jl:522\u001b[22m\u001b[22m"
     ]
    }
   ],
   "source": [
    "size(split_table2)"
   ]
  },
  {
   "cell_type": "code",
   "execution_count": 33,
   "metadata": {},
   "outputs": [
    {
     "ename": "LoadError",
     "evalue": "\u001b[91mUndefVarError: split_table2 not defined\u001b[39m",
     "output_type": "error",
     "traceback": [
      "\u001b[91mUndefVarError: split_table2 not defined\u001b[39m",
      "",
      "Stacktrace:",
      " [1] \u001b[1minclude_string\u001b[22m\u001b[22m\u001b[1m(\u001b[22m\u001b[22m::String, ::String\u001b[1m)\u001b[22m\u001b[22m at \u001b[1m./loading.jl:522\u001b[22m\u001b[22m"
     ]
    }
   ],
   "source": [
    "split_table2[1:1,1]"
   ]
  },
  {
   "cell_type": "code",
   "execution_count": 34,
   "metadata": {},
   "outputs": [
    {
     "data": {
      "image/png": "[encoded data removed]",
      "text/plain": [
       "PyPlot.Figure(PyObject <Figure size 640x480 with 1 Axes>)"
      ]
     },
     "metadata": {},
     "output_type": "display_data"
    },
    {
     "data": {
      "text/plain": [
       "1-element Array{PyCall.PyObject,1}:\n",
       " PyObject <matplotlib.lines.Line2D object at 0x129af0950>"
      ]
     },
     "execution_count": 34,
     "metadata": {},
     "output_type": "execute_result"
    }
   ],
   "source": [
    "#plot(sort(gradient_root[1,:]))\n",
    "p = sortperm(gradient_root[1,:])\n",
    "plot(gradient_root[1,p])"
   ]
  },
  {
   "cell_type": "code",
   "execution_count": 35,
   "metadata": {},
   "outputs": [
    {
     "name": "stdout",
     "output_type": "stream",
     "text": [
      "sds"
     ]
    }
   ],
   "source": [
    "print(\"sds\")"
   ]
  },
  {
   "cell_type": "code",
   "execution_count": 36,
   "metadata": {},
   "outputs": [
    {
     "data": {
      "image/png": "[encoded data removed]",
      "text/plain": [
       "PyPlot.Figure(PyObject <Figure size 640x480 with 1 Axes>)"
      ]
     },
     "metadata": {},
     "output_type": "display_data"
    }
   ],
   "source": [
    "PyPlot.plt[:hist](gradient_root[1,:],bins=100);"
   ]
  },
  {
   "cell_type": "code",
   "execution_count": null,
   "metadata": {},
   "outputs": [],
   "source": []
  },
  {
   "cell_type": "code",
   "execution_count": null,
   "metadata": {
    "collapsed": true
   },
   "outputs": [],
   "source": []
  },
  {
   "cell_type": "code",
   "execution_count": null,
   "metadata": {
    "collapsed": true
   },
   "outputs": [],
   "source": []
  },
  {
   "cell_type": "code",
   "execution_count": null,
   "metadata": {
    "collapsed": true
   },
   "outputs": [],
   "source": []
  },
  {
   "cell_type": "code",
   "execution_count": null,
   "metadata": {
    "collapsed": true
   },
   "outputs": [],
   "source": []
  },
  {
   "cell_type": "code",
   "execution_count": null,
   "metadata": {
    "collapsed": true
   },
   "outputs": [],
   "source": []
  },
  {
   "cell_type": "code",
   "execution_count": null,
   "metadata": {
    "collapsed": true
   },
   "outputs": [],
   "source": []
  }
 ],
 "metadata": {
  "anaconda-cloud": {},
  "kernelspec": {
   "display_name": "Julia 0.6.4",
   "language": "julia",
   "name": "julia-0.6"
  },
  "language_info": {
   "file_extension": ".jl",
   "mimetype": "application/julia",
   "name": "julia",
   "version": "0.6.4"
  }
 },
 "nbformat": 4,
 "nbformat_minor": 2
}
