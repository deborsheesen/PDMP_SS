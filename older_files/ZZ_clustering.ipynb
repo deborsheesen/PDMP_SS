{
 "cells": [
  {
   "cell_type": "code",
   "execution_count": 1,
   "metadata": {},
   "outputs": [
    {
     "data": {
      "text/plain": [
       "ZZ_clustering (generic function with 5 methods)"
      ]
     },
     "execution_count": 1,
     "metadata": {},
     "output_type": "execute_result"
    }
   ],
   "source": [
    "using PyPlot, TimeIt \n",
    "import PyPlot\n",
    "const plt = PyPlot\n",
    "using Distributions, Optim\n",
    "include(\"ZZ_clustering.jl\") "
   ]
  },
  {
   "cell_type": "code",
   "execution_count": 2,
   "metadata": {},
   "outputs": [
    {
     "data": {
      "text/plain": [
       "logistic_data (generic function with 4 methods)"
      ]
     },
     "execution_count": 2,
     "metadata": {},
     "output_type": "execute_result"
    }
   ],
   "source": [
    "function logistic_data(d, Nobs, p=0.1, δ=3, m=10) \n",
    "    X = rand(d, Nobs)\n",
    "    X[:,1:m] = δ*rand(Normal(), d, m)\n",
    "    y = rand(Binomial(1,p), Nobs)\n",
    "    return X, y\n",
    "end"
   ]
  },
  {
   "cell_type": "code",
   "execution_count": 3,
   "metadata": {},
   "outputs": [],
   "source": [
    "d, Nobs = 10, 100\n",
    "σ = 2\n",
    "p = 0.5\n",
    "δ = 1\n",
    "m = 50\n",
    "X, y = logistic_data(d, Nobs, p, δ, m)\n",
    "root = find_root(X, y, σ);"
   ]
  },
  {
   "cell_type": "code",
   "execution_count": 4,
   "metadata": {
    "collapsed": true
   },
   "outputs": [],
   "source": [
    "β_0 = copy(root)\n",
    "mb_size = 10\n",
    "A = eye(d)\n",
    "replace = true\n",
    "max_attempts = 10^6;"
   ]
  },
  {
   "cell_type": "code",
   "execution_count": 5,
   "metadata": {
    "scrolled": false
   },
   "outputs": [
    {
     "name": "stdout",
     "output_type": "stream",
     "text": [
      "1.7% of switches accepted \n",
      "0.68% of switches accepted \n",
      "1.9% of switches accepted \n",
      "1.04 minutes to run"
     ]
    }
   ],
   "source": [
    "start = time()\n",
    "s_kmeans, b_kmeans = ZZ_clustering(X, y, max_attempts, β_0, mb_size, root, σ, A, \"kmeans\", false) \n",
    "s_sorted_uw, b_sorted_uw = ZZ_clustering(X, y, max_attempts, β_0, mb_size, root, σ, A, \"sorted\", false) \n",
    "s_sorted_w, b_sorted_w = ZZ_clustering(X, y, max_attempts, β_0, mb_size, root, σ, A, \"sorted\", true) \n",
    "print( round((time()-start)/60, 2), \" minutes to run\")"
   ]
  },
  {
   "cell_type": "code",
   "execution_count": 6,
   "metadata": {},
   "outputs": [
    {
     "name": "stdout",
     "output_type": "stream",
     "text": [
      "[1.03, 0.99, 1.0, 0.99, 1.07, 0.93, 1.0, 0.91, 1.1, 0.98]\n",
      "[0.99, 0.94, 1.14, 1.0, 0.95, 1.04, 1.06, 0.96, 1.0, 0.99]\n",
      "[0.91, 0.96, 1.02, 0.96, 1.15, 0.86, 1.1, 0.97, 0.99, 0.89]"
     ]
    }
   ],
   "source": [
    "Nsamples = 10^4\n",
    "samples_kmeans = extract_samples(s_kmeans, b_kmeans, b_kmeans[end]/Nsamples)\n",
    "samples_sorted_uw = extract_samples(s_sorted_uw, b_sorted_uw, b_sorted_uw[end]/Nsamples)\n",
    "samples_sorted_w = extract_samples(s_sorted_w, b_sorted_w, b_sorted_w[end]/Nsamples)\n",
    "print(round.([compute_configT(samples_kmeans, i, X, y, Nobs, σ) for i in 1:d], 2), \"\\n\")\n",
    "print(round.([compute_configT(samples_sorted_w, i, X, y, Nobs, σ) for i in 1:d], 2), \"\\n\")\n",
    "print(round.([compute_configT(samples_sorted_uw, i, X, y, Nobs, σ) for i in 1:d], 2))"
   ]
  },
  {
   "cell_type": "code",
   "execution_count": null,
   "metadata": {
    "collapsed": true
   },
   "outputs": [],
   "source": []
  }
 ],
 "metadata": {
  "kernelspec": {
   "display_name": "Julia 0.6.4",
   "language": "julia",
   "name": "julia-0.6"
  },
  "language_info": {
   "file_extension": ".jl",
   "mimetype": "application/julia",
   "name": "julia",
   "version": "0.6.4"
  }
 },
 "nbformat": 4,
 "nbformat_minor": 2
}
