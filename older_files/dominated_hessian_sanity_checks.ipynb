{
 "cells": [
  {
   "cell_type": "markdown",
   "metadata": {},
   "source": [
    "#### Self-contained notebook.\n",
    "\n",
    "Demonstrating that the bounds for dominated Hessian are incorrect."
   ]
  },
  {
   "cell_type": "code",
   "execution_count": 1,
   "metadata": {
    "collapsed": true
   },
   "outputs": [],
   "source": [
    "using Plots\n",
    "using StatsBase\n",
    "using Distributions"
   ]
  },
  {
   "cell_type": "code",
   "execution_count": 5,
   "metadata": {
    "scrolled": true
   },
   "outputs": [
    {
     "name": "stderr",
     "output_type": "stream",
     "text": [
      "\u001b[1m\u001b[36mINFO: \u001b[39m\u001b[22m\u001b[36mBuilding Conda\n",
      "\u001b[39m\u001b[1m\u001b[36mINFO: \u001b[39m\u001b[22m\u001b[36mBuilding PyCall\n",
      "\u001b[39m\u001b[1m\u001b[36mInfo: \u001b[39m\u001b[22m\u001b[36mUsing the Python distribution in the Conda package by default.\n",
      "To use a different Python version, set ENV[\"PYTHON\"]=\"pythoncommand\" and re-run Pkg.build(\"PyCall\").\n",
      "\u001b[39m"
     ]
    },
    {
     "name": "stdout",
     "output_type": "stream",
     "text": [
      "Solving environment: ...working... done\n"
     ]
    },
    {
     "name": "stderr",
     "output_type": "stream",
     "text": [
      "conda-4.5.10         |  1.0 MB | ########## | 100% \n",
      "certifi-2018.8.13    |  139 KB | ########## | 100% \n",
      "openssl-1.0.2p       |  3.5 MB | #########7 |  98% "
     ]
    },
    {
     "name": "stdout",
     "output_type": "stream",
     "text": [
      "\n",
      "## Package Plan ##\n",
      "\n",
      "  environment location: /home/deborshee/.julia/v0.6/Conda/deps/usr\n",
      "\n",
      "  added / updated specs: \n",
      "    - numpy\n",
      "\n",
      "\n",
      "The following packages will be downloaded:\n",
      "\n",
      "    package                    |            build\n",
      "    ---------------------------|-----------------\n",
      "    conda-4.5.10               |           py27_0         1.0 MB\n",
      "    certifi-2018.8.13          |           py27_0         139 KB\n",
      "    openssl-1.0.2p             |       h14c3975_0         3.5 MB\n",
      "    ------------------------------------------------------------\n",
      "                                           Total:         4.6 MB\n",
      "\n",
      "The following packages will be UPDATED:\n",
      "\n",
      "    certifi: 2018.4.16-py27_0  --> 2018.8.13-py27_0 \n",
      "    conda:   4.5.9-py27_0      --> 4.5.10-py27_0    \n",
      "    openssl: 1.0.2o-h14c3975_1 --> 1.0.2p-h14c3975_0\n",
      "\n",
      "\n",
      "Downloading and Extracting Packages\n",
      "Preparing transaction: ...working... "
     ]
    },
    {
     "name": "stderr",
     "output_type": "stream",
     "text": [
      "\r",
      "openssl-1.0.2p       |  3.5 MB | ########## | 100% \n"
     ]
    },
    {
     "name": "stdout",
     "output_type": "stream",
     "text": [
      "done\n",
      "Verifying transaction: ...working... done\n",
      "Executing transaction: ...working... done\n"
     ]
    },
    {
     "name": "stderr",
     "output_type": "stream",
     "text": [
      "\u001b[1m\u001b[36mInfo: \u001b[39m\u001b[22m\u001b[36mPyCall is using /home/deborshee/.julia/v0.6/Conda/deps/usr/bin/python (Python 2.7.15) at /home/deborshee/.julia/v0.6/Conda/deps/usr/bin/python, libpython = /home/deborshee/.julia/v0.6/Conda/deps/usr/lib/libpython2.7\n",
      "\u001b[39m\u001b[1m\u001b[36mInfo: \u001b[39m\u001b[22m\u001b[36m/home/deborshee/.julia/v0.6/PyCall/deps/deps.jl has not changed\n",
      "\u001b[39m\u001b[1m\u001b[36mInfo: \u001b[39m\u001b[22m\u001b[36m/home/deborshee/.julia/v0.6/PyCall/deps/PYTHON has not changed\n",
      "\u001b[39m"
     ]
    }
   ],
   "source": [
    "ENV[\"PYTHON\"]=\"\"\n",
    "Pkg.build(\"PyCall\")"
   ]
  },
  {
   "cell_type": "code",
   "execution_count": 6,
   "metadata": {
    "collapsed": true,
    "scrolled": true
   },
   "outputs": [],
   "source": [
    "using PyPlot "
   ]
  },
  {
   "cell_type": "code",
   "execution_count": 2,
   "metadata": {},
   "outputs": [
    {
     "data": {
      "text/plain": [
       "logistic_data (generic function with 1 method)"
      ]
     },
     "execution_count": 2,
     "metadata": {},
     "output_type": "execute_result"
    }
   ],
   "source": [
    "function logistic_data(Nobs, beta) \n",
    "    X = rand(3,Nobs)/10\n",
    "    X[2,1:5] += 10\n",
    "    X[2,6:20] -= 5\n",
    "    X[2,21:23] -= 10\n",
    "    X[2,24:30] += 5\n",
    "    y = [rand(1)[1] < 1/(1 + exp(-dot(beta,X[:,i]))) for i in 1:Nobs] .+ 0\n",
    "    return X, y\n",
    "end"
   ]
  },
  {
   "cell_type": "code",
   "execution_count": null,
   "metadata": {
    "collapsed": true
   },
   "outputs": [],
   "source": []
  },
  {
   "cell_type": "code",
   "execution_count": null,
   "metadata": {
    "collapsed": true
   },
   "outputs": [],
   "source": []
  },
  {
   "cell_type": "code",
   "execution_count": 3,
   "metadata": {
    "collapsed": true
   },
   "outputs": [],
   "source": [
    "beta = [1. 1. 1.]\n",
    "X, y = logistic_data(10^3, beta);"
   ]
  },
  {
   "cell_type": "markdown",
   "metadata": {},
   "source": [
    "### Zig-zag with dominated Hessian \n",
    "\n",
    "* Section 3.3 of https://arxiv.org/pdf/1607.03188v2.pdf "
   ]
  },
  {
   "cell_type": "code",
   "execution_count": 4,
   "metadata": {},
   "outputs": [
    {
     "data": {
      "text/plain": [
       "get_event_time (generic function with 1 method)"
      ]
     },
     "execution_count": 4,
     "metadata": {},
     "output_type": "execute_result"
    }
   ],
   "source": [
    "pos(x) = max(x, 0)\n",
    "\n",
    "function derivative_full(X, y, xi, k)  # derivative for full dataset\n",
    "    d, Nobs = size(X)\n",
    "    xi = reshape(xi,1,d)\n",
    "    sum(X[k,:].*reshape( exp.(xi*X)./(1+exp.(xi*X)), Nobs,) - y.*X[k,:])\n",
    "end\n",
    "\n",
    "function get_event_time(ai, bi)     # for linear bounds\n",
    "    # this assumed that bi is positive \n",
    "    u = rand(1)[1]\n",
    "    if ai >= 0 \n",
    "        return (-ai + sqrt(ai^2 - 2*bi*log(u))) / bi\n",
    "    else\n",
    "        return -ai/bi + sqrt(-2*log(u)/bi)\n",
    "    end\n",
    "end"
   ]
  },
  {
   "cell_type": "code",
   "execution_count": 5,
   "metadata": {
    "collapsed": true
   },
   "outputs": [],
   "source": [
    "function ZZ_log_dom_Hess(X, y, max_attempts, beta_0) \n",
    "\n",
    "    # define and initialise stuff:\n",
    "    d, Nobs = size(X) \n",
    "    t, switches, bouncing_times = 0, 0, []\n",
    "    push!(bouncing_times, 0.)\n",
    "    skeleton_points, theta = beta_0, ones(d)\n",
    "    xi = copy(beta_0)\n",
    "    \n",
    "    Q = X*X'/4    \n",
    "    a = [theta[i]*derivative_full(X, y, xi, i) for i in 1:d]\n",
    "    b = [sqrt(d)*norm(Q[:,i]) for i in 1:d]\n",
    "    \n",
    "    # run sampler:\n",
    "    for attempt in 1:max_attempts\n",
    "        event_times = [get_event_time(a[i], b[i]) for i in 1:d]        \n",
    "        tau, i0 = findmin(event_times)   \n",
    "        t += tau \n",
    "        xi_initial = copy(xi) \n",
    "        xi += reshape(tau*theta, d, 1)\n",
    "        switching_probability = pos(theta[i0]*derivative_full(X, y, xi, i0)) / pos(a[i0] + b[i0]*tau)\n",
    "        if switching_probability > 1 \n",
    "            print(\"Error, switching probabity is larger than 1. \\n\")\n",
    "            print(\"switching rate = \", pos(theta[i0]*derivative_full(X, y, xi, i0)), \n",
    "                  \", bound = \", pos(a[i0] + b[i0]*tau), \"\\n\")\n",
    "            print(\"i0 = \", i0, \", tau = \", tau, \", xi_initial = \", xi_initial, \n",
    "                  \", theta = \", theta, \", attempt = \", attempt, \"\\n\")\n",
    "            break;\n",
    "        else \n",
    "            if rand(1)[1] <= switching_probability \n",
    "                theta[i0] *= -1\n",
    "                switches += 1\n",
    "                skeleton_points = hcat(skeleton_points, xi)\n",
    "                push!(bouncing_times, t)\n",
    "            end\n",
    "        end\n",
    "        a = [theta[i]*derivative_full(X, y, xi, i) for i in 1:d]\n",
    "    end\n",
    "    print(signif(100*switches/max_attempts,2),\"% of switches accepted \\n\")\n",
    "    return hcat(skeleton_points, xi), push!(bouncing_times, t);\n",
    "end;"
   ]
  },
  {
   "cell_type": "code",
   "execution_count": 6,
   "metadata": {},
   "outputs": [
    {
     "name": "stdout",
     "output_type": "stream",
     "text": [
      "Error, switching probabity is larger than 1. \n",
      "switching rate = 1.2617181518527891, bound = 1.2581773895055517\n",
      "i0 = 1, tau = 0.023774643997347546, xi_initial = [1.40824; 0.91952; -2.0164], theta = [-1.0, -1.0, -1.0], attempt = 746\n",
      "0.087% of switches accepted \n",
      "0.0 minutes to run"
     ]
    }
   ],
   "source": [
    "beta_0 = ones(length(beta))\n",
    "start = time()\n",
    "skeleton_full, bouncing_times_full = ZZ_log_dom_Hess(X, y, 10^5, beta_0)\n",
    "print(round((time()-start)/60,1), \" minutes to run\")"
   ]
  },
  {
   "cell_type": "markdown",
   "metadata": {},
   "source": [
    "#### Investigate more:"
   ]
  },
  {
   "cell_type": "code",
   "execution_count": 8,
   "metadata": {
    "collapsed": true
   },
   "outputs": [],
   "source": [
    "i0 = 1\n",
    "tau = 0.023774643997347546\n",
    "xi_initial = [1.40824; 0.91952; -2.0164]\n",
    "theta = [-1.0, -1.0, -1.0]\n",
    "xi_new = xi_initial + reshape(tau*theta, 3, 1);"
   ]
  },
  {
   "cell_type": "code",
   "execution_count": 10,
   "metadata": {
    "collapsed": true
   },
   "outputs": [],
   "source": [
    "Q = X*X'/4\n",
    "aa = [theta[i]*derivative_full(X, y, xi_initial, i) for i in 1:3] \n",
    "bb = [sqrt(3)*norm(Q[:,i]) for i in 1:3];"
   ]
  },
  {
   "cell_type": "code",
   "execution_count": 11,
   "metadata": {},
   "outputs": [
    {
     "data": {
      "text/plain": [
       "3-element Array{Float64,1}:\n",
       "  1.25818\n",
       " 10.8259 \n",
       "  1.65866"
      ]
     },
     "execution_count": 11,
     "metadata": {},
     "output_type": "execute_result"
    }
   ],
   "source": [
    "aa + bb*tau"
   ]
  },
  {
   "cell_type": "code",
   "execution_count": 12,
   "metadata": {},
   "outputs": [
    {
     "data": {
      "text/plain": [
       "3-element Array{Float64,1}:\n",
       "  1.26172\n",
       " -2.89693\n",
       "  1.65857"
      ]
     },
     "execution_count": 12,
     "metadata": {},
     "output_type": "execute_result"
    }
   ],
   "source": [
    "[theta[i]*derivative_full(X, y, xi_new, i) for i in 1:3] "
   ]
  },
  {
   "cell_type": "markdown",
   "metadata": {},
   "source": [
    "#### How is the bound smaller than the rate?!"
   ]
  },
  {
   "cell_type": "code",
   "execution_count": 16,
   "metadata": {
    "collapsed": true
   },
   "outputs": [],
   "source": [
    "t_list = (101:300)/10^4\n",
    "rts = [theta[1]*derivative_full(X, y, xi_initial+reshape(t_list[t]*theta,3,1), i0) for t in 1:size(t_list)[1]]\n",
    "bds = [aa[i0] + t_list[t]*bb[i0] for t in 1:size(t_list)[1]];"
   ]
  },
  {
   "cell_type": "code",
   "execution_count": 22,
   "metadata": {},
   "outputs": [
    {
     "data": {
      "image/svg+xml": [
       "<?xml version=\"1.0\" encoding=\"utf-8\"?>\n",
       "<svg xmlns=\"http://www.w3.org/2000/svg\" xmlns:xlink=\"http://www.w3.org/1999/xlink\" width=\"600\" height=\"400\" viewBox=\"0 0 600 400\">\n",
       "<defs>\n",
       "  <clipPath id=\"clip5300\">\n",
       "    <rect x=\"0\" y=\"0\" width=\"600\" height=\"400\"/>\n",
       "  </clipPath>\n",
       "</defs>\n",
       "<polygon clip-path=\"url(#clip5300)\" points=\"\n",
       "0,400 600,400 600,0 0,0 \n",
       "  \" fill=\"#ffffff\" fill-opacity=\"1\"/>\n",
       "<defs>\n",
       "  <clipPath id=\"clip5301\">\n",
       "    <rect x=\"120\" y=\"0\" width=\"421\" height=\"400\"/>\n",
       "  </clipPath>\n",
       "</defs>\n",
       "<polygon clip-path=\"url(#clip5300)\" points=\"\n",
       "47.0391,360.121 580.315,360.121 580.315,11.811 47.0391,11.811 \n",
       "  \" fill=\"#ffffff\" fill-opacity=\"1\"/>\n",
       "<defs>\n",
       "  <clipPath id=\"clip5302\">\n",
       "    <rect x=\"47\" y=\"11\" width=\"534\" height=\"349\"/>\n",
       "  </clipPath>\n",
       "</defs>\n",
       "<polyline clip-path=\"url(#clip5302)\" style=\"stroke:#000000; stroke-width:0.5; stroke-opacity:0.1; fill:none\" points=\"\n",
       "  59.6037,360.121 59.6037,11.811 \n",
       "  \"/>\n",
       "<polyline clip-path=\"url(#clip5302)\" style=\"stroke:#000000; stroke-width:0.5; stroke-opacity:0.1; fill:none\" points=\"\n",
       "  186.008,360.121 186.008,11.811 \n",
       "  \"/>\n",
       "<polyline clip-path=\"url(#clip5302)\" style=\"stroke:#000000; stroke-width:0.5; stroke-opacity:0.1; fill:none\" points=\"\n",
       "  312.413,360.121 312.413,11.811 \n",
       "  \"/>\n",
       "<polyline clip-path=\"url(#clip5302)\" style=\"stroke:#000000; stroke-width:0.5; stroke-opacity:0.1; fill:none\" points=\"\n",
       "  438.818,360.121 438.818,11.811 \n",
       "  \"/>\n",
       "<polyline clip-path=\"url(#clip5302)\" style=\"stroke:#000000; stroke-width:0.5; stroke-opacity:0.1; fill:none\" points=\"\n",
       "  565.222,360.121 565.222,11.811 \n",
       "  \"/>\n",
       "<polyline clip-path=\"url(#clip5302)\" style=\"stroke:#000000; stroke-width:0.5; stroke-opacity:0.1; fill:none\" points=\"\n",
       "  47.0391,295.491 580.315,295.491 \n",
       "  \"/>\n",
       "<polyline clip-path=\"url(#clip5302)\" style=\"stroke:#000000; stroke-width:0.5; stroke-opacity:0.1; fill:none\" points=\"\n",
       "  47.0391,214.979 580.315,214.979 \n",
       "  \"/>\n",
       "<polyline clip-path=\"url(#clip5302)\" style=\"stroke:#000000; stroke-width:0.5; stroke-opacity:0.1; fill:none\" points=\"\n",
       "  47.0391,134.467 580.315,134.467 \n",
       "  \"/>\n",
       "<polyline clip-path=\"url(#clip5302)\" style=\"stroke:#000000; stroke-width:0.5; stroke-opacity:0.1; fill:none\" points=\"\n",
       "  47.0391,53.9553 580.315,53.9553 \n",
       "  \"/>\n",
       "<polyline clip-path=\"url(#clip5300)\" style=\"stroke:#000000; stroke-width:1; stroke-opacity:1; fill:none\" points=\"\n",
       "  47.0391,360.121 580.315,360.121 \n",
       "  \"/>\n",
       "<polyline clip-path=\"url(#clip5300)\" style=\"stroke:#000000; stroke-width:1; stroke-opacity:1; fill:none\" points=\"\n",
       "  47.0391,360.121 47.0391,11.811 \n",
       "  \"/>\n",
       "<polyline clip-path=\"url(#clip5300)\" style=\"stroke:#000000; stroke-width:1; stroke-opacity:1; fill:none\" points=\"\n",
       "  59.6037,360.121 59.6037,354.896 \n",
       "  \"/>\n",
       "<polyline clip-path=\"url(#clip5300)\" style=\"stroke:#000000; stroke-width:1; stroke-opacity:1; fill:none\" points=\"\n",
       "  186.008,360.121 186.008,354.896 \n",
       "  \"/>\n",
       "<polyline clip-path=\"url(#clip5300)\" style=\"stroke:#000000; stroke-width:1; stroke-opacity:1; fill:none\" points=\"\n",
       "  312.413,360.121 312.413,354.896 \n",
       "  \"/>\n",
       "<polyline clip-path=\"url(#clip5300)\" style=\"stroke:#000000; stroke-width:1; stroke-opacity:1; fill:none\" points=\"\n",
       "  438.818,360.121 438.818,354.896 \n",
       "  \"/>\n",
       "<polyline clip-path=\"url(#clip5300)\" style=\"stroke:#000000; stroke-width:1; stroke-opacity:1; fill:none\" points=\"\n",
       "  565.222,360.121 565.222,354.896 \n",
       "  \"/>\n",
       "<polyline clip-path=\"url(#clip5300)\" style=\"stroke:#000000; stroke-width:1; stroke-opacity:1; fill:none\" points=\"\n",
       "  47.0391,295.491 55.0382,295.491 \n",
       "  \"/>\n",
       "<polyline clip-path=\"url(#clip5300)\" style=\"stroke:#000000; stroke-width:1; stroke-opacity:1; fill:none\" points=\"\n",
       "  47.0391,214.979 55.0382,214.979 \n",
       "  \"/>\n",
       "<polyline clip-path=\"url(#clip5300)\" style=\"stroke:#000000; stroke-width:1; stroke-opacity:1; fill:none\" points=\"\n",
       "  47.0391,134.467 55.0382,134.467 \n",
       "  \"/>\n",
       "<polyline clip-path=\"url(#clip5300)\" style=\"stroke:#000000; stroke-width:1; stroke-opacity:1; fill:none\" points=\"\n",
       "  47.0391,53.9553 55.0382,53.9553 \n",
       "  \"/>\n",
       "<g clip-path=\"url(#clip5300)\">\n",
       "<text style=\"fill:#000000; fill-opacity:1; font-family:Arial,Helvetica Neue,Helvetica,sans-serif; font-size:12; text-anchor:middle;\" transform=\"rotate(0, 59.6037, 373.921)\" x=\"59.6037\" y=\"373.921\">0.010</text>\n",
       "</g>\n",
       "<g clip-path=\"url(#clip5300)\">\n",
       "<text style=\"fill:#000000; fill-opacity:1; font-family:Arial,Helvetica Neue,Helvetica,sans-serif; font-size:12; text-anchor:middle;\" transform=\"rotate(0, 186.008, 373.921)\" x=\"186.008\" y=\"373.921\">0.015</text>\n",
       "</g>\n",
       "<g clip-path=\"url(#clip5300)\">\n",
       "<text style=\"fill:#000000; fill-opacity:1; font-family:Arial,Helvetica Neue,Helvetica,sans-serif; font-size:12; text-anchor:middle;\" transform=\"rotate(0, 312.413, 373.921)\" x=\"312.413\" y=\"373.921\">0.020</text>\n",
       "</g>\n",
       "<g clip-path=\"url(#clip5300)\">\n",
       "<text style=\"fill:#000000; fill-opacity:1; font-family:Arial,Helvetica Neue,Helvetica,sans-serif; font-size:12; text-anchor:middle;\" transform=\"rotate(0, 438.818, 373.921)\" x=\"438.818\" y=\"373.921\">0.025</text>\n",
       "</g>\n",
       "<g clip-path=\"url(#clip5300)\">\n",
       "<text style=\"fill:#000000; fill-opacity:1; font-family:Arial,Helvetica Neue,Helvetica,sans-serif; font-size:12; text-anchor:middle;\" transform=\"rotate(0, 565.222, 373.921)\" x=\"565.222\" y=\"373.921\">0.030</text>\n",
       "</g>\n",
       "<g clip-path=\"url(#clip5300)\">\n",
       "<text style=\"fill:#000000; fill-opacity:1; font-family:Arial,Helvetica Neue,Helvetica,sans-serif; font-size:12; text-anchor:end;\" transform=\"rotate(0, 41.0391, 299.991)\" x=\"41.0391\" y=\"299.991\">1.24</text>\n",
       "</g>\n",
       "<g clip-path=\"url(#clip5300)\">\n",
       "<text style=\"fill:#000000; fill-opacity:1; font-family:Arial,Helvetica Neue,Helvetica,sans-serif; font-size:12; text-anchor:end;\" transform=\"rotate(0, 41.0391, 219.479)\" x=\"41.0391\" y=\"219.479\">1.25</text>\n",
       "</g>\n",
       "<g clip-path=\"url(#clip5300)\">\n",
       "<text style=\"fill:#000000; fill-opacity:1; font-family:Arial,Helvetica Neue,Helvetica,sans-serif; font-size:12; text-anchor:end;\" transform=\"rotate(0, 41.0391, 138.967)\" x=\"41.0391\" y=\"138.967\">1.26</text>\n",
       "</g>\n",
       "<g clip-path=\"url(#clip5300)\">\n",
       "<text style=\"fill:#000000; fill-opacity:1; font-family:Arial,Helvetica Neue,Helvetica,sans-serif; font-size:12; text-anchor:end;\" transform=\"rotate(0, 41.0391, 58.4553)\" x=\"41.0391\" y=\"58.4553\">1.27</text>\n",
       "</g>\n",
       "<g clip-path=\"url(#clip5300)\">\n",
       "<text style=\"fill:#000000; fill-opacity:1; font-family:Arial,Helvetica Neue,Helvetica,sans-serif; font-size:16; text-anchor:middle;\" transform=\"rotate(0, 313.677, 397.6)\" x=\"313.677\" y=\"397.6\">tau</text>\n",
       "</g>\n",
       "<polyline clip-path=\"url(#clip5302)\" style=\"stroke:#009af9; stroke-width:1; stroke-opacity:1; fill:none\" points=\"\n",
       "  62.1318,338.107 64.6599,336.516 67.188,334.925 69.7161,333.334 72.2442,331.743 74.7723,330.153 77.3004,328.562 79.8285,326.971 82.3565,325.38 84.8846,323.789 \n",
       "  87.4127,322.199 89.9408,320.608 92.4689,319.017 94.997,317.427 97.5251,315.836 100.053,314.245 102.581,312.654 105.109,311.064 107.637,309.473 110.166,307.882 \n",
       "  112.694,306.292 115.222,304.701 117.75,303.11 120.278,301.52 122.806,299.929 125.334,298.338 127.862,296.748 130.39,295.157 132.918,293.566 135.446,291.976 \n",
       "  137.975,290.385 140.503,288.794 143.031,287.204 145.559,285.613 148.087,284.023 150.615,282.432 153.143,280.841 155.671,279.251 158.199,277.66 160.727,276.07 \n",
       "  163.256,274.479 165.784,272.889 168.312,271.298 170.84,269.708 173.368,268.117 175.896,266.527 178.424,264.936 180.952,263.346 183.48,261.755 186.008,260.165 \n",
       "  188.536,258.574 191.065,256.984 193.593,255.393 196.121,253.803 198.649,252.212 201.177,250.622 203.705,249.031 206.233,247.441 208.761,245.85 211.289,244.26 \n",
       "  213.817,242.67 216.345,241.079 218.874,239.489 221.402,237.898 223.93,236.308 226.458,234.718 228.986,233.127 231.514,231.537 234.042,229.946 236.57,228.356 \n",
       "  239.098,226.766 241.626,225.175 244.154,223.585 246.683,221.995 249.211,220.404 251.739,218.814 254.267,217.224 256.795,215.633 259.323,214.043 261.851,212.453 \n",
       "  264.379,210.863 266.907,209.272 269.435,207.682 271.963,206.092 274.492,204.502 277.02,202.911 279.548,201.321 282.076,199.731 284.604,198.141 287.132,196.55 \n",
       "  289.66,194.96 292.188,193.37 294.716,191.78 297.244,190.19 299.773,188.599 302.301,187.009 304.829,185.419 307.357,183.829 309.885,182.239 312.413,180.649 \n",
       "  314.941,179.058 317.469,177.468 319.997,175.878 322.525,174.288 325.053,172.698 327.582,171.108 330.11,169.518 332.638,167.928 335.166,166.337 337.694,164.747 \n",
       "  340.222,163.157 342.75,161.567 345.278,159.977 347.806,158.387 350.334,156.797 352.862,155.207 355.391,153.617 357.919,152.027 360.447,150.437 362.975,148.847 \n",
       "  365.503,147.257 368.031,145.667 370.559,144.077 373.087,142.487 375.615,140.897 378.143,139.307 380.671,137.717 383.2,136.127 385.728,134.537 388.256,132.947 \n",
       "  390.784,131.357 393.312,129.767 395.84,128.177 398.368,126.588 400.896,124.998 403.424,123.408 405.952,121.818 408.481,120.228 411.009,118.638 413.537,117.048 \n",
       "  416.065,115.458 418.593,113.868 421.121,112.279 423.649,110.689 426.177,109.099 428.705,107.509 431.233,105.919 433.761,104.329 436.29,102.74 438.818,101.15 \n",
       "  441.346,99.56 443.874,97.9703 446.402,96.3805 448.93,94.7907 451.458,93.2009 453.986,91.6112 456.514,90.0214 459.042,88.4317 461.57,86.8419 464.099,85.2522 \n",
       "  466.627,83.6625 469.155,82.0728 471.683,80.4831 474.211,78.8934 476.739,77.3037 479.267,75.714 481.795,74.1243 484.323,72.5346 486.851,70.945 489.379,69.3553 \n",
       "  491.908,67.7656 494.436,66.176 496.964,64.5864 499.492,62.9967 502.02,61.4071 504.548,59.8175 507.076,58.2279 509.604,56.6383 512.132,55.0487 514.66,53.4591 \n",
       "  517.188,51.8695 519.717,50.2799 522.245,48.6904 524.773,47.1008 527.301,45.5113 529.829,43.9217 532.357,42.3322 534.885,40.7426 537.413,39.1531 539.941,37.5636 \n",
       "  542.469,35.9741 544.998,34.3846 547.526,32.7951 550.054,31.2056 552.582,29.6161 555.11,28.0267 557.638,26.4372 560.166,24.8477 562.694,23.2583 565.222,21.6688 \n",
       "  \n",
       "  \"/>\n",
       "<polyline clip-path=\"url(#clip5302)\" style=\"stroke:#e26f46; stroke-width:1; stroke-opacity:1; fill:none\" points=\"\n",
       "  62.1318,350.263 64.6599,348.792 67.188,347.321 69.7161,345.85 72.2442,344.38 74.7723,342.909 77.3004,341.438 79.8285,339.967 82.3565,338.497 84.8846,337.026 \n",
       "  87.4127,335.555 89.9408,334.084 92.4689,332.613 94.997,331.143 97.5251,329.672 100.053,328.201 102.581,326.73 105.109,325.26 107.637,323.789 110.166,322.318 \n",
       "  112.694,320.847 115.222,319.376 117.75,317.906 120.278,316.435 122.806,314.964 125.334,313.493 127.862,312.022 130.39,310.552 132.918,309.081 135.446,307.61 \n",
       "  137.975,306.139 140.503,304.669 143.031,303.198 145.559,301.727 148.087,300.256 150.615,298.785 153.143,297.315 155.671,295.844 158.199,294.373 160.727,292.902 \n",
       "  163.256,291.431 165.784,289.961 168.312,288.49 170.84,287.019 173.368,285.548 175.896,284.078 178.424,282.607 180.952,281.136 183.48,279.665 186.008,278.194 \n",
       "  188.536,276.724 191.065,275.253 193.593,273.782 196.121,272.311 198.649,270.841 201.177,269.37 203.705,267.899 206.233,266.428 208.761,264.957 211.289,263.487 \n",
       "  213.817,262.016 216.345,260.545 218.874,259.074 221.402,257.603 223.93,256.133 226.458,254.662 228.986,253.191 231.514,251.72 234.042,250.25 236.57,248.779 \n",
       "  239.098,247.308 241.626,245.837 244.154,244.366 246.683,242.896 249.211,241.425 251.739,239.954 254.267,238.483 256.795,237.012 259.323,235.542 261.851,234.071 \n",
       "  264.379,232.6 266.907,231.129 269.435,229.659 271.963,228.188 274.492,226.717 277.02,225.246 279.548,223.775 282.076,222.305 284.604,220.834 287.132,219.363 \n",
       "  289.66,217.892 292.188,216.422 294.716,214.951 297.244,213.48 299.773,212.009 302.301,210.538 304.829,209.068 307.357,207.597 309.885,206.126 312.413,204.655 \n",
       "  314.941,203.184 317.469,201.714 319.997,200.243 322.525,198.772 325.053,197.301 327.582,195.831 330.11,194.36 332.638,192.889 335.166,191.418 337.694,189.947 \n",
       "  340.222,188.477 342.75,187.006 345.278,185.535 347.806,184.064 350.334,182.593 352.862,181.123 355.391,179.652 357.919,178.181 360.447,176.71 362.975,175.24 \n",
       "  365.503,173.769 368.031,172.298 370.559,170.827 373.087,169.356 375.615,167.886 378.143,166.415 380.671,164.944 383.2,163.473 385.728,162.002 388.256,160.532 \n",
       "  390.784,159.061 393.312,157.59 395.84,156.119 398.368,154.649 400.896,153.178 403.424,151.707 405.952,150.236 408.481,148.765 411.009,147.295 413.537,145.824 \n",
       "  416.065,144.353 418.593,142.882 421.121,141.412 423.649,139.941 426.177,138.47 428.705,136.999 431.233,135.528 433.761,134.058 436.29,132.587 438.818,131.116 \n",
       "  441.346,129.645 443.874,128.174 446.402,126.704 448.93,125.233 451.458,123.762 453.986,122.291 456.514,120.821 459.042,119.35 461.57,117.879 464.099,116.408 \n",
       "  466.627,114.937 469.155,113.467 471.683,111.996 474.211,110.525 476.739,109.054 479.267,107.583 481.795,106.113 484.323,104.642 486.851,103.171 489.379,101.7 \n",
       "  491.908,100.23 494.436,98.7588 496.964,97.288 499.492,95.8172 502.02,94.3464 504.548,92.8757 507.076,91.4049 509.604,89.9341 512.132,88.4633 514.66,86.9925 \n",
       "  517.188,85.5217 519.717,84.051 522.245,82.5802 524.773,81.1094 527.301,79.6386 529.829,78.1678 532.357,76.697 534.885,75.2263 537.413,73.7555 539.941,72.2847 \n",
       "  542.469,70.8139 544.998,69.3431 547.526,67.8723 550.054,66.4015 552.582,64.9308 555.11,63.46 557.638,61.9892 560.166,60.5184 562.694,59.0476 565.222,57.5768 \n",
       "  \n",
       "  \"/>\n",
       "<polygon clip-path=\"url(#clip5300)\" points=\"\n",
       "468.862,78.051 562.315,78.051 562.315,32.691 468.862,32.691 \n",
       "  \" fill=\"#ffffff\" fill-opacity=\"1\"/>\n",
       "<polyline clip-path=\"url(#clip5300)\" style=\"stroke:#000000; stroke-width:1; stroke-opacity:1; fill:none\" points=\"\n",
       "  468.862,78.051 562.315,78.051 562.315,32.691 468.862,32.691 468.862,78.051 \n",
       "  \"/>\n",
       "<polyline clip-path=\"url(#clip5300)\" style=\"stroke:#009af9; stroke-width:1; stroke-opacity:1; fill:none\" points=\"\n",
       "  474.862,47.811 510.862,47.811 \n",
       "  \"/>\n",
       "<g clip-path=\"url(#clip5300)\">\n",
       "<text style=\"fill:#000000; fill-opacity:1; font-family:Arial,Helvetica Neue,Helvetica,sans-serif; font-size:12; text-anchor:start;\" transform=\"rotate(0, 516.862, 52.311)\" x=\"516.862\" y=\"52.311\">rate</text>\n",
       "</g>\n",
       "<polyline clip-path=\"url(#clip5300)\" style=\"stroke:#e26f46; stroke-width:1; stroke-opacity:1; fill:none\" points=\"\n",
       "  474.862,62.931 510.862,62.931 \n",
       "  \"/>\n",
       "<g clip-path=\"url(#clip5300)\">\n",
       "<text style=\"fill:#000000; fill-opacity:1; font-family:Arial,Helvetica Neue,Helvetica,sans-serif; font-size:12; text-anchor:start;\" transform=\"rotate(0, 516.862, 67.431)\" x=\"516.862\" y=\"67.431\">bound</text>\n",
       "</g>\n",
       "</svg>\n"
      ]
     },
     "execution_count": 22,
     "metadata": {},
     "output_type": "execute_result"
    }
   ],
   "source": [
    "plot(t_list, rts, label=\"rate\", xlabel=\"tau\")\n",
    "plot!(t_list, bds, label=\"bound\")"
   ]
  },
  {
   "cell_type": "markdown",
   "metadata": {},
   "source": [
    "It seems like there is a problem with the bounds. Taking $b_i = d \\| Q \\, e_i \\|$ instead of $b_i = \\sqrt{d} \\| Q \\, e_i \\|$, $i = 1, \\ldots, d$ **seems** to fix the problem."
   ]
  },
  {
   "cell_type": "code",
   "execution_count": null,
   "metadata": {
    "collapsed": true
   },
   "outputs": [],
   "source": []
  },
  {
   "cell_type": "code",
   "execution_count": 13,
   "metadata": {},
   "outputs": [
    {
     "ename": "LoadError",
     "evalue": "\u001b[91mUndefVarError: plot not defined\u001b[39m",
     "output_type": "error",
     "traceback": [
      "\u001b[91mUndefVarError: plot not defined\u001b[39m",
      ""
     ]
    }
   ],
   "source": [
    "using PyPlot\n",
    "x = linspace(0,2*pi,1000); y = sin.(3 * x + 4 * cos.(2 * x));\n",
    "plot(x, y, color=\"red\", linewidth=2.0, linestyle=\"--\")\n",
    "title(\"A sinusoidally modulated sinusoid\")"
   ]
  },
  {
   "cell_type": "code",
   "execution_count": null,
   "metadata": {
    "collapsed": true
   },
   "outputs": [],
   "source": []
  }
 ],
 "metadata": {
  "kernelspec": {
   "display_name": "Julia 0.6.4",
   "language": "julia",
   "name": "julia-0.6"
  },
  "language_info": {
   "file_extension": ".jl",
   "mimetype": "application/julia",
   "name": "julia",
   "version": "0.6.4"
  }
 },
 "nbformat": 4,
 "nbformat_minor": 2
}
