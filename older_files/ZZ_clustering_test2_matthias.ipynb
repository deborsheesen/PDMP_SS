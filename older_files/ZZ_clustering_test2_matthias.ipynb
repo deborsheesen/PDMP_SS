{
 "cells": [
  {
   "cell_type": "code",
   "execution_count": 1,
   "metadata": {
    "collapsed": true
   },
   "outputs": [],
   "source": [
    "using Distributions, TimeIt, PyPlot"
   ]
  },
  {
   "cell_type": "code",
   "execution_count": 2,
   "metadata": {},
   "outputs": [
    {
     "data": {
      "text/plain": [
       "get_clustering_vec_and_score (generic function with 1 method)"
      ]
     },
     "execution_count": 2,
     "metadata": {},
     "output_type": "execute_result"
    }
   ],
   "source": [
    "include(\"zz_structures.jl\")\n",
    "include(\"mbsampler.jl\")"
   ]
  },
  {
   "cell_type": "code",
   "execution_count": 12,
   "metadata": {
    "collapsed": true
   },
   "outputs": [],
   "source": [
    "d, Nobs = 10, 100\n",
    "X = rand(Normal(), d, Nobs)\n",
    "X[1,:] = ones(Nobs)\n",
    "ξ_true = rand(Normal(),d)\n",
    "y = [rand(Binomial(1, 1/(1+exp(-ξ_true'X[:,j]))), 1)[1] + 0. for j in 1:Nobs];"
   ]
  },
  {
   "cell_type": "code",
   "execution_count": 13,
   "metadata": {
    "collapsed": true
   },
   "outputs": [],
   "source": [
    "my_ll = ll_logistic(X,y);\n",
    "my_prior = gaussian_prior_nh(zeros(d),1*ones(d))\n",
    "my_model = model(my_ll, my_prior);"
   ]
  },
  {
   "cell_type": "code",
   "execution_count": 14,
   "metadata": {
    "collapsed": true
   },
   "outputs": [],
   "source": [
    "ϵ = 1e-5\n",
    "weights_cv = zeros(d, Nobs)\n",
    "for n in 1:Nobs\n",
    "    weights_cv[:,n] = [abs.(X[i,n])*norm(X[:,n]) for i in 1:d] + ϵ\n",
    "end\n",
    "weights_cv ./= sum(weights_cv,2);\n",
    "\n",
    "weights = abs.(X) + ϵ\n",
    "weights ./= sum(weights,2);"
   ]
  },
  {
   "cell_type": "code",
   "execution_count": 15,
   "metadata": {
    "collapsed": true
   },
   "outputs": [],
   "source": [
    "A = eye(d)\n",
    "mb_size = 10\n",
    "opf = projopf(A, 100) \n",
    "opt = maxa_opt(10^5)\n",
    "outp = outputscheduler(opf,opt) ;\n",
    "#gs = umbsampler(Nobs, mb_size)"
   ]
  },
  {
   "cell_type": "raw",
   "metadata": {
    "collapsed": true
   },
   "source": [
    "# Grouped subsampling with weights \n",
    "tol = .00001\n",
    "gs = Array{mbsampler}(d)\n",
    "N_groups = 20\n",
    "mod_weights = copy(weights)\n",
    "for i in 1:d\n",
    "    grouping = Array{Int}(Nobs)\n",
    "    gclusters, gscores = get_clustering_vec_and_score(weights[i,:], N_groups, \"wc\") # use clustering algorithm on weights\n",
    "    for (gi,gcluster) in enumerate(gclusters)\n",
    "        value = gscores[gi]/mean(weights[i,gcluster]) \n",
    "        if value < tol # If weights are very similar use uniform sub sampling\n",
    "            grouping[gcluster] = 1\n",
    "            mod_weights[i,gcluster] = mean(weights[i,gcluster]) \n",
    "        else # Otherwise use weighted sub sampling\n",
    "            grouping[gcluster] = -1\n",
    "        end\n",
    "    end\n",
    "    gs[i] = gmbsampler(mb_size,mod_weights[i,:],grouping)\n",
    "end\n",
    "gs_list = mbsampler_list(d,gs);"
   ]
  },
  {
   "cell_type": "raw",
   "metadata": {},
   "source": [
    "# Subsampling with weights \n",
    "gs = [wumbsampler(Nobs, mb_size, weights[i,:]) for i in 1:d]\n",
    "gs_list = mbsampler_list(d,gs);"
   ]
  },
  {
   "cell_type": "raw",
   "metadata": {
    "collapsed": true
   },
   "source": [
    "# Sub-Sampling with control variate (and weights)\n",
    "ξ_0 = rand(Normal(),d)\n",
    "root = find_root(my_model, ξ_0)\n",
    "mbs = [wumbsampler(Nobs, mb_size, weights_cv[i,:]) for i in 1:d]\n",
    "gs_list = cvmbsampler_list(my_model, mbs, root);"
   ]
  },
  {
   "cell_type": "code",
   "execution_count": 16,
   "metadata": {
    "collapsed": true
   },
   "outputs": [],
   "source": [
    "# Stratified sub-sampling (and weights)\n",
    "ξ_0 = rand(Normal(),d)\n",
    "root = find_root(my_model, ξ_0)\n",
    "ll_pd_root_list = [partial_derivative_vec(my_model.ll, root, i, 1:Nobs) for i in 1:d]\n",
    "\n",
    "cmbsamplers = Array{cmbsampler}(d)\n",
    "N_cluster = mb_size\n",
    "mode = \"wc\"\n",
    "#weights = \n",
    "\n",
    "for dim in 1:d\n",
    "    csamplers = Array{mbsampler}(N_cluster)\n",
    "    clusters = get_clustering_vec(ll_pd_root_list[dim], N_cluster, mode)\n",
    "    #print(clusters)\n",
    "    scp = ones(N_cluster)\n",
    "    for (ci, c) in enumerate(clusters)\n",
    "        #csamplers[ci] = umbsampler(size(c)[1], scp[ci])\n",
    "        csamplers[ci] = wumbsampler(size(c)[1], scp[ci], weights[dim,c])\n",
    "    end\n",
    "    #cmbsamplers[dim] = cmbsampler(csamplers, clusters, ones(Nobs)/Nobs)\n",
    "    cmbsamplers[dim] = cmbsampler(csamplers, clusters, weights[dim,:])\n",
    "end\n",
    "gs_list = mbsampler_list(d,cmbsamplers);"
   ]
  },
  {
   "cell_type": "raw",
   "metadata": {},
   "source": [
    "# Stratified sub-sampling with CV (and weights)\n",
    "ξ_0 = rand(Normal(),d)\n",
    "root = find_root(my_model, ξ_0)\n",
    "ll_pd_root_list = [partial_derivative_vec(my_model.ll, root, i, 1:Nobs) for i in 1:d]\n",
    "\n",
    "cmbsamplers = Array{cmbsampler}(d)\n",
    "N_cluster = mb_size\n",
    "mode = \"wc\"\n",
    "\n",
    "for dim in 1:d\n",
    "    csamplers = Array{mbsampler}(N_cluster)\n",
    "    clusters = get_clustering_vec(ll_pd_root_list[dim], N_cluster, mode)\n",
    "    #print(clusters)\n",
    "    scp = ones(N_cluster)\n",
    "    for (ci, c) in enumerate(clusters)\n",
    "        #csamplers[ci] = umbsampler(size(c)[1], scp[ci])\n",
    "        csamplers[ci] = wumbsampler(size(c)[1], scp[ci], weights_cv[dim,c])\n",
    "    end\n",
    "    #cmbsamplers[dim] = cmbsampler(csamplers, clusters, ones(Nobs)/Nobs)\n",
    "    cmbsamplers[dim] = cmbsampler(csamplers, clusters, weights_cv[dim,:])\n",
    "end\n",
    "gs_list = cvmbsampler_list(my_model,cmbsamplers, root);"
   ]
  },
  {
   "cell_type": "code",
   "execution_count": 17,
   "metadata": {
    "scrolled": true
   },
   "outputs": [
    {
     "name": "stdout",
     "output_type": "stream",
     "text": [
      "0.15 minutes to run \n"
     ]
    }
   ],
   "source": [
    "start = time()\n",
    "ZZ_sample(my_model, outp, gs_list)\n",
    "print( round((time()-start)/60, 2), \" minutes to run \\n\")"
   ]
  },
  {
   "cell_type": "code",
   "execution_count": 18,
   "metadata": {},
   "outputs": [
    {
     "name": "stdout",
     "output_type": "stream",
     "text": [
      "100 loops, best of 3: 1.48 ms per loop\n"
     ]
    }
   ],
   "source": [
    "n_samples = 10^4\n",
    "@timeit samples = extract_samples(outp.opf.xi_skeleton, outp.opf.bt_skeleton, outp.opf.bt_skeleton[end]/n_samples);"
   ]
  },
  {
   "cell_type": "code",
   "execution_count": 19,
   "metadata": {},
   "outputs": [
    {
     "name": "stderr",
     "output_type": "stream",
     "text": [
      "\u001b[32mProgress: 100%|█████████████████████████████████████████| Time: 0:00:00\u001b[39m\n",
      "\u001b[32mProgress: 100%|█████████████████████████████████████████| Time: 0:00:00\u001b[39m\n",
      "\u001b[32mProgress: 100%|█████████████████████████████████████████| Time: 0:00:00\u001b[39m\n",
      "\u001b[32mProgress: 100%|█████████████████████████████████████████| Time: 0:00:00\u001b[39m\n",
      "\u001b[32mProgress: 100%|█████████████████████████████████████████| Time: 0:00:00\u001b[39m\n",
      "\u001b[32mProgress: 100%|█████████████████████████████████████████| Time: 0:00:00\u001b[39m\n",
      "\u001b[32mProgress: 100%|█████████████████████████████████████████| Time: 0:00:00\u001b[39m\n",
      "\u001b[32mProgress: 100%|█████████████████████████████████████████| Time: 0:00:00\u001b[39m\n",
      "\u001b[32mProgress: 100%|█████████████████████████████████████████| Time: 0:00:00\u001b[39m\n",
      "\u001b[32mProgress: 100%|█████████████████████████████████████████| Time: 0:00:00\u001b[39m\n"
     ]
    },
    {
     "data": {
      "text/plain": [
       "10-element Array{Float64,1}:\n",
       " 0.965922\n",
       " 1.36186 \n",
       " 0.812463\n",
       " 0.978456\n",
       " 0.6378  \n",
       " 0.572526\n",
       " 1.34262 \n",
       " 0.86381 \n",
       " 1.54849 \n",
       " 1.18986 "
      ]
     },
     "execution_count": 19,
     "metadata": {},
     "output_type": "execute_result"
    }
   ],
   "source": [
    "[compute_configT(my_model, samples, k) for k in 1:d]"
   ]
  },
  {
   "cell_type": "code",
   "execution_count": 20,
   "metadata": {},
   "outputs": [
    {
     "name": "stdout",
     "output_type": "stream",
     "text": [
      "(1, 2904) 121.32211638893153"
     ]
    }
   ],
   "source": [
    "print(size(outp.opf.bt_skeleton), \" \")\n",
    "print(outp.opf.bt_skeleton[end])"
   ]
  },
  {
   "cell_type": "code",
   "execution_count": null,
   "metadata": {
    "collapsed": true
   },
   "outputs": [],
   "source": []
  }
 ],
 "metadata": {
  "anaconda-cloud": {},
  "kernelspec": {
   "display_name": "Julia 0.6.4",
   "language": "julia",
   "name": "julia-0.6"
  },
  "language_info": {
   "file_extension": ".jl",
   "mimetype": "application/julia",
   "name": "julia",
   "version": "0.6.4"
  }
 },
 "nbformat": 4,
 "nbformat_minor": 2
}
