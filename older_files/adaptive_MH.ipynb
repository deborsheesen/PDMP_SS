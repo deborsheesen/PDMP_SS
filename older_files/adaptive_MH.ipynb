{
 "cells": [
  {
   "cell_type": "code",
   "execution_count": 1,
   "metadata": {
    "collapsed": true
   },
   "outputs": [],
   "source": [
    "using Distributions "
   ]
  },
  {
   "cell_type": "code",
   "execution_count": null,
   "metadata": {
    "collapsed": true
   },
   "outputs": [],
   "source": [
    "for t in 1:T \n",
    "    C = C_0\n",
    "    if t > t_0\n",
    "        X_bar_new = ((t-1)*X_bar_old + X_new)/t\n",
    "        C_new = (t-1)/t*C_old + s/t*(t*X_bar_old*X_bar_old' - (t+1)*X_bar_new*X_bar_new' + X_new*X_new' + ε*eye(d))\n",
    "    \n",
    "        "
   ]
  },
  {
   "cell_type": "code",
   "execution_count": null,
   "metadata": {
    "collapsed": true
   },
   "outputs": [],
   "source": []
  },
  {
   "cell_type": "code",
   "execution_count": null,
   "metadata": {
    "collapsed": true
   },
   "outputs": [],
   "source": []
  },
  {
   "cell_type": "code",
   "execution_count": null,
   "metadata": {
    "collapsed": true
   },
   "outputs": [],
   "source": [
    "def ll(A, y, ξ, n_trials) :\n",
    "    return y.dot(A.dot(ξ)) - n_trials.dot(np.log(1+np.exp(A.dot(ξ)))) \n",
    "\n",
    "\n",
    "def logistic_regression(X, y, T, n_trials, prior_mean, prior_sd, ξ_0, jump_σ, store_frequency=10) :\n",
    "    d, N = np.shape(X)\n",
    "    A = csc_matrix(X).transpose()\n",
    "    ξ_chain = np.zeros((int(T/store_frequency),d))\n",
    "    ξ_current = np.copy(ξ_0)\n",
    "    ll_current = ll(A, y, ξ_current, n_trials)\n",
    "    log_prior_current = (-1/2)*np.sum((ξ_current-prior_mean)**2/prior_sd**2)\n",
    "    accepted = 0\n",
    "    \n",
    "    s = 2.4**2/d\n",
    "    ɛ = 0.01\n",
    "    i = 0\n",
    "\n",
    "    for t in range(1,T+1) :\n",
    "#         if t > 100 :\n",
    "#             C = s*np.cov(ξ_chain[t-100:t].transpose()) + s*ɛ*np.identity(d)\n",
    "#         else : \n",
    "#             C = jump_σ**2*np.identity(d) \n",
    "#         ξ_proposed = npr.multivariate_normal(mean=ξ_chain[t-1], cov=C, size=1).reshape(d,)\n",
    "        ξ_proposed = ξ_current + jump_σ*npr.randn(d)\n",
    "        ll_proposed = ll(A, y, ξ_proposed, n_trials)\n",
    "        log_prior_proposed = (-1/2)*np.sum((ξ_proposed-prior_mean)**2/prior_sd**2)\n",
    "        α = np.exp(ll_proposed + log_prior_proposed - ll_current - log_prior_current)\n",
    "        \n",
    "        if npr.uniform(size=1)[0] < α :\n",
    "            ξ_current = np.copy(ξ_proposed)\n",
    "            ll_current = np.copy(ll_proposed)\n",
    "            log_prior_current = np.copy(log_prior_proposed)\n",
    "            accepted += 1 \n",
    "        if t%store_frequency == 0 : \n",
    "            ξ_chain[i] = np.copy(ξ_current)\n",
    "            i += 1 \n",
    "            \n",
    "    return ξ_chain, accepted"
   ]
  },
  {
   "cell_type": "code",
   "execution_count": null,
   "metadata": {
    "collapsed": true
   },
   "outputs": [],
   "source": []
  }
 ],
 "metadata": {
  "kernelspec": {
   "display_name": "Julia 0.6.4",
   "language": "julia",
   "name": "julia-0.6"
  },
  "language_info": {
   "file_extension": ".jl",
   "mimetype": "application/julia",
   "name": "julia",
   "version": "0.6.4"
  }
 },
 "nbformat": 4,
 "nbformat_minor": 2
}
