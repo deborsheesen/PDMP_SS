{
 "cells": [
  {
   "cell_type": "code",
   "execution_count": 1,
   "metadata": {
    "collapsed": true
   },
   "outputs": [],
   "source": [
    "import numpy as np\n",
    "from pypolyagamma import PyPolyaGamma\n",
    "%matplotlib inline\n",
    "from pylab import plot, show, legend\n",
    "import matplotlib.pyplot as plt\n",
    "import numpy.random as npr "
   ]
  },
  {
   "cell_type": "code",
   "execution_count": 2,
   "metadata": {
    "collapsed": true
   },
   "outputs": [],
   "source": [
    "def acf(x, maxlag) :\n",
    "    n = np.shape(x)[0]\n",
    "    acf_vec = np.zeros(maxlag)\n",
    "    xmean = np.mean(x)\n",
    "    for lag in range(maxlag) :\n",
    "        index, index_shifted = range(0, n-lag), range(lag, n)\n",
    "        acf_vec[lag] = np.mean((x[index]-xmean)*(x[index_shifted]-xmean))\n",
    "    return acf_vec/np.var(x)"
   ]
  },
  {
   "cell_type": "code",
   "execution_count": 3,
   "metadata": {
    "collapsed": true
   },
   "outputs": [],
   "source": [
    "mu = 0.0\n",
    "sigmasq = 100\n",
    "y = 1"
   ]
  },
  {
   "cell_type": "code",
   "execution_count": 14,
   "metadata": {
    "collapsed": true
   },
   "outputs": [],
   "source": [
    "N_samples = 10**5\n",
    "pg = PyPolyaGamma(seed=0)\n",
    "xs = np.zeros((N_samples, 2))\n",
    "omegas = np.ones((N_samples, 2))\n",
    "\n",
    "# Now run the Gibbs sampler\n",
    "N = [10**3, 10**4]\n",
    "for i in range(1, N_samples):\n",
    "    # Sample omega given x, y from its PG conditional\n",
    "    for j in range(2):\n",
    "        omegas[i,j] = pg.pgdraw(N[j], xs[i-1,j])\n",
    "        omegas[i,j] = pg.pgdraw(N[j], xs[i-1,j])\n",
    "\n",
    "        # Sample x given omega, y from its Gaussian conditional\n",
    "        sigmasq_hat = 1./(1. / sigmasq + omegas[i,j])\n",
    "        mu_hat = sigmasq_hat * (mu / sigmasq + (y - N[j] / 2.))\n",
    "        xs[i,j] = npr.normal(mu_hat, np.sqrt(sigmasq_hat))"
   ]
  },
  {
   "cell_type": "code",
   "execution_count": 15,
   "metadata": {},
   "outputs": [
    {
     "data": {
      "image/png": "[encoded data removed]",
      "text/plain": [
       "<Figure size 1008x288 with 2 Axes>"
      ]
     },
     "metadata": {},
     "output_type": "display_data"
    }
   ],
   "source": [
    "maxlag = 200\n",
    "plt.rcParams['figure.figsize'] = (14, 4)\n",
    "a, b = -0.1, 1.05\n",
    "\n",
    "fig = plt.figure()\n",
    "ax = fig.add_subplot(1,2,1) \n",
    "ax.plot(range(1, maxlag+1), acf(xs[:,0], maxlag))\n",
    "plt.ylim([a, b])\n",
    "plt.ylabel('ACF', fontsize=12)\n",
    "plt.title(r\"$N=10^3$\", fontsize=15)\n",
    "plt.grid(True)\n",
    "plt.xlabel(\"Lag\", fontsize=12)\n",
    "\n",
    "ax = fig.add_subplot(1,2,2) \n",
    "ax.plot(range(1, maxlag+1), acf(xs[:,1], maxlag))\n",
    "plt.ylim([a, b])\n",
    "plt.title(r\"$N=10^4$\", fontsize=15)\n",
    "plt.grid(True)\n",
    "plt.xlabel(\"Lag\", fontsize=12)\n",
    "plt.show()\n",
    "\n",
    "# fig.savefig('1d_ACF_polya_gamma.pdf', format='pdf', dpi=10000, bbox_inches='tight')"
   ]
  },
  {
   "cell_type": "code",
   "execution_count": 16,
   "metadata": {
    "collapsed": true
   },
   "outputs": [],
   "source": [
    "acf_pg_1 = acf(xs[:,0], maxlag) \n",
    "acf_pg_2 = acf(xs[:,1], maxlag)"
   ]
  },
  {
   "cell_type": "code",
   "execution_count": 17,
   "metadata": {
    "collapsed": true
   },
   "outputs": [],
   "source": [
    "np.savetxt(\"acf_pg_1.csv\", acf_pg_1)\n",
    "np.savetxt(\"acf_pg_2.csv\", acf_pg_2)"
   ]
  },
  {
   "cell_type": "code",
   "execution_count": null,
   "metadata": {
    "collapsed": true
   },
   "outputs": [],
   "source": []
  }
 ],
 "metadata": {
  "kernelspec": {
   "display_name": "Python 3",
   "language": "python",
   "name": "python3"
  },
  "language_info": {
   "codemirror_mode": {
    "name": "ipython",
    "version": 3
   },
   "file_extension": ".py",
   "mimetype": "text/x-python",
   "name": "python",
   "nbconvert_exporter": "python",
   "pygments_lexer": "ipython3",
   "version": "3.6.2"
  }
 },
 "nbformat": 4,
 "nbformat_minor": 2
}
