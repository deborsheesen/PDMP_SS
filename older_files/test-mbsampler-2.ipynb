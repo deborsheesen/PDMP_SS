{
 "cells": [
  {
   "cell_type": "code",
   "execution_count": 1,
   "metadata": {},
   "outputs": [
    {
     "data": {
      "text/plain": [
       "gsample (generic function with 4 methods)"
      ]
     },
     "execution_count": 1,
     "metadata": {},
     "output_type": "execute_result"
    }
   ],
   "source": [
    "using StatsBase, Distributions, JLD2, PyPlot\n",
    "include(\"mbsampler.jl\") "
   ]
  },
  {
   "cell_type": "code",
   "execution_count": 16,
   "metadata": {},
   "outputs": [
    {
     "data": {
      "text/plain": [
       "ZZ_clustering (generic function with 6 methods)"
      ]
     },
     "execution_count": 16,
     "metadata": {},
     "output_type": "execute_result"
    }
   ],
   "source": [
    "using PyPlot, TimeIt, Distributions, Optim\n",
    "import PyPlot\n",
    "const plt = PyPlot\n",
    "include(\"ZZ_subsampling.jl\")\n",
    "include(\"ZZ_clustering.jl\") "
   ]
  },
  {
   "cell_type": "code",
   "execution_count": 17,
   "metadata": {},
   "outputs": [
    {
     "data": {
      "text/plain": [
       "logistic_data (generic function with 2 methods)"
      ]
     },
     "execution_count": 17,
     "metadata": {},
     "output_type": "execute_result"
    }
   ],
   "source": [
    "function logistic_data(d, Nobs, β_true, px, py=0.1) \n",
    "    X = ones(d, Nobs)\n",
    "    X[2:end,:] = rand(Normal(), d-1, Nobs).*rand(Binomial(1,px), d-1, Nobs) \n",
    "    #y = [rand(Binomial(1,1./(1+exp.(-X[:,j]'β_true))), 1)[1] for j in 1:Nobs]\n",
    "    y = rand(Binomial(1,py), Nobs)\n",
    "    return X, y\n",
    "end"
   ]
  },
  {
   "cell_type": "code",
   "execution_count": 18,
   "metadata": {},
   "outputs": [
    {
     "data": {
      "text/plain": [
       "5040"
      ]
     },
     "execution_count": 18,
     "metadata": {},
     "output_type": "execute_result"
    }
   ],
   "source": [
    "d = 3\n",
    "Nobs = 10^4\n",
    "px = 5e-1\n",
    "py = 5e-1\n",
    "β_true = rand(d)\n",
    "X, y = logistic_data(d, Nobs, β_true, px, py)\n",
    "σ = 2\n",
    "A = eye(d)\n",
    "# root = find_root(X, y, σ)\n",
    "sum(y)"
   ]
  },
  {
   "cell_type": "code",
   "execution_count": 19,
   "metadata": {},
   "outputs": [
    {
     "data": {
      "text/plain": [
       "3-element Array{Float64,1}:\n",
       "  0.0154931\n",
       " -0.0104615\n",
       "  0.0517055"
      ]
     },
     "execution_count": 19,
     "metadata": {},
     "output_type": "execute_result"
    }
   ],
   "source": [
    "root = find_root(X, y, σ)"
   ]
  },
  {
   "cell_type": "code",
   "execution_count": 105,
   "metadata": {},
   "outputs": [
    {
     "data": {
      "text/plain": [
       "get_clustering (generic function with 1 method)"
      ]
     },
     "execution_count": 105,
     "metadata": {},
     "output_type": "execute_result"
    }
   ],
   "source": [
    "function get_clustering(gradient_root, N_cluster, mode, i)\n",
    "    d, Nobs = size(gradient)\n",
    "    p = sortperm(gradient_root[i,:])\n",
    "    vector = gradient_root[i,p]\n",
    "    split_table = greedy_split_cluster(vector, N_cluster, mode)\n",
    "    clusters = []\n",
    "    for c in 1:N_cluster\n",
    "        clusters =push!(clusters , p[split_table[c,1]:split_table[c,2]])\n",
    "    end\n",
    "    return clusters\n",
    "end\n",
    "function get_clustering(gradient, N_cluster, mode)\n",
    "    d, Nobs = size(gradient)\n",
    "    clusters_all = []\n",
    "    for i in 1:d\n",
    "        p = sortperm(gradient_root[i,:])\n",
    "        vector = gradient_root[i,p]\n",
    "        split_table = greedy_split_cluster(vector, N_cluster, mode)\n",
    "        clusters = []\n",
    "        for c in 1:N_cluster\n",
    "            clusters =push!(clusters , p[split_table[c,1]:split_table[c,2]])\n",
    "        end\n",
    "        clusters_all = push!(clusters_all, clusters)\n",
    "    end\n",
    "    return clusters_all\n",
    "end\n",
    "function built_cmbsampler(clusters, weights=[], tol_factor=1, grouping=[], scp=-1)\n",
    "    N_clusters, = size(clusters)\n",
    "    csamplers = Array{mbsampler}(N_clusters)\n",
    "    for (ci, c) in enumerate(clusters)\n",
    "        if weights != [] && max(weigths[c])/mean(weigths[c]) > tol_factor\n",
    "            csamplers[ci] = wumbsampler(size(c)[1], scp[ci], w[c])\n",
    "    end\n",
    "    \n",
    "end\n",
    "function built_cmbsampler_list(d, Nobs, clusters_list, weights=[], grouping=[])\n",
    "    for i in 1:d\n",
    "        clusters = clusters_list[i]\n",
    "        csamplers = Array{mbsampler}(2)\n",
    "        if weights == [] || sum(weights[d,:]) < 0\n",
    "            for (ci, c) in enumerate(clusters)\n",
    "                csamplers[ci] = wumbsampler(size(c)[1], scp[ci], w[c])\n",
    "            end\n",
    "        end\n",
    "    end\n",
    "w = [.1,.1,.2,.2,.05,.1,0.1]\n",
    "w/=sum(w)\n",
    "N, = size(w)\n",
    "x = 1:N\n",
    "\n",
    "clusters = [[1,2,3,4],[5,6,7]]\n",
    "\n",
    "scp = [mb_size/2,mb_size/2]\n",
    "\n",
    "csamplers = Array{mbsampler}(2)\n",
    "for (ci, c) in enumerate(clusters)\n",
    "    csamplers[ci] = wumbsampler(size(c)[1], scp[ci], w[c])\n",
    "end\n",
    "\n",
    "gw = cmbsampler(csamplers, clusters)\n"
   ]
  },
  {
   "cell_type": "code",
   "execution_count": null,
   "metadata": {
    "collapsed": true
   },
   "outputs": [],
   "source": []
  },
  {
   "cell_type": "code",
   "execution_count": 112,
   "metadata": {},
   "outputs": [
    {
     "data": {
      "text/plain": [
       "(2,)"
      ]
     },
     "execution_count": 112,
     "metadata": {},
     "output_type": "execute_result"
    }
   ],
   "source": [
    "clusters = [[1,2,3,4],[5,6,7]]\n",
    "size(clusters)"
   ]
  },
  {
   "cell_type": "code",
   "execution_count": 43,
   "metadata": {},
   "outputs": [
    {
     "ename": "LoadError",
     "evalue": "\u001b[91mUndefVarError: cluster_sizes not defined\u001b[39m",
     "output_type": "error",
     "traceback": [
      "\u001b[91mUndefVarError: cluster_sizes not defined\u001b[39m",
      "",
      "Stacktrace:",
      " [1] \u001b[1minclude_string\u001b[22m\u001b[22m\u001b[1m(\u001b[22m\u001b[22m::String, ::String\u001b[1m)\u001b[22m\u001b[22m at \u001b[1m./loading.jl:522\u001b[22m\u001b[22m"
     ]
    }
   ],
   "source": [
    "d, n_clusters = size(cluster_sizes)\n",
    "scp = convert(Array{Int64,1},ones(d))\n",
    "aclusters_all = []\n",
    "for i in 1:d\n",
    "    cindex_left = 1\n",
    "    aclusters = []\n",
    "    for ci in 1:n_clusters\n",
    "        cindices = cindex_left:cluster_sizes[i,ci]\n",
    "        cindex_left = cindex_left + cluster_sizes[i,ci]\n",
    "        #print(cindices)\n",
    "        #print(\"\\n\")\n",
    "        #print(clusters[d,cindices])\n",
    "        aclusters=push!(aclusters, clusters[i,cindices])\n",
    "        #scp[i]\n",
    "        aclusters = convert(Array{Array{Int64,1},1},aclusters)\n",
    "    end\n",
    "    push!(aclusters_all, copy(aclusters))\n",
    "end\n",
    "#aclusters_all = convert(Array{Array{Int64,1},1},aclusters_all)\n",
    "\n",
    "groups_all = convert(Array{Int64,1},ones(d))\n",
    "\n",
    "cmbsamplers = Array{cmbsampler}(d)\n",
    "\n",
    "for dim in 1:d\n",
    "    csamplers = Array{mbsampler}(n_clusters)\n",
    "    for (ci, c) in enumerate(clusters)\n",
    "        csamplers[ci] = wumbsampler(size(c)[1], scp[ci], w[c])\n",
    "    end\n",
    "end\n",
    "\n",
    "#gw = cmbsampler(csamplers, clusters)\n",
    "#print(aclusters_all[3])"
   ]
  },
  {
   "cell_type": "markdown",
   "metadata": {},
   "source": [
    "cluster_sizes[i,ci]"
   ]
  },
  {
   "cell_type": "code",
   "execution_count": 54,
   "metadata": {
    "collapsed": true
   },
   "outputs": [],
   "source": [
    "d, Nobs = size(X)\n",
    "gradient_root = zeros(d, Nobs)\n",
    "for n in 1:Nobs \n",
    "    gradient_root[:,n] = [derivative(X[:,n], y[n], k, root, Nobs, σ)[1] for k in 1:d]\n",
    "end"
   ]
  },
  {
   "cell_type": "code",
   "execution_count": 78,
   "metadata": {},
   "outputs": [
    {
     "data": {
      "text/plain": [
       "comp_score_wc (generic function with 1 method)"
      ]
     },
     "execution_count": 78,
     "metadata": {},
     "output_type": "execute_result"
    }
   ],
   "source": [
    "function comp_score(vector)\n",
    "    Nit, = size(vector)\n",
    "    score = zeros(Nit-1)\n",
    "    for i in 1:(Nit-1)\n",
    "        fmean1 = mean(vector[1:i])\n",
    "        fmean2 = mean(vector[(i+1):Nit])\n",
    "        val1 = sum(abs.(vector[1:i] - fmean1))\n",
    "        val2 = sum(abs.(vector[(i+1):Nit] - fmean2))\n",
    "        score[i] = val1 + val2\n",
    "    end\n",
    "    return score\n",
    "end\n",
    "#plot((i0+1):(i0-1+Nit),score)\n",
    "function find_split(vector)\n",
    "    _, imin = findmin(comp_score(vector))\n",
    "    return imin\n",
    "end\n",
    "\n",
    "function find_split(vector, i0)\n",
    "    fmean = mean(vector)\n",
    "    current_score = sum(abs.(vector - fmean))\n",
    "    split_score, split_index = findmin(comp_score(vector))\n",
    "    return (i0-1)+split_index, split_score, current_score\n",
    "end\n",
    "\n",
    "function v2split_cluster(vector, logN_cluster)\n",
    "    Nit, = size(vector)\n",
    "    splits = []\n",
    "    imin = find_split(vector)\n",
    "    splits = push!(splits, imin)\n",
    "    if logN_cluster > 1\n",
    "        splits = push!(splits, v2split_cluster(vector[1:imin], logN_cluster-1)...)\n",
    "        splits = push!(splits, imin + v2split_cluster(vector[(imin+1):Nit], logN_cluster-1)...)\n",
    "    end\n",
    "    return splits\n",
    "end\n",
    "function comp_score2(vector)\n",
    "    Nit, = size(vector)\n",
    "    score = zeros(Nit-1)\n",
    "    for i in 1:(Nit-1)\n",
    "        fmean1 = mean(vector[1:i])\n",
    "        fmean2 = mean(vector[(i+1):Nit])\n",
    "        val1 = i*sum(abs.(vector[1:i] - fmean1))\n",
    "        val2 = (Nit-i)*sum(abs.(vector[(i+1):Nit] - fmean2))\n",
    "        score[i] = val1 + val2\n",
    "    end\n",
    "    return score\n",
    "end\n",
    "\n",
    "function comp_score_wc(vector)\n",
    "    Nit, = size(vector)\n",
    "    score = zeros(Nit-1)\n",
    "    for i in 1:(Nit-1)\n",
    "        val1 = i* (vector[i]- vector[1])\n",
    "        val2 = (Nit-i)*(vector[Nit]- vector[i+1])\n",
    "        score[i] = val1 + val2\n",
    "    end\n",
    "    return score\n",
    "end"
   ]
  },
  {
   "cell_type": "code",
   "execution_count": null,
   "metadata": {
    "collapsed": true
   },
   "outputs": [],
   "source": []
  },
  {
   "cell_type": "code",
   "execution_count": 93,
   "metadata": {},
   "outputs": [
    {
     "data": {
      "text/plain": [
       "find_split_fast (generic function with 1 method)"
      ]
     },
     "execution_count": 93,
     "metadata": {},
     "output_type": "execute_result"
    }
   ],
   "source": [
    "function comp_minscore_mean_fast(vector)\n",
    "    Nit, = size(vector)\n",
    "    score = zeros(2)\n",
    "    fmean = mean(vector)\n",
    "    left = 1\n",
    "    right = Nit\n",
    "    while true\n",
    "        Nit2 = right-left\n",
    "        split_left = Int(left + floor(Nit2/2))\n",
    "        split_right = split_left+1\n",
    "        for (ii,iv) in enumerate([split_left,split_right])\n",
    "            fmean1 = mean(vector[1:iv])\n",
    "            fmean2 = mean(vector[(iv+1):Nit])\n",
    "            val1 = sum(abs.(vector[1:iv] - fmean1))\n",
    "            val2 = sum(abs.(vector[(iv+1):Nit] - fmean2))\n",
    "            score[ii] = val1 + val2\n",
    "        end\n",
    "        if score[1] < score[2]\n",
    "            right = split_left\n",
    "        else\n",
    "            left = split_right\n",
    "        end\n",
    "        if left == right\n",
    "            break\n",
    "        end\n",
    "    end\n",
    "    return min(score...), left\n",
    "end\n",
    "function comp_minscore_wc_fast(vector)\n",
    "    minval, minindex = findmin(comp_score_wc(vector))\n",
    "    Nit, = size(vector)\n",
    "    print(Nit)\n",
    "    #print(\"Scorediff: \",minval-Nit*(vector[Nit]-vector[1]),\"\\n\")\n",
    "    return minval, minindex\n",
    "end\n",
    "\n",
    "function comp_minscore_fast(vector,mode)\n",
    "    if mode == \"wc\"\n",
    "        split_score, split_index = comp_minscore_wc_fast(vector)\n",
    "    else\n",
    "        split_score, split_index = comp_minscore_mean_fast(vector)\n",
    "    end\n",
    "    return split_score, split_index\n",
    "end\n",
    "\n",
    "function find_split_fast(vector, i0,mode)\n",
    "    if mode == \"wc\"\n",
    "        Nit, = size(vector)\n",
    "        current_score = Nit*(vector[Nit]-vector[1])\n",
    "    else\n",
    "        fmean = mean(vector)\n",
    "        current_score = sum(abs.(vector - fmean))\n",
    "    end\n",
    "    \n",
    "    split_score, split_index = comp_minscore_fast(vector,mode)\n",
    "    \n",
    "    return (i0-1)+split_index, split_score, current_score\n",
    "end"
   ]
  },
  {
   "cell_type": "code",
   "execution_count": 107,
   "metadata": {},
   "outputs": [
    {
     "data": {
      "image/png": "[encoded data removed]",
      "text/plain": [
       "PyPlot.Figure(PyObject <Figure size 640x480 with 1 Axes>)"
      ]
     },
     "metadata": {},
     "output_type": "display_data"
    },
    {
     "name": "stdout",
     "output_type": "stream",
     "text": [
      "10000(15999.094823451467, 7576)10000504049611649453150189134151531659249281026061418474119234018647410×6 Array{Float64,2}:\n",
      "    1.0    51.0    186.0   4.22258    -2.41624    2.0\n",
      " 5041.0  5046.0   5056.0   0.191536   -0.114794   0.0\n",
      " 5056.0  5331.0   5865.0  20.7313    -11.2501     3.0\n",
      " 3150.0  4076.0   4567.0  17.1106     -9.27494    4.0\n",
      " 8470.0  9212.0   9661.0  15.0687     -7.95319    5.0\n",
      "  659.0  1413.0   3150.0  19.5184    -11.9287     6.0\n",
      " 5865.0  6703.0   8470.0  18.8749    -10.866      7.0\n",
      " 4567.0  4901.0   5040.0  14.9785     -8.68074    8.0\n",
      " 9661.0  9906.0  10000.0   9.76037    -5.71001    9.0\n",
      "  186.0   386.0    659.0   4.81096    -2.4537    10.010000247175305948158266318091215368500194886494615451066355325611310×6 Array{Float64,2}:\n",
      "    1.0    50.0    154.0  113.092    -64.5141   2.0\n",
      " 2472.0  2472.0   7472.0    0.0        0.0      0.0\n",
      " 8419.0  8760.0   9081.0  132.91     -66.9116   3.0\n",
      "  663.0  1080.0   1526.0  262.912   -132.151    4.0\n",
      " 9633.0  9759.0   9888.0   73.9694   -37.5816   5.0\n",
      " 7472.0  7937.0   8419.0  223.908   -112.602    6.0\n",
      " 1526.0  1984.0   2471.0  238.335   -119.623    7.0\n",
      "  154.0   384.0    663.0  189.618    -96.9115   8.0\n",
      " 9081.0  9365.0   9633.0  147.542    -74.512    9.0\n",
      " 9888.0  9960.0  10000.0   71.1686   -39.0829  10.010000757624251800577717846414891312726505294084551312960371014534510×6 Array{Float64,2}:\n",
      "    1.0    51.0    145.0   88.8603     -49.7614     2.0\n",
      " 7577.0  8049.0   8516.0  246.267     -123.516      0.0\n",
      " 1800.0  2184.0   2525.0  131.833      -66.438      3.0\n",
      " 9360.0  9631.0   9872.0  220.451     -112.585      4.0\n",
      "  489.0   779.0   1091.0  151.457      -76.7952     5.0\n",
      " 2525.0  2525.0   7576.0    0.611996    -0.611996   6.0\n",
      " 8516.0  8962.0   9360.0  249.972     -125.864      7.0\n",
      " 9872.0  9953.0  10000.0  105.471      -60.1675     8.0\n",
      " 1091.0  1436.0   1800.0  148.079      -74.405      9.0\n",
      "  145.0   301.0    489.0   96.5895     -48.9174    10.0"
     ]
    },
    {
     "data": {
      "text/plain": [
       "3-element Array{Any,1}:\n",
       " Any[[3601, 9136, 8494, 5087, 152, 1108, 788, 7941, 9284, 4400  …  2677, 4289, 6448, 2124, 3678, 2968, 8700, 9727, 1049, 5177], [9137, 41, 8924, 3516, 3488, 8615, 2316, 1953, 9990, 7526, 149, 7936, 7794, 4073, 4440, 2788], [2788, 1122, 1431, 4445, 8544, 6967, 1521, 109, 538, 7034  …  3692, 1111, 942, 6256, 8378, 7283, 2338, 64, 8186, 2082], [9586, 1563, 4503, 2651, 1267, 2792, 9589, 8419, 5683, 6491  …  3292, 1597, 8142, 8471, 6568, 6816, 9677, 4911, 9080, 8012], [220, 448, 7173, 3434, 2396, 2386, 7991, 1786, 6220, 320  …  407, 1141, 1470, 9380, 9193, 1285, 8272, 779, 5370, 8150], [9499, 4236, 8829, 6743, 9901, 5630, 4002, 8299, 3317, 8554  …  9973, 9981, 10000, 8020, 1439, 3125, 6757, 9240, 4564, 9586], [2082, 5210, 2108, 9799, 6046, 627, 4606, 4517, 4465, 9033  …  3689, 4926, 9563, 2135, 3844, 2695, 5469, 9746, 3084, 220], [8012, 7290, 6016, 9386, 1733, 2100, 5183, 6320, 9846, 2883  …  869, 7989, 9002, 3505, 7522, 7975, 3031, 2684, 6360, 7738], [8150, 653, 2951, 303, 8918, 7961, 7894, 5218, 3781, 9618  …  1598, 5744, 6871, 853, 1799, 8661, 7, 7007, 7356, 7506], [5177, 6474, 1245, 9899, 4920, 155, 7836, 5229, 3709, 9391  …  5003, 2672, 4855, 8573, 948, 5771, 230, 7711, 1176, 9499]]             \n",
       " Any[[8159, 7708, 6947, 9123, 6897, 9853, 424, 444, 9340, 5525  …  6735, 663, 4084, 6619, 577, 9205, 5369, 9720, 2688, 8322], [2, 6, 7, 8, 9, 12, 13, 14, 17, 18  …  9977, 9981, 9982, 9984, 9985, 9988, 9990, 9991, 9994, 10000], [3656, 4787, 8555, 8114, 457, 8668, 7472, 1596, 7847, 11  …  9058, 868, 6269, 5724, 2637, 6855, 5200, 1972, 7975, 7611], [7294, 6204, 1178, 5871, 9265, 9296, 7412, 3202, 6383, 5783  …  9864, 8917, 1089, 5455, 2934, 4103, 3216, 4529, 4725, 6633], [2165, 3533, 3546, 5763, 2415, 3373, 7327, 5963, 5943, 3189  …  3803, 4649, 1367, 9337, 1371, 9634, 4604, 7962, 1954, 1330], [10000, 8020, 1732, 4849, 1439, 7404, 9909, 2290, 3125, 5921  …  3837, 7747, 9797, 533, 6319, 225, 6791, 6620, 8990, 3656], [6633, 3504, 8629, 6740, 4598, 6297, 2137, 3476, 1004, 3210  …  4828, 3709, 1833, 4709, 6252, 6452, 643, 7740, 5435, 9127], [8322, 4568, 9315, 3614, 9907, 3717, 7694, 9285, 1688, 9655  …  1303, 4450, 6013, 3988, 9471, 9355, 7284, 471, 9566, 7294], [7611, 3945, 7683, 9707, 4496, 4025, 6432, 4683, 6829, 8568  …  3113, 7986, 862, 203, 4471, 2547, 8854, 6892, 2974, 2165], [1330, 5024, 4388, 1789, 82, 8729, 5137, 2142, 8499, 2389  …  9509, 3363, 4142, 1250, 8516, 7322, 489, 2076, 3967, 5701]]\n",
       " Any[[7738, 2684, 6360, 41, 7522, 9137, 9280, 9002, 8924, 7989  …  6791, 6996, 8998, 2129, 350, 2874, 9839, 6671, 2704, 1237], [5830, 917, 5831, 4834, 6483, 3246, 5615, 8120, 7999, 4592  …  141, 4744, 9704, 6444, 3629, 8839, 7642, 8064, 3424, 9292], [3056, 1758, 5951, 3244, 9250, 9318, 4622, 7839, 8456, 6778  …  1895, 6333, 8293, 5643, 9395, 578, 5345, 4564, 132, 261], [1065, 3500, 653, 9584, 7332, 2506, 7651, 4674, 4487, 1700  …  8763, 3216, 449, 9921, 2509, 2587, 4259, 4200, 9464, 8765], [9814, 7033, 3058, 5767, 9659, 5724, 9410, 2248, 9664, 9148  …  8124, 3599, 3525, 2029, 6396, 3826, 8519, 6417, 4119, 273], [261, 2, 3, 10, 15, 19, 24, 28, 30, 31  …  9980, 9981, 9982, 9987, 9991, 9992, 9993, 9995, 9998, 10000], [9292, 267, 7408, 6314, 9716, 8983, 4694, 6030, 7561, 6251  …  8272, 9355, 8777, 3918, 5555, 8150, 638, 7005, 3703, 1065], [8765, 3060, 111, 3735, 1985, 7539, 6343, 4278, 5128, 3189  …  1108, 7007, 8661, 7, 5087, 7356, 8494, 9136, 3601, 7506], [273, 8659, 9767, 9456, 5881, 483, 4621, 6653, 8738, 3541  …  9832, 5775, 3016, 817, 9156, 6399, 5959, 7103, 8444, 3056], [1237, 8318, 5823, 6893, 2965, 1445, 2568, 7245, 6057, 888  …  1317, 6896, 8939, 9217, 5432, 9882, 3230, 6278, 2882, 9814]] "
      ]
     },
     "execution_count": 107,
     "metadata": {},
     "output_type": "execute_result"
    }
   ],
   "source": [
    "for i in 3\n",
    "    p = sortperm(gradient_root[i,:])\n",
    "    vector = gradient_root[i,p]\n",
    "    score = comp_score_wc(vector)\n",
    "    plot(score)\n",
    "    print(comp_minscore_fast(vector,\"wc\"))\n",
    "end\n",
    "\n",
    "clusters = get_clustering(gradient_root, 10, \"wc\")"
   ]
  },
  {
   "cell_type": "code",
   "execution_count": 95,
   "metadata": {},
   "outputs": [
    {
     "ename": "LoadError",
     "evalue": "\u001b[91mMethodError: no method matching getindex(::StatsBase.#score, ::Int64)\u001b[39m",
     "output_type": "error",
     "traceback": [
      "\u001b[91mMethodError: no method matching getindex(::StatsBase.#score, ::Int64)\u001b[39m",
      "",
      "Stacktrace:",
      " [1] \u001b[1minclude_string\u001b[22m\u001b[22m\u001b[1m(\u001b[22m\u001b[22m::String, ::String\u001b[1m)\u001b[22m\u001b[22m at \u001b[1m./loading.jl:522\u001b[22m\u001b[22m"
     ]
    }
   ],
   "source": [
    "print(score[1873],\"\\n\")\n",
    "print(score[1874])"
   ]
  },
  {
   "cell_type": "code",
   "execution_count": 96,
   "metadata": {},
   "outputs": [
    {
     "data": {
      "image/png": "[encoded data removed]",
      "text/plain": [
       "PyPlot.Figure(PyObject <Figure size 640x480 with 1 Axes>)"
      ]
     },
     "metadata": {},
     "output_type": "display_data"
    }
   ],
   "source": [
    "for i in 2\n",
    "    p = sortperm(gradient_root[i,:])\n",
    "    vector = gradient_root[i,p]\n",
    "    plot(vector)\n",
    "end"
   ]
  },
  {
   "cell_type": "code",
   "execution_count": 97,
   "metadata": {},
   "outputs": [
    {
     "data": {
      "text/plain": [
       "greedy_split_cluster (generic function with 1 method)"
      ]
     },
     "execution_count": 97,
     "metadata": {},
     "output_type": "execute_result"
    }
   ],
   "source": [
    "function greedy_split_cluster(vector, N_cluster, mode)\n",
    "    split_table = zeros(N_cluster,6) # 1 range_start | 2 split index | 3 range_end | 4 current_score | 5 delta_score | 6 cluster index \n",
    "    temp = zeros(6)\n",
    "    Nit, = size(vector)\n",
    "    imin, _, _ = find_split_fast(vector,1,mode)\n",
    "    #print(\"imin: \",imin)\n",
    "    split_index1, split_score1, current_score1 = find_split_fast(vector[1:imin],1,mode)\n",
    "    split_index2, split_score2, current_score2 = find_split_fast(vector[imin:Nit],imin+1,mode)\n",
    "    #print(\"split_index1: \",split_index1)\n",
    "    #print(\"split_index2: \",split_index2)\n",
    "    split_table[1,1] = 1\n",
    "    split_table[1,2] = split_index1\n",
    "    split_table[1,3] = imin\n",
    "    split_table[1,4] = current_score1\n",
    "    #print(current_score1)\n",
    "    #print(split_score1)\n",
    "    split_table[1,5] = split_score1 - current_score1 \n",
    "    split_table[1,6] = 1\n",
    "    \n",
    "    split_table[2,1] = imin + 1\n",
    "    split_table[2,2] = split_index2\n",
    "    split_table[2,3] = Nit\n",
    "    split_table[2,4] = current_score2\n",
    "    split_table[2,5] = split_score2 - current_score2\n",
    "    split_table[1,6] = 2\n",
    "    \n",
    "    n_cluster = 2\n",
    "    \n",
    "    while n_cluster < N_cluster\n",
    "        \n",
    "        val, i = findmin(split_table[1:n_cluster,5])\n",
    "        if (val==Inf)\n",
    "            print(\"All scores are infinite\")\n",
    "            print(split_table[1:n_cluster,:])\n",
    "            print(\"blabla\")\n",
    "        end\n",
    "        temp[1] = split_table[i,1]\n",
    "        temp[3] = split_table[i,2]\n",
    "        #print(\"split_table_temp\",split_table[:,5])\n",
    "        \n",
    "        if split_table[i,1] == split_table[i,2]\n",
    "            temp[2] = NaN\n",
    "            temp[5] = Inf\n",
    "        else\n",
    "            #print(temp)\n",
    "            split_index_temp, split_score_temp, current_score_temp = find_split_fast(vector[Int(temp[1]):Int(temp[3])],Int(temp[1]),mode)\n",
    "            temp[2] = split_index_temp\n",
    "            temp[5] = split_score_temp - current_score_temp\n",
    "        end \n",
    "        temp[4] = current_score_temp\n",
    "        temp[6] = split_table[i,6]\n",
    "        \n",
    "        \n",
    "        split_table[n_cluster+1,1] = split_table[i,2]\n",
    "        split_table[n_cluster+1,3] = split_table[i,3] \n",
    "        if (split_table[i,2]) == split_table[i,3]\n",
    "            split_table[n_cluster+1,2] = NaN\n",
    "            split_table[n_cluster+1,5] = Inf\n",
    "        else\n",
    "            split_index_temp, split_score_temp, current_score_temp = find_split_fast(vector[Int(split_table[n_cluster+1,1]):Int(split_table[n_cluster+1,3])],\n",
    "                                                                            Int(split_table[n_cluster+1,1]),mode)\n",
    "            split_table[n_cluster+1,2] = split_index_temp\n",
    "            split_table[n_cluster+1,5] =  split_score_temp - current_score_temp\n",
    "        end    \n",
    "        split_table[n_cluster+1,4] = current_score_temp\n",
    "        split_table[n_cluster+1,6] = n_cluster+1\n",
    "        \n",
    "        \n",
    "        split_table[i,:] = copy(temp)\n",
    "        n_cluster = n_cluster + 1\n",
    "        \n",
    "    end\n",
    "    #print(\"Split table:\", split_table,\"\\n\")\n",
    "    Base.showarray(STDOUT,split_table,false)\n",
    "    return convert(Array{Int64,2},split_table[:,[1,3]])\n",
    "end"
   ]
  },
  {
   "cell_type": "code",
   "execution_count": 113,
   "metadata": {},
   "outputs": [
    {
     "name": "stdout",
     "output_type": "stream",
     "text": [
      "100002471"
     ]
    },
    {
     "data": {
      "image/png": "[encoded data removed]",
      "text/plain": [
       "PyPlot.Figure(PyObject <Figure size 640x480 with 1 Axes>)"
      ]
     },
     "metadata": {},
     "output_type": "display_data"
    },
    {
     "name": "stdout",
     "output_type": "stream",
     "text": [
      "7530594815826631809121536850019488649461545108×6 Array{Float64,2}:\n",
      "    1.0    50.0    154.0  113.092   -64.5141  2.0\n",
      " 2472.0  2472.0   7472.0    0.0       0.0     0.0\n",
      " 8419.0  9081.0   9633.0  567.735  -288.112   3.0\n",
      "  663.0  1080.0   1526.0  262.912  -132.151   4.0\n",
      " 9633.0  9888.0  10000.0  338.101  -194.604   5.0\n",
      " 7472.0  7937.0   8419.0  223.908  -112.602   6.0\n",
      " 1526.0  1984.0   2471.0  238.335  -119.623   7.0\n",
      "  154.0   384.0    663.0  189.618   -96.9115  8.0Split table2:[1 154; 2472 7472; 8419 9633; 663 1526; 9633 10000; 7472 8419; 1526 2471; 154 663]\n"
     ]
    },
    {
     "data": {
      "text/plain": [
       "1-element Array{PyCall.PyObject,1}:\n",
       " PyObject <matplotlib.lines.Line2D object at 0x1362071d0>"
      ]
     },
     "execution_count": 113,
     "metadata": {},
     "output_type": "execute_result"
    }
   ],
   "source": [
    "N_clusters=8\n",
    "dd=2\n",
    "p = sortperm(gradient_root[dd,:])\n",
    "split_table2 = greedy_split_cluster(gradient_root[dd,p], N_clusters,\"wc\")\n",
    "print(\"Split table2:\", split_table2,\"\\n\")\n",
    "\n",
    "#clusters = []\n",
    "#for i in 1:N_clusters\n",
    "#    clusters=push!(clusters, p[split_table2[i,1]:split_table2[i,2]])\n",
    "#end\n",
    "#clusters = convert(Array{Array{Int64,1},1},clusters)\n",
    "\n",
    "#for i in 1:N_clusters\n",
    "#    vector = gradient_root[dd,split_table[i,1]:split_table[i,2]]\n",
    "#    #print(vector)\n",
    "#    #print(\"\\n\")\n",
    "#    PyPlot.plt[:hist](vector,bins=100);\n",
    "#end\n",
    "#print(clusters)\n",
    "plot(gradient_root[dd,p])\n",
    "#for i in 1:N_clusters\n",
    "#    plot(split_table2[i,1],gradient_root[dd,split_table2[i,1]])\n",
    "#end"
   ]
  },
  {
   "cell_type": "code",
   "execution_count": 102,
   "metadata": {},
   "outputs": [
    {
     "data": {
      "text/plain": [
       "(8, 2)"
      ]
     },
     "execution_count": 102,
     "metadata": {},
     "output_type": "execute_result"
    }
   ],
   "source": [
    "size(split_table2)"
   ]
  },
  {
   "cell_type": "code",
   "execution_count": 103,
   "metadata": {},
   "outputs": [
    {
     "data": {
      "text/plain": [
       "1-element Array{Int64,1}:\n",
       " 1"
      ]
     },
     "execution_count": 103,
     "metadata": {},
     "output_type": "execute_result"
    }
   ],
   "source": [
    "split_table2[1:1,1]"
   ]
  },
  {
   "cell_type": "code",
   "execution_count": 104,
   "metadata": {},
   "outputs": [
    {
     "data": {
      "image/png": "[encoded data removed]",
      "text/plain": [
       "PyPlot.Figure(PyObject <Figure size 640x480 with 1 Axes>)"
      ]
     },
     "metadata": {},
     "output_type": "display_data"
    },
    {
     "data": {
      "text/plain": [
       "1-element Array{PyCall.PyObject,1}:\n",
       " PyObject <matplotlib.lines.Line2D object at 0x1223e1710>"
      ]
     },
     "execution_count": 104,
     "metadata": {},
     "output_type": "execute_result"
    }
   ],
   "source": [
    "#plot(sort(gradient_root[1,:]))\n",
    "p = sortperm(gradient_root[1,:])\n",
    "plot(gradient_root[1,p])"
   ]
  },
  {
   "cell_type": "code",
   "execution_count": null,
   "metadata": {},
   "outputs": [],
   "source": []
  },
  {
   "cell_type": "code",
   "execution_count": 32,
   "metadata": {},
   "outputs": [
    {
     "data": {
      "text/plain": [
       "9999-element Array{Float64,1}:\n",
       " 4997.41\n",
       " 4996.88\n",
       " 4996.35\n",
       " 4995.82\n",
       " 4995.3 \n",
       " 4994.77\n",
       " 4994.24\n",
       " 4993.72\n",
       " 4993.2 \n",
       " 4992.67\n",
       " 4992.15\n",
       " 4991.62\n",
       " 4991.1 \n",
       "    ⋮   \n",
       " 4991.44\n",
       " 4991.98\n",
       " 4992.52\n",
       " 4993.06\n",
       " 4993.6 \n",
       " 4994.14\n",
       " 4994.68\n",
       " 4995.22\n",
       " 4995.76\n",
       " 4996.3 \n",
       " 4996.85\n",
       " 4997.4 "
      ]
     },
     "execution_count": 32,
     "metadata": {},
     "output_type": "execute_result"
    }
   ],
   "source": [
    "comp_score(gradient_root[1,p])"
   ]
  },
  {
   "cell_type": "code",
   "execution_count": 33,
   "metadata": {},
   "outputs": [
    {
     "data": {
      "image/png": "[encoded data removed]",
      "text/plain": [
       "PyPlot.Figure(PyObject <Figure size 640x480 with 1 Axes>)"
      ]
     },
     "metadata": {},
     "output_type": "display_data"
    }
   ],
   "source": [
    "PyPlot.plt[:hist](gradient_root[1,:],bins=100);"
   ]
  },
  {
   "cell_type": "code",
   "execution_count": null,
   "metadata": {},
   "outputs": [],
   "source": []
  },
  {
   "cell_type": "code",
   "execution_count": null,
   "metadata": {
    "collapsed": true
   },
   "outputs": [],
   "source": []
  },
  {
   "cell_type": "code",
   "execution_count": null,
   "metadata": {
    "collapsed": true
   },
   "outputs": [],
   "source": []
  },
  {
   "cell_type": "code",
   "execution_count": null,
   "metadata": {
    "collapsed": true
   },
   "outputs": [],
   "source": []
  },
  {
   "cell_type": "code",
   "execution_count": null,
   "metadata": {
    "collapsed": true
   },
   "outputs": [],
   "source": []
  },
  {
   "cell_type": "code",
   "execution_count": null,
   "metadata": {
    "collapsed": true
   },
   "outputs": [],
   "source": []
  },
  {
   "cell_type": "code",
   "execution_count": null,
   "metadata": {
    "collapsed": true
   },
   "outputs": [],
   "source": []
  }
 ],
 "metadata": {
  "anaconda-cloud": {},
  "kernelspec": {
   "display_name": "Julia 0.6.4",
   "language": "julia",
   "name": "julia-0.6"
  },
  "language_info": {
   "file_extension": ".jl",
   "mimetype": "application/julia",
   "name": "julia",
   "version": "0.6.4"
  }
 },
 "nbformat": 4,
 "nbformat_minor": 2
}
