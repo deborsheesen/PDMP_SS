{
 "cells": [
  {
   "cell_type": "markdown",
   "metadata": {},
   "source": [
    "#### Sanity checks using non-sparse structures. Everything here has been checked and works [except grouped sub-sampling]. "
   ]
  },
  {
   "cell_type": "code",
   "execution_count": 1,
   "metadata": {},
   "outputs": [
    {
     "data": {
      "text/plain": [
       "get_clustering (generic function with 1 method)"
      ]
     },
     "execution_count": 1,
     "metadata": {},
     "output_type": "execute_result"
    }
   ],
   "source": [
    "using Distributions, TimeIt, PyPlot, NPZ\n",
    "include(\"zz_structures.jl\")\n",
    "include(\"mbsampler.jl\")"
   ]
  },
  {
   "cell_type": "code",
   "execution_count": 2,
   "metadata": {
    "collapsed": true
   },
   "outputs": [],
   "source": [
    "d, Nobs = 5, 100\n",
    "p = 2e-1\n",
    "X = rand(Normal(), d, Nobs) .* rand(Binomial(1,p), d, Nobs)\n",
    "X[1,:] = ones(Nobs)\n",
    "ξ_true = rand(Normal(),d)\n",
    "y = [rand(Binomial(1, 1/(1+exp(-ξ_true'X[:,j]))), 1)[1] + 0. for j in 1:Nobs];\n",
    "\n",
    "my_ll = ll_logistic(X,y);\n",
    "my_prior = gaussian_prior_nh(zeros(d),1*ones(d))\n",
    "my_model = model(my_ll, my_prior)\n",
    "\n",
    "root = find_root(my_model, rand(d));"
   ]
  },
  {
   "cell_type": "code",
   "execution_count": 3,
   "metadata": {
    "collapsed": true
   },
   "outputs": [],
   "source": [
    "ϵ = 1e-1\n",
    "weights_cv = zeros(d, Nobs)\n",
    "for n in 1:Nobs\n",
    "    weights_cv[:,n] = [abs.(X[i,n])*norm(X[:,n]) for i in 1:d] + ϵ\n",
    "end\n",
    "weights_cv ./= sum(weights_cv,2);\n",
    "\n",
    "weights = abs.(X) + ϵ\n",
    "weights ./= sum(weights,2)\n",
    "mb_size = 10;"
   ]
  },
  {
   "cell_type": "raw",
   "metadata": {
    "collapsed": true
   },
   "source": [
    "npzwrite(\"root.npz\",root)\n",
    "npzwrite(\"X.npz\",X)\n",
    "npzwrite(\"y.npz\",y)"
   ]
  },
  {
   "cell_type": "raw",
   "metadata": {
    "collapsed": true
   },
   "source": [
    "# Sub-sampling with weights \n",
    "gs = [wumbsampler(Nobs, mb_size, weights[i,:]) for i in 1:d]\n",
    "gs_list = mbsampler_list(d,gs);"
   ]
  },
  {
   "cell_type": "raw",
   "metadata": {
    "collapsed": true
   },
   "source": [
    "# Sub-Sampling with control variate (and weights)\n",
    "mbs = [wumbsampler(Nobs, mb_size, weights_cv[i,:]) for i in 1:d];\n",
    "gs_list = cvmbsampler_list(my_model, mbs, root);"
   ]
  },
  {
   "cell_type": "raw",
   "metadata": {
    "collapsed": true
   },
   "source": [
    "# Grouped subsampling with weights \n",
    "\"\"\"\n",
    "DOES NOT WORK \n",
    "\"\"\"\n",
    "\n",
    "tol = .00001\n",
    "gs = Array{mbsampler}(d)\n",
    "N_groups = 20\n",
    "mod_weights = copy(weights)\n",
    "for i in 1:d\n",
    "    grouping = Array{Int}(Nobs)\n",
    "    gclusters, gscores = get_clustering_vec_and_score(weights[i,:], N_groups, \"wc\") \n",
    "                                          # use clustering algorithm on weights\n",
    "    for (gi,gcluster) in enumerate(gclusters)\n",
    "        value = gscores[gi]/mean(weights[i,gcluster]) \n",
    "        if value < tol # If weights are very similar use uniform sub sampling\n",
    "            grouping[gcluster] = 1\n",
    "            mod_weights[i,gcluster] = mean(weights[i,gcluster]) \n",
    "        else # Otherwise use weighted sub sampling\n",
    "            grouping[gcluster] = -1\n",
    "        end\n",
    "    end\n",
    "    gs[i] = gmbsampler(mb_size,mod_weights[i,:],grouping)\n",
    "end\n",
    "gs_list = mbsampler_list(d,gs);"
   ]
  },
  {
   "cell_type": "code",
   "execution_count": 4,
   "metadata": {},
   "outputs": [
    {
     "ename": "LoadError",
     "evalue": "\u001b[91mUndefVarError: get_clustering_vec not defined\u001b[39m",
     "output_type": "error",
     "traceback": [
      "\u001b[91mUndefVarError: get_clustering_vec not defined\u001b[39m",
      "",
      "Stacktrace:",
      " [1] \u001b[1mmacro expansion\u001b[22m\u001b[22m at \u001b[1m./In[4]:11\u001b[22m\u001b[22m [inlined]",
      " [2] \u001b[1manonymous\u001b[22m\u001b[22m at \u001b[1m./<missing>:?\u001b[22m\u001b[22m",
      " [3] \u001b[1minclude_string\u001b[22m\u001b[22m\u001b[1m(\u001b[22m\u001b[22m::String, ::String\u001b[1m)\u001b[22m\u001b[22m at \u001b[1m./loading.jl:522\u001b[22m\u001b[22m",
      " [4] \u001b[1mexecute_request\u001b[22m\u001b[22m\u001b[1m(\u001b[22m\u001b[22m::ZMQ.Socket, ::IJulia.Msg\u001b[1m)\u001b[22m\u001b[22m at \u001b[1m/home/postdoc/dsen/.julia/v0.6/IJulia/src/execute_request.jl:193\u001b[22m\u001b[22m",
      " [5] \u001b[1m(::Compat.#inner#6{Array{Any,1},IJulia.#execute_request,Tuple{ZMQ.Socket,IJulia.Msg}})\u001b[22m\u001b[22m\u001b[1m(\u001b[22m\u001b[22m\u001b[1m)\u001b[22m\u001b[22m at \u001b[1m/home/postdoc/dsen/.julia/v0.6/Compat/src/Compat.jl:189\u001b[22m\u001b[22m",
      " [6] \u001b[1meventloop\u001b[22m\u001b[22m\u001b[1m(\u001b[22m\u001b[22m::ZMQ.Socket\u001b[1m)\u001b[22m\u001b[22m at \u001b[1m/home/postdoc/dsen/.julia/v0.6/IJulia/src/eventloop.jl:8\u001b[22m\u001b[22m",
      " [7] \u001b[1m(::IJulia.##13#16)\u001b[22m\u001b[22m\u001b[1m(\u001b[22m\u001b[22m\u001b[1m)\u001b[22m\u001b[22m at \u001b[1m./task.jl:335\u001b[22m\u001b[22m"
     ]
    }
   ],
   "source": [
    "# Stratified sub-sampling without CV (and weights)\n",
    "\n",
    "ll_pd_root_list = [partial_derivative_vec(my_model.ll, root, i, 1:Nobs) for i in 1:d]\n",
    "\n",
    "cmbsamplers = Array{cmbsampler}(d)\n",
    "N_cluster = mb_size\n",
    "mode = \"wc\"\n",
    "\n",
    "for dim in 1:d\n",
    "    csamplers = Array{mbsampler}(N_cluster)\n",
    "    clusters = get_clustering_vec(ll_pd_root_list[dim], N_cluster, mode)\n",
    "    #print(clusters)\n",
    "    scp = ones(N_cluster)\n",
    "    for (ci, c) in enumerate(clusters)\n",
    "        #csamplers[ci] = umbsampler(size(c)[1], scp[ci])\n",
    "        csamplers[ci] = wumbsampler(size(c)[1], scp[ci], weights[dim,c])\n",
    "    end\n",
    "    #cmbsamplers[dim] = cmbsampler(csamplers, clusters, ones(Nobs)/Nobs)\n",
    "    cmbsamplers[dim] = cmbsampler(csamplers, clusters, weights[dim,:])\n",
    "end\n",
    "gs_list = mbsampler_list(d,cmbsamplers);"
   ]
  },
  {
   "cell_type": "raw",
   "metadata": {
    "collapsed": true
   },
   "source": [
    "# Stratified sub-sampling with CV (and weights)\n",
    "\n",
    "ll_pd_root_list = [partial_derivative_vec(my_model.ll, root, i, 1:Nobs) for i in 1:d]\n",
    "\n",
    "cmbsamplers = Array{cmbsampler}(d)\n",
    "N_cluster = mb_size\n",
    "mode = \"wc\"\n",
    "\n",
    "for dim in 1:d\n",
    "    csamplers = Array{mbsampler}(N_cluster)\n",
    "    clusters = get_clustering_vec(ll_pd_root_list[dim], N_cluster, mode)\n",
    "    #print(clusters)\n",
    "    scp = ones(N_cluster)\n",
    "    for (ci, c) in enumerate(clusters)\n",
    "        #csamplers[ci] = umbsampler(size(c)[1], scp[ci])\n",
    "        csamplers[ci] = wumbsampler(size(c)[1], scp[ci], weights_cv[dim,c])\n",
    "    end\n",
    "    #cmbsamplers[dim] = cmbsampler(csamplers, clusters, ones(Nobs)/Nobs)\n",
    "    cmbsamplers[dim] = cmbsampler(csamplers, clusters, weights_cv[dim,:])\n",
    "end\n",
    "gs_list = cvmbsampler_list(my_model,cmbsamplers, root);"
   ]
  },
  {
   "cell_type": "code",
   "execution_count": 5,
   "metadata": {
    "collapsed": true
   },
   "outputs": [],
   "source": [
    "A = eye(d)\n",
    "opf = projopf(A, 100) \n",
    "opt = maxa_opt(10^5)\n",
    "outp = outputscheduler(opf,opt) ;"
   ]
  },
  {
   "cell_type": "code",
   "execution_count": 6,
   "metadata": {
    "scrolled": true
   },
   "outputs": [
    {
     "name": "stdout",
     "output_type": "stream",
     "text": [
      "0.14 minutes to run \n"
     ]
    }
   ],
   "source": [
    "start = time()\n",
    "ZZ_sample(my_model, outp, gs_list)\n",
    "print( round((time()-start)/60, 2), \" minutes to run \\n\")"
   ]
  },
  {
   "cell_type": "code",
   "execution_count": 7,
   "metadata": {},
   "outputs": [
    {
     "name": "stdout",
     "output_type": "stream",
     "text": [
      "100 loops, best of 3: 1.58 ms per loop\n"
     ]
    }
   ],
   "source": [
    "n_samples = 10^4\n",
    "@timeit samples = extract_samples(outp.opf.xi_skeleton, outp.opf.bt_skeleton, outp.opf.bt_skeleton[end]/n_samples);"
   ]
  },
  {
   "cell_type": "code",
   "execution_count": 8,
   "metadata": {},
   "outputs": [
    {
     "name": "stderr",
     "output_type": "stream",
     "text": [
      "\u001b[32mProgress: 100%|█████████████████████████████████████████| Time: 0:00:01\u001b[39m\n",
      "\u001b[32mProgress: 100%|█████████████████████████████████████████| Time: 0:00:00\u001b[39m\n",
      "\u001b[32mProgress: 100%|█████████████████████████████████████████| Time: 0:00:00\u001b[39m\n",
      "\u001b[32mProgress: 100%|█████████████████████████████████████████| Time: 0:00:00\u001b[39m\n",
      "\u001b[32mProgress: 100%|█████████████████████████████████████████| Time: 0:00:00\u001b[39m\n"
     ]
    },
    {
     "data": {
      "text/plain": [
       "5-element Array{Float64,1}:\n",
       " 1.33203 \n",
       " 0.933271\n",
       " 1.15586 \n",
       " 0.936368\n",
       " 1.02764 "
      ]
     },
     "execution_count": 8,
     "metadata": {},
     "output_type": "execute_result"
    }
   ],
   "source": [
    "[compute_configT(my_model, samples, k) for k in 1:5]"
   ]
  },
  {
   "cell_type": "code",
   "execution_count": 22,
   "metadata": {
    "collapsed": true
   },
   "outputs": [],
   "source": [
    "opt = maxa_opt(10^5)\n",
    "outp = outputscheduler(opf,opt) ;"
   ]
  },
  {
   "cell_type": "code",
   "execution_count": 23,
   "metadata": {},
   "outputs": [
    {
     "name": "stdout",
     "output_type": "stream",
     "text": [
      "0.13 minutes to run \n"
     ]
    }
   ],
   "source": [
    "start = time()\n",
    "ZZ_sample(my_model, outp, gs_list)\n",
    "print( round((time()-start)/60, 2), \" minutes to run \\n\")"
   ]
  },
  {
   "cell_type": "code",
   "execution_count": 24,
   "metadata": {},
   "outputs": [
    {
     "data": {
      "text/plain": [
       "11781"
      ]
     },
     "execution_count": 24,
     "metadata": {},
     "output_type": "execute_result"
    }
   ],
   "source": [
    "outp.opf.tcounter"
   ]
  },
  {
   "cell_type": "code",
   "execution_count": null,
   "metadata": {
    "collapsed": true
   },
   "outputs": [],
   "source": []
  },
  {
   "cell_type": "code",
   "execution_count": 26,
   "metadata": {},
   "outputs": [
    {
     "data": {
      "text/plain": [
       "5-element Array{Float64,1}:\n",
       " 1.0\n",
       " 1.0\n",
       " 1.0\n",
       " 1.0\n",
       " 1.0"
      ]
     },
     "execution_count": 26,
     "metadata": {},
     "output_type": "execute_result"
    }
   ],
   "source": [
    "ones(d)"
   ]
  },
  {
   "cell_type": "code",
   "execution_count": null,
   "metadata": {
    "collapsed": true
   },
   "outputs": [],
   "source": []
  }
 ],
 "metadata": {
  "anaconda-cloud": {},
  "kernelspec": {
   "display_name": "Julia 0.6.4",
   "language": "julia",
   "name": "julia-0.6"
  },
  "language_info": {
   "file_extension": ".jl",
   "mimetype": "application/julia",
   "name": "julia",
   "version": "0.6.4"
  }
 },
 "nbformat": 4,
 "nbformat_minor": 2
}
