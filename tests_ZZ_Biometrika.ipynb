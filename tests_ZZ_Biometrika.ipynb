{
 "cells": [
  {
   "cell_type": "code",
   "execution_count": 1,
   "metadata": {},
   "outputs": [
    {
     "data": {
      "text/plain": [
       "get_clustering (generic function with 1 method)"
      ]
     },
     "execution_count": 1,
     "metadata": {},
     "output_type": "execute_result"
    }
   ],
   "source": [
    "using Distributions, TimeIt, ProgressMeter, PyPlot\n",
    "include(\"zz_structures.jl\")\n",
    "include(\"mbsampler.jl\")"
   ]
  },
  {
   "cell_type": "code",
   "execution_count": 2,
   "metadata": {
    "collapsed": true
   },
   "outputs": [],
   "source": [
    "d, Nobs = 5, 20\n",
    "pX = 7e-1\n",
    "X = sprandn(d, Nobs, pX)\n",
    "ξ_true = randn(d)\n",
    "y = Float64.([rand(Binomial(1, 1/(1+exp(-ξ_true'X[:,j])))) for j in 1:Nobs])\n",
    "mb_size = 2;"
   ]
  },
  {
   "cell_type": "code",
   "execution_count": 3,
   "metadata": {
    "collapsed": true
   },
   "outputs": [],
   "source": [
    "σ02 = 1e0\n",
    "prior = gaussian_prior_nh(zeros(d), σ02*ones(d));"
   ]
  },
  {
   "cell_type": "code",
   "execution_count": 4,
   "metadata": {
    "collapsed": true
   },
   "outputs": [],
   "source": [
    "my_ll = ll_logistic_sp(X,y);\n",
    "my_model = model(my_ll, prior)\n",
    "root = find_root(my_model, rand(d));"
   ]
  },
  {
   "cell_type": "code",
   "execution_count": 5,
   "metadata": {},
   "outputs": [
    {
     "name": "stderr",
     "output_type": "stream",
     "text": [
      "\u001b[32mProgress: 100%|█████████████████████████████████████████| Time: 0:00:01\u001b[39m\n"
     ]
    }
   ],
   "source": [
    "# Sub-sampling with weights and no CV\n",
    "\n",
    "prob_het = 0.99\n",
    "gs = Array{mbsampler}(d)\n",
    "@showprogress for i in 1:d \n",
    "    nzind = X[i,:].nzind\n",
    "    weights_het = spzeros(Nobs)\n",
    "    weights_het[nzind] = abs.(X[i,nzind])./sum(abs.(X[i,nzind]))\n",
    "    gs[i] = spwumbsampler(Nobs, mb_size, weights_het, prob_het)\n",
    "end\n",
    "gs_list_noCV = mbsampler_list(d,gs);"
   ]
  },
  {
   "cell_type": "code",
   "execution_count": 6,
   "metadata": {
    "collapsed": true
   },
   "outputs": [],
   "source": [
    "# Sub-sampling with weights and with CV \n",
    "\n",
    "norm_Xj = [norm(X[:,j]) for j in 1:Nobs]\n",
    "prob_het = 0.98\n",
    "mbs = Array{mbsampler}(d)\n",
    "for i in 1:d \n",
    "    nz_ind = X[i,:].nzind\n",
    "    weights_het = spzeros(Nobs)\n",
    "    weights_het[nz_ind] = abs.(X[i,nz_ind]).*norm_Xj[nz_ind]\n",
    "    mbs[i] = spwumbsampler(Nobs, mb_size, weights_het, prob_het)\n",
    "end\n",
    "gs_list_CV = cvmbsampler_list(my_model, mbs, root, true);"
   ]
  },
  {
   "cell_type": "code",
   "execution_count": 7,
   "metadata": {},
   "outputs": [
    {
     "name": "stdout",
     "output_type": "stream",
     "text": [
      "10% attempts in 0.29 mins \n",
      "20% attempts in 0.56 mins \n",
      "30% attempts in 0.83 mins \n",
      "40% attempts in 1.11 mins \n",
      "50% attempts in 1.4 mins \n",
      "60% attempts in 1.7 mins \n",
      "70% attempts in 1.99 mins \n",
      "80% attempts in 2.28 mins \n",
      "90% attempts in 2.56 mins \n",
      "100% attempts in 2.85 mins \n",
      "10% attempts in 0.14 mins \n",
      "20% attempts in 0.28 mins \n",
      "30% attempts in 0.42 mins \n",
      "40% attempts in 0.56 mins \n",
      "50% attempts in 0.71 mins \n",
      "60% attempts in 0.85 mins \n",
      "70% attempts in 0.99 mins \n",
      "80% attempts in 1.13 mins \n",
      "90% attempts in 1.28 mins \n",
      "100% attempts in 1.43 mins \n"
     ]
    }
   ],
   "source": [
    "A = eye(d)\n",
    "opf = projopf(A, 100)\n",
    "opt = maxa_opt(10^6)\n",
    "outp_CV = outputscheduler(deepcopy(opf),deepcopy(opt))\n",
    "bb_ll_CV = build_bound(my_model.ll, gs_list_CV)\n",
    "bb_pr_CV = build_bound(my_model.pr)\n",
    "mstate_CV = zz_state(d)\n",
    "outp_noCV = outputscheduler(deepcopy(opf),deepcopy(opt))\n",
    "bb_ll_noCV = build_bound(my_model.ll, gs_list_noCV)\n",
    "bb_pr_noCV = build_bound(my_model.pr)\n",
    "mstate_noCV = zz_state(d)\n",
    "\n",
    "L = 2\n",
    "adapt_speed = \"none\"\n",
    "\n",
    "my_zz_sampler_CV = zz_sampler_decoupled(0, gs_list_CV, bb_pr_CV, bb_ll_CV, L, adapt_speed)\n",
    "ZZ_sample_decoupled(my_model, outp_CV, my_zz_sampler_CV, mstate_CV);\n",
    "\n",
    "my_zz_sampler_noCV = zz_sampler_decoupled(0, gs_list_noCV, bb_pr_noCV, bb_ll_noCV, L, adapt_speed)\n",
    "ZZ_sample_decoupled(my_model, outp_noCV, my_zz_sampler_noCV, mstate_noCV);"
   ]
  },
  {
   "cell_type": "code",
   "execution_count": 8,
   "metadata": {
    "collapsed": true
   },
   "outputs": [],
   "source": [
    "n_samples = 10^4\n",
    "xi_samples_CV = extract_samples(outp_CV.opf.xi_skeleton, \n",
    "                                outp_CV.opf.bt_skeleton, \n",
    "                                outp_CV.opf.bt_skeleton[end]/n_samples,\n",
    "                                \"linear\");\n",
    "xi_samples_noCV = extract_samples(outp_noCV.opf.xi_skeleton, \n",
    "                                outp_noCV.opf.bt_skeleton, \n",
    "                                outp_noCV.opf.bt_skeleton[end]/n_samples,\n",
    "                                \"linear\");"
   ]
  },
  {
   "cell_type": "code",
   "execution_count": 9,
   "metadata": {},
   "outputs": [
    {
     "data": {
      "image/png": "[encoded data removed]",
      "text/plain": [
       "PyPlot.Figure(PyObject <Figure size 1500x200 with 5 Axes>)"
      ]
     },
     "metadata": {},
     "output_type": "display_data"
    }
   ],
   "source": [
    "fig = figure(figsize=(15,2))\n",
    "for i in 1:d \n",
    "    subplot(1,d,i)\n",
    "    hist(xi_samples_CV[i,:], bins=50, density=true, alpha=0.5)\n",
    "    hist(xi_samples_noCV[i,:], bins=50, density=true, alpha=0.5)\n",
    "#     xlim(-2,2)\n",
    "end"
   ]
  },
  {
   "cell_type": "markdown",
   "metadata": {},
   "source": [
    "### ACFs:"
   ]
  },
  {
   "cell_type": "code",
   "execution_count": 10,
   "metadata": {},
   "outputs": [
    {
     "data": {
      "image/png": "[encoded data removed]",
      "text/plain": [
       "PyPlot.Figure(PyObject <Figure size 500x200 with 1 Axes>)"
      ]
     },
     "metadata": {},
     "output_type": "display_data"
    }
   ],
   "source": [
    "d_out = size(xi_samples_CV,1);\n",
    "maxlag = 500\n",
    "acfs = zeros(d_out, maxlag)\n",
    "for dim in 1:d_out acfs[dim,:] = acf(xi_samples_CV[dim,:], maxlag) end\n",
    "\n",
    "acfs_toplot, xt = [], []\n",
    "for i in 1:Int(maxlag/10) \n",
    "    push!(acfs_toplot, acfs[:,i*10])\n",
    "    if i%5 == 0 push!(xt, 10*i) else push!(xt, \"\") end\n",
    "end\n",
    "fig = figure(figsize=(5,2))\n",
    "boxplot(acfs_toplot, showfliers=false)\n",
    "grid(alpha=0.35)\n",
    "xlabel(\"Lag\", fontsize=10)\n",
    "ylabel(\"ACF\", fontsize=10)\n",
    "xticks(1:Int(maxlag/10), xt);"
   ]
  },
  {
   "cell_type": "code",
   "execution_count": 11,
   "metadata": {
    "scrolled": true
   },
   "outputs": [
    {
     "data": {
      "text/plain": [
       "5-element Array{Float64,1}:\n",
       " 0.98\n",
       " 1.0 \n",
       " 0.96\n",
       " 0.99\n",
       " 0.99"
      ]
     },
     "execution_count": 11,
     "metadata": {},
     "output_type": "execute_result"
    }
   ],
   "source": [
    "round.([compute_configT(my_model, xi_samples_CV, i) for i in 1:d],2)"
   ]
  },
  {
   "cell_type": "code",
   "execution_count": 12,
   "metadata": {},
   "outputs": [
    {
     "data": {
      "text/plain": [
       "5-element Array{Float64,1}:\n",
       " 1.01\n",
       " 1.01\n",
       " 0.97\n",
       " 1.0 \n",
       " 1.0 "
      ]
     },
     "execution_count": 12,
     "metadata": {},
     "output_type": "execute_result"
    }
   ],
   "source": [
    "round.([compute_configT(my_model, xi_samples_noCV, i) for i in 1:d],2)"
   ]
  },
  {
   "cell_type": "code",
   "execution_count": null,
   "metadata": {
    "collapsed": true
   },
   "outputs": [],
   "source": []
  }
 ],
 "metadata": {
  "kernelspec": {
   "display_name": "Julia 0.6.4",
   "language": "julia",
   "name": "julia-0.6"
  },
  "language_info": {
   "file_extension": ".jl",
   "mimetype": "application/julia",
   "name": "julia",
   "version": "0.6.4"
  }
 },
 "nbformat": 4,
 "nbformat_minor": 2
}
