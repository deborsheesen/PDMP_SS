{
 "cells": [
  {
   "cell_type": "code",
   "execution_count": 1,
   "metadata": {},
   "outputs": [
    {
     "data": {
      "text/plain": [
       "get_clustering_vec_and_score (generic function with 1 method)"
      ]
     },
     "execution_count": 1,
     "metadata": {},
     "output_type": "execute_result"
    }
   ],
   "source": [
    "using Distributions, TimeIt, PyPlot, NPZ, JLD, ProgressMeter\n",
    "include(\"zz_structures.jl\")\n",
    "include(\"mbsampler.jl\")"
   ]
  },
  {
   "cell_type": "code",
   "execution_count": 6,
   "metadata": {
    "collapsed": true
   },
   "outputs": [],
   "source": [
    "d, Nobs = 10_000, 1_000_000\n",
    "p = 2e-4\n",
    "X = sprandn(d, Nobs, p)\n",
    "X[1,:] = ones(Nobs)\n",
    "xi_true = rand(Normal(), d)\n",
    "y = [rand(Binomial(1, 1/(1+exp(-ξ_true'X[:,j])))) + 0. for j in 1:Nobs];"
   ]
  },
  {
   "cell_type": "code",
   "execution_count": 3,
   "metadata": {
    "collapsed": true
   },
   "outputs": [],
   "source": [
    "my_ll = ll_logistic_sp(X,y);\n",
    "my_prior = gaussian_prior_nh(zeros(d),100*ones(d))\n",
    "my_model = model(my_ll, my_prior);\n",
    "is_sparse = true\n",
    "gc()"
   ]
  },
  {
   "cell_type": "code",
   "execution_count": 4,
   "metadata": {},
   "outputs": [
    {
     "data": {
      "text/plain": [
       "stochastic_gradient (generic function with 1 method)"
      ]
     },
     "execution_count": 4,
     "metadata": {},
     "output_type": "execute_result"
    }
   ],
   "source": [
    "function stochastic_gradient(my_model::model, ξ, batch_size) \n",
    "    d = length(ξ)\n",
    "    # pick random minibatch \n",
    "    mb = sample(1:my_model.ll.Nobs, batch_size; replace=false)\n",
    "    return [mean(partial_derivative_vec(my_model, ξ, k, mb)) for k in 1:d]\n",
    "end"
   ]
  },
  {
   "cell_type": "code",
   "execution_count": 114,
   "metadata": {},
   "outputs": [
    {
     "data": {
      "text/plain": [
       "SGD (generic function with 2 methods)"
      ]
     },
     "execution_count": 114,
     "metadata": {},
     "output_type": "execute_result"
    }
   ],
   "source": [
    "function SGD(my_model::model, ξ_0, batch_size, tol, max_iter) \n",
    "    d = length(ξ_0) \n",
    "    ξ_current = copy(ξ_0)\n",
    "    @showprogress for t in 1:max_iter\n",
    "        ξ_updated = ξ_current - (1/1.001^t)*stochastic_gradient(my_model, ξ_current, batch_size)\n",
    "        if norm(ξ_updated-ξ_current) < tol \n",
    "            @printf(\"converged in %i iterations \\n\", t)\n",
    "            break;\n",
    "        else \n",
    "            ξ_current = copy(ξ_updated)\n",
    "        end\n",
    "    end\n",
    "    return ξ_current\n",
    "end"
   ]
  },
  {
   "cell_type": "code",
   "execution_count": 119,
   "metadata": {},
   "outputs": [
    {
     "name": "stderr",
     "output_type": "stream",
     "text": [
      "\u001b[32mProgress: 100%|█████████████████████████████████████████| Time: 0:04:18\u001b[39m\n"
     ]
    },
    {
     "data": {
      "text/plain": [
       "10000-element Array{Float64,1}:\n",
       " -0.942492  \n",
       "  0.551303  \n",
       "  0.361845  \n",
       "  0.842921  \n",
       "  0.992322  \n",
       "  0.123291  \n",
       "  0.053986  \n",
       "  0.855631  \n",
       "  0.0833264 \n",
       "  0.363671  \n",
       "  0.738626  \n",
       "  0.438232  \n",
       "  0.973465  \n",
       "  ⋮         \n",
       "  0.526352  \n",
       "  0.913224  \n",
       "  0.748534  \n",
       "  0.389626  \n",
       "  0.384242  \n",
       "  0.991562  \n",
       "  0.562702  \n",
       "  0.664919  \n",
       "  0.511789  \n",
       "  0.00461878\n",
       "  0.638936  \n",
       "  0.302122  "
      ]
     },
     "execution_count": 119,
     "metadata": {},
     "output_type": "execute_result"
    }
   ],
   "source": [
    "batch_size = 2000\n",
    "tol = 0\n",
    "xi_0 = rand(d)\n",
    "max_iter = 500\n",
    "ξ_sgd = SGD(my_model, ξ_0, batch_size, tol, max_iter);"
   ]
  },
  {
   "cell_type": "code",
   "execution_count": null,
   "metadata": {
    "collapsed": true
   },
   "outputs": [],
   "source": [
    "ξ_lbfgs = find_root(my_model, ξ_0);"
   ]
  },
  {
   "cell_type": "code",
   "execution_count": 125,
   "metadata": {},
   "outputs": [
    {
     "data": {
      "text/plain": [
       "(115.95296168610993, 20.631376246419517)"
      ]
     },
     "execution_count": 125,
     "metadata": {},
     "output_type": "execute_result"
    }
   ],
   "source": [
    "norm(ξ_true-ξ_sgd), norm(ξ_true-ξ_lbfgs)"
   ]
  },
  {
   "cell_type": "code",
   "execution_count": 126,
   "metadata": {},
   "outputs": [
    {
     "data": {
      "text/plain": [
       "1.153672549495507"
      ]
     },
     "execution_count": 126,
     "metadata": {},
     "output_type": "execute_result"
    }
   ],
   "source": [
    "norm(ξ_true-ξ_sgd)/norm(ξ_true)"
   ]
  },
  {
   "cell_type": "code",
   "execution_count": 127,
   "metadata": {
    "collapsed": true
   },
   "outputs": [],
   "source": [
    "save(\"X_large.jld\", \"X\", X)\n",
    "save(\"y_large.jld\", \"y\", y)\n",
    "save(\"xi_true.jld\", \"xi_true\", ξ_true)\n",
    "save(\"xi_root_sgd.jld\", \"xi_root_sgd\", ξ_sgd)\n",
    "save(\"xi_root_lbfgs.jld\", \"xi_root_lbfgs\", ξ_lbfgs)"
   ]
  },
  {
   "cell_type": "code",
   "execution_count": null,
   "metadata": {
    "collapsed": true
   },
   "outputs": [],
   "source": []
  }
 ],
 "metadata": {
  "kernelspec": {
   "display_name": "Julia 0.6.4",
   "language": "julia",
   "name": "julia-0.6"
  },
  "language_info": {
   "file_extension": ".jl",
   "mimetype": "application/julia",
   "name": "julia",
   "version": "0.6.4"
  }
 },
 "nbformat": 4,
 "nbformat_minor": 2
}
