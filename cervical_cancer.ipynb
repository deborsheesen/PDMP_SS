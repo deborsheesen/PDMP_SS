{
 "cells": [
  {
   "cell_type": "code",
   "execution_count": 34,
   "metadata": {},
   "outputs": [
    {
     "data": {
      "text/plain": [
       "get_clustering (generic function with 1 method)"
      ]
     },
     "execution_count": 34,
     "metadata": {},
     "output_type": "execute_result"
    }
   ],
   "source": [
    "using Distributions, TimeIt, PyPlot, NPZ, JLD, ProgressMeter, CSV\n",
    "include(\"zz_structures.jl\")\n",
    "include(\"mbsampler.jl\")"
   ]
  },
  {
   "cell_type": "code",
   "execution_count": 2,
   "metadata": {
    "collapsed": true,
    "scrolled": true
   },
   "outputs": [],
   "source": [
    "data = CSV.read(\"/xtmp/PDMP_data/risk_factors_cervical_cancer.csv\")\n",
    "name = names(data);\n",
    "predictors = vcat(Array(2:25), Array(27:28));"
   ]
  },
  {
   "cell_type": "code",
   "execution_count": 3,
   "metadata": {
    "scrolled": true
   },
   "outputs": [
    {
     "name": "stdout",
     "output_type": "stream",
     "text": [
      "2 3 4 5 6 7 8 9 10 11 12 13 14 15 16 17 18 19 20 21 22 23 24 25 27 28 "
     ]
    }
   ],
   "source": [
    "for i in predictors\n",
    "    present = map(x->parse(Float64,x),data[name[i]][data[name[i]] .!= \"?\"])\n",
    "    present_mean = mean(present)\n",
    "    absent = data[name[i]] .== \"?\"\n",
    "    data[name[i]][absent] = string(present_mean)\n",
    "    data[name[i]] = map(x->parse(Float64,x),data[name[i]])     \n",
    "    print(i, \" \")\n",
    "end \n",
    "y = Int64.(data[name[29]]);\n",
    "data = Float64.(convert(Array, data));"
   ]
  },
  {
   "cell_type": "code",
   "execution_count": 4,
   "metadata": {
    "collapsed": true
   },
   "outputs": [],
   "source": [
    "x = data[:,(sum(abs.(data),1) .!= 0)[1,:]];\n",
    "X = sparse(x')\n",
    "d, Nobs = size(X);\n",
    "my_ll = ll_logistic_sp(X,y);\n",
    "my_prior = gaussian_prior_nh(zeros(d),1*ones(d))\n",
    "my_model = model(my_ll, my_prior)\n",
    "σ02 = 1\n",
    "root = find_root(my_model, rand(d));\n",
    "gc()"
   ]
  },
  {
   "cell_type": "code",
   "execution_count": 5,
   "metadata": {},
   "outputs": [
    {
     "data": {
      "text/plain": [
       "2"
      ]
     },
     "execution_count": 5,
     "metadata": {},
     "output_type": "execute_result"
    }
   ],
   "source": [
    "β_0 = copy(root)\n",
    "mb_size = 2"
   ]
  },
  {
   "cell_type": "code",
   "execution_count": 6,
   "metadata": {},
   "outputs": [
    {
     "name": "stderr",
     "output_type": "stream",
     "text": [
      "\u001b[32mProgress: 100%|█████████████████████████████████████████| Time: 0:00:01\u001b[39m\n"
     ]
    }
   ],
   "source": [
    "# Sub-sampling with weights and no CV\n",
    "\n",
    "gs = Array{mbsampler}(d)\n",
    "gs[1] = umbsampler(Nobs, mb_size)\n",
    "@showprogress for i in 2:d \n",
    "    nz_ind = X[i,:].nzind\n",
    "    weights_het = spzeros(Nobs)\n",
    "    weights_het[nz_ind] = abs.(X[i,nz_ind])./sum(abs.(X[i,nz_ind]))\n",
    "    prob_het = (length(nz_ind)==length(X[i,:])) + 0.98*(length(nz_ind)!=length(X[i,:]))\n",
    "    gs[i] = spwumbsampler(Nobs, mb_size, weights_het, prob_het)\n",
    "end\n",
    "gs_list_wt_noCV = mbsampler_list(d,gs);"
   ]
  },
  {
   "cell_type": "code",
   "execution_count": 7,
   "metadata": {
    "collapsed": true
   },
   "outputs": [],
   "source": [
    "# Sub-sampling with weights and with CV \n",
    "\n",
    "norm_Xj = [norm(X[:,j]) for j in 1:Nobs]\n",
    "mbs = Array{mbsampler}(d)\n",
    "for i in 1:d \n",
    "    nz_ind = X[i,:].nzind\n",
    "    weights_het = spzeros(Nobs)\n",
    "    weights_het[nz_ind] = abs.(X[i,nz_ind]).*norm_Xj[nz_ind]\n",
    "    prob_het = (length(nz_ind)==length(X[i,:])) + 0.98*(length(nz_ind)!=length(X[i,:]))\n",
    "    mbs[i] = spwumbsampler(Nobs, mb_size, weights_het, prob_het)\n",
    "end\n",
    "gs_list_wt_CV = cvmbsampler_list(my_model, mbs, root, true);"
   ]
  },
  {
   "cell_type": "code",
   "execution_count": 8,
   "metadata": {
    "collapsed": true
   },
   "outputs": [],
   "source": [
    "# Stratified sub-sampling without CV and with weights \n",
    "\n",
    "weights = sparse(abs.(X))\n",
    "for i in 1:d \n",
    "    weights[i,:] /= sum(weights[i,:])\n",
    "end\n",
    "\n",
    "ll_pd_root_list = [partial_derivative_vec(my_model.ll, root, i, 1:Nobs) for i in 1:d]\n",
    "\n",
    "cmbsamplers = Array{mbsampler}(d)\n",
    "N_cluster = mb_size\n",
    "\n",
    "for dim in 1:d\n",
    "    \n",
    "    N_cluster_d = min(N_cluster, length(ll_pd_root_list[dim].nzval))\n",
    "    csamplers = Array{mbsampler}(N_cluster_d)\n",
    "    \n",
    "    clusters = get_clustering(N_cluster_d, ll_pd_root_list[dim].nzval)\n",
    "    for i in 1:N_cluster_d\n",
    "        clusters[i] =  ll_pd_root_list[dim].nzind[clusters[i]]\n",
    "    end\n",
    "    #print(clusters)\n",
    "    scp = ones(N_cluster_d)\n",
    "    for (ci, c) in enumerate(clusters)\n",
    "        csamplers[ci] = wumbsampler(size(c)[1], scp[ci], weights[dim,c])\n",
    "    end\n",
    "    cmbsamplers[dim] = spcmbsampler(csamplers, clusters, weights[dim,:])\n",
    "end\n",
    "gs_list_wt_noCV_ss = mbsampler_list(d,cmbsamplers);"
   ]
  },
  {
   "cell_type": "code",
   "execution_count": 9,
   "metadata": {
    "collapsed": true
   },
   "outputs": [],
   "source": [
    "# Stratified sub-sampling with CV and with weights\n",
    "\n",
    "norm_Xj = [norm(X[:,j]) for j in 1:Nobs]\n",
    "weights_cv = spzeros(d, Nobs)\n",
    "for i in 1:d \n",
    "    nz_ind = X[i,:].nzind\n",
    "    weights_cv[i,nz_ind] = abs.(X[i,nz_ind]).*norm_Xj[nz_ind] \n",
    "    weights_cv[i,nz_ind] /= sum(weights_cv[i,nz_ind])\n",
    "end\n",
    "\n",
    "ll_pd_root_list = [partial_derivative_vec(my_model.ll, root, i, 1:Nobs) for i in 1:d]\n",
    "\n",
    "cmbsamplers = Array{mbsampler}(d)\n",
    "N_cluster = mb_size\n",
    "\n",
    "for dim in 1:d\n",
    "    N_cluster_d = min(N_cluster, length(ll_pd_root_list[dim].nzval))\n",
    "    \n",
    "    csamplers = Array{mbsampler}(N_cluster_d)\n",
    "    clusters = get_clustering(N_cluster_d, ll_pd_root_list[dim].nzval)\n",
    "    for i in 1:N_cluster_d\n",
    "        clusters[i] =  ll_pd_root_list[dim].nzind[clusters[i]]\n",
    "    end\n",
    "\n",
    "    scp = ones(N_cluster_d)\n",
    "    for (ci, c) in enumerate(clusters)\n",
    "        csamplers[ci] = wumbsampler(size(c)[1], scp[ci], weights_cv[dim,c])\n",
    "    end\n",
    "    cmbsamplers[dim] = spcmbsampler(csamplers, clusters, weights_cv[dim,:])\n",
    "end\n",
    "gs_list_wt_CV_ss = cvmbsampler_list(my_model, cmbsamplers, root, true);"
   ]
  },
  {
   "cell_type": "markdown",
   "metadata": {},
   "source": [
    "#### Run algorithms:"
   ]
  },
  {
   "cell_type": "code",
   "execution_count": 10,
   "metadata": {},
   "outputs": [
    {
     "data": {
      "text/plain": [
       "2"
      ]
     },
     "execution_count": 10,
     "metadata": {},
     "output_type": "execute_result"
    }
   ],
   "source": [
    "A = eye(d)\n",
    "\n",
    "opf = projopf(A, 100)\n",
    "opt = maxa_opt(10^8)\n",
    "adapt_speed = \"none\"\n",
    "L = 2"
   ]
  },
  {
   "cell_type": "code",
   "execution_count": 11,
   "metadata": {},
   "outputs": [
    {
     "name": "stdout",
     "output_type": "stream",
     "text": [
      "10% attempts in 18.73 mins \n",
      "20% attempts in 37.91 mins \n",
      "30% attempts in 57.1 mins \n",
      "40% attempts in 77.29 mins \n",
      "50% attempts in 97.84 mins \n",
      "60% attempts in 118.84 mins \n",
      "70% attempts in 139.7 mins \n",
      "80% attempts in 161.13 mins \n",
      "90% attempts in 182.44 mins \n",
      "100% attempts in 204.4 mins \n"
     ]
    }
   ],
   "source": [
    "mstate_wt_noCV = zz_state(d);\n",
    "bb_ll_wt_noCV = build_bound(my_model.ll, gs_list_wt_noCV)\n",
    "bb_pr_wt_noCV = build_bound(my_model.pr)\n",
    "update_bound(bb_pr_wt_noCV, my_model.pr, mstate_wt_noCV)\n",
    "update_bound(bb_ll_wt_noCV, my_model.ll, mstate_wt_noCV, gs_list_wt_noCV)\n",
    "\n",
    "my_zz_sampler_wt_noCV = zz_sampler_decoupled(0, gs_list_wt_noCV, bb_pr_wt_noCV, bb_ll_wt_noCV, L, adapt_speed)\n",
    "ZZ_sample_decoupled(my_model, outp_wt_noCV, my_zz_sampler_wt_noCV, mstate_wt_noCV);"
   ]
  },
  {
   "cell_type": "code",
   "execution_count": 12,
   "metadata": {},
   "outputs": [
    {
     "name": "stdout",
     "output_type": "stream",
     "text": [
      "10% attempts in 19.88 mins \n",
      "20% attempts in 39.43 mins \n",
      "30% attempts in 58.19 mins \n",
      "40% attempts in 76.99 mins \n",
      "50% attempts in 95.97 mins \n",
      "60% attempts in 115.14 mins \n",
      "70% attempts in 135.11 mins \n",
      "80% attempts in 154.39 mins \n",
      "90% attempts in 173.85 mins \n",
      "100% attempts in 193.07 mins \n"
     ]
    }
   ],
   "source": [
    "mstate_wt_CV = zz_state(d);\n",
    "bb_ll_wt_CV = build_bound(my_model.ll, gs_list_wt_CV)\n",
    "bb_pr_wt_CV = build_bound(my_model.pr)\n",
    "update_bound(bb_pr_wt_CV, my_model.pr, mstate_wt_CV)\n",
    "update_bound(bb_ll_wt_CV, my_model.ll, mstate_wt_CV, gs_list_wt_CV)\n",
    "\n",
    "my_zz_sampler_wt_CV = zz_sampler_decoupled(0, gs_list_wt_CV, bb_pr_wt_CV, bb_ll_wt_CV, L, adapt_speed)\n",
    "ZZ_sample_decoupled(my_model, outp_wt_CV, my_zz_sampler_wt_CV, mstate_wt_CV);"
   ]
  },
  {
   "cell_type": "code",
   "execution_count": 13,
   "metadata": {},
   "outputs": [
    {
     "name": "stdout",
     "output_type": "stream",
     "text": [
      "10% attempts in 22.47 mins \n",
      "20% attempts in 46.4 mins \n",
      "30% attempts in 69.67 mins \n",
      "40% attempts in 93.95 mins \n",
      "50% attempts in 118.53 mins \n",
      "60% attempts in 143.17 mins \n",
      "70% attempts in 168.65 mins \n",
      "80% attempts in 193.85 mins \n",
      "90% attempts in 219.04 mins \n",
      "100% attempts in 244.41 mins \n"
     ]
    }
   ],
   "source": [
    "mstate_wt_noCV_ss = zz_state(d);\n",
    "bb_ll_wt_noCV_ss = build_bound(my_model.ll, gs_list_wt_noCV_ss)\n",
    "bb_pr_wt_noCV_ss = build_bound(my_model.pr)\n",
    "update_bound(bb_pr_wt_noCV_ss, my_model.pr, mstate_wt_noCV_ss)\n",
    "update_bound(bb_ll_wt_noCV_ss, my_model.ll, mstate_wt_noCV_ss, gs_list_wt_noCV_ss)\n",
    "\n",
    "my_zz_sampler_wt_noCV_ss = zz_sampler_decoupled(0, gs_list_wt_noCV_ss, bb_pr_wt_noCV_ss, \n",
    "    bb_ll_wt_noCV_ss, L, adapt_speed)\n",
    "ZZ_sample_decoupled(my_model, outp_wt_noCV_ss, my_zz_sampler_wt_noCV_ss, mstate_wt_noCV_ss);"
   ]
  },
  {
   "cell_type": "code",
   "execution_count": 14,
   "metadata": {},
   "outputs": [
    {
     "name": "stdout",
     "output_type": "stream",
     "text": [
      "10% attempts in 22.73 mins \n",
      "20% attempts in 46.24 mins \n",
      "30% attempts in 69.1 mins \n",
      "40% attempts in 92.01 mins \n",
      "50% attempts in 115.08 mins \n",
      "60% attempts in 138.27 mins \n",
      "70% attempts in 161.07 mins \n",
      "80% attempts in 183.8 mins \n",
      "90% attempts in 206.55 mins \n",
      "100% attempts in 229.31 mins \n"
     ]
    }
   ],
   "source": [
    "mstate_wt_CV_ss = zz_state(d);\n",
    "bb_ll_wt_CV_ss = build_bound(my_model.ll, gs_list_wt_CV_ss)\n",
    "bb_pr_wt_CV_ss = build_bound(my_model.pr)\n",
    "update_bound(bb_pr_wt_CV_ss, my_model.pr, mstate_wt_CV_ss)\n",
    "update_bound(bb_ll_wt_CV_ss, my_model.ll, mstate_wt_CV_ss, gs_list_wt_CV_ss)\n",
    "\n",
    "my_zz_sampler_wt_CV_ss = zz_sampler_decoupled(0, gs_list_wt_CV_ss, bb_pr_wt_CV_ss, \n",
    "    bb_ll_wt_CV_ss, L, adapt_speed)\n",
    "ZZ_sample_decoupled(my_model, outp_wt_noCV_ss, my_zz_sampler_wt_CV_ss, mstate_wt_CV_ss);"
   ]
  },
  {
   "cell_type": "code",
   "execution_count": 39,
   "metadata": {
    "collapsed": true
   },
   "outputs": [],
   "source": [
    "discard, n_samples = 0, 10^5\n",
    "xi_samples_wt_noCV = extract_samples(outp_wt_noCV.opf.xi_skeleton[:,discard+1:end], \n",
    "                             outp_wt_noCV.opf.bt_skeleton[:,discard+1:end], \n",
    "                            (outp_wt_noCV.opf.bt_skeleton[end]-outp_wt_noCV.opf.bt_skeleton[discard+1])/n_samples,\n",
    "                             \"linear\")\n",
    "xi_samples_wt_CV = extract_samples(outp_wt_CV.opf.xi_skeleton[:,discard+1:end], \n",
    "                             outp_wt_CV.opf.bt_skeleton[:,discard+1:end], \n",
    "                            (outp_wt_CV.opf.bt_skeleton[end]-outp_wt_CV.opf.bt_skeleton[discard+1])/n_samples,\n",
    "                             \"linear\")\n",
    "xi_samples_wt_noCV_ss = extract_samples(outp_wt_noCV_ss.opf.xi_skeleton[:,discard+1:end], \n",
    "                             outp_wt_noCV_ss.opf.bt_skeleton[:,discard+1:end], \n",
    "                    (outp_wt_noCV_ss.opf.bt_skeleton[end]-outp_wt_noCV_ss.opf.bt_skeleton[discard+1])/n_samples,\n",
    "                             \"linear\")\n",
    "xi_samples_wt_CV_ss = extract_samples(outp_wt_CV_ss.opf.xi_skeleton[:,discard+1:end], \n",
    "                             outp_wt_CV_ss.opf.bt_skeleton[:,discard+1:end], \n",
    "                    (outp_wt_CV_ss.opf.bt_skeleton[end]-outp_wt_CV_ss.opf.bt_skeleton[discard+1])/n_samples,\n",
    "                             \"linear\");"
   ]
  },
  {
   "cell_type": "code",
   "execution_count": 40,
   "metadata": {
    "collapsed": true
   },
   "outputs": [],
   "source": [
    "maxlag = 1000\n",
    "acfs = zeros(4, d, maxlag)\n",
    "for dim in 1:d \n",
    "    acfs[1,dim,:] = acf(xi_samples_wt_noCV[dim,:], maxlag)\n",
    "    acfs[2,dim,:] = acf(xi_samples_wt_CV[dim,:], maxlag)\n",
    "    acfs[3,dim,:] = acf(xi_samples_wt_noCV_ss[dim,:], maxlag)\n",
    "    acfs[4,dim,:] = acf(xi_samples_wt_CV_ss[dim,:], maxlag)\n",
    "end"
   ]
  },
  {
   "cell_type": "code",
   "execution_count": 41,
   "metadata": {
    "collapsed": true
   },
   "outputs": [],
   "source": [
    "acfs_wt_noCV, acfs_wt_CV, acfs_wt_noCV_ss, acfs_wt_CV_ss = [], [], [], []\n",
    "xt = []\n",
    "plot_freq = 50\n",
    "for i in 1:Int(maxlag/plot_freq)\n",
    "    push!(acfs_wt_noCV, acfs[1,:,i*10])\n",
    "    push!(acfs_wt_CV, acfs[2,:,i*10])\n",
    "    push!(acfs_wt_noCV_ss, acfs[3,:,i*10])\n",
    "    push!(acfs_wt_CV_ss, acfs[4,:,i*10])\n",
    "    if i%10 == 0 \n",
    "        push!(xt, plot_freq*i)\n",
    "    else \n",
    "        push!(xt, \"\")\n",
    "    end\n",
    "end"
   ]
  },
  {
   "cell_type": "code",
   "execution_count": 42,
   "metadata": {},
   "outputs": [
    {
     "data": {
      "image/png": "[encoded data removed]",
      "text/plain": [
       "PyPlot.Figure(PyObject <Figure size 1200x250 with 4 Axes>)"
      ]
     },
     "metadata": {},
     "output_type": "display_data"
    }
   ],
   "source": [
    "using PyPlot\n",
    "fig = figure(\"pyplot_subplot_mixed\", figsize=(12,2.5))\n",
    "\n",
    "a, b = -0.4, 1.05\n",
    "subplot(141)\n",
    "boxplot(acfs_wt_noCV, showfliers=false)\n",
    "grid(alpha=0.35)\n",
    "xlabel(\"Lag\", fontsize=10)\n",
    "ylabel(\"ACF\", fontsize=10)\n",
    "xticks(1:Int(maxlag/plot_freq), xt)\n",
    "ylim([a,b])\n",
    "title(\"Weighted sub\\n-sampling without CV\", fontsize=7)\n",
    "\n",
    "subplot(142)\n",
    "boxplot(acfs_wt_CV, showfliers=false)\n",
    "grid(alpha=0.35)\n",
    "xlabel(\"Lag\", fontsize=10)\n",
    "xticks(1:Int(maxlag/plot_freq), xt)\n",
    "ylim([a,b])\n",
    "yticks(alpha=0)\n",
    "title(\"Weighted sub\\n-sampling with CV\", fontsize=7)\n",
    "\n",
    "subplot(143)\n",
    "boxplot(acfs_wt_noCV_ss, showfliers=false)\n",
    "grid(alpha=0.35)\n",
    "xlabel(\"Lag\", fontsize=10)\n",
    "xticks(1:Int(maxlag/plot_freq), xt)\n",
    "yticks(alpha=0)\n",
    "ylim([a,b])\n",
    "title(\"Sorted+weighted sub\\n-sampling without CV\", fontsize=7)\n",
    "\n",
    "subplot(144)\n",
    "boxplot(acfs_wt_CV_ss, showfliers=false)\n",
    "grid(alpha=0.35)\n",
    "xlabel(\"Lag\", fontsize=10)\n",
    "xticks(1:Int(maxlag/plot_freq), xt)\n",
    "yticks(alpha=0)\n",
    "ylim([a,b])\n",
    "title(\"Sorted+weighted sub\\n-sampling with CV\", fontsize=7);"
   ]
  },
  {
   "cell_type": "code",
   "execution_count": 43,
   "metadata": {},
   "outputs": [
    {
     "data": {
      "text/plain": [
       "4×1×1 Array{Float64,3}:\n",
       "[:, :, 1] =\n",
       "  89.5903\n",
       " 508.833 \n",
       "  61.2844\n",
       " 517.827 "
      ]
     },
     "execution_count": 43,
     "metadata": {},
     "output_type": "execute_result"
    }
   ],
   "source": [
    "mean(sum(acfs,3),2)"
   ]
  },
  {
   "cell_type": "code",
   "execution_count": 44,
   "metadata": {},
   "outputs": [
    {
     "data": {
      "text/plain": [
       "4×1×1 Array{Float64,3}:\n",
       "[:, :, 1] =\n",
       " 545.414\n",
       " 947.492\n",
       " 470.458\n",
       " 937.893"
      ]
     },
     "execution_count": 44,
     "metadata": {},
     "output_type": "execute_result"
    }
   ],
   "source": [
    "maximum(sum(acfs,3),2)"
   ]
  },
  {
   "cell_type": "code",
   "execution_count": null,
   "metadata": {
    "collapsed": true
   },
   "outputs": [],
   "source": []
  },
  {
   "cell_type": "code",
   "execution_count": null,
   "metadata": {
    "collapsed": true
   },
   "outputs": [],
   "source": []
  },
  {
   "cell_type": "code",
   "execution_count": 36,
   "metadata": {},
   "outputs": [
    {
     "name": "stdout",
     "output_type": "stream",
     "text": [
      "203.0\n",
      "113.0\n",
      "363.0\n",
      "108.0\n"
     ]
    }
   ],
   "source": [
    "B = 100\n",
    "print(round(minimum(compute_ESS(outp_wt_noCV.opf, B))), \"\\n\")\n",
    "print(round(minimum(compute_ESS(outp_wt_CV.opf, B))), \"\\n\")\n",
    "print(round(minimum(compute_ESS(outp_wt_noCV_ss.opf, B))), \"\\n\")\n",
    "print(round(minimum(compute_ESS(outp_wt_CV_ss.opf, B))), \"\\n\")"
   ]
  },
  {
   "cell_type": "code",
   "execution_count": 37,
   "metadata": {},
   "outputs": [
    {
     "name": "stdout",
     "output_type": "stream",
     "text": [
      "28759.0\n",
      "23353.0\n",
      "59399.0\n",
      "16355.0\n"
     ]
    }
   ],
   "source": [
    "print(round(mean(compute_ESS(outp_wt_noCV.opf, B))), \"\\n\")\n",
    "print(round(mean(compute_ESS(outp_wt_CV.opf, B))), \"\\n\")\n",
    "print(round(mean(compute_ESS(outp_wt_noCV_ss.opf, B))), \"\\n\")\n",
    "print(round(mean(compute_ESS(outp_wt_CV_ss.opf, B))), \"\\n\")"
   ]
  },
  {
   "cell_type": "code",
   "execution_count": null,
   "metadata": {
    "collapsed": true
   },
   "outputs": [],
   "source": []
  }
 ],
 "metadata": {
  "kernelspec": {
   "display_name": "Julia 0.6.4",
   "language": "julia",
   "name": "julia-0.6"
  },
  "language_info": {
   "file_extension": ".jl",
   "mimetype": "application/julia",
   "name": "julia",
   "version": "0.6.4"
  }
 },
 "nbformat": 4,
 "nbformat_minor": 2
}
