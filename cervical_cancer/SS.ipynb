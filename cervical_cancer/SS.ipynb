{
 "cells": [
  {
   "cell_type": "code",
   "execution_count": 1,
   "metadata": {},
   "outputs": [
    {
     "data": {
      "text/plain": [
       "get_clustering (generic function with 1 method)"
      ]
     },
     "execution_count": 1,
     "metadata": {},
     "output_type": "execute_result"
    }
   ],
   "source": [
    "using Distributions, TimeIt, PyPlot, JLD, ProgressMeter, CSV\n",
    "include(\"/home/postdoc/dsen/Desktop/Biometrika-code/zz_structures.jl\")\n",
    "include(\"/home/postdoc/dsen/Desktop/Biometrika-code/mbsampler.jl\")"
   ]
  },
  {
   "cell_type": "code",
   "execution_count": 2,
   "metadata": {
    "collapsed": true,
    "scrolled": true
   },
   "outputs": [],
   "source": [
    "data = CSV.read(\"/xtmp/PDMP_data/risk_factors_cervical_cancer.csv\")\n",
    "name = names(data);\n",
    "predictors = vcat(Array(2:25), Array(27:28));"
   ]
  },
  {
   "cell_type": "code",
   "execution_count": 3,
   "metadata": {
    "scrolled": true
   },
   "outputs": [
    {
     "name": "stdout",
     "output_type": "stream",
     "text": [
      "2 3 4 5 6 7 8 9 10 11 12 13 14 15 16 17 18 19 20 21 22 23 24 25 27 28 "
     ]
    }
   ],
   "source": [
    "for i in predictors\n",
    "    present = map(x->parse(Float64,x),data[name[i]][data[name[i]] .!= \"?\"])\n",
    "    present_mean = mean(present)\n",
    "    absent = data[name[i]] .== \"?\"\n",
    "    data[name[i]][absent] = string(present_mean)\n",
    "    data[name[i]] = map(x->parse(Float64,x),data[name[i]])     \n",
    "    print(i, \" \")\n",
    "end \n",
    "y = Int64.(data[name[29]]);\n",
    "data = Float64.(convert(Array, data));"
   ]
  },
  {
   "cell_type": "code",
   "execution_count": 4,
   "metadata": {
    "collapsed": true
   },
   "outputs": [],
   "source": [
    "x = data[:,(sum(abs.(data),1) .!= 0)[1,:]];\n",
    "X = sparse(x')\n",
    "d, Nobs = size(X);\n",
    "my_ll = ll_logistic_sp(X,y);\n",
    "my_prior = gaussian_prior_nh(zeros(d),1*ones(d))\n",
    "my_model = model(my_ll, my_prior)\n",
    "σ02 = 1\n",
    "root = find_root(my_model, rand(d));\n",
    "gc()"
   ]
  },
  {
   "cell_type": "code",
   "execution_count": 5,
   "metadata": {},
   "outputs": [
    {
     "data": {
      "text/plain": [
       "20"
      ]
     },
     "execution_count": 5,
     "metadata": {},
     "output_type": "execute_result"
    }
   ],
   "source": [
    "β_0 = copy(root)\n",
    "mb_size = 20"
   ]
  },
  {
   "cell_type": "code",
   "execution_count": 6,
   "metadata": {
    "collapsed": true
   },
   "outputs": [],
   "source": [
    "# Stratified sub-sampling without CV and with weights \n",
    "\n",
    "weights = sparse(abs.(X))\n",
    "for i in 1:d \n",
    "    weights[i,:] /= sum(weights[i,:])\n",
    "end\n",
    "\n",
    "ll_pd_root_list = [partial_derivative_vec(my_model.ll, root, i, 1:Nobs) for i in 1:d]\n",
    "\n",
    "cmbsamplers = Array{mbsampler}(d)\n",
    "N_cluster = mb_size\n",
    "\n",
    "for dim in 1:d\n",
    "    \n",
    "    N_cluster_d = min(N_cluster, length(ll_pd_root_list[dim].nzval))\n",
    "    csamplers = Array{mbsampler}(N_cluster_d)\n",
    "    \n",
    "    clusters = get_clustering(N_cluster_d, ll_pd_root_list[dim].nzval)\n",
    "    for i in 1:N_cluster_d\n",
    "        clusters[i] =  ll_pd_root_list[dim].nzind[clusters[i]]\n",
    "    end\n",
    "    #print(clusters)\n",
    "    scp = ones(N_cluster_d)\n",
    "    for (ci, c) in enumerate(clusters)\n",
    "        csamplers[ci] = wumbsampler(size(c)[1], scp[ci], weights[dim,c])\n",
    "    end\n",
    "    cmbsamplers[dim] = spcmbsampler(csamplers, clusters, weights[dim,:])\n",
    "end\n",
    "gs_list_SS = mbsampler_list(d,cmbsamplers);"
   ]
  },
  {
   "cell_type": "markdown",
   "metadata": {},
   "source": [
    "#### Run algorithms:"
   ]
  },
  {
   "cell_type": "code",
   "execution_count": 7,
   "metadata": {
    "collapsed": true
   },
   "outputs": [],
   "source": [
    "A = eye(d)\n",
    "opf = projopf(A, 100)\n",
    "opt = maxa_opt(5*10^7)\n",
    "adapt_speed = \"none\"\n",
    "L = 2;"
   ]
  },
  {
   "cell_type": "code",
   "execution_count": 8,
   "metadata": {},
   "outputs": [
    {
     "name": "stdout",
     "output_type": "stream",
     "text": [
      "10% attempts in 12.42 mins \n",
      "20% attempts in 25.14 mins \n",
      "30% attempts in 36.53 mins \n",
      "40% attempts in 47.46 mins \n",
      "50% attempts in 58.74 mins \n",
      "60% attempts in 69.91 mins \n",
      "70% attempts in 81.27 mins \n",
      "80% attempts in 92.53 mins \n",
      "90% attempts in 103.54 mins \n",
      "100% attempts in 114.33 mins \n"
     ]
    }
   ],
   "source": [
    "mstate_SS = zz_state(d);\n",
    "bb_ll_SS = build_bound(my_model.ll, gs_list_SS)\n",
    "bb_pr_SS = build_bound(my_model.pr)\n",
    "update_bound(bb_pr_SS, my_model.pr, mstate_SS)\n",
    "update_bound(bb_ll_SS, my_model.ll, mstate_SS, gs_list_SS)\n",
    "outp_SS = outputscheduler(deepcopy(opf),deepcopy(opt))\n",
    "\n",
    "my_zz_sampler_SS = zz_sampler_decoupled(0, gs_list_SS, bb_pr_SS, bb_ll_SS, L, adapt_speed)\n",
    "ZZ_sample_decoupled(my_model, outp_SS, my_zz_sampler_SS, mstate_SS)\n",
    "\n",
    "filename  = \"/xtmp/PDMP_data_revision/cervical_cancer/SS.jld\"\n",
    "save(filename, \"xt_skeleton\", outp_SS.opf.xi_skeleton, \"bt_skeleton\", outp_SS.opf.bt_skeleton)"
   ]
  },
  {
   "cell_type": "code",
   "execution_count": null,
   "metadata": {
    "collapsed": true
   },
   "outputs": [],
   "source": []
  },
  {
   "cell_type": "code",
   "execution_count": null,
   "metadata": {
    "collapsed": true
   },
   "outputs": [],
   "source": []
  },
  {
   "cell_type": "code",
   "execution_count": null,
   "metadata": {
    "collapsed": true
   },
   "outputs": [],
   "source": []
  },
  {
   "cell_type": "code",
   "execution_count": null,
   "metadata": {
    "collapsed": true
   },
   "outputs": [],
   "source": []
  },
  {
   "cell_type": "code",
   "execution_count": 16,
   "metadata": {},
   "outputs": [
    {
     "ename": "LoadError",
     "evalue": "\u001b[91mInexactError()\u001b[39m",
     "output_type": "error",
     "traceback": [
      "\u001b[91mInexactError()\u001b[39m",
      "",
      "Stacktrace:",
      " [1] \u001b[1mconvert\u001b[22m\u001b[22m\u001b[1m(\u001b[22m\u001b[22m::Type{Int64}, ::Float64\u001b[1m)\u001b[22m\u001b[22m at \u001b[1m./float.jl:679\u001b[22m\u001b[22m",
      " [2] \u001b[1mextract_samples\u001b[22m\u001b[22m\u001b[1m(\u001b[22m\u001b[22m::Array{Float64,2}, ::Array{Float64,2}, ::Float64, ::String\u001b[1m)\u001b[22m\u001b[22m at \u001b[1m/home/postdoc/dsen/Desktop/Biometrika-code/zz_structures.jl:474\u001b[22m\u001b[22m",
      " [3] \u001b[1minclude_string\u001b[22m\u001b[22m\u001b[1m(\u001b[22m\u001b[22m::String, ::String\u001b[1m)\u001b[22m\u001b[22m at \u001b[1m./loading.jl:522\u001b[22m\u001b[22m"
     ]
    }
   ],
   "source": [
    "discard, n_samples = 0, 10^4\n",
    "xi_samples_noCV = extract_samples(outp_noCV.opf.xi_skeleton[:,discard+1:end], \n",
    "                             outp_noCV.opf.bt_skeleton[:,discard+1:end], \n",
    "                        (outp_noCV.opf.bt_skeleton[end]-outp_noCV.opf.bt_skeleton[discard+1])/n_samples,\n",
    "                             \"linear\")\n",
    "xi_samples_CV = extract_samples(outp_CV.opf.xi_skeleton[:,discard+1:end], \n",
    "                             outp_CV.opf.bt_skeleton[:,discard+1:end], \n",
    "                        (outp_CV.opf.bt_skeleton[end]-outp_CV.opf.bt_skeleton[discard+1])/n_samples,\n",
    "                             \"linear\")\n",
    "xi_samples_wt_noCV = extract_samples(outp_wt_noCV.opf.xi_skeleton[:,discard+1:end], \n",
    "                             outp_wt_noCV.opf.bt_skeleton[:,discard+1:end], \n",
    "                        (outp_wt_noCV.opf.bt_skeleton[end]-outp_wt_noCV.opf.bt_skeleton[discard+1])/n_samples,\n",
    "                             \"linear\")\n",
    "xi_samples_wt_CV = extract_samples(outp_wt_CV.opf.xi_skeleton[:,discard+1:end], \n",
    "                             outp_wt_CV.opf.bt_skeleton[:,discard+1:end], \n",
    "                        (outp_wt_CV.opf.bt_skeleton[end]-outp_wt_CV.opf.bt_skeleton[discard+1])/n_samples,\n",
    "                             \"linear\")\n",
    "xi_samples_ss = extract_samples(outp_ss.opf.xi_skeleton[:,discard+1:end], \n",
    "                             outp_ss.opf.bt_skeleton[:,discard+1:end], \n",
    "                        (outp_ss.opf.bt_skeleton[end]-outp_ss.opf.bt_skeleton[discard+1])/n_samples,\n",
    "                             \"linear\");"
   ]
  },
  {
   "cell_type": "code",
   "execution_count": 17,
   "metadata": {},
   "outputs": [
    {
     "ename": "LoadError",
     "evalue": "\u001b[91mUndefVarError: xi_samples_wt_noCV not defined\u001b[39m",
     "output_type": "error",
     "traceback": [
      "\u001b[91mUndefVarError: xi_samples_wt_noCV not defined\u001b[39m",
      "",
      "Stacktrace:",
      " [1] \u001b[1mmacro expansion\u001b[22m\u001b[22m at \u001b[1m./In[17]:6\u001b[22m\u001b[22m [inlined]",
      " [2] \u001b[1manonymous\u001b[22m\u001b[22m at \u001b[1m./<missing>:?\u001b[22m\u001b[22m",
      " [3] \u001b[1minclude_string\u001b[22m\u001b[22m\u001b[1m(\u001b[22m\u001b[22m::String, ::String\u001b[1m)\u001b[22m\u001b[22m at \u001b[1m./loading.jl:522\u001b[22m\u001b[22m"
     ]
    }
   ],
   "source": [
    "maxlag = 5000\n",
    "acfs = zeros(5, d, maxlag+1)\n",
    "for dim in 1:d \n",
    "    acfs[1,dim,:] = acf(xi_samples_noCV[dim,:], maxlag)\n",
    "    acfs[2,dim,:] = acf(xi_samples_CV[dim,:], maxlag)\n",
    "    acfs[3,dim,:] = acf(xi_samples_wt_noCV[dim,:], maxlag)\n",
    "    acfs[4,dim,:] = acf(xi_samples_wt_CV[dim,:], maxlag)\n",
    "    acfs[5,dim,:] = acf(xi_samples_ss[dim,:], maxlag)\n",
    "end"
   ]
  },
  {
   "cell_type": "code",
   "execution_count": 18,
   "metadata": {},
   "outputs": [
    {
     "data": {
      "image/png": "[encoded data removed]",
      "text/plain": [
       "PyPlot.Figure(PyObject <Figure size 1500x250 with 4 Axes>)"
      ]
     },
     "metadata": {},
     "output_type": "display_data"
    }
   ],
   "source": [
    "using PyPlot\n",
    "fig = figure(\"pyplot_subplot_mixed\", figsize=(15,2.5))\n",
    "\n",
    "a, b = -1, 1.05\n",
    "\n",
    "subplot(151)\n",
    "for i in 1:d plot(acfs[1,i,:]) end\n",
    "grid(alpha=0.35)\n",
    "xlabel(\"Lag\", fontsize=10)\n",
    "ylabel(\"ACF\", fontsize=10)\n",
    "ylim([a,b])\n",
    "title(\"Uniform sub\\n-sampling (no CV)\", fontsize=7)\n",
    "\n",
    "subplot(152)\n",
    "for i in 1:d plot(acfs[2,i,:]) end\n",
    "grid(alpha=0.35)\n",
    "xlabel(\"Lag\", fontsize=10)\n",
    "ylim([a,b])\n",
    "yticks(alpha=0)\n",
    "title(\"Uniform sub\\n-sampling (CV)\", fontsize=7)\n",
    "\n",
    "subplot(155)\n",
    "for i in 1:d plot(acfs[3,i,:]) end\n",
    "grid(alpha=0.35)\n",
    "xlabel(\"Lag\", fontsize=10)\n",
    "ylabel(\"ACF\", fontsize=10)\n",
    "ylim([a,b])\n",
    "title(\"Importance sub\\n-sampling (no CV)\", fontsize=7)\n",
    "\n",
    "subplot(154)\n",
    "for i in 1:d plot(acfs[4,i,:]) end\n",
    "grid(alpha=0.35)\n",
    "xlabel(\"Lag\", fontsize=10)\n",
    "ylim([a,b])\n",
    "yticks(alpha=0)\n",
    "title(\"Importance sub\\n-sampling (CV)\", fontsize=7)\n",
    "\n",
    "subplot(155)\n",
    "for i in 1:d plot(acfs[5,i,:]) end\n",
    "grid(alpha=0.35)\n",
    "xlabel(\"Lag\", fontsize=10)\n",
    "yticks(alpha=0)\n",
    "ylim([a,b])\n",
    "title(\"Stratified \\n sub-sampling\", fontsize=7)\n",
    "subplots_adjust(wspace=0.02)"
   ]
  },
  {
   "cell_type": "code",
   "execution_count": 36,
   "metadata": {
    "collapsed": true
   },
   "outputs": [],
   "source": [
    "ml = zeros(maxlag)\n",
    "for i in 1:maxlag \n",
    "    ml[i] = mean(sum(acfs[1,:,1:i],2))/mean(sum(acfs[3,:,1:i],2))\n",
    "end"
   ]
  },
  {
   "cell_type": "code",
   "execution_count": 48,
   "metadata": {},
   "outputs": [
    {
     "data": {
      "image/png": "[encoded data removed]",
      "text/plain": [
       "PyPlot.Figure(PyObject <Figure size 500x250 with 1 Axes>)"
      ]
     },
     "metadata": {},
     "output_type": "display_data"
    }
   ],
   "source": [
    "fig = figure(\"pyplot_subplot_mixed\", figsize=(5,2.5))\n",
    "plot(ml)\n",
    "grid(true);"
   ]
  },
  {
   "cell_type": "code",
   "execution_count": null,
   "metadata": {
    "collapsed": true
   },
   "outputs": [],
   "source": []
  },
  {
   "cell_type": "code",
   "execution_count": 23,
   "metadata": {},
   "outputs": [
    {
     "data": {
      "image/png": "[encoded data removed]",
      "text/plain": [
       "PyPlot.Figure(PyObject <Figure size 1200x250 with 3 Axes>)"
      ]
     },
     "metadata": {},
     "output_type": "display_data"
    },
    {
     "data": {
      "text/plain": [
       "PyObject Text(0.5, 1.0, 'Stratified sub\\n-sampling without CV')"
      ]
     },
     "execution_count": 23,
     "metadata": {},
     "output_type": "execute_result"
    }
   ],
   "source": [
    "using PyPlot\n",
    "fig = figure(\"pyplot_subplot_mixed\", figsize=(12,2.5))\n",
    "\n",
    "a, b = -0.4, 1.05\n",
    "subplot(141)\n",
    "boxplot(acfs_wt_noCV, showfliers=false)\n",
    "grid(alpha=0.35)\n",
    "xlabel(\"Lag\", fontsize=10)\n",
    "ylabel(\"ACF\", fontsize=10)\n",
    "xticks(1:Int(maxlag/plot_freq), xt)\n",
    "ylim([a,b])\n",
    "title(\"Importance sub\\n-sampling without CV\", fontsize=7)\n",
    "\n",
    "subplot(142)\n",
    "boxplot(acfs_wt_CV, showfliers=false)\n",
    "grid(alpha=0.35)\n",
    "xlabel(\"Lag\", fontsize=10)\n",
    "xticks(1:Int(maxlag/plot_freq), xt)\n",
    "ylim([a,b])\n",
    "yticks(alpha=0)\n",
    "title(\"Importance sub\\n-sampling with CV\", fontsize=7)\n",
    "\n",
    "subplot(143)\n",
    "boxplot(acfs_ss, showfliers=false)\n",
    "grid(alpha=0.35)\n",
    "xlabel(\"Lag\", fontsize=10)\n",
    "xticks(1:Int(maxlag/plot_freq), xt)\n",
    "yticks(alpha=0)\n",
    "ylim([a,b])\n",
    "title(\"Stratified sub\\n-sampling without CV\", fontsize=7)"
   ]
  },
  {
   "cell_type": "code",
   "execution_count": null,
   "metadata": {
    "collapsed": true
   },
   "outputs": [],
   "source": []
  },
  {
   "cell_type": "code",
   "execution_count": null,
   "metadata": {
    "collapsed": true
   },
   "outputs": [],
   "source": []
  },
  {
   "cell_type": "code",
   "execution_count": 36,
   "metadata": {},
   "outputs": [
    {
     "name": "stdout",
     "output_type": "stream",
     "text": [
      "203.0\n",
      "113.0\n",
      "363.0\n",
      "108.0\n"
     ]
    }
   ],
   "source": [
    "B = 100\n",
    "print(round(minimum(compute_ESS(outp_wt_noCV.opf, B))), \"\\n\")\n",
    "print(round(minimum(compute_ESS(outp_wt_CV.opf, B))), \"\\n\")\n",
    "print(round(minimum(compute_ESS(outp_wt_noCV_ss.opf, B))), \"\\n\")\n",
    "print(round(minimum(compute_ESS(outp_wt_CV_ss.opf, B))), \"\\n\")"
   ]
  },
  {
   "cell_type": "code",
   "execution_count": 37,
   "metadata": {},
   "outputs": [
    {
     "name": "stdout",
     "output_type": "stream",
     "text": [
      "28759.0\n",
      "23353.0\n",
      "59399.0\n",
      "16355.0\n"
     ]
    }
   ],
   "source": [
    "print(round(mean(compute_ESS(outp_wt_noCV.opf, B))), \"\\n\")\n",
    "print(round(mean(compute_ESS(outp_wt_CV.opf, B))), \"\\n\")\n",
    "print(round(mean(compute_ESS(outp_wt_noCV_ss.opf, B))), \"\\n\")\n",
    "print(round(mean(compute_ESS(outp_wt_CV_ss.opf, B))), \"\\n\")"
   ]
  },
  {
   "cell_type": "code",
   "execution_count": null,
   "metadata": {
    "collapsed": true
   },
   "outputs": [],
   "source": []
  }
 ],
 "metadata": {
  "kernelspec": {
   "display_name": "Julia 0.6.4",
   "language": "julia",
   "name": "julia-0.6"
  },
  "language_info": {
   "file_extension": ".jl",
   "mimetype": "application/julia",
   "name": "julia",
   "version": "0.6.4"
  }
 },
 "nbformat": 4,
 "nbformat_minor": 2
}
