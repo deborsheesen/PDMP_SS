{
 "cells": [
  {
   "cell_type": "code",
   "execution_count": null,
   "metadata": {},
   "outputs": [],
   "source": [
    "using Distributions, TimeIt, PyPlot, JLD, ProgressMeter, CSV\n",
    "include(\"/home/postdoc/dsen/Desktop/Biometrika-code/zz_structures.jl\")\n",
    "include(\"/home/postdoc/dsen/Desktop/Biometrika-code/mbsampler.jl\")"
   ]
  },
  {
   "cell_type": "code",
   "execution_count": null,
   "metadata": {
    "collapsed": true,
    "scrolled": true
   },
   "outputs": [],
   "source": [
    "data = CSV.read(\"/xtmp/PDMP_data/risk_factors_cervical_cancer.csv\")\n",
    "name = names(data);\n",
    "predictors = vcat(Array(2:25), Array(27:28));"
   ]
  },
  {
   "cell_type": "code",
   "execution_count": null,
   "metadata": {
    "scrolled": true
   },
   "outputs": [],
   "source": [
    "for i in predictors\n",
    "    present = map(x->parse(Float64,x),data[name[i]][data[name[i]] .!= \"?\"])\n",
    "    present_mean = mean(present)\n",
    "    absent = data[name[i]] .== \"?\"\n",
    "    data[name[i]][absent] = string(present_mean)\n",
    "    data[name[i]] = map(x->parse(Float64,x),data[name[i]])     \n",
    "    print(i, \" \")\n",
    "end \n",
    "y = Int64.(data[name[29]]);\n",
    "data = Float64.(convert(Array, data));"
   ]
  },
  {
   "cell_type": "code",
   "execution_count": null,
   "metadata": {
    "collapsed": true
   },
   "outputs": [],
   "source": [
    "x = data[:,(sum(abs.(data),1) .!= 0)[1,:]];\n",
    "X = sparse(x')\n",
    "d, Nobs = size(X);\n",
    "my_ll = ll_logistic_sp(X,y);\n",
    "my_prior = gaussian_prior_nh(zeros(d),1*ones(d))\n",
    "my_model = model(my_ll, my_prior)\n",
    "σ02 = 1\n",
    "root = find_root(my_model, rand(d));\n",
    "gc()"
   ]
  },
  {
   "cell_type": "code",
   "execution_count": null,
   "metadata": {},
   "outputs": [],
   "source": [
    "β_0 = copy(root)\n",
    "mb_size = 20"
   ]
  },
  {
   "cell_type": "code",
   "execution_count": null,
   "metadata": {},
   "outputs": [],
   "source": [
    "# Uniform sub-sampling:\n",
    "gs = [umbsampler(Nobs, mb_size) for i in 1:d]\n",
    "\n",
    "# with CV: \n",
    "gs_list_CV = cvmbsampler_list(my_model, deepcopy(gs), root, true);"
   ]
  },
  {
   "cell_type": "markdown",
   "metadata": {},
   "source": [
    "#### Run algorithms:"
   ]
  },
  {
   "cell_type": "code",
   "execution_count": null,
   "metadata": {
    "collapsed": true
   },
   "outputs": [],
   "source": [
    "A = eye(d)\n",
    "opf = projopf(A, 100)\n",
    "opt = maxa_opt(5*10^7)\n",
    "adapt_speed = \"none\"\n",
    "L = 2;"
   ]
  },
  {
   "cell_type": "code",
   "execution_count": null,
   "metadata": {
    "collapsed": true
   },
   "outputs": [],
   "source": [
    "mstate_CV = zz_state(d);\n",
    "bb_ll_CV = build_bound(my_model.ll, gs_list_CV)\n",
    "bb_pr_CV = build_bound(my_model.pr)\n",
    "update_bound(bb_pr_CV, my_model.pr, mstate_CV)\n",
    "update_bound(bb_ll_CV, my_model.ll, mstate_CV, gs_list_CV)\n",
    "outp_CV = outputscheduler(deepcopy(opf),deepcopy(opt))\n",
    "\n",
    "my_zz_sampler_CV = zz_sampler_decoupled(0, gs_list_CV, bb_pr_CV, bb_ll_CV, L, adapt_speed)\n",
    "ZZ_sample_decoupled(my_model, outp_CV, my_zz_sampler_CV, mstate_CV)\n",
    "\n",
    "filename  = \"/xtmp/PDMP_data_revision/cervical_cancer/uniform_CV.jld\"\n",
    "save(filename, \"xt_skeleton\", outp_CV.opf.xi_skeleton, \"bt_skeleton\", outp_CV.opf.bt_skeleton)"
   ]
  },
  {
   "cell_type": "code",
   "execution_count": null,
   "metadata": {
    "collapsed": true
   },
   "outputs": [],
   "source": []
  },
  {
   "cell_type": "code",
   "execution_count": null,
   "metadata": {
    "collapsed": true
   },
   "outputs": [],
   "source": []
  },
  {
   "cell_type": "code",
   "execution_count": null,
   "metadata": {
    "collapsed": true
   },
   "outputs": [],
   "source": []
  },
  {
   "cell_type": "code",
   "execution_count": null,
   "metadata": {
    "collapsed": true
   },
   "outputs": [],
   "source": []
  },
  {
   "cell_type": "code",
   "execution_count": null,
   "metadata": {
    "collapsed": true
   },
   "outputs": [],
   "source": []
  },
  {
   "cell_type": "code",
   "execution_count": null,
   "metadata": {
    "collapsed": true
   },
   "outputs": [],
   "source": []
  }
 ],
 "metadata": {
  "kernelspec": {
   "display_name": "Julia 0.6.4",
   "language": "julia",
   "name": "julia-0.6"
  },
  "language_info": {
   "file_extension": ".jl",
   "mimetype": "application/julia",
   "name": "julia",
   "version": "0.6.4"
  }
 },
 "nbformat": 4,
 "nbformat_minor": 2
}
