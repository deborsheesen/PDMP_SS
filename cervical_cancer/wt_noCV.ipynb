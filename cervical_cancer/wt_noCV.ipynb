{
 "cells": [
  {
   "cell_type": "code",
   "execution_count": 1,
   "metadata": {},
   "outputs": [
    {
     "data": {
      "text/plain": [
       "get_clustering (generic function with 1 method)"
      ]
     },
     "execution_count": 1,
     "metadata": {},
     "output_type": "execute_result"
    }
   ],
   "source": [
    "using Distributions, TimeIt, PyPlot, JLD, ProgressMeter, CSV\n",
    "include(\"/home/postdoc/dsen/Desktop/Biometrika-code/zz_structures.jl\")\n",
    "include(\"/home/postdoc/dsen/Desktop/Biometrika-code/mbsampler.jl\")"
   ]
  },
  {
   "cell_type": "code",
   "execution_count": 2,
   "metadata": {
    "collapsed": true,
    "scrolled": true
   },
   "outputs": [],
   "source": [
    "data = CSV.read(\"/xtmp/PDMP_data/risk_factors_cervical_cancer.csv\")\n",
    "name = names(data);\n",
    "predictors = vcat(Array(2:25), Array(27:28));"
   ]
  },
  {
   "cell_type": "code",
   "execution_count": 3,
   "metadata": {
    "scrolled": true
   },
   "outputs": [
    {
     "name": "stdout",
     "output_type": "stream",
     "text": [
      "2 3 4 5 6 7 8 9 10 11 12 13 14 15 16 17 18 19 20 21 22 23 24 25 27 28 "
     ]
    }
   ],
   "source": [
    "for i in predictors\n",
    "    present = map(x->parse(Float64,x),data[name[i]][data[name[i]] .!= \"?\"])\n",
    "    present_mean = mean(present)\n",
    "    absent = data[name[i]] .== \"?\"\n",
    "    data[name[i]][absent] = string(present_mean)\n",
    "    data[name[i]] = map(x->parse(Float64,x),data[name[i]])     \n",
    "    print(i, \" \")\n",
    "end \n",
    "y = Int64.(data[name[29]]);\n",
    "data = Float64.(convert(Array, data));"
   ]
  },
  {
   "cell_type": "code",
   "execution_count": 4,
   "metadata": {
    "collapsed": true
   },
   "outputs": [],
   "source": [
    "x = data[:,(sum(abs.(data),1) .!= 0)[1,:]];\n",
    "X = sparse(x')\n",
    "d, Nobs = size(X);\n",
    "my_ll = ll_logistic_sp(X,y);\n",
    "my_prior = gaussian_prior_nh(zeros(d),1*ones(d))\n",
    "my_model = model(my_ll, my_prior)\n",
    "σ02 = 1\n",
    "root = find_root(my_model, rand(d));\n",
    "gc()"
   ]
  },
  {
   "cell_type": "code",
   "execution_count": 5,
   "metadata": {},
   "outputs": [
    {
     "data": {
      "text/plain": [
       "20"
      ]
     },
     "execution_count": 5,
     "metadata": {},
     "output_type": "execute_result"
    }
   ],
   "source": [
    "β_0 = copy(root)\n",
    "mb_size = 20"
   ]
  },
  {
   "cell_type": "code",
   "execution_count": 6,
   "metadata": {},
   "outputs": [
    {
     "name": "stderr",
     "output_type": "stream",
     "text": [
      "\u001b[32mProgress: 100%|█████████████████████████████████████████| Time: 0:00:01\u001b[39m\n"
     ]
    }
   ],
   "source": [
    "# Sub-sampling with weights and no CV:\n",
    "\n",
    "gs = Array{mbsampler}(d)\n",
    "gs[1] = umbsampler(Nobs, mb_size)\n",
    "@showprogress for i in 2:d \n",
    "    nz_ind = X[i,:].nzind\n",
    "    weights_het = spzeros(Nobs)\n",
    "    weights_het[nz_ind] = abs.(X[i,nz_ind])./sum(abs.(X[i,nz_ind]))\n",
    "    prob_het = (length(nz_ind)==length(X[i,:])) + 0.98*(length(nz_ind)!=length(X[i,:]))\n",
    "    gs[i] = spwumbsampler(Nobs, mb_size, weights_het, prob_het)\n",
    "end\n",
    "gs_list_wt_noCV = mbsampler_list(d,gs);"
   ]
  },
  {
   "cell_type": "markdown",
   "metadata": {},
   "source": [
    "#### Run algorithms:"
   ]
  },
  {
   "cell_type": "code",
   "execution_count": 7,
   "metadata": {
    "collapsed": true
   },
   "outputs": [],
   "source": [
    "A = eye(d)\n",
    "opf = projopf(A, 100)\n",
    "opt = maxa_opt(5*10^7)\n",
    "adapt_speed = \"none\"\n",
    "L = 2;"
   ]
  },
  {
   "cell_type": "code",
   "execution_count": 8,
   "metadata": {},
   "outputs": [
    {
     "name": "stdout",
     "output_type": "stream",
     "text": [
      "10% attempts in 9.16 mins \n",
      "20% attempts in 18.41 mins \n",
      "30% attempts in 27.39 mins \n",
      "40% attempts in 35.17 mins \n",
      "50% attempts in 43.15 mins \n",
      "60% attempts in 51.16 mins \n",
      "70% attempts in 59.22 mins \n",
      "80% attempts in 67.34 mins \n",
      "90% attempts in 75.44 mins \n",
      "100% attempts in 83.24 mins \n"
     ]
    }
   ],
   "source": [
    "mstate_wt_noCV = zz_state(d);\n",
    "bb_ll_wt_noCV = build_bound(my_model.ll, gs_list_wt_noCV)\n",
    "bb_pr_wt_noCV = build_bound(my_model.pr)\n",
    "update_bound(bb_pr_wt_noCV, my_model.pr, mstate_wt_noCV)\n",
    "update_bound(bb_ll_wt_noCV, my_model.ll, mstate_wt_noCV, gs_list_wt_noCV)\n",
    "outp_wt_noCV = outputscheduler(deepcopy(opf),deepcopy(opt))\n",
    "\n",
    "my_zz_sampler_wt_noCV = zz_sampler_decoupled(0, gs_list_wt_noCV, bb_pr_wt_noCV, bb_ll_wt_noCV, L, adapt_speed)\n",
    "ZZ_sample_decoupled(my_model, outp_wt_noCV, my_zz_sampler_wt_noCV, mstate_wt_noCV)\n",
    "\n",
    "filename  = \"/xtmp/PDMP_data_revision/cervical_cancer/wt_noCV.jld\"\n",
    "save(filename, \"xt_skeleton\", outp_wt_noCV.opf.xi_skeleton, \"bt_skeleton\", outp_wt_noCV.opf.bt_skeleton)"
   ]
  },
  {
   "cell_type": "code",
   "execution_count": null,
   "metadata": {
    "collapsed": true
   },
   "outputs": [],
   "source": []
  }
 ],
 "metadata": {
  "kernelspec": {
   "display_name": "Julia 0.6.4",
   "language": "julia",
   "name": "julia-0.6"
  },
  "language_info": {
   "file_extension": ".jl",
   "mimetype": "application/julia",
   "name": "julia",
   "version": "0.6.4"
  }
 },
 "nbformat": 4,
 "nbformat_minor": 2
}
