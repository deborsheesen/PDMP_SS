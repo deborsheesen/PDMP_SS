{
 "cells": [
  {
   "cell_type": "code",
   "execution_count": 1,
   "metadata": {},
   "outputs": [
    {
     "data": {
      "text/plain": [
       "plot_acfs_all (generic function with 2 methods)"
      ]
     },
     "execution_count": 1,
     "metadata": {},
     "output_type": "execute_result"
    }
   ],
   "source": [
    "using Distributions, TimeIt, ProgressMeter, PyPlot, JLD\n",
    "include(\"/home/postdoc/dsen/Desktop/Biometrika-code/mbsampler.jl\")\n",
    "include(\"temp.jl\")"
   ]
  },
  {
   "cell_type": "code",
   "execution_count": 2,
   "metadata": {
    "scrolled": true
   },
   "outputs": [
    {
     "data": {
      "text/plain": [
       "false"
      ]
     },
     "execution_count": 2,
     "metadata": {},
     "output_type": "execute_result"
    }
   ],
   "source": [
    "mb_size = 10\n",
    "dim  = 5\n",
    "Nobs_list = Int.(floor.(logspace(1,4.5,8)))\n",
    "pX_list, attempts = fill(1., length(Nobs_list)), fill(10^5, length(Nobs_list))\n",
    "cov_dist = \"Laplace\"\n",
    "n_reps = 50\n",
    "varying = \"Nobs\"\n",
    "include_stratified, include_unif_SS, include_CV = false, true, true\n",
    "prior_sigma = 1e5\n",
    "adapt_speed = \"none\"\n",
    "Print = false"
   ]
  },
  {
   "cell_type": "code",
   "execution_count": 3,
   "metadata": {
    "scrolled": true
   },
   "outputs": [
    {
     "name": "stderr",
     "output_type": "stream",
     "text": [
      "\u001b[32mProgress: 100%|█████████████████████████████████████████| Time: 0:00:00\u001b[39m\n"
     ]
    },
    {
     "name": "stdout",
     "output_type": "stream",
     "text": [
      "Rep = 1; Nobs = 10; stratified, CV, weighted = false true true; time = 0.32 min \n",
      "Rep = 1; Nobs = 10; stratified, CV, weighted = false true false; time = 0.27 min \n",
      "Rep = 1; Nobs = 10; stratified, CV, weighted = false false true; time = 0.15 min \n",
      "Rep = 1; Nobs = 10; stratified, CV, weighted = false false false; time = 0.14 min \n",
      "Rep = 1; Nobs = 31; stratified, CV, weighted = false true true; time = 0.28 min \n",
      "Rep = 1; Nobs = 31; stratified, CV, weighted = false true false; time = 0.27 min \n",
      "Rep = 1; Nobs = 31; stratified, CV, weighted = false false true; time = 0.14 min \n",
      "Rep = 1; Nobs = 31; stratified, CV, weighted = false false false; time = 0.14 min \n",
      "Rep = 1; Nobs = 100; stratified, CV, weighted = false true true; time = 0.28 min \n",
      "Rep = 1; Nobs = 100; stratified, CV, weighted = false true false; time = 0.27 min \n",
      "Rep = 1; Nobs = 100; stratified, CV, weighted = false false true; time = 0.14 min \n",
      "Rep = 1; Nobs = 100; stratified, CV, weighted = false false false; time = 0.14 min \n",
      "Rep = 1; Nobs = 316; stratified, CV, weighted = false true true; time = 0.28 min \n",
      "Rep = 1; Nobs = 316; stratified, CV, weighted = false true false; time = 0.27 min \n",
      "Rep = 1; Nobs = 316; stratified, CV, weighted = false false true; time = 0.14 min \n",
      "Rep = 1; Nobs = 316; stratified, CV, weighted = false false false; time = 0.14 min \n",
      "Rep = 1; Nobs = 1000; stratified, CV, weighted = false true true; time = 0.28 min \n",
      "Rep = 1; Nobs = 1000; stratified, CV, weighted = false true false; time = 0.27 min \n",
      "Rep = 1; Nobs = 1000; stratified, CV, weighted = false false true; time = 0.15 min \n",
      "Rep = 1; Nobs = 1000; stratified, CV, weighted = false false false; time = 0.14 min \n",
      "Rep = 1; Nobs = 3162; stratified, CV, weighted = false true true; time = 0.31 min \n",
      "Rep = 1; Nobs = 3162; stratified, CV, weighted = false true false; time = 0.28 min \n",
      "Rep = 1; Nobs = 3162; stratified, CV, weighted = false false true; time = 0.17 min \n",
      "Rep = 1; Nobs = 3162; stratified, CV, weighted = false false false; time = 0.14 min \n"
     ]
    },
    {
     "name": "stderr",
     "output_type": "stream",
     "text": [
      "\r",
      "\u001b[32mProgress:  80%|█████████████████████████████████        |  ETA: 0:00:00\u001b[39m\r",
      "\u001b[32mProgress: 100%|█████████████████████████████████████████| Time: 0:00:00\u001b[39m\n"
     ]
    },
    {
     "name": "stdout",
     "output_type": "stream",
     "text": [
      "Rep = 1; Nobs = 10000; stratified, CV, weighted = false true true; time = 0.37 min \n"
     ]
    },
    {
     "name": "stderr",
     "output_type": "stream",
     "text": [
      "\r",
      "\u001b[32mProgress:  80%|█████████████████████████████████        |  ETA: 0:00:00\u001b[39m\r",
      "\u001b[32mProgress: 100%|█████████████████████████████████████████| Time: 0:00:00\u001b[39m\n"
     ]
    },
    {
     "name": "stdout",
     "output_type": "stream",
     "text": [
      "Rep = 1; Nobs = 10000; stratified, CV, weighted = false true false; time = 0.27 min \n",
      "Rep = 1; Nobs = 10000; stratified, CV, weighted = false false true; time = 0.23 min \n",
      "Rep = 1; Nobs = 10000; stratified, CV, weighted = false false false; time = 0.14 min \n"
     ]
    },
    {
     "name": "stderr",
     "output_type": "stream",
     "text": [
      "\u001b[32mProgress: 100%|█████████████████████████████████████████| Time: 0:00:02\u001b[39m\n"
     ]
    },
    {
     "name": "stdout",
     "output_type": "stream",
     "text": [
      "Rep = 1; Nobs = 31622; stratified, CV, weighted = false true true; time = 0.59 min \n"
     ]
    },
    {
     "name": "stderr",
     "output_type": "stream",
     "text": [
      "\u001b[32mProgress: 100%|█████████████████████████████████████████| Time: 0:00:02\u001b[39m\n"
     ]
    },
    {
     "name": "stdout",
     "output_type": "stream",
     "text": [
      "Rep = 1; Nobs = 31622; stratified, CV, weighted = false true false; time = 0.3 min \n",
      "Rep = 1; Nobs = 31622; stratified, CV, weighted = false false true; time = 0.4 min \n",
      "Rep = 1; Nobs = 31622; stratified, CV, weighted = false false false; time = 0.14 min \n",
      "Rep = 2; Nobs = 10; stratified, CV, weighted = false true true; time = 0.27 min \n",
      "Rep = 2; Nobs = 10; stratified, CV, weighted = false true false; time = 0.27 min \n",
      "Rep = 2; Nobs = 10; stratified, CV, weighted = false false true; time = 0.14 min \n",
      "Rep = 2; Nobs = 10; stratified, CV, weighted = false false false; time = 0.14 min \n",
      "Rep = 2; Nobs = 31; stratified, CV, weighted = false true true; time = 0.27 min \n",
      "Rep = 2; Nobs = 31; stratified, CV, weighted = false true false; time = 0.27 min \n",
      "Rep = 2; Nobs = 31; stratified, CV, weighted = false false true; time = 0.14 min \n",
      "Rep = 2; Nobs = 31; stratified, CV, weighted = false false false; time = 0.14 min \n",
      "Rep = 2; Nobs = 100; stratified, CV, weighted = false true true; time = 0.27 min \n",
      "Rep = 2; Nobs = 100; stratified, CV, weighted = false true false; time = 0.27 min \n",
      "Rep = 2; Nobs = 100; stratified, CV, weighted = false false true; time = 0.14 min \n",
      "Rep = 2; Nobs = 100; stratified, CV, weighted = false false false; time = 0.14 min \n",
      "Rep = 2; Nobs = 316; stratified, CV, weighted = false true true; time = 0.27 min \n",
      "Rep = 2; Nobs = 316; stratified, CV, weighted = false true false; time = 0.27 min \n",
      "Rep = 2; Nobs = 316; stratified, CV, weighted = false false true; time = 0.14 min \n",
      "Rep = 2; Nobs = 316; stratified, CV, weighted = false false false; time = 0.14 min \n",
      "Rep = 2; Nobs = 1000; stratified, CV, weighted = false true true; time = 0.28 min \n",
      "Rep = 2; Nobs = 1000; stratified, CV, weighted = false true false; time = 0.27 min \n",
      "Rep = 2; Nobs = 1000; stratified, CV, weighted = false false true; time = 0.15 min \n",
      "Rep = 2; Nobs = 1000; stratified, CV, weighted = false false false; time = 0.14 min \n",
      "Rep = 2; Nobs = 3162; stratified, CV, weighted = false true true; time = 0.31 min \n",
      "Rep = 2; Nobs = 3162; stratified, CV, weighted = false true false; time = 0.28 min \n",
      "Rep = 2; Nobs = 3162; stratified, CV, weighted = false false true; time = 0.17 min \n",
      "Rep = 2; Nobs = 3162; stratified, CV, weighted = false false false; time = 0.14 min \n"
     ]
    },
    {
     "name": "stderr",
     "output_type": "stream",
     "text": [
      "\r",
      "\u001b[32mProgress:  80%|█████████████████████████████████        |  ETA: 0:00:00\u001b[39m\r",
      "\u001b[32mProgress: 100%|█████████████████████████████████████████| Time: 0:00:00\u001b[39m\n"
     ]
    },
    {
     "name": "stdout",
     "output_type": "stream",
     "text": [
      "Rep = 2; Nobs = 10000; stratified, CV, weighted = false true true; time = 0.37 min \n"
     ]
    },
    {
     "name": "stderr",
     "output_type": "stream",
     "text": [
      "\r",
      "\u001b[32mProgress:  80%|█████████████████████████████████        |  ETA: 0:00:00\u001b[39m\r",
      "\u001b[32mProgress: 100%|█████████████████████████████████████████| Time: 0:00:00\u001b[39m\n"
     ]
    },
    {
     "name": "stdout",
     "output_type": "stream",
     "text": [
      "Rep = 2; Nobs = 10000; stratified, CV, weighted = false true false; time = 0.27 min \n",
      "Rep = 2; Nobs = 10000; stratified, CV, weighted = false false true; time = 0.23 min \n",
      "Rep = 2; Nobs = 10000; stratified, CV, weighted = false false false; time = 0.14 min \n"
     ]
    },
    {
     "name": "stderr",
     "output_type": "stream",
     "text": [
      "\u001b[32mProgress: 100%|█████████████████████████████████████████| Time: 0:00:02\u001b[39m\n"
     ]
    },
    {
     "name": "stdout",
     "output_type": "stream",
     "text": [
      "Rep = 2; Nobs = 31622; stratified, CV, weighted = false true true; time = 0.58 min \n"
     ]
    },
    {
     "name": "stderr",
     "output_type": "stream",
     "text": [
      "\u001b[32mProgress: 100%|█████████████████████████████████████████| Time: 0:00:02\u001b[39m\n"
     ]
    },
    {
     "name": "stdout",
     "output_type": "stream",
     "text": [
      "Rep = 2; Nobs = 31622; stratified, CV, weighted = false true false; time = 0.3 min \n",
      "Rep = 2; Nobs = 31622; stratified, CV, weighted = false false true; time = 0.41 min \n",
      "Rep = 2; Nobs = 31622; stratified, CV, weighted = false false false; time = 0.14 min \n",
      "Rep = 3; Nobs = 10; stratified, CV, weighted = false true true; time = 0.27 min \n",
      "Rep = 3; Nobs = 10; stratified, CV, weighted = false true false; time = 0.28 min \n",
      "Rep = 3; Nobs = 10; stratified, CV, weighted = false false true; time = 0.14 min \n",
      "Rep = 3; Nobs = 10; stratified, CV, weighted = false false false; time = 0.14 min \n",
      "Rep = 3; Nobs = 31; stratified, CV, weighted = false true true; time = 0.27 min \n",
      "Rep = 3; Nobs = 31; stratified, CV, weighted = false true false; time = 0.26 min \n",
      "Rep = 3; Nobs = 31; stratified, CV, weighted = false false true; time = 0.14 min \n",
      "Rep = 3; Nobs = 31; stratified, CV, weighted = false false false; time = 0.13 min \n",
      "Rep = 3; Nobs = 100; stratified, CV, weighted = false true true; time = 0.27 min \n",
      "Rep = 3; Nobs = 100; stratified, CV, weighted = false true false; time = 0.27 min \n",
      "Rep = 3; Nobs = 100; stratified, CV, weighted = false false true; time = 0.14 min \n",
      "Rep = 3; Nobs = 100; stratified, CV, weighted = false false false; time = 0.14 min \n",
      "Rep = 3; Nobs = 316; stratified, CV, weighted = false true true; time = 0.27 min \n",
      "Rep = 3; Nobs = 316; stratified, CV, weighted = false true false; time = 0.26 min \n",
      "Rep = 3; Nobs = 316; stratified, CV, weighted = false false true; time = 0.14 min \n",
      "Rep = 3; Nobs = 316; stratified, CV, weighted = false false false; time = 0.13 min \n",
      "Rep = 3; Nobs = 1000; stratified, CV, weighted = false true true; time = 0.28 min \n",
      "Rep = 3; Nobs = 1000; stratified, CV, weighted = false true false; time = 0.26 min \n",
      "Rep = 3; Nobs = 1000; stratified, CV, weighted = false false true; time = 0.14 min \n",
      "Rep = 3; Nobs = 1000; stratified, CV, weighted = false false false; time = 0.14 min \n",
      "Rep = 3; Nobs = 3162; stratified, CV, weighted = false true true; time = 0.3 min \n",
      "Rep = 3; Nobs = 3162; stratified, CV, weighted = false true false; time = 0.27 min \n",
      "Rep = 3; Nobs = 3162; stratified, CV, weighted = false false true; time = 0.16 min \n",
      "Rep = 3; Nobs = 3162; stratified, CV, weighted = false false false; time = 0.13 min \n"
     ]
    },
    {
     "name": "stderr",
     "output_type": "stream",
     "text": [
      "\r",
      "\u001b[32mProgress:  80%|█████████████████████████████████        |  ETA: 0:00:00\u001b[39m\r",
      "\u001b[32mProgress: 100%|█████████████████████████████████████████| Time: 0:00:00\u001b[39m\n"
     ]
    },
    {
     "name": "stdout",
     "output_type": "stream",
     "text": [
      "Rep = 3; Nobs = 10000; stratified, CV, weighted = false true true; time = 0.37 min \n"
     ]
    },
    {
     "name": "stderr",
     "output_type": "stream",
     "text": [
      "\r",
      "\u001b[32mProgress:  80%|█████████████████████████████████        |  ETA: 0:00:00\u001b[39m\r",
      "\u001b[32mProgress: 100%|█████████████████████████████████████████| Time: 0:00:00\u001b[39m\n"
     ]
    },
    {
     "name": "stdout",
     "output_type": "stream",
     "text": [
      "Rep = 3; Nobs = 10000; stratified, CV, weighted = false true false; time = 0.27 min \n",
      "Rep = 3; Nobs = 10000; stratified, CV, weighted = false false true; time = 0.22 min \n",
      "Rep = 3; Nobs = 10000; stratified, CV, weighted = false false false; time = 0.13 min \n"
     ]
    },
    {
     "name": "stderr",
     "output_type": "stream",
     "text": [
      "\u001b[32mProgress:  80%|█████████████████████████████████        |  ETA: 0:00:00\u001b[39m"
     ]
    },
    {
     "name": "stdout",
     "output_type": "stream",
     "text": [
      "Rep = 3; Nobs = 31622; stratified, CV, weighted = false true true; time = 0.58 min \n"
     ]
    },
    {
     "name": "stderr",
     "output_type": "stream",
     "text": [
      "\u001b[32mProgress: 100%|█████████████████████████████████████████| Time: 0:00:02\u001b[39m\n",
      "\u001b[32mProgress: 100%|█████████████████████████████████████████| Time: 0:00:02\u001b[39m\n"
     ]
    },
    {
     "name": "stdout",
     "output_type": "stream",
     "text": [
      "Rep = 3; Nobs = 31622; stratified, CV, weighted = false true false; time = 0.3 min \n",
      "Rep = 3; Nobs = 31622; stratified, CV, weighted = false false true; time = 0.41 min \n",
      "Rep = 3; Nobs = 31622; stratified, CV, weighted = false false false; time = 0.14 min \n",
      "Rep = 4; Nobs = 10; stratified, CV, weighted = false true true; time = 0.27 min \n",
      "Rep = 4; Nobs = 10; stratified, CV, weighted = false true false; time = 0.27 min \n",
      "Rep = 4; Nobs = 10; stratified, CV, weighted = false false true; time = 0.14 min \n",
      "Rep = 4; Nobs = 10; stratified, CV, weighted = false false false; time = 0.14 min \n",
      "Rep = 4; Nobs = 31; stratified, CV, weighted = false true true; time = 0.27 min \n",
      "Rep = 4; Nobs = 31; stratified, CV, weighted = false true false; time = 0.26 min \n",
      "Rep = 4; Nobs = 31; stratified, CV, weighted = false false true; time = 0.14 min \n",
      "Rep = 4; Nobs = 31; stratified, CV, weighted = false false false; time = 0.13 min \n",
      "Rep = 4; Nobs = 100; stratified, CV, weighted = false true true; time = 0.27 min \n",
      "Rep = 4; Nobs = 100; stratified, CV, weighted = false true false; time = 0.26 min \n",
      "Rep = 4; Nobs = 100; stratified, CV, weighted = false false true; time = 0.14 min \n",
      "Rep = 4; Nobs = 100; stratified, CV, weighted = false false false; time = 0.13 min \n",
      "Rep = 4; Nobs = 316; stratified, CV, weighted = false true true; time = 0.27 min \n",
      "Rep = 4; Nobs = 316; stratified, CV, weighted = false true false; time = 0.26 min \n",
      "Rep = 4; Nobs = 316; stratified, CV, weighted = false false true; time = 0.14 min \n",
      "Rep = 4; Nobs = 316; stratified, CV, weighted = false false false; time = 0.14 min \n",
      "Rep = 4; Nobs = 1000; stratified, CV, weighted = false true true; time = 0.27 min \n",
      "Rep = 4; Nobs = 1000; stratified, CV, weighted = false true false; time = 0.26 min \n",
      "Rep = 4; Nobs = 1000; stratified, CV, weighted = false false true; time = 0.14 min \n",
      "Rep = 4; Nobs = 1000; stratified, CV, weighted = false false false; time = 0.13 min \n",
      "Rep = 4; Nobs = 3162; stratified, CV, weighted = false true true; time = 0.29 min \n",
      "Rep = 4; Nobs = 3162; stratified, CV, weighted = false true false; time = 0.26 min \n",
      "Rep = 4; Nobs = 3162; stratified, CV, weighted = false false true; time = 0.17 min \n",
      "Rep = 4; Nobs = 3162; stratified, CV, weighted = false false false; time = 0.13 min \n"
     ]
    },
    {
     "name": "stderr",
     "output_type": "stream",
     "text": [
      "\r",
      "\u001b[32mProgress:  80%|█████████████████████████████████        |  ETA: 0:00:00\u001b[39m\r",
      "\u001b[32mProgress: 100%|█████████████████████████████████████████| Time: 0:00:00\u001b[39m\n"
     ]
    },
    {
     "name": "stdout",
     "output_type": "stream",
     "text": [
      "Rep = 4; Nobs = 10000; stratified, CV, weighted = false true true; time = 0.36 min \n"
     ]
    },
    {
     "name": "stderr",
     "output_type": "stream",
     "text": [
      "\r",
      "\u001b[32mProgress:  80%|█████████████████████████████████        |  ETA: 0:00:00\u001b[39m\r",
      "\u001b[32mProgress: 100%|█████████████████████████████████████████| Time: 0:00:00\u001b[39m\n"
     ]
    },
    {
     "name": "stdout",
     "output_type": "stream",
     "text": [
      "Rep = 4; Nobs = 10000; stratified, CV, weighted = false true false; time = 0.27 min \n",
      "Rep = 4; Nobs = 10000; stratified, CV, weighted = false false true; time = 0.22 min \n",
      "Rep = 4; Nobs = 10000; stratified, CV, weighted = false false false; time = 0.14 min \n"
     ]
    },
    {
     "name": "stderr",
     "output_type": "stream",
     "text": [
      "\u001b[32mProgress: 100%|█████████████████████████████████████████| Time: 0:00:02\u001b[39m\n"
     ]
    },
    {
     "name": "stdout",
     "output_type": "stream",
     "text": [
      "Rep = 4; Nobs = 31622; stratified, CV, weighted = false true true; time = 0.58 min \n"
     ]
    },
    {
     "name": "stderr",
     "output_type": "stream",
     "text": [
      "\u001b[32mProgress:  80%|█████████████████████████████████        |  ETA: 0:00:00\u001b[39m"
     ]
    },
    {
     "name": "stdout",
     "output_type": "stream",
     "text": [
      "Rep = 4; Nobs = 31622; stratified, CV, weighted = false true false; time = 0.29 min \n"
     ]
    },
    {
     "name": "stderr",
     "output_type": "stream",
     "text": [
      "\r",
      "\u001b[32mProgress: 100%|█████████████████████████████████████████| Time: 0:00:02\u001b[39m\n"
     ]
    },
    {
     "name": "stdout",
     "output_type": "stream",
     "text": [
      "Rep = 4; Nobs = 31622; stratified, CV, weighted = false false true; time = 0.41 min \n",
      "Rep = 4; Nobs = 31622; stratified, CV, weighted = false false false; time = 0.14 min \n",
      "Rep = 5; Nobs = 10; stratified, CV, weighted = false true true; time = 0.27 min \n",
      "Rep = 5; Nobs = 10; stratified, CV, weighted = false true false; time = 0.27 min \n",
      "Rep = 5; Nobs = 10; stratified, CV, weighted = false false true; time = 0.13 min \n",
      "Rep = 5; Nobs = 10; stratified, CV, weighted = false false false; time = 0.13 min \n",
      "Rep = 5; Nobs = 31; stratified, CV, weighted = false true true; time = 0.26 min \n",
      "Rep = 5; Nobs = 31; stratified, CV, weighted = false true false; time = 0.26 min \n",
      "Rep = 5; Nobs = 31; stratified, CV, weighted = false false true; time = 0.13 min \n",
      "Rep = 5; Nobs = 31; stratified, CV, weighted = false false false; time = 0.13 min \n",
      "Rep = 5; Nobs = 100; stratified, CV, weighted = false true true; time = 0.26 min \n",
      "Rep = 5; Nobs = 100; stratified, CV, weighted = false true false; time = 0.26 min \n",
      "Rep = 5; Nobs = 100; stratified, CV, weighted = false false true; time = 0.14 min \n",
      "Rep = 5; Nobs = 100; stratified, CV, weighted = false false false; time = 0.13 min \n",
      "Rep = 5; Nobs = 316; stratified, CV, weighted = false true true; time = 0.27 min \n",
      "Rep = 5; Nobs = 316; stratified, CV, weighted = false true false; time = 0.27 min \n",
      "Rep = 5; Nobs = 316; stratified, CV, weighted = false false true; time = 0.14 min \n",
      "Rep = 5; Nobs = 316; stratified, CV, weighted = false false false; time = 0.13 min \n",
      "Rep = 5; Nobs = 1000; stratified, CV, weighted = false true true; time = 0.28 min \n",
      "Rep = 5; Nobs = 1000; stratified, CV, weighted = false true false; time = 0.27 min \n",
      "Rep = 5; Nobs = 1000; stratified, CV, weighted = false false true; time = 0.15 min \n",
      "Rep = 5; Nobs = 1000; stratified, CV, weighted = false false false; time = 0.14 min \n",
      "Rep = 5; Nobs = 3162; stratified, CV, weighted = false true true; time = 0.3 min \n",
      "Rep = 5; Nobs = 3162; stratified, CV, weighted = false true false; time = 0.27 min \n",
      "Rep = 5; Nobs = 3162; stratified, CV, weighted = false false true; time = 0.17 min \n",
      "Rep = 5; Nobs = 3162; stratified, CV, weighted = false false false; time = 0.14 min \n"
     ]
    },
    {
     "name": "stderr",
     "output_type": "stream",
     "text": [
      "\r",
      "\u001b[32mProgress:  80%|█████████████████████████████████        |  ETA: 0:00:00\u001b[39m\r",
      "\u001b[32mProgress: 100%|█████████████████████████████████████████| Time: 0:00:00\u001b[39m\n"
     ]
    },
    {
     "name": "stdout",
     "output_type": "stream",
     "text": [
      "Rep = 5; Nobs = 10000; stratified, CV, weighted = false true true; time = 0.37 min \n"
     ]
    },
    {
     "name": "stderr",
     "output_type": "stream",
     "text": [
      "\r",
      "\u001b[32mProgress:  80%|█████████████████████████████████        |  ETA: 0:00:00\u001b[39m\r",
      "\u001b[32mProgress: 100%|█████████████████████████████████████████| Time: 0:00:00\u001b[39m\n"
     ]
    },
    {
     "name": "stdout",
     "output_type": "stream",
     "text": [
      "Rep = 5; Nobs = 10000; stratified, CV, weighted = false true false; time = 0.27 min \n",
      "Rep = 5; Nobs = 10000; stratified, CV, weighted = false false true; time = 0.22 min \n",
      "Rep = 5; Nobs = 10000; stratified, CV, weighted = false false false; time = 0.14 min \n"
     ]
    },
    {
     "name": "stderr",
     "output_type": "stream",
     "text": [
      "\u001b[32mProgress:  80%|█████████████████████████████████        |  ETA: 0:00:00\u001b[39m"
     ]
    },
    {
     "name": "stdout",
     "output_type": "stream",
     "text": [
      "Rep = 5; Nobs = 31622; stratified, CV, weighted = false true true; time = 0.58 min \n"
     ]
    },
    {
     "name": "stderr",
     "output_type": "stream",
     "text": [
      "\u001b[32mProgress: 100%|█████████████████████████████████████████| Time: 0:00:02\u001b[39m\n",
      "\u001b[32mProgress:  80%|█████████████████████████████████        |  ETA: 0:00:00\u001b[39m"
     ]
    },
    {
     "name": "stdout",
     "output_type": "stream",
     "text": [
      "Rep = 5; Nobs = 31622; stratified, CV, weighted = false true false; time = 0.32 min \n"
     ]
    },
    {
     "name": "stderr",
     "output_type": "stream",
     "text": [
      "\r",
      "\u001b[32mProgress: 100%|█████████████████████████████████████████| Time: 0:00:02\u001b[39m\n"
     ]
    },
    {
     "name": "stdout",
     "output_type": "stream",
     "text": [
      "Rep = 5; Nobs = 31622; stratified, CV, weighted = false false true; time = 0.42 min \n",
      "Rep = 5; Nobs = 31622; stratified, CV, weighted = false false false; time = 0.15 min \n",
      "Rep = 6; Nobs = 10; stratified, CV, weighted = false true true; time = 0.28 min \n",
      "Rep = 6; Nobs = 10; stratified, CV, weighted = false true false; time = 0.28 min \n",
      "Rep = 6; Nobs = 10; stratified, CV, weighted = false false true; time = 0.15 min \n",
      "Rep = 6; Nobs = 10; stratified, CV, weighted = false false false; time = 0.14 min \n",
      "Rep = 6; Nobs = 31; stratified, CV, weighted = false true true; time = 0.28 min \n",
      "Rep = 6; Nobs = 31; stratified, CV, weighted = false true false; time = 0.28 min \n",
      "Rep = 6; Nobs = 31; stratified, CV, weighted = false false true; time = 0.14 min \n",
      "Rep = 6; Nobs = 31; stratified, CV, weighted = false false false; time = 0.14 min \n",
      "Rep = 6; Nobs = 100; stratified, CV, weighted = false true true; time = 0.28 min \n",
      "Rep = 6; Nobs = 100; stratified, CV, weighted = false true false; time = 0.28 min \n",
      "Rep = 6; Nobs = 100; stratified, CV, weighted = false false true; time = 0.14 min \n",
      "Rep = 6; Nobs = 100; stratified, CV, weighted = false false false; time = 0.14 min \n",
      "Rep = 6; Nobs = 316; stratified, CV, weighted = false true true; time = 0.27 min \n",
      "Rep = 6; Nobs = 316; stratified, CV, weighted = false true false; time = 0.26 min \n",
      "Rep = 6; Nobs = 316; stratified, CV, weighted = false false true; time = 0.14 min \n",
      "Rep = 6; Nobs = 316; stratified, CV, weighted = false false false; time = 0.14 min \n",
      "Rep = 6; Nobs = 1000; stratified, CV, weighted = false true true; time = 0.28 min \n",
      "Rep = 6; Nobs = 1000; stratified, CV, weighted = false true false; time = 0.27 min \n",
      "Rep = 6; Nobs = 1000; stratified, CV, weighted = false false true; time = 0.15 min \n",
      "Rep = 6; Nobs = 1000; stratified, CV, weighted = false false false; time = 0.14 min \n",
      "Rep = 6; Nobs = 3162; stratified, CV, weighted = false true true; time = 0.31 min \n",
      "Rep = 6; Nobs = 3162; stratified, CV, weighted = false true false; time = 0.27 min \n",
      "Rep = 6; Nobs = 3162; stratified, CV, weighted = false false true; time = 0.17 min \n",
      "Rep = 6; Nobs = 3162; stratified, CV, weighted = false false false; time = 0.14 min \n"
     ]
    },
    {
     "name": "stderr",
     "output_type": "stream",
     "text": [
      "\r",
      "\u001b[32mProgress:  80%|█████████████████████████████████        |  ETA: 0:00:00\u001b[39m\r",
      "\u001b[32mProgress: 100%|█████████████████████████████████████████| Time: 0:00:00\u001b[39m\n"
     ]
    },
    {
     "name": "stdout",
     "output_type": "stream",
     "text": [
      "Rep = 6; Nobs = 10000; stratified, CV, weighted = false true true; time = 0.37 min \n"
     ]
    },
    {
     "name": "stderr",
     "output_type": "stream",
     "text": [
      "\r",
      "\u001b[32mProgress:  80%|█████████████████████████████████        |  ETA: 0:00:00\u001b[39m\r",
      "\u001b[32mProgress: 100%|█████████████████████████████████████████| Time: 0:00:00\u001b[39m\n"
     ]
    },
    {
     "name": "stdout",
     "output_type": "stream",
     "text": [
      "Rep = 6; Nobs = 10000; stratified, CV, weighted = false true false; time = 0.27 min \n",
      "Rep = 6; Nobs = 10000; stratified, CV, weighted = false false true; time = 0.22 min \n",
      "Rep = 6; Nobs = 10000; stratified, CV, weighted = false false false; time = 0.13 min \n"
     ]
    },
    {
     "name": "stderr",
     "output_type": "stream",
     "text": [
      "\u001b[32mProgress:  80%|█████████████████████████████████        |  ETA: 0:00:00\u001b[39m"
     ]
    },
    {
     "name": "stdout",
     "output_type": "stream",
     "text": [
      "Rep = 6; Nobs = 31622; stratified, CV, weighted = false true true; time = 0.56 min \n"
     ]
    },
    {
     "name": "stderr",
     "output_type": "stream",
     "text": [
      "\u001b[32mProgress: 100%|█████████████████████████████████████████| Time: 0:00:02\u001b[39m\n",
      "\u001b[32mProgress:  80%|█████████████████████████████████        |  ETA: 0:00:00\u001b[39m"
     ]
    },
    {
     "name": "stdout",
     "output_type": "stream",
     "text": [
      "Rep = 6; Nobs = 31622; stratified, CV, weighted = false true false; time = 0.29 min \n"
     ]
    },
    {
     "name": "stderr",
     "output_type": "stream",
     "text": [
      "\r",
      "\u001b[32mProgress: 100%|█████████████████████████████████████████| Time: 0:00:02\u001b[39m\n"
     ]
    },
    {
     "name": "stdout",
     "output_type": "stream",
     "text": [
      "Rep = 6; Nobs = 31622; stratified, CV, weighted = false false true; time = 0.39 min \n",
      "Rep = 6; Nobs = 31622; stratified, CV, weighted = false false false; time = 0.13 min \n",
      "Rep = 7; Nobs = 10; stratified, CV, weighted = false true true; time = 0.26 min \n",
      "Rep = 7; Nobs = 10; stratified, CV, weighted = false true false; time = 0.25 min \n",
      "Rep = 7; Nobs = 10; stratified, CV, weighted = false false true; time = 0.13 min \n",
      "Rep = 7; Nobs = 10; stratified, CV, weighted = false false false; time = 0.13 min \n",
      "Rep = 7; Nobs = 31; stratified, CV, weighted = false true true; time = 0.26 min \n",
      "Rep = 7; Nobs = 31; stratified, CV, weighted = false true false; time = 0.26 min \n",
      "Rep = 7; Nobs = 31; stratified, CV, weighted = false false true; time = 0.13 min \n",
      "Rep = 7; Nobs = 31; stratified, CV, weighted = false false false; time = 0.13 min \n",
      "Rep = 7; Nobs = 100; stratified, CV, weighted = false true true; time = 0.26 min \n",
      "Rep = 7; Nobs = 100; stratified, CV, weighted = false true false; time = 0.26 min \n",
      "Rep = 7; Nobs = 100; stratified, CV, weighted = false false true; time = 0.13 min \n",
      "Rep = 7; Nobs = 100; stratified, CV, weighted = false false false; time = 0.13 min \n",
      "Rep = 7; Nobs = 316; stratified, CV, weighted = false true true; time = 0.26 min \n",
      "Rep = 7; Nobs = 316; stratified, CV, weighted = false true false; time = 0.26 min \n",
      "Rep = 7; Nobs = 316; stratified, CV, weighted = false false true; time = 0.14 min \n",
      "Rep = 7; Nobs = 316; stratified, CV, weighted = false false false; time = 0.13 min \n",
      "Rep = 7; Nobs = 1000; stratified, CV, weighted = false true true; time = 0.27 min \n",
      "Rep = 7; Nobs = 1000; stratified, CV, weighted = false true false; time = 0.26 min \n",
      "Rep = 7; Nobs = 1000; stratified, CV, weighted = false false true; time = 0.14 min \n",
      "Rep = 7; Nobs = 1000; stratified, CV, weighted = false false false; time = 0.13 min \n",
      "Rep = 7; Nobs = 3162; stratified, CV, weighted = false true true; time = 0.29 min \n",
      "Rep = 7; Nobs = 3162; stratified, CV, weighted = false true false; time = 0.26 min \n",
      "Rep = 7; Nobs = 3162; stratified, CV, weighted = false false true; time = 0.16 min \n",
      "Rep = 7; Nobs = 3162; stratified, CV, weighted = false false false; time = 0.13 min \n"
     ]
    },
    {
     "name": "stderr",
     "output_type": "stream",
     "text": [
      "\r",
      "\u001b[32mProgress:  80%|█████████████████████████████████        |  ETA: 0:00:00\u001b[39m\r",
      "\u001b[32mProgress: 100%|█████████████████████████████████████████| Time: 0:00:00\u001b[39m\n"
     ]
    },
    {
     "name": "stdout",
     "output_type": "stream",
     "text": [
      "Rep = 7; Nobs = 10000; stratified, CV, weighted = false true true; time = 0.35 min \n"
     ]
    },
    {
     "name": "stderr",
     "output_type": "stream",
     "text": [
      "\r",
      "\u001b[32mProgress:  80%|█████████████████████████████████        |  ETA: 0:00:00\u001b[39m\r",
      "\u001b[32mProgress: 100%|█████████████████████████████████████████| Time: 0:00:00\u001b[39m\n"
     ]
    },
    {
     "name": "stdout",
     "output_type": "stream",
     "text": [
      "Rep = 7; Nobs = 10000; stratified, CV, weighted = false true false; time = 0.26 min \n",
      "Rep = 7; Nobs = 10000; stratified, CV, weighted = false false true; time = 0.22 min \n",
      "Rep = 7; Nobs = 10000; stratified, CV, weighted = false false false; time = 0.13 min \n"
     ]
    },
    {
     "name": "stderr",
     "output_type": "stream",
     "text": [
      "\u001b[32mProgress: 100%|█████████████████████████████████████████| Time: 0:00:02\u001b[39m\n"
     ]
    },
    {
     "name": "stdout",
     "output_type": "stream",
     "text": [
      "Rep = 7; Nobs = 31622; stratified, CV, weighted = false true true; time = 0.56 min \n"
     ]
    },
    {
     "name": "stderr",
     "output_type": "stream",
     "text": [
      "\u001b[32mProgress:  80%|█████████████████████████████████        |  ETA: 0:00:00\u001b[39m"
     ]
    },
    {
     "name": "stdout",
     "output_type": "stream",
     "text": [
      "Rep = 7; Nobs = 31622; stratified, CV, weighted = false true false; time = 0.29 min \n"
     ]
    },
    {
     "name": "stderr",
     "output_type": "stream",
     "text": [
      "\r",
      "\u001b[32mProgress: 100%|█████████████████████████████████████████| Time: 0:00:02\u001b[39m\n"
     ]
    },
    {
     "name": "stdout",
     "output_type": "stream",
     "text": [
      "Rep = 7; Nobs = 31622; stratified, CV, weighted = false false true; time = 0.39 min \n",
      "Rep = 7; Nobs = 31622; stratified, CV, weighted = false false false; time = 0.13 min \n",
      "Rep = 8; Nobs = 10; stratified, CV, weighted = false true true; time = 0.26 min \n",
      "Rep = 8; Nobs = 10; stratified, CV, weighted = false true false; time = 0.26 min \n",
      "Rep = 8; Nobs = 10; stratified, CV, weighted = false false true; time = 0.13 min \n",
      "Rep = 8; Nobs = 10; stratified, CV, weighted = false false false; time = 0.13 min \n",
      "Rep = 8; Nobs = 31; stratified, CV, weighted = false true true; time = 0.26 min \n",
      "Rep = 8; Nobs = 31; stratified, CV, weighted = false true false; time = 0.25 min \n",
      "Rep = 8; Nobs = 31; stratified, CV, weighted = false false true; time = 0.13 min \n",
      "Rep = 8; Nobs = 31; stratified, CV, weighted = false false false; time = 0.13 min \n",
      "Rep = 8; Nobs = 100; stratified, CV, weighted = false true true; time = 0.26 min \n",
      "Rep = 8; Nobs = 100; stratified, CV, weighted = false true false; time = 0.26 min \n",
      "Rep = 8; Nobs = 100; stratified, CV, weighted = false false true; time = 0.13 min \n",
      "Rep = 8; Nobs = 100; stratified, CV, weighted = false false false; time = 0.13 min \n",
      "Rep = 8; Nobs = 316; stratified, CV, weighted = false true true; time = 0.26 min \n",
      "Rep = 8; Nobs = 316; stratified, CV, weighted = false true false; time = 0.26 min \n",
      "Rep = 8; Nobs = 316; stratified, CV, weighted = false false true; time = 0.13 min \n",
      "Rep = 8; Nobs = 316; stratified, CV, weighted = false false false; time = 0.13 min \n",
      "Rep = 8; Nobs = 1000; stratified, CV, weighted = false true true; time = 0.27 min \n",
      "Rep = 8; Nobs = 1000; stratified, CV, weighted = false true false; time = 0.26 min \n",
      "Rep = 8; Nobs = 1000; stratified, CV, weighted = false false true; time = 0.14 min \n",
      "Rep = 8; Nobs = 1000; stratified, CV, weighted = false false false; time = 0.13 min \n",
      "Rep = 8; Nobs = 3162; stratified, CV, weighted = false true true; time = 0.29 min \n",
      "Rep = 8; Nobs = 3162; stratified, CV, weighted = false true false; time = 0.26 min \n",
      "Rep = 8; Nobs = 3162; stratified, CV, weighted = false false true; time = 0.16 min \n",
      "Rep = 8; Nobs = 3162; stratified, CV, weighted = false false false; time = 0.13 min \n"
     ]
    },
    {
     "name": "stderr",
     "output_type": "stream",
     "text": [
      "\r",
      "\u001b[32mProgress:  80%|█████████████████████████████████        |  ETA: 0:00:00\u001b[39m\r",
      "\u001b[32mProgress: 100%|█████████████████████████████████████████| Time: 0:00:00\u001b[39m\n"
     ]
    },
    {
     "name": "stdout",
     "output_type": "stream",
     "text": [
      "Rep = 8; Nobs = 10000; stratified, CV, weighted = false true true; time = 0.35 min \n"
     ]
    },
    {
     "name": "stderr",
     "output_type": "stream",
     "text": [
      "\r",
      "\u001b[32mProgress:  80%|█████████████████████████████████        |  ETA: 0:00:00\u001b[39m\r",
      "\u001b[32mProgress: 100%|█████████████████████████████████████████| Time: 0:00:00\u001b[39m\n"
     ]
    },
    {
     "name": "stdout",
     "output_type": "stream",
     "text": [
      "Rep = 8; Nobs = 10000; stratified, CV, weighted = false true false; time = 0.26 min \n",
      "Rep = 8; Nobs = 10000; stratified, CV, weighted = false false true; time = 0.22 min \n",
      "Rep = 8; Nobs = 10000; stratified, CV, weighted = false false false; time = 0.13 min \n"
     ]
    },
    {
     "name": "stderr",
     "output_type": "stream",
     "text": [
      "\u001b[32mProgress: 100%|█████████████████████████████████████████| Time: 0:00:02\u001b[39m\n"
     ]
    },
    {
     "name": "stdout",
     "output_type": "stream",
     "text": [
      "Rep = 8; Nobs = 31622; stratified, CV, weighted = false true true; time = 0.56 min \n"
     ]
    },
    {
     "name": "stderr",
     "output_type": "stream",
     "text": [
      "\u001b[32mProgress:  80%|█████████████████████████████████        |  ETA: 0:00:00\u001b[39m"
     ]
    },
    {
     "name": "stdout",
     "output_type": "stream",
     "text": [
      "Rep = 8; Nobs = 31622; stratified, CV, weighted = false true false; time = 0.29 min \n"
     ]
    },
    {
     "name": "stderr",
     "output_type": "stream",
     "text": [
      "\r",
      "\u001b[32mProgress: 100%|█████████████████████████████████████████| Time: 0:00:02\u001b[39m\n"
     ]
    },
    {
     "name": "stdout",
     "output_type": "stream",
     "text": [
      "Rep = 8; Nobs = 31622; stratified, CV, weighted = false false true; time = 0.39 min \n",
      "Rep = 8; Nobs = 31622; stratified, CV, weighted = false false false; time = 0.13 min \n",
      "Rep = 9; Nobs = 10; stratified, CV, weighted = false true true; time = 0.26 min \n",
      "Rep = 9; Nobs = 10; stratified, CV, weighted = false true false; time = 0.26 min \n",
      "Rep = 9; Nobs = 10; stratified, CV, weighted = false false true; time = 0.13 min \n",
      "Rep = 9; Nobs = 10; stratified, CV, weighted = false false false; time = 0.13 min \n",
      "Rep = 9; Nobs = 31; stratified, CV, weighted = false true true; time = 0.26 min \n",
      "Rep = 9; Nobs = 31; stratified, CV, weighted = false true false; time = 0.26 min \n",
      "Rep = 9; Nobs = 31; stratified, CV, weighted = false false true; time = 0.13 min \n",
      "Rep = 9; Nobs = 31; stratified, CV, weighted = false false false; time = 0.13 min \n",
      "Rep = 9; Nobs = 100; stratified, CV, weighted = false true true; time = 0.26 min \n",
      "Rep = 9; Nobs = 100; stratified, CV, weighted = false true false; time = 0.26 min \n",
      "Rep = 9; Nobs = 100; stratified, CV, weighted = false false true; time = 0.13 min \n",
      "Rep = 9; Nobs = 100; stratified, CV, weighted = false false false; time = 0.13 min \n",
      "Rep = 9; Nobs = 316; stratified, CV, weighted = false true true; time = 0.26 min \n",
      "Rep = 9; Nobs = 316; stratified, CV, weighted = false true false; time = 0.26 min \n",
      "Rep = 9; Nobs = 316; stratified, CV, weighted = false false true; time = 0.14 min \n",
      "Rep = 9; Nobs = 316; stratified, CV, weighted = false false false; time = 0.13 min \n",
      "Rep = 9; Nobs = 1000; stratified, CV, weighted = false true true; time = 0.27 min \n",
      "Rep = 9; Nobs = 1000; stratified, CV, weighted = false true false; time = 0.26 min \n",
      "Rep = 9; Nobs = 1000; stratified, CV, weighted = false false true; time = 0.14 min \n",
      "Rep = 9; Nobs = 1000; stratified, CV, weighted = false false false; time = 0.13 min \n",
      "Rep = 9; Nobs = 3162; stratified, CV, weighted = false true true; time = 0.29 min \n",
      "Rep = 9; Nobs = 3162; stratified, CV, weighted = false true false; time = 0.26 min \n",
      "Rep = 9; Nobs = 3162; stratified, CV, weighted = false false true; time = 0.16 min \n",
      "Rep = 9; Nobs = 3162; stratified, CV, weighted = false false false; time = 0.13 min \n"
     ]
    },
    {
     "name": "stderr",
     "output_type": "stream",
     "text": [
      "\r",
      "\u001b[32mProgress:  80%|█████████████████████████████████        |  ETA: 0:00:00\u001b[39m\r",
      "\u001b[32mProgress: 100%|█████████████████████████████████████████| Time: 0:00:00\u001b[39m\n"
     ]
    },
    {
     "name": "stdout",
     "output_type": "stream",
     "text": [
      "Rep = 9; Nobs = 10000; stratified, CV, weighted = false true true; time = 0.36 min \n"
     ]
    },
    {
     "name": "stderr",
     "output_type": "stream",
     "text": [
      "\r",
      "\u001b[32mProgress:  80%|█████████████████████████████████        |  ETA: 0:00:00\u001b[39m\r",
      "\u001b[32mProgress: 100%|█████████████████████████████████████████| Time: 0:00:00\u001b[39m\n"
     ]
    },
    {
     "name": "stdout",
     "output_type": "stream",
     "text": [
      "Rep = 9; Nobs = 10000; stratified, CV, weighted = false true false; time = 0.26 min \n",
      "Rep = 9; Nobs = 10000; stratified, CV, weighted = false false true; time = 0.22 min \n",
      "Rep = 9; Nobs = 10000; stratified, CV, weighted = false false false; time = 0.13 min \n"
     ]
    },
    {
     "name": "stderr",
     "output_type": "stream",
     "text": [
      "\u001b[32mProgress: 100%|█████████████████████████████████████████| Time: 0:00:02\u001b[39m\n"
     ]
    },
    {
     "name": "stdout",
     "output_type": "stream",
     "text": [
      "Rep = 9; Nobs = 31622; stratified, CV, weighted = false true true; time = 0.56 min \n"
     ]
    },
    {
     "name": "stderr",
     "output_type": "stream",
     "text": [
      "\u001b[32mProgress:  80%|█████████████████████████████████        |  ETA: 0:00:00\u001b[39m"
     ]
    },
    {
     "name": "stdout",
     "output_type": "stream",
     "text": [
      "Rep = 9; Nobs = 31622; stratified, CV, weighted = false true false; time = 0.29 min \n"
     ]
    },
    {
     "name": "stderr",
     "output_type": "stream",
     "text": [
      "\r",
      "\u001b[32mProgress: 100%|█████████████████████████████████████████| Time: 0:00:02\u001b[39m\n"
     ]
    },
    {
     "name": "stdout",
     "output_type": "stream",
     "text": [
      "Rep = 9; Nobs = 31622; stratified, CV, weighted = false false true; time = 0.39 min \n",
      "Rep = 9; Nobs = 31622; stratified, CV, weighted = false false false; time = 0.13 min \n",
      "Rep = 10; Nobs = 10; stratified, CV, weighted = false true true; time = 0.26 min \n",
      "Rep = 10; Nobs = 10; stratified, CV, weighted = false true false; time = 0.26 min \n",
      "Rep = 10; Nobs = 10; stratified, CV, weighted = false false true; time = 0.13 min \n",
      "Rep = 10; Nobs = 10; stratified, CV, weighted = false false false; time = 0.13 min \n",
      "Rep = 10; Nobs = 31; stratified, CV, weighted = false true true; time = 0.26 min \n",
      "Rep = 10; Nobs = 31; stratified, CV, weighted = false true false; time = 0.25 min \n",
      "Rep = 10; Nobs = 31; stratified, CV, weighted = false false true; time = 0.13 min \n",
      "Rep = 10; Nobs = 31; stratified, CV, weighted = false false false; time = 0.13 min \n",
      "Rep = 10; Nobs = 100; stratified, CV, weighted = false true true; time = 0.26 min \n",
      "Rep = 10; Nobs = 100; stratified, CV, weighted = false true false; time = 0.26 min \n",
      "Rep = 10; Nobs = 100; stratified, CV, weighted = false false true; time = 0.13 min \n",
      "Rep = 10; Nobs = 100; stratified, CV, weighted = false false false; time = 0.13 min \n",
      "Rep = 10; Nobs = 316; stratified, CV, weighted = false true true; time = 0.26 min \n",
      "Rep = 10; Nobs = 316; stratified, CV, weighted = false true false; time = 0.26 min \n",
      "Rep = 10; Nobs = 316; stratified, CV, weighted = false false true; time = 0.13 min \n",
      "Rep = 10; Nobs = 316; stratified, CV, weighted = false false false; time = 0.13 min \n",
      "Rep = 10; Nobs = 1000; stratified, CV, weighted = false true true; time = 0.27 min \n",
      "Rep = 10; Nobs = 1000; stratified, CV, weighted = false true false; time = 0.26 min \n",
      "Rep = 10; Nobs = 1000; stratified, CV, weighted = false false true; time = 0.14 min \n",
      "Rep = 10; Nobs = 1000; stratified, CV, weighted = false false false; time = 0.13 min \n",
      "Rep = 10; Nobs = 3162; stratified, CV, weighted = false true true; time = 0.29 min \n",
      "Rep = 10; Nobs = 3162; stratified, CV, weighted = false true false; time = 0.26 min \n",
      "Rep = 10; Nobs = 3162; stratified, CV, weighted = false false true; time = 0.16 min \n",
      "Rep = 10; Nobs = 3162; stratified, CV, weighted = false false false; time = 0.13 min \n"
     ]
    },
    {
     "name": "stderr",
     "output_type": "stream",
     "text": [
      "\r",
      "\u001b[32mProgress:  80%|█████████████████████████████████        |  ETA: 0:00:00\u001b[39m\r",
      "\u001b[32mProgress: 100%|█████████████████████████████████████████| Time: 0:00:00\u001b[39m\n"
     ]
    },
    {
     "name": "stdout",
     "output_type": "stream",
     "text": [
      "Rep = 10; Nobs = 10000; stratified, CV, weighted = false true true; time = 0.35 min \n"
     ]
    },
    {
     "name": "stderr",
     "output_type": "stream",
     "text": [
      "\r",
      "\u001b[32mProgress:  80%|█████████████████████████████████        |  ETA: 0:00:00\u001b[39m\r",
      "\u001b[32mProgress: 100%|█████████████████████████████████████████| Time: 0:00:00\u001b[39m\n"
     ]
    },
    {
     "name": "stdout",
     "output_type": "stream",
     "text": [
      "Rep = 10; Nobs = 10000; stratified, CV, weighted = false true false; time = 0.26 min \n",
      "Rep = 10; Nobs = 10000; stratified, CV, weighted = false false true; time = 0.22 min \n",
      "Rep = 10; Nobs = 10000; stratified, CV, weighted = false false false; time = 0.13 min \n"
     ]
    },
    {
     "name": "stderr",
     "output_type": "stream",
     "text": [
      "\u001b[32mProgress: 100%|█████████████████████████████████████████| Time: 0:00:02\u001b[39m\n"
     ]
    },
    {
     "name": "stdout",
     "output_type": "stream",
     "text": [
      "Rep = 10; Nobs = 31622; stratified, CV, weighted = false true true; time = 0.56 min \n"
     ]
    },
    {
     "name": "stderr",
     "output_type": "stream",
     "text": [
      "\u001b[32mProgress: 100%|█████████████████████████████████████████| Time: 0:00:02\u001b[39m\n"
     ]
    },
    {
     "name": "stdout",
     "output_type": "stream",
     "text": [
      "Rep = 10; Nobs = 31622; stratified, CV, weighted = false true false; time = 0.28 min \n",
      "Rep = 10; Nobs = 31622; stratified, CV, weighted = false false true; time = 0.39 min \n",
      "Rep = 10; Nobs = 31622; stratified, CV, weighted = false false false; time = 0.13 min \n",
      "Rep = 11; Nobs = 10; stratified, CV, weighted = false true true; time = 0.26 min \n",
      "Rep = 11; Nobs = 10; stratified, CV, weighted = false true false; time = 0.26 min \n",
      "Rep = 11; Nobs = 10; stratified, CV, weighted = false false true; time = 0.13 min \n",
      "Rep = 11; Nobs = 10; stratified, CV, weighted = false false false; time = 0.13 min \n",
      "Rep = 11; Nobs = 31; stratified, CV, weighted = false true true; time = 0.26 min \n",
      "Rep = 11; Nobs = 31; stratified, CV, weighted = false true false; time = 0.25 min \n",
      "Rep = 11; Nobs = 31; stratified, CV, weighted = false false true; time = 0.13 min \n",
      "Rep = 11; Nobs = 31; stratified, CV, weighted = false false false; time = 0.13 min \n",
      "Rep = 11; Nobs = 100; stratified, CV, weighted = false true true; time = 0.26 min \n",
      "Rep = 11; Nobs = 100; stratified, CV, weighted = false true false; time = 0.25 min \n",
      "Rep = 11; Nobs = 100; stratified, CV, weighted = false false true; time = 0.13 min \n",
      "Rep = 11; Nobs = 100; stratified, CV, weighted = false false false; time = 0.13 min \n",
      "Rep = 11; Nobs = 316; stratified, CV, weighted = false true true; time = 0.26 min \n",
      "Rep = 11; Nobs = 316; stratified, CV, weighted = false true false; time = 0.26 min \n",
      "Rep = 11; Nobs = 316; stratified, CV, weighted = false false true; time = 0.13 min \n",
      "Rep = 11; Nobs = 316; stratified, CV, weighted = false false false; time = 0.13 min \n",
      "Rep = 11; Nobs = 1000; stratified, CV, weighted = false true true; time = 0.27 min \n",
      "Rep = 11; Nobs = 1000; stratified, CV, weighted = false true false; time = 0.26 min \n",
      "Rep = 11; Nobs = 1000; stratified, CV, weighted = false false true; time = 0.14 min \n",
      "Rep = 11; Nobs = 1000; stratified, CV, weighted = false false false; time = 0.13 min \n",
      "Rep = 11; Nobs = 3162; stratified, CV, weighted = false true true; time = 0.29 min \n",
      "Rep = 11; Nobs = 3162; stratified, CV, weighted = false true false; time = 0.26 min \n",
      "Rep = 11; Nobs = 3162; stratified, CV, weighted = false false true; time = 0.16 min \n",
      "Rep = 11; Nobs = 3162; stratified, CV, weighted = false false false; time = 0.13 min \n"
     ]
    },
    {
     "name": "stderr",
     "output_type": "stream",
     "text": [
      "\r",
      "\u001b[32mProgress:  80%|█████████████████████████████████        |  ETA: 0:00:00\u001b[39m\r",
      "\u001b[32mProgress: 100%|█████████████████████████████████████████| Time: 0:00:00\u001b[39m\n"
     ]
    },
    {
     "name": "stdout",
     "output_type": "stream",
     "text": [
      "Rep = 11; Nobs = 10000; stratified, CV, weighted = false true true; time = 0.36 min \n"
     ]
    },
    {
     "name": "stderr",
     "output_type": "stream",
     "text": [
      "\r",
      "\u001b[32mProgress:  80%|█████████████████████████████████        |  ETA: 0:00:00\u001b[39m\r",
      "\u001b[32mProgress: 100%|█████████████████████████████████████████| Time: 0:00:00\u001b[39m\n"
     ]
    },
    {
     "name": "stdout",
     "output_type": "stream",
     "text": [
      "Rep = 11; Nobs = 10000; stratified, CV, weighted = false true false; time = 0.26 min \n",
      "Rep = 11; Nobs = 10000; stratified, CV, weighted = false false true; time = 0.22 min \n",
      "Rep = 11; Nobs = 10000; stratified, CV, weighted = false false false; time = 0.13 min \n"
     ]
    },
    {
     "name": "stderr",
     "output_type": "stream",
     "text": [
      "\u001b[32mProgress:  80%|█████████████████████████████████        |  ETA: 0:00:00\u001b[39m"
     ]
    },
    {
     "name": "stdout",
     "output_type": "stream",
     "text": [
      "Rep = 11; Nobs = 31622; stratified, CV, weighted = false true true; time = 0.55 min \n"
     ]
    },
    {
     "name": "stderr",
     "output_type": "stream",
     "text": [
      "\u001b[32mProgress: 100%|█████████████████████████████████████████| Time: 0:00:02\u001b[39m\n",
      "\u001b[32mProgress:  80%|█████████████████████████████████        |  ETA: 0:00:00\u001b[39m"
     ]
    },
    {
     "name": "stdout",
     "output_type": "stream",
     "text": [
      "Rep = 11; Nobs = 31622; stratified, CV, weighted = false true false; time = 0.29 min \n"
     ]
    },
    {
     "name": "stderr",
     "output_type": "stream",
     "text": [
      "\r",
      "\u001b[32mProgress: 100%|█████████████████████████████████████████| Time: 0:00:02\u001b[39m\n"
     ]
    },
    {
     "name": "stdout",
     "output_type": "stream",
     "text": [
      "Rep = 11; Nobs = 31622; stratified, CV, weighted = false false true; time = 0.39 min \n",
      "Rep = 11; Nobs = 31622; stratified, CV, weighted = false false false; time = 0.13 min \n",
      "Rep = 12; Nobs = 10; stratified, CV, weighted = false true true; time = 0.26 min \n",
      "Rep = 12; Nobs = 10; stratified, CV, weighted = false true false; time = 0.26 min \n",
      "Rep = 12; Nobs = 10; stratified, CV, weighted = false false true; time = 0.13 min \n",
      "Rep = 12; Nobs = 10; stratified, CV, weighted = false false false; time = 0.13 min \n",
      "Rep = 12; Nobs = 31; stratified, CV, weighted = false true true; time = 0.26 min \n",
      "Rep = 12; Nobs = 31; stratified, CV, weighted = false true false; time = 0.26 min \n",
      "Rep = 12; Nobs = 31; stratified, CV, weighted = false false true; time = 0.13 min \n",
      "Rep = 12; Nobs = 31; stratified, CV, weighted = false false false; time = 0.13 min \n",
      "Rep = 12; Nobs = 100; stratified, CV, weighted = false true true; time = 0.26 min \n",
      "Rep = 12; Nobs = 100; stratified, CV, weighted = false true false; time = 0.25 min \n",
      "Rep = 12; Nobs = 100; stratified, CV, weighted = false false true; time = 0.13 min \n",
      "Rep = 12; Nobs = 100; stratified, CV, weighted = false false false; time = 0.13 min \n",
      "Rep = 12; Nobs = 316; stratified, CV, weighted = false true true; time = 0.26 min \n",
      "Rep = 12; Nobs = 316; stratified, CV, weighted = false true false; time = 0.26 min \n",
      "Rep = 12; Nobs = 316; stratified, CV, weighted = false false true; time = 0.14 min \n",
      "Rep = 12; Nobs = 316; stratified, CV, weighted = false false false; time = 0.13 min \n",
      "Rep = 12; Nobs = 1000; stratified, CV, weighted = false true true; time = 0.27 min \n",
      "Rep = 12; Nobs = 1000; stratified, CV, weighted = false true false; time = 0.26 min \n",
      "Rep = 12; Nobs = 1000; stratified, CV, weighted = false false true; time = 0.14 min \n",
      "Rep = 12; Nobs = 1000; stratified, CV, weighted = false false false; time = 0.13 min \n",
      "Rep = 12; Nobs = 3162; stratified, CV, weighted = false true true; time = 0.29 min \n",
      "Rep = 12; Nobs = 3162; stratified, CV, weighted = false true false; time = 0.26 min \n",
      "Rep = 12; Nobs = 3162; stratified, CV, weighted = false false true; time = 0.16 min \n",
      "Rep = 12; Nobs = 3162; stratified, CV, weighted = false false false; time = 0.13 min \n"
     ]
    },
    {
     "name": "stderr",
     "output_type": "stream",
     "text": [
      "\r",
      "\u001b[32mProgress:  80%|█████████████████████████████████        |  ETA: 0:00:00\u001b[39m\r",
      "\u001b[32mProgress: 100%|█████████████████████████████████████████| Time: 0:00:00\u001b[39m\n"
     ]
    },
    {
     "name": "stdout",
     "output_type": "stream",
     "text": [
      "Rep = 12; Nobs = 10000; stratified, CV, weighted = false true true; time = 0.35 min \n"
     ]
    },
    {
     "name": "stderr",
     "output_type": "stream",
     "text": [
      "\r",
      "\u001b[32mProgress:  80%|█████████████████████████████████        |  ETA: 0:00:00\u001b[39m\r",
      "\u001b[32mProgress: 100%|█████████████████████████████████████████| Time: 0:00:00\u001b[39m\n"
     ]
    },
    {
     "name": "stdout",
     "output_type": "stream",
     "text": [
      "Rep = 12; Nobs = 10000; stratified, CV, weighted = false true false; time = 0.26 min \n",
      "Rep = 12; Nobs = 10000; stratified, CV, weighted = false false true; time = 0.22 min \n",
      "Rep = 12; Nobs = 10000; stratified, CV, weighted = false false false; time = 0.13 min \n"
     ]
    },
    {
     "name": "stderr",
     "output_type": "stream",
     "text": [
      "\u001b[32mProgress:  80%|█████████████████████████████████        |  ETA: 0:00:00\u001b[39m"
     ]
    },
    {
     "name": "stdout",
     "output_type": "stream",
     "text": [
      "Rep = 12; Nobs = 31622; stratified, CV, weighted = false true true; time = 0.56 min \n"
     ]
    },
    {
     "name": "stderr",
     "output_type": "stream",
     "text": [
      "\u001b[32mProgress: 100%|█████████████████████████████████████████| Time: 0:00:02\u001b[39m\n",
      "\u001b[32mProgress:  80%|█████████████████████████████████        |  ETA: 0:00:00\u001b[39m"
     ]
    },
    {
     "name": "stdout",
     "output_type": "stream",
     "text": [
      "Rep = 12; Nobs = 31622; stratified, CV, weighted = false true false; time = 0.28 min \n"
     ]
    },
    {
     "name": "stderr",
     "output_type": "stream",
     "text": [
      "\r",
      "\u001b[32mProgress: 100%|█████████████████████████████████████████| Time: 0:00:02\u001b[39m\n"
     ]
    },
    {
     "name": "stdout",
     "output_type": "stream",
     "text": [
      "Rep = 12; Nobs = 31622; stratified, CV, weighted = false false true; time = 0.39 min \n",
      "Rep = 12; Nobs = 31622; stratified, CV, weighted = false false false; time = 0.13 min \n",
      "Rep = 13; Nobs = 10; stratified, CV, weighted = false true true; time = 0.26 min \n",
      "Rep = 13; Nobs = 10; stratified, CV, weighted = false true false; time = 0.26 min \n",
      "Rep = 13; Nobs = 10; stratified, CV, weighted = false false true; time = 0.13 min \n",
      "Rep = 13; Nobs = 10; stratified, CV, weighted = false false false; time = 0.13 min \n",
      "Rep = 13; Nobs = 31; stratified, CV, weighted = false true true; time = 0.26 min \n",
      "Rep = 13; Nobs = 31; stratified, CV, weighted = false true false; time = 0.26 min \n",
      "Rep = 13; Nobs = 31; stratified, CV, weighted = false false true; time = 0.14 min \n",
      "Rep = 13; Nobs = 31; stratified, CV, weighted = false false false; time = 0.13 min \n",
      "Rep = 13; Nobs = 100; stratified, CV, weighted = false true true; time = 0.26 min \n",
      "Rep = 13; Nobs = 100; stratified, CV, weighted = false true false; time = 0.26 min \n",
      "Rep = 13; Nobs = 100; stratified, CV, weighted = false false true; time = 0.14 min \n",
      "Rep = 13; Nobs = 100; stratified, CV, weighted = false false false; time = 0.13 min \n",
      "Rep = 13; Nobs = 316; stratified, CV, weighted = false true true; time = 0.27 min \n",
      "Rep = 13; Nobs = 316; stratified, CV, weighted = false true false; time = 0.26 min \n",
      "Rep = 13; Nobs = 316; stratified, CV, weighted = false false true; time = 0.14 min \n",
      "Rep = 13; Nobs = 316; stratified, CV, weighted = false false false; time = 0.13 min \n",
      "Rep = 13; Nobs = 1000; stratified, CV, weighted = false true true; time = 0.27 min \n",
      "Rep = 13; Nobs = 1000; stratified, CV, weighted = false true false; time = 0.26 min \n",
      "Rep = 13; Nobs = 1000; stratified, CV, weighted = false false true; time = 0.14 min \n",
      "Rep = 13; Nobs = 1000; stratified, CV, weighted = false false false; time = 0.13 min \n",
      "Rep = 13; Nobs = 3162; stratified, CV, weighted = false true true; time = 0.3 min \n",
      "Rep = 13; Nobs = 3162; stratified, CV, weighted = false true false; time = 0.26 min \n",
      "Rep = 13; Nobs = 3162; stratified, CV, weighted = false false true; time = 0.16 min \n",
      "Rep = 13; Nobs = 3162; stratified, CV, weighted = false false false; time = 0.13 min \n"
     ]
    },
    {
     "name": "stderr",
     "output_type": "stream",
     "text": [
      "\r",
      "\u001b[32mProgress:  80%|█████████████████████████████████        |  ETA: 0:00:00\u001b[39m\r",
      "\u001b[32mProgress: 100%|█████████████████████████████████████████| Time: 0:00:00\u001b[39m\n"
     ]
    },
    {
     "name": "stdout",
     "output_type": "stream",
     "text": [
      "Rep = 13; Nobs = 10000; stratified, CV, weighted = false true true; time = 0.36 min \n"
     ]
    },
    {
     "name": "stderr",
     "output_type": "stream",
     "text": [
      "\r",
      "\u001b[32mProgress:  80%|█████████████████████████████████        |  ETA: 0:00:00\u001b[39m\r",
      "\u001b[32mProgress: 100%|█████████████████████████████████████████| Time: 0:00:00\u001b[39m\n"
     ]
    },
    {
     "name": "stdout",
     "output_type": "stream",
     "text": [
      "Rep = 13; Nobs = 10000; stratified, CV, weighted = false true false; time = 0.27 min \n",
      "Rep = 13; Nobs = 10000; stratified, CV, weighted = false false true; time = 0.22 min \n",
      "Rep = 13; Nobs = 10000; stratified, CV, weighted = false false false; time = 0.13 min \n"
     ]
    },
    {
     "name": "stderr",
     "output_type": "stream",
     "text": [
      "\u001b[32mProgress:  80%|█████████████████████████████████        |  ETA: 0:00:00\u001b[39m"
     ]
    },
    {
     "name": "stdout",
     "output_type": "stream",
     "text": [
      "Rep = 13; Nobs = 31622; stratified, CV, weighted = false true true; time = 0.56 min \n"
     ]
    },
    {
     "name": "stderr",
     "output_type": "stream",
     "text": [
      "\u001b[32mProgress: 100%|█████████████████████████████████████████| Time: 0:00:02\u001b[39m\n",
      "\u001b[32mProgress:  80%|█████████████████████████████████        |  ETA: 0:00:00\u001b[39m"
     ]
    },
    {
     "name": "stdout",
     "output_type": "stream",
     "text": [
      "Rep = 13; Nobs = 31622; stratified, CV, weighted = false true false; time = 0.29 min \n"
     ]
    },
    {
     "name": "stderr",
     "output_type": "stream",
     "text": [
      "\r",
      "\u001b[32mProgress: 100%|█████████████████████████████████████████| Time: 0:00:02\u001b[39m\n"
     ]
    },
    {
     "name": "stdout",
     "output_type": "stream",
     "text": [
      "Rep = 13; Nobs = 31622; stratified, CV, weighted = false false true; time = 0.39 min \n",
      "Rep = 13; Nobs = 31622; stratified, CV, weighted = false false false; time = 0.13 min \n",
      "Rep = 14; Nobs = 10; stratified, CV, weighted = false true true; time = 0.26 min \n",
      "Rep = 14; Nobs = 10; stratified, CV, weighted = false true false; time = 0.26 min \n",
      "Rep = 14; Nobs = 10; stratified, CV, weighted = false false true; time = 0.13 min \n",
      "Rep = 14; Nobs = 10; stratified, CV, weighted = false false false; time = 0.13 min \n",
      "Rep = 14; Nobs = 31; stratified, CV, weighted = false true true; time = 0.26 min \n",
      "Rep = 14; Nobs = 31; stratified, CV, weighted = false true false; time = 0.26 min \n",
      "Rep = 14; Nobs = 31; stratified, CV, weighted = false false true; time = 0.13 min \n",
      "Rep = 14; Nobs = 31; stratified, CV, weighted = false false false; time = 0.13 min \n",
      "Rep = 14; Nobs = 100; stratified, CV, weighted = false true true; time = 0.26 min \n",
      "Rep = 14; Nobs = 100; stratified, CV, weighted = false true false; time = 0.26 min \n",
      "Rep = 14; Nobs = 100; stratified, CV, weighted = false false true; time = 0.13 min \n",
      "Rep = 14; Nobs = 100; stratified, CV, weighted = false false false; time = 0.13 min \n",
      "Rep = 14; Nobs = 316; stratified, CV, weighted = false true true; time = 0.27 min \n",
      "Rep = 14; Nobs = 316; stratified, CV, weighted = false true false; time = 0.26 min \n",
      "Rep = 14; Nobs = 316; stratified, CV, weighted = false false true; time = 0.14 min \n",
      "Rep = 14; Nobs = 316; stratified, CV, weighted = false false false; time = 0.13 min \n",
      "Rep = 14; Nobs = 1000; stratified, CV, weighted = false true true; time = 0.28 min \n",
      "Rep = 14; Nobs = 1000; stratified, CV, weighted = false true false; time = 0.26 min \n",
      "Rep = 14; Nobs = 1000; stratified, CV, weighted = false false true; time = 0.14 min \n",
      "Rep = 14; Nobs = 1000; stratified, CV, weighted = false false false; time = 0.13 min \n",
      "Rep = 14; Nobs = 3162; stratified, CV, weighted = false true true; time = 0.3 min \n",
      "Rep = 14; Nobs = 3162; stratified, CV, weighted = false true false; time = 0.27 min \n",
      "Rep = 14; Nobs = 3162; stratified, CV, weighted = false false true; time = 0.16 min \n",
      "Rep = 14; Nobs = 3162; stratified, CV, weighted = false false false; time = 0.13 min \n"
     ]
    },
    {
     "name": "stderr",
     "output_type": "stream",
     "text": [
      "\r",
      "\u001b[32mProgress:  80%|█████████████████████████████████        |  ETA: 0:00:00\u001b[39m\r",
      "\u001b[32mProgress: 100%|█████████████████████████████████████████| Time: 0:00:00\u001b[39m\n"
     ]
    },
    {
     "name": "stdout",
     "output_type": "stream",
     "text": [
      "Rep = 14; Nobs = 10000; stratified, CV, weighted = false true true; time = 0.36 min \n"
     ]
    },
    {
     "name": "stderr",
     "output_type": "stream",
     "text": [
      "\r",
      "\u001b[32mProgress:  80%|█████████████████████████████████        |  ETA: 0:00:00\u001b[39m\r",
      "\u001b[32mProgress: 100%|█████████████████████████████████████████| Time: 0:00:00\u001b[39m\n"
     ]
    },
    {
     "name": "stdout",
     "output_type": "stream",
     "text": [
      "Rep = 14; Nobs = 10000; stratified, CV, weighted = false true false; time = 0.27 min \n",
      "Rep = 14; Nobs = 10000; stratified, CV, weighted = false false true; time = 0.22 min \n",
      "Rep = 14; Nobs = 10000; stratified, CV, weighted = false false false; time = 0.13 min \n"
     ]
    },
    {
     "name": "stderr",
     "output_type": "stream",
     "text": [
      "\u001b[32mProgress:  80%|█████████████████████████████████        |  ETA: 0:00:00\u001b[39m"
     ]
    },
    {
     "name": "stdout",
     "output_type": "stream",
     "text": [
      "Rep = 14; Nobs = 31622; stratified, CV, weighted = false true true; time = 0.56 min \n"
     ]
    },
    {
     "name": "stderr",
     "output_type": "stream",
     "text": [
      "\u001b[32mProgress: 100%|█████████████████████████████████████████| Time: 0:00:02\u001b[39m\n",
      "\u001b[32mProgress: 100%|█████████████████████████████████████████| Time: 0:00:02\u001b[39m\n"
     ]
    },
    {
     "name": "stdout",
     "output_type": "stream",
     "text": [
      "Rep = 14; Nobs = 31622; stratified, CV, weighted = false true false; time = 0.29 min \n",
      "Rep = 14; Nobs = 31622; stratified, CV, weighted = false false true; time = 0.39 min \n",
      "Rep = 14; Nobs = 31622; stratified, CV, weighted = false false false; time = 0.13 min \n",
      "Rep = 15; Nobs = 10; stratified, CV, weighted = false true true; time = 0.26 min \n",
      "Rep = 15; Nobs = 10; stratified, CV, weighted = false true false; time = 0.26 min \n",
      "Rep = 15; Nobs = 10; stratified, CV, weighted = false false true; time = 0.13 min \n",
      "Rep = 15; Nobs = 10; stratified, CV, weighted = false false false; time = 0.13 min \n",
      "Rep = 15; Nobs = 31; stratified, CV, weighted = false true true; time = 0.26 min \n",
      "Rep = 15; Nobs = 31; stratified, CV, weighted = false true false; time = 0.26 min \n",
      "Rep = 15; Nobs = 31; stratified, CV, weighted = false false true; time = 0.13 min \n",
      "Rep = 15; Nobs = 31; stratified, CV, weighted = false false false; time = 0.13 min \n",
      "Rep = 15; Nobs = 100; stratified, CV, weighted = false true true; time = 0.27 min \n",
      "Rep = 15; Nobs = 100; stratified, CV, weighted = false true false; time = 0.26 min \n",
      "Rep = 15; Nobs = 100; stratified, CV, weighted = false false true; time = 0.14 min \n",
      "Rep = 15; Nobs = 100; stratified, CV, weighted = false false false; time = 0.13 min \n",
      "Rep = 15; Nobs = 316; stratified, CV, weighted = false true true; time = 0.27 min \n",
      "Rep = 15; Nobs = 316; stratified, CV, weighted = false true false; time = 0.26 min \n",
      "Rep = 15; Nobs = 316; stratified, CV, weighted = false false true; time = 0.14 min \n",
      "Rep = 15; Nobs = 316; stratified, CV, weighted = false false false; time = 0.13 min \n",
      "Rep = 15; Nobs = 1000; stratified, CV, weighted = false true true; time = 0.27 min \n",
      "Rep = 15; Nobs = 1000; stratified, CV, weighted = false true false; time = 0.26 min \n",
      "Rep = 15; Nobs = 1000; stratified, CV, weighted = false false true; time = 0.14 min \n",
      "Rep = 15; Nobs = 1000; stratified, CV, weighted = false false false; time = 0.13 min \n",
      "Rep = 15; Nobs = 3162; stratified, CV, weighted = false true true; time = 0.3 min \n",
      "Rep = 15; Nobs = 3162; stratified, CV, weighted = false true false; time = 0.26 min \n",
      "Rep = 15; Nobs = 3162; stratified, CV, weighted = false false true; time = 0.16 min \n",
      "Rep = 15; Nobs = 3162; stratified, CV, weighted = false false false; time = 0.13 min \n"
     ]
    },
    {
     "name": "stderr",
     "output_type": "stream",
     "text": [
      "\r",
      "\u001b[32mProgress:  80%|█████████████████████████████████        |  ETA: 0:00:00\u001b[39m\r",
      "\u001b[32mProgress: 100%|█████████████████████████████████████████| Time: 0:00:00\u001b[39m\n"
     ]
    },
    {
     "name": "stdout",
     "output_type": "stream",
     "text": [
      "Rep = 15; Nobs = 10000; stratified, CV, weighted = false true true; time = 0.36 min \n"
     ]
    },
    {
     "name": "stderr",
     "output_type": "stream",
     "text": [
      "\r",
      "\u001b[32mProgress:  80%|█████████████████████████████████        |  ETA: 0:00:00\u001b[39m\r",
      "\u001b[32mProgress: 100%|█████████████████████████████████████████| Time: 0:00:00\u001b[39m\n"
     ]
    },
    {
     "name": "stdout",
     "output_type": "stream",
     "text": [
      "Rep = 15; Nobs = 10000; stratified, CV, weighted = false true false; time = 0.26 min \n",
      "Rep = 15; Nobs = 10000; stratified, CV, weighted = false false true; time = 0.22 min \n",
      "Rep = 15; Nobs = 10000; stratified, CV, weighted = false false false; time = 0.13 min \n"
     ]
    },
    {
     "name": "stderr",
     "output_type": "stream",
     "text": [
      "\u001b[32mProgress: 100%|█████████████████████████████████████████| Time: 0:00:02\u001b[39m\n"
     ]
    },
    {
     "name": "stdout",
     "output_type": "stream",
     "text": [
      "Rep = 15; Nobs = 31622; stratified, CV, weighted = false true true; time = 0.56 min \n"
     ]
    },
    {
     "name": "stderr",
     "output_type": "stream",
     "text": [
      "\u001b[32mProgress:  80%|█████████████████████████████████        |  ETA: 0:00:00\u001b[39m"
     ]
    },
    {
     "name": "stdout",
     "output_type": "stream",
     "text": [
      "Rep = 15; Nobs = 31622; stratified, CV, weighted = false true false; time = 0.29 min \n"
     ]
    },
    {
     "name": "stderr",
     "output_type": "stream",
     "text": [
      "\r",
      "\u001b[32mProgress: 100%|█████████████████████████████████████████| Time: 0:00:02\u001b[39m\n"
     ]
    },
    {
     "name": "stdout",
     "output_type": "stream",
     "text": [
      "Rep = 15; Nobs = 31622; stratified, CV, weighted = false false true; time = 0.39 min \n",
      "Rep = 15; Nobs = 31622; stratified, CV, weighted = false false false; time = 0.13 min \n",
      "Rep = 16; Nobs = 10; stratified, CV, weighted = false true true; time = 0.26 min \n",
      "Rep = 16; Nobs = 10; stratified, CV, weighted = false true false; time = 0.26 min \n",
      "Rep = 16; Nobs = 10; stratified, CV, weighted = false false true; time = 0.14 min \n",
      "Rep = 16; Nobs = 10; stratified, CV, weighted = false false false; time = 0.14 min \n",
      "Rep = 16; Nobs = 31; stratified, CV, weighted = false true true; time = 0.26 min \n",
      "Rep = 16; Nobs = 31; stratified, CV, weighted = false true false; time = 0.26 min \n",
      "Rep = 16; Nobs = 31; stratified, CV, weighted = false false true; time = 0.13 min \n",
      "Rep = 16; Nobs = 31; stratified, CV, weighted = false false false; time = 0.13 min \n",
      "Rep = 16; Nobs = 100; stratified, CV, weighted = false true true; time = 0.26 min \n",
      "Rep = 16; Nobs = 100; stratified, CV, weighted = false true false; time = 0.26 min \n",
      "Rep = 16; Nobs = 100; stratified, CV, weighted = false false true; time = 0.13 min \n",
      "Rep = 16; Nobs = 100; stratified, CV, weighted = false false false; time = 0.13 min \n",
      "Rep = 16; Nobs = 316; stratified, CV, weighted = false true true; time = 0.27 min \n",
      "Rep = 16; Nobs = 316; stratified, CV, weighted = false true false; time = 0.26 min \n",
      "Rep = 16; Nobs = 316; stratified, CV, weighted = false false true; time = 0.14 min \n",
      "Rep = 16; Nobs = 316; stratified, CV, weighted = false false false; time = 0.13 min \n",
      "Rep = 16; Nobs = 1000; stratified, CV, weighted = false true true; time = 0.27 min \n",
      "Rep = 16; Nobs = 1000; stratified, CV, weighted = false true false; time = 0.26 min \n",
      "Rep = 16; Nobs = 1000; stratified, CV, weighted = false false true; time = 0.14 min \n",
      "Rep = 16; Nobs = 1000; stratified, CV, weighted = false false false; time = 0.13 min \n",
      "Rep = 16; Nobs = 3162; stratified, CV, weighted = false true true; time = 0.3 min \n",
      "Rep = 16; Nobs = 3162; stratified, CV, weighted = false true false; time = 0.26 min \n",
      "Rep = 16; Nobs = 3162; stratified, CV, weighted = false false true; time = 0.17 min \n",
      "Rep = 16; Nobs = 3162; stratified, CV, weighted = false false false; time = 0.13 min \n"
     ]
    },
    {
     "name": "stderr",
     "output_type": "stream",
     "text": [
      "\r",
      "\u001b[32mProgress:  80%|█████████████████████████████████        |  ETA: 0:00:00\u001b[39m\r",
      "\u001b[32mProgress: 100%|█████████████████████████████████████████| Time: 0:00:00\u001b[39m\n"
     ]
    },
    {
     "name": "stdout",
     "output_type": "stream",
     "text": [
      "Rep = 16; Nobs = 10000; stratified, CV, weighted = false true true; time = 0.37 min \n"
     ]
    },
    {
     "name": "stderr",
     "output_type": "stream",
     "text": [
      "\r",
      "\u001b[32mProgress:  80%|█████████████████████████████████        |  ETA: 0:00:00\u001b[39m\r",
      "\u001b[32mProgress: 100%|█████████████████████████████████████████| Time: 0:00:00\u001b[39m\n"
     ]
    },
    {
     "name": "stdout",
     "output_type": "stream",
     "text": [
      "Rep = 16; Nobs = 10000; stratified, CV, weighted = false true false; time = 0.27 min \n",
      "Rep = 16; Nobs = 10000; stratified, CV, weighted = false false true; time = 0.22 min \n",
      "Rep = 16; Nobs = 10000; stratified, CV, weighted = false false false; time = 0.13 min \n"
     ]
    },
    {
     "name": "stderr",
     "output_type": "stream",
     "text": [
      "\u001b[32mProgress: 100%|█████████████████████████████████████████| Time: 0:00:02\u001b[39m\n"
     ]
    },
    {
     "name": "stdout",
     "output_type": "stream",
     "text": [
      "Rep = 16; Nobs = 31622; stratified, CV, weighted = false true true; time = 0.56 min \n"
     ]
    },
    {
     "name": "stderr",
     "output_type": "stream",
     "text": [
      "\u001b[32mProgress: 100%|█████████████████████████████████████████| Time: 0:00:02\u001b[39m\n"
     ]
    },
    {
     "name": "stdout",
     "output_type": "stream",
     "text": [
      "Rep = 16; Nobs = 31622; stratified, CV, weighted = false true false; time = 0.29 min \n",
      "Rep = 16; Nobs = 31622; stratified, CV, weighted = false false true; time = 0.4 min \n",
      "Rep = 16; Nobs = 31622; stratified, CV, weighted = false false false; time = 0.13 min \n",
      "Rep = 17; Nobs = 10; stratified, CV, weighted = false true true; time = 0.26 min \n",
      "Rep = 17; Nobs = 10; stratified, CV, weighted = false true false; time = 0.26 min \n",
      "Rep = 17; Nobs = 10; stratified, CV, weighted = false false true; time = 0.14 min \n",
      "Rep = 17; Nobs = 10; stratified, CV, weighted = false false false; time = 0.14 min \n",
      "Rep = 17; Nobs = 31; stratified, CV, weighted = false true true; time = 0.26 min \n",
      "Rep = 17; Nobs = 31; stratified, CV, weighted = false true false; time = 0.26 min \n",
      "Rep = 17; Nobs = 31; stratified, CV, weighted = false false true; time = 0.14 min \n",
      "Rep = 17; Nobs = 31; stratified, CV, weighted = false false false; time = 0.13 min \n",
      "Rep = 17; Nobs = 100; stratified, CV, weighted = false true true; time = 0.27 min \n",
      "Rep = 17; Nobs = 100; stratified, CV, weighted = false true false; time = 0.26 min \n",
      "Rep = 17; Nobs = 100; stratified, CV, weighted = false false true; time = 0.14 min \n",
      "Rep = 17; Nobs = 100; stratified, CV, weighted = false false false; time = 0.14 min \n",
      "Rep = 17; Nobs = 316; stratified, CV, weighted = false true true; time = 0.27 min \n",
      "Rep = 17; Nobs = 316; stratified, CV, weighted = false true false; time = 0.26 min \n",
      "Rep = 17; Nobs = 316; stratified, CV, weighted = false false true; time = 0.14 min \n",
      "Rep = 17; Nobs = 316; stratified, CV, weighted = false false false; time = 0.13 min \n",
      "Rep = 17; Nobs = 1000; stratified, CV, weighted = false true true; time = 0.28 min \n",
      "Rep = 17; Nobs = 1000; stratified, CV, weighted = false true false; time = 0.27 min \n",
      "Rep = 17; Nobs = 1000; stratified, CV, weighted = false false true; time = 0.14 min \n",
      "Rep = 17; Nobs = 1000; stratified, CV, weighted = false false false; time = 0.13 min \n",
      "Rep = 17; Nobs = 3162; stratified, CV, weighted = false true true; time = 0.3 min \n",
      "Rep = 17; Nobs = 3162; stratified, CV, weighted = false true false; time = 0.27 min \n",
      "Rep = 17; Nobs = 3162; stratified, CV, weighted = false false true; time = 0.17 min \n",
      "Rep = 17; Nobs = 3162; stratified, CV, weighted = false false false; time = 0.14 min \n"
     ]
    },
    {
     "name": "stderr",
     "output_type": "stream",
     "text": [
      "\r",
      "\u001b[32mProgress:  80%|█████████████████████████████████        |  ETA: 0:00:00\u001b[39m\r",
      "\u001b[32mProgress: 100%|█████████████████████████████████████████| Time: 0:00:00\u001b[39m\n"
     ]
    },
    {
     "name": "stdout",
     "output_type": "stream",
     "text": [
      "Rep = 17; Nobs = 10000; stratified, CV, weighted = false true true; time = 0.38 min \n"
     ]
    },
    {
     "name": "stderr",
     "output_type": "stream",
     "text": [
      "\r",
      "\u001b[32mProgress:  80%|█████████████████████████████████        |  ETA: 0:00:00\u001b[39m\r",
      "\u001b[32mProgress: 100%|█████████████████████████████████████████| Time: 0:00:00\u001b[39m\n"
     ]
    },
    {
     "name": "stdout",
     "output_type": "stream",
     "text": [
      "Rep = 17; Nobs = 10000; stratified, CV, weighted = false true false; time = 0.28 min \n",
      "Rep = 17; Nobs = 10000; stratified, CV, weighted = false false true; time = 0.23 min \n",
      "Rep = 17; Nobs = 10000; stratified, CV, weighted = false false false; time = 0.14 min \n"
     ]
    },
    {
     "name": "stderr",
     "output_type": "stream",
     "text": [
      "\u001b[32mProgress: 100%|█████████████████████████████████████████| Time: 0:00:02\u001b[39m\n"
     ]
    },
    {
     "name": "stdout",
     "output_type": "stream",
     "text": [
      "Rep = 17; Nobs = 31622; stratified, CV, weighted = false true true; time = 0.6 min \n"
     ]
    },
    {
     "name": "stderr",
     "output_type": "stream",
     "text": [
      "\u001b[32mProgress: 100%|█████████████████████████████████████████| Time: 0:00:02\u001b[39m\n"
     ]
    },
    {
     "name": "stdout",
     "output_type": "stream",
     "text": [
      "Rep = 17; Nobs = 31622; stratified, CV, weighted = false true false; time = 0.31 min \n",
      "Rep = 17; Nobs = 31622; stratified, CV, weighted = false false true; time = 0.41 min \n",
      "Rep = 17; Nobs = 31622; stratified, CV, weighted = false false false; time = 0.14 min \n",
      "Rep = 18; Nobs = 10; stratified, CV, weighted = false true true; time = 0.28 min \n",
      "Rep = 18; Nobs = 10; stratified, CV, weighted = false true false; time = 0.28 min \n",
      "Rep = 18; Nobs = 10; stratified, CV, weighted = false false true; time = 0.14 min \n",
      "Rep = 18; Nobs = 10; stratified, CV, weighted = false false false; time = 0.14 min \n",
      "Rep = 18; Nobs = 31; stratified, CV, weighted = false true true; time = 0.28 min \n",
      "Rep = 18; Nobs = 31; stratified, CV, weighted = false true false; time = 0.28 min \n",
      "Rep = 18; Nobs = 31; stratified, CV, weighted = false false true; time = 0.14 min \n",
      "Rep = 18; Nobs = 31; stratified, CV, weighted = false false false; time = 0.14 min \n",
      "Rep = 18; Nobs = 100; stratified, CV, weighted = false true true; time = 0.28 min \n",
      "Rep = 18; Nobs = 100; stratified, CV, weighted = false true false; time = 0.28 min \n",
      "Rep = 18; Nobs = 100; stratified, CV, weighted = false false true; time = 0.15 min \n",
      "Rep = 18; Nobs = 100; stratified, CV, weighted = false false false; time = 0.14 min \n",
      "Rep = 18; Nobs = 316; stratified, CV, weighted = false true true; time = 0.29 min \n",
      "Rep = 18; Nobs = 316; stratified, CV, weighted = false true false; time = 0.28 min \n",
      "Rep = 18; Nobs = 316; stratified, CV, weighted = false false true; time = 0.15 min \n",
      "Rep = 18; Nobs = 316; stratified, CV, weighted = false false false; time = 0.14 min \n",
      "Rep = 18; Nobs = 1000; stratified, CV, weighted = false true true; time = 0.3 min \n",
      "Rep = 18; Nobs = 1000; stratified, CV, weighted = false true false; time = 0.28 min \n",
      "Rep = 18; Nobs = 1000; stratified, CV, weighted = false false true; time = 0.15 min \n",
      "Rep = 18; Nobs = 1000; stratified, CV, weighted = false false false; time = 0.14 min \n",
      "Rep = 18; Nobs = 3162; stratified, CV, weighted = false true true; time = 0.32 min \n",
      "Rep = 18; Nobs = 3162; stratified, CV, weighted = false true false; time = 0.28 min \n",
      "Rep = 18; Nobs = 3162; stratified, CV, weighted = false false true; time = 0.17 min \n",
      "Rep = 18; Nobs = 3162; stratified, CV, weighted = false false false; time = 0.14 min \n"
     ]
    },
    {
     "name": "stderr",
     "output_type": "stream",
     "text": [
      "\r",
      "\u001b[32mProgress:  80%|█████████████████████████████████        |  ETA: 0:00:00\u001b[39m\r",
      "\u001b[32mProgress: 100%|█████████████████████████████████████████| Time: 0:00:00\u001b[39m\n"
     ]
    },
    {
     "name": "stdout",
     "output_type": "stream",
     "text": [
      "Rep = 18; Nobs = 10000; stratified, CV, weighted = false true true; time = 0.38 min \n"
     ]
    },
    {
     "name": "stderr",
     "output_type": "stream",
     "text": [
      "\r",
      "\u001b[32mProgress:  80%|█████████████████████████████████        |  ETA: 0:00:00\u001b[39m\r",
      "\u001b[32mProgress: 100%|█████████████████████████████████████████| Time: 0:00:00\u001b[39m\n"
     ]
    },
    {
     "name": "stdout",
     "output_type": "stream",
     "text": [
      "Rep = 18; Nobs = 10000; stratified, CV, weighted = false true false; time = 0.28 min \n",
      "Rep = 18; Nobs = 10000; stratified, CV, weighted = false false true; time = 0.24 min \n",
      "Rep = 18; Nobs = 10000; stratified, CV, weighted = false false false; time = 0.14 min \n"
     ]
    },
    {
     "name": "stderr",
     "output_type": "stream",
     "text": [
      "\u001b[32mProgress: 100%|█████████████████████████████████████████| Time: 0:00:02\u001b[39m\n"
     ]
    },
    {
     "name": "stdout",
     "output_type": "stream",
     "text": [
      "Rep = 18; Nobs = 31622; stratified, CV, weighted = false true true; time = 0.59 min \n"
     ]
    },
    {
     "name": "stderr",
     "output_type": "stream",
     "text": [
      "\u001b[32mProgress:  80%|█████████████████████████████████        |  ETA: 0:00:00\u001b[39m"
     ]
    },
    {
     "name": "stdout",
     "output_type": "stream",
     "text": [
      "Rep = 18; Nobs = 31622; stratified, CV, weighted = false true false; time = 0.32 min \n"
     ]
    },
    {
     "name": "stderr",
     "output_type": "stream",
     "text": [
      "\r",
      "\u001b[32mProgress: 100%|█████████████████████████████████████████| Time: 0:00:02\u001b[39m\n"
     ]
    },
    {
     "name": "stdout",
     "output_type": "stream",
     "text": [
      "Rep = 18; Nobs = 31622; stratified, CV, weighted = false false true; time = 0.43 min \n",
      "Rep = 18; Nobs = 31622; stratified, CV, weighted = false false false; time = 0.15 min \n",
      "Rep = 19; Nobs = 10; stratified, CV, weighted = false true true; time = 0.29 min \n",
      "Rep = 19; Nobs = 10; stratified, CV, weighted = false true false; time = 0.29 min \n",
      "Rep = 19; Nobs = 10; stratified, CV, weighted = false false true; time = 0.15 min \n",
      "Rep = 19; Nobs = 10; stratified, CV, weighted = false false false; time = 0.16 min \n",
      "Rep = 19; Nobs = 31; stratified, CV, weighted = false true true; time = 0.3 min \n",
      "Rep = 19; Nobs = 31; stratified, CV, weighted = false true false; time = 0.28 min \n",
      "Rep = 19; Nobs = 31; stratified, CV, weighted = false false true; time = 0.15 min \n",
      "Rep = 19; Nobs = 31; stratified, CV, weighted = false false false; time = 0.15 min \n",
      "Rep = 19; Nobs = 100; stratified, CV, weighted = false true true; time = 0.3 min \n",
      "Rep = 19; Nobs = 100; stratified, CV, weighted = false true false; time = 0.29 min \n",
      "Rep = 19; Nobs = 100; stratified, CV, weighted = false false true; time = 0.16 min \n",
      "Rep = 19; Nobs = 100; stratified, CV, weighted = false false false; time = 0.16 min \n",
      "Rep = 19; Nobs = 316; stratified, CV, weighted = false true true; time = 0.31 min \n",
      "Rep = 19; Nobs = 316; stratified, CV, weighted = false true false; time = 0.3 min \n",
      "Rep = 19; Nobs = 316; stratified, CV, weighted = false false true; time = 0.15 min \n",
      "Rep = 19; Nobs = 316; stratified, CV, weighted = false false false; time = 0.15 min \n",
      "Rep = 19; Nobs = 1000; stratified, CV, weighted = false true true; time = 0.3 min \n",
      "Rep = 19; Nobs = 1000; stratified, CV, weighted = false true false; time = 0.28 min \n",
      "Rep = 19; Nobs = 1000; stratified, CV, weighted = false false true; time = 0.16 min \n",
      "Rep = 19; Nobs = 1000; stratified, CV, weighted = false false false; time = 0.15 min \n",
      "Rep = 19; Nobs = 3162; stratified, CV, weighted = false true true; time = 0.33 min \n",
      "Rep = 19; Nobs = 3162; stratified, CV, weighted = false true false; time = 0.29 min \n",
      "Rep = 19; Nobs = 3162; stratified, CV, weighted = false false true; time = 0.18 min \n",
      "Rep = 19; Nobs = 3162; stratified, CV, weighted = false false false; time = 0.15 min \n"
     ]
    },
    {
     "name": "stderr",
     "output_type": "stream",
     "text": [
      "\r",
      "\u001b[32mProgress:  80%|█████████████████████████████████        |  ETA: 0:00:00\u001b[39m\r",
      "\u001b[32mProgress: 100%|█████████████████████████████████████████| Time: 0:00:00\u001b[39m\n"
     ]
    },
    {
     "name": "stdout",
     "output_type": "stream",
     "text": [
      "Rep = 19; Nobs = 10000; stratified, CV, weighted = false true true; time = 0.41 min \n"
     ]
    },
    {
     "name": "stderr",
     "output_type": "stream",
     "text": [
      "\r",
      "\u001b[32mProgress:  80%|█████████████████████████████████        |  ETA: 0:00:00\u001b[39m\r",
      "\u001b[32mProgress: 100%|█████████████████████████████████████████| Time: 0:00:00\u001b[39m\n"
     ]
    },
    {
     "name": "stdout",
     "output_type": "stream",
     "text": [
      "Rep = 19; Nobs = 10000; stratified, CV, weighted = false true false; time = 0.3 min \n",
      "Rep = 19; Nobs = 10000; stratified, CV, weighted = false false true; time = 0.24 min \n",
      "Rep = 19; Nobs = 10000; stratified, CV, weighted = false false false; time = 0.14 min \n"
     ]
    },
    {
     "name": "stderr",
     "output_type": "stream",
     "text": [
      "\u001b[32mProgress: 100%|█████████████████████████████████████████| Time: 0:00:02\u001b[39m\n"
     ]
    },
    {
     "name": "stdout",
     "output_type": "stream",
     "text": [
      "Rep = 19; Nobs = 31622; stratified, CV, weighted = false true true; time = 0.6 min \n"
     ]
    },
    {
     "name": "stderr",
     "output_type": "stream",
     "text": [
      "\u001b[32mProgress: 100%|█████████████████████████████████████████| Time: 0:00:02\u001b[39m\n"
     ]
    },
    {
     "name": "stdout",
     "output_type": "stream",
     "text": [
      "Rep = 19; Nobs = 31622; stratified, CV, weighted = false true false; time = 0.31 min \n",
      "Rep = 19; Nobs = 31622; stratified, CV, weighted = false false true; time = 0.41 min \n",
      "Rep = 19; Nobs = 31622; stratified, CV, weighted = false false false; time = 0.15 min \n",
      "Rep = 20; Nobs = 10; stratified, CV, weighted = false true true; time = 0.28 min \n",
      "Rep = 20; Nobs = 10; stratified, CV, weighted = false true false; time = 0.28 min \n",
      "Rep = 20; Nobs = 10; stratified, CV, weighted = false false true; time = 0.14 min \n",
      "Rep = 20; Nobs = 10; stratified, CV, weighted = false false false; time = 0.14 min \n",
      "Rep = 20; Nobs = 31; stratified, CV, weighted = false true true; time = 0.28 min \n",
      "Rep = 20; Nobs = 31; stratified, CV, weighted = false true false; time = 0.28 min \n",
      "Rep = 20; Nobs = 31; stratified, CV, weighted = false false true; time = 0.14 min \n",
      "Rep = 20; Nobs = 31; stratified, CV, weighted = false false false; time = 0.14 min \n",
      "Rep = 20; Nobs = 100; stratified, CV, weighted = false true true; time = 0.28 min \n",
      "Rep = 20; Nobs = 100; stratified, CV, weighted = false true false; time = 0.27 min \n",
      "Rep = 20; Nobs = 100; stratified, CV, weighted = false false true; time = 0.14 min \n",
      "Rep = 20; Nobs = 100; stratified, CV, weighted = false false false; time = 0.14 min \n",
      "Rep = 20; Nobs = 316; stratified, CV, weighted = false true true; time = 0.28 min \n",
      "Rep = 20; Nobs = 316; stratified, CV, weighted = false true false; time = 0.27 min \n",
      "Rep = 20; Nobs = 316; stratified, CV, weighted = false false true; time = 0.14 min \n",
      "Rep = 20; Nobs = 316; stratified, CV, weighted = false false false; time = 0.14 min \n",
      "Rep = 20; Nobs = 1000; stratified, CV, weighted = false true true; time = 0.29 min \n",
      "Rep = 20; Nobs = 1000; stratified, CV, weighted = false true false; time = 0.27 min \n",
      "Rep = 20; Nobs = 1000; stratified, CV, weighted = false false true; time = 0.15 min \n",
      "Rep = 20; Nobs = 1000; stratified, CV, weighted = false false false; time = 0.14 min \n",
      "Rep = 20; Nobs = 3162; stratified, CV, weighted = false true true; time = 0.32 min \n",
      "Rep = 20; Nobs = 3162; stratified, CV, weighted = false true false; time = 0.28 min \n",
      "Rep = 20; Nobs = 3162; stratified, CV, weighted = false false true; time = 0.17 min \n",
      "Rep = 20; Nobs = 3162; stratified, CV, weighted = false false false; time = 0.14 min \n"
     ]
    },
    {
     "name": "stderr",
     "output_type": "stream",
     "text": [
      "\r",
      "\u001b[32mProgress:  80%|█████████████████████████████████        |  ETA: 0:00:00\u001b[39m\r",
      "\u001b[32mProgress: 100%|█████████████████████████████████████████| Time: 0:00:00\u001b[39m\n"
     ]
    },
    {
     "name": "stdout",
     "output_type": "stream",
     "text": [
      "Rep = 20; Nobs = 10000; stratified, CV, weighted = false true true; time = 0.39 min \n"
     ]
    },
    {
     "name": "stderr",
     "output_type": "stream",
     "text": [
      "\r",
      "\u001b[32mProgress:  80%|█████████████████████████████████        |  ETA: 0:00:00\u001b[39m\r",
      "\u001b[32mProgress: 100%|█████████████████████████████████████████| Time: 0:00:00\u001b[39m\n"
     ]
    },
    {
     "name": "stdout",
     "output_type": "stream",
     "text": [
      "Rep = 20; Nobs = 10000; stratified, CV, weighted = false true false; time = 0.28 min \n",
      "Rep = 20; Nobs = 10000; stratified, CV, weighted = false false true; time = 0.23 min \n",
      "Rep = 20; Nobs = 10000; stratified, CV, weighted = false false false; time = 0.14 min \n"
     ]
    },
    {
     "name": "stderr",
     "output_type": "stream",
     "text": [
      "\u001b[32mProgress: 100%|█████████████████████████████████████████| Time: 0:00:02\u001b[39m\n"
     ]
    },
    {
     "name": "stdout",
     "output_type": "stream",
     "text": [
      "Rep = 20; Nobs = 31622; stratified, CV, weighted = false true true; time = 0.6 min \n"
     ]
    },
    {
     "name": "stderr",
     "output_type": "stream",
     "text": [
      "\u001b[32mProgress: 100%|█████████████████████████████████████████| Time: 0:00:02\u001b[39m\n"
     ]
    },
    {
     "name": "stdout",
     "output_type": "stream",
     "text": [
      "Rep = 20; Nobs = 31622; stratified, CV, weighted = false true false; time = 0.31 min \n",
      "Rep = 20; Nobs = 31622; stratified, CV, weighted = false false true; time = 0.41 min \n",
      "Rep = 20; Nobs = 31622; stratified, CV, weighted = false false false; time = 0.14 min \n",
      "Rep = 21; Nobs = 10; stratified, CV, weighted = false true true; time = 0.28 min \n",
      "Rep = 21; Nobs = 10; stratified, CV, weighted = false true false; time = 0.28 min \n",
      "Rep = 21; Nobs = 10; stratified, CV, weighted = false false true; time = 0.14 min \n",
      "Rep = 21; Nobs = 10; stratified, CV, weighted = false false false; time = 0.14 min \n",
      "Rep = 21; Nobs = 31; stratified, CV, weighted = false true true; time = 0.28 min \n",
      "Rep = 21; Nobs = 31; stratified, CV, weighted = false true false; time = 0.28 min \n",
      "Rep = 21; Nobs = 31; stratified, CV, weighted = false false true; time = 0.14 min \n",
      "Rep = 21; Nobs = 31; stratified, CV, weighted = false false false; time = 0.14 min \n",
      "Rep = 21; Nobs = 100; stratified, CV, weighted = false true true; time = 0.29 min \n",
      "Rep = 21; Nobs = 100; stratified, CV, weighted = false true false; time = 0.28 min \n",
      "Rep = 21; Nobs = 100; stratified, CV, weighted = false false true; time = 0.14 min \n",
      "Rep = 21; Nobs = 100; stratified, CV, weighted = false false false; time = 0.14 min \n",
      "Rep = 21; Nobs = 316; stratified, CV, weighted = false true true; time = 0.29 min \n",
      "Rep = 21; Nobs = 316; stratified, CV, weighted = false true false; time = 0.28 min \n",
      "Rep = 21; Nobs = 316; stratified, CV, weighted = false false true; time = 0.15 min \n",
      "Rep = 21; Nobs = 316; stratified, CV, weighted = false false false; time = 0.14 min \n",
      "Rep = 21; Nobs = 1000; stratified, CV, weighted = false true true; time = 0.29 min \n",
      "Rep = 21; Nobs = 1000; stratified, CV, weighted = false true false; time = 0.28 min \n",
      "Rep = 21; Nobs = 1000; stratified, CV, weighted = false false true; time = 0.15 min \n",
      "Rep = 21; Nobs = 1000; stratified, CV, weighted = false false false; time = 0.14 min \n",
      "Rep = 21; Nobs = 3162; stratified, CV, weighted = false true true; time = 0.31 min \n",
      "Rep = 21; Nobs = 3162; stratified, CV, weighted = false true false; time = 0.28 min \n",
      "Rep = 21; Nobs = 3162; stratified, CV, weighted = false false true; time = 0.17 min \n",
      "Rep = 21; Nobs = 3162; stratified, CV, weighted = false false false; time = 0.15 min \n"
     ]
    },
    {
     "name": "stderr",
     "output_type": "stream",
     "text": [
      "\r",
      "\u001b[32mProgress:  80%|█████████████████████████████████        |  ETA: 0:00:00\u001b[39m\r",
      "\u001b[32mProgress: 100%|█████████████████████████████████████████| Time: 0:00:00\u001b[39m\n"
     ]
    },
    {
     "name": "stdout",
     "output_type": "stream",
     "text": [
      "Rep = 21; Nobs = 10000; stratified, CV, weighted = false true true; time = 0.38 min \n"
     ]
    },
    {
     "name": "stderr",
     "output_type": "stream",
     "text": [
      "\r",
      "\u001b[32mProgress:  80%|█████████████████████████████████        |  ETA: 0:00:00\u001b[39m\r",
      "\u001b[32mProgress: 100%|█████████████████████████████████████████| Time: 0:00:00\u001b[39m\n"
     ]
    },
    {
     "name": "stdout",
     "output_type": "stream",
     "text": [
      "Rep = 21; Nobs = 10000; stratified, CV, weighted = false true false; time = 0.28 min \n",
      "Rep = 21; Nobs = 10000; stratified, CV, weighted = false false true; time = 0.23 min \n",
      "Rep = 21; Nobs = 10000; stratified, CV, weighted = false false false; time = 0.14 min \n"
     ]
    },
    {
     "name": "stderr",
     "output_type": "stream",
     "text": [
      "\u001b[32mProgress:  80%|█████████████████████████████████        |  ETA: 0:00:00\u001b[39m"
     ]
    },
    {
     "name": "stdout",
     "output_type": "stream",
     "text": [
      "Rep = 21; Nobs = 31622; stratified, CV, weighted = false true true; time = 0.59 min \n"
     ]
    },
    {
     "name": "stderr",
     "output_type": "stream",
     "text": [
      "\u001b[32mProgress: 100%|█████████████████████████████████████████| Time: 0:00:02\u001b[39m\n",
      "\u001b[32mProgress:  80%|█████████████████████████████████        |  ETA: 0:00:00\u001b[39m"
     ]
    },
    {
     "name": "stdout",
     "output_type": "stream",
     "text": [
      "Rep = 21; Nobs = 31622; stratified, CV, weighted = false true false; time = 0.32 min \n"
     ]
    },
    {
     "name": "stderr",
     "output_type": "stream",
     "text": [
      "\r",
      "\u001b[32mProgress: 100%|█████████████████████████████████████████| Time: 0:00:02\u001b[39m\n"
     ]
    },
    {
     "name": "stdout",
     "output_type": "stream",
     "text": [
      "Rep = 21; Nobs = 31622; stratified, CV, weighted = false false true; time = 0.42 min \n",
      "Rep = 21; Nobs = 31622; stratified, CV, weighted = false false false; time = 0.14 min \n",
      "Rep = 22; Nobs = 10; stratified, CV, weighted = false true true; time = 0.28 min \n",
      "Rep = 22; Nobs = 10; stratified, CV, weighted = false true false; time = 0.27 min \n",
      "Rep = 22; Nobs = 10; stratified, CV, weighted = false false true; time = 0.14 min \n",
      "Rep = 22; Nobs = 10; stratified, CV, weighted = false false false; time = 0.14 min \n",
      "Rep = 22; Nobs = 31; stratified, CV, weighted = false true true; time = 0.28 min \n",
      "Rep = 22; Nobs = 31; stratified, CV, weighted = false true false; time = 0.28 min \n",
      "Rep = 22; Nobs = 31; stratified, CV, weighted = false false true; time = 0.14 min \n",
      "Rep = 22; Nobs = 31; stratified, CV, weighted = false false false; time = 0.14 min \n",
      "Rep = 22; Nobs = 100; stratified, CV, weighted = false true true; time = 0.27 min \n",
      "Rep = 22; Nobs = 100; stratified, CV, weighted = false true false; time = 0.27 min \n",
      "Rep = 22; Nobs = 100; stratified, CV, weighted = false false true; time = 0.14 min \n",
      "Rep = 22; Nobs = 100; stratified, CV, weighted = false false false; time = 0.13 min \n",
      "Rep = 22; Nobs = 316; stratified, CV, weighted = false true true; time = 0.27 min \n",
      "Rep = 22; Nobs = 316; stratified, CV, weighted = false true false; time = 0.27 min \n",
      "Rep = 22; Nobs = 316; stratified, CV, weighted = false false true; time = 0.14 min \n",
      "Rep = 22; Nobs = 316; stratified, CV, weighted = false false false; time = 0.14 min \n",
      "Rep = 22; Nobs = 1000; stratified, CV, weighted = false true true; time = 0.29 min \n",
      "Rep = 22; Nobs = 1000; stratified, CV, weighted = false true false; time = 0.27 min \n",
      "Rep = 22; Nobs = 1000; stratified, CV, weighted = false false true; time = 0.15 min \n",
      "Rep = 22; Nobs = 1000; stratified, CV, weighted = false false false; time = 0.14 min \n",
      "Rep = 22; Nobs = 3162; stratified, CV, weighted = false true true; time = 0.3 min \n",
      "Rep = 22; Nobs = 3162; stratified, CV, weighted = false true false; time = 0.27 min \n",
      "Rep = 22; Nobs = 3162; stratified, CV, weighted = false false true; time = 0.17 min \n",
      "Rep = 22; Nobs = 3162; stratified, CV, weighted = false false false; time = 0.14 min \n"
     ]
    },
    {
     "name": "stderr",
     "output_type": "stream",
     "text": [
      "\r",
      "\u001b[32mProgress:  80%|█████████████████████████████████        |  ETA: 0:00:00\u001b[39m\r",
      "\u001b[32mProgress: 100%|█████████████████████████████████████████| Time: 0:00:00\u001b[39m\n"
     ]
    },
    {
     "name": "stdout",
     "output_type": "stream",
     "text": [
      "Rep = 22; Nobs = 10000; stratified, CV, weighted = false true true; time = 0.37 min \n"
     ]
    },
    {
     "name": "stderr",
     "output_type": "stream",
     "text": [
      "\r",
      "\u001b[32mProgress:  80%|█████████████████████████████████        |  ETA: 0:00:00\u001b[39m\r",
      "\u001b[32mProgress: 100%|█████████████████████████████████████████| Time: 0:00:00\u001b[39m\n"
     ]
    },
    {
     "name": "stdout",
     "output_type": "stream",
     "text": [
      "Rep = 22; Nobs = 10000; stratified, CV, weighted = false true false; time = 0.27 min \n",
      "Rep = 22; Nobs = 10000; stratified, CV, weighted = false false true; time = 0.22 min \n",
      "Rep = 22; Nobs = 10000; stratified, CV, weighted = false false false; time = 0.14 min \n"
     ]
    },
    {
     "name": "stderr",
     "output_type": "stream",
     "text": [
      "\u001b[32mProgress:  80%|█████████████████████████████████        |  ETA: 0:00:00\u001b[39m"
     ]
    },
    {
     "name": "stdout",
     "output_type": "stream",
     "text": [
      "Rep = 22; Nobs = 31622; stratified, CV, weighted = false true true; time = 0.57 min \n"
     ]
    },
    {
     "name": "stderr",
     "output_type": "stream",
     "text": [
      "\u001b[32mProgress: 100%|█████████████████████████████████████████| Time: 0:00:02\u001b[39m\n",
      "\u001b[32mProgress:  80%|█████████████████████████████████        |  ETA: 0:00:00\u001b[39m"
     ]
    },
    {
     "name": "stdout",
     "output_type": "stream",
     "text": [
      "Rep = 22; Nobs = 31622; stratified, CV, weighted = false true false; time = 0.3 min \n"
     ]
    },
    {
     "name": "stderr",
     "output_type": "stream",
     "text": [
      "\r",
      "\u001b[32mProgress: 100%|█████████████████████████████████████████| Time: 0:00:02\u001b[39m\n"
     ]
    },
    {
     "name": "stdout",
     "output_type": "stream",
     "text": [
      "Rep = 22; Nobs = 31622; stratified, CV, weighted = false false true; time = 0.4 min \n",
      "Rep = 22; Nobs = 31622; stratified, CV, weighted = false false false; time = 0.14 min \n",
      "Rep = 23; Nobs = 10; stratified, CV, weighted = false true true; time = 0.27 min \n",
      "Rep = 23; Nobs = 10; stratified, CV, weighted = false true false; time = 0.26 min \n",
      "Rep = 23; Nobs = 10; stratified, CV, weighted = false false true; time = 0.14 min \n",
      "Rep = 23; Nobs = 10; stratified, CV, weighted = false false false; time = 0.13 min \n",
      "Rep = 23; Nobs = 31; stratified, CV, weighted = false true true; time = 0.27 min \n",
      "Rep = 23; Nobs = 31; stratified, CV, weighted = false true false; time = 0.27 min \n",
      "Rep = 23; Nobs = 31; stratified, CV, weighted = false false true; time = 0.14 min \n",
      "Rep = 23; Nobs = 31; stratified, CV, weighted = false false false; time = 0.14 min \n",
      "Rep = 23; Nobs = 100; stratified, CV, weighted = false true true; time = 0.27 min \n",
      "Rep = 23; Nobs = 100; stratified, CV, weighted = false true false; time = 0.27 min \n",
      "Rep = 23; Nobs = 100; stratified, CV, weighted = false false true; time = 0.14 min \n",
      "Rep = 23; Nobs = 100; stratified, CV, weighted = false false false; time = 0.14 min \n",
      "Rep = 23; Nobs = 316; stratified, CV, weighted = false true true; time = 0.27 min \n",
      "Rep = 23; Nobs = 316; stratified, CV, weighted = false true false; time = 0.27 min \n",
      "Rep = 23; Nobs = 316; stratified, CV, weighted = false false true; time = 0.14 min \n",
      "Rep = 23; Nobs = 316; stratified, CV, weighted = false false false; time = 0.14 min \n",
      "Rep = 23; Nobs = 1000; stratified, CV, weighted = false true true; time = 0.28 min \n",
      "Rep = 23; Nobs = 1000; stratified, CV, weighted = false true false; time = 0.27 min \n",
      "Rep = 23; Nobs = 1000; stratified, CV, weighted = false false true; time = 0.15 min \n",
      "Rep = 23; Nobs = 1000; stratified, CV, weighted = false false false; time = 0.14 min \n",
      "Rep = 23; Nobs = 3162; stratified, CV, weighted = false true true; time = 0.3 min \n",
      "Rep = 23; Nobs = 3162; stratified, CV, weighted = false true false; time = 0.27 min \n",
      "Rep = 23; Nobs = 3162; stratified, CV, weighted = false false true; time = 0.16 min \n",
      "Rep = 23; Nobs = 3162; stratified, CV, weighted = false false false; time = 0.14 min \n"
     ]
    },
    {
     "name": "stderr",
     "output_type": "stream",
     "text": [
      "\r",
      "\u001b[32mProgress:  80%|█████████████████████████████████        |  ETA: 0:00:00\u001b[39m\r",
      "\u001b[32mProgress: 100%|█████████████████████████████████████████| Time: 0:00:00\u001b[39m\n"
     ]
    },
    {
     "name": "stdout",
     "output_type": "stream",
     "text": [
      "Rep = 23; Nobs = 10000; stratified, CV, weighted = false true true; time = 0.37 min \n"
     ]
    },
    {
     "name": "stderr",
     "output_type": "stream",
     "text": [
      "\r",
      "\u001b[32mProgress:  80%|█████████████████████████████████        |  ETA: 0:00:00\u001b[39m\r",
      "\u001b[32mProgress: 100%|█████████████████████████████████████████| Time: 0:00:00\u001b[39m\n"
     ]
    },
    {
     "name": "stdout",
     "output_type": "stream",
     "text": [
      "Rep = 23; Nobs = 10000; stratified, CV, weighted = false true false; time = 0.27 min \n",
      "Rep = 23; Nobs = 10000; stratified, CV, weighted = false false true; time = 0.22 min \n",
      "Rep = 23; Nobs = 10000; stratified, CV, weighted = false false false; time = 0.14 min \n"
     ]
    },
    {
     "name": "stderr",
     "output_type": "stream",
     "text": [
      "\u001b[32mProgress: 100%|█████████████████████████████████████████| Time: 0:00:02\u001b[39m\n"
     ]
    },
    {
     "name": "stdout",
     "output_type": "stream",
     "text": [
      "Rep = 23; Nobs = 31622; stratified, CV, weighted = false true true; time = 0.57 min \n"
     ]
    },
    {
     "name": "stderr",
     "output_type": "stream",
     "text": [
      "\u001b[32mProgress:  80%|█████████████████████████████████        |  ETA: 0:00:00\u001b[39m"
     ]
    },
    {
     "name": "stdout",
     "output_type": "stream",
     "text": [
      "Rep = 23; Nobs = 31622; stratified, CV, weighted = false true false; time = 0.3 min \n"
     ]
    },
    {
     "name": "stderr",
     "output_type": "stream",
     "text": [
      "\r",
      "\u001b[32mProgress: 100%|█████████████████████████████████████████| Time: 0:00:02\u001b[39m\n"
     ]
    },
    {
     "name": "stdout",
     "output_type": "stream",
     "text": [
      "Rep = 23; Nobs = 31622; stratified, CV, weighted = false false true; time = 0.4 min \n",
      "Rep = 23; Nobs = 31622; stratified, CV, weighted = false false false; time = 0.14 min \n",
      "Rep = 24; Nobs = 10; stratified, CV, weighted = false true true; time = 0.27 min \n",
      "Rep = 24; Nobs = 10; stratified, CV, weighted = false true false; time = 0.27 min \n",
      "Rep = 24; Nobs = 10; stratified, CV, weighted = false false true; time = 0.14 min \n",
      "Rep = 24; Nobs = 10; stratified, CV, weighted = false false false; time = 0.14 min \n",
      "Rep = 24; Nobs = 31; stratified, CV, weighted = false true true; time = 0.27 min \n",
      "Rep = 24; Nobs = 31; stratified, CV, weighted = false true false; time = 0.27 min \n",
      "Rep = 24; Nobs = 31; stratified, CV, weighted = false false true; time = 0.14 min \n",
      "Rep = 24; Nobs = 31; stratified, CV, weighted = false false false; time = 0.14 min \n",
      "Rep = 24; Nobs = 100; stratified, CV, weighted = false true true; time = 0.26 min \n",
      "Rep = 24; Nobs = 100; stratified, CV, weighted = false true false; time = 0.26 min \n",
      "Rep = 24; Nobs = 100; stratified, CV, weighted = false false true; time = 0.14 min \n",
      "Rep = 24; Nobs = 100; stratified, CV, weighted = false false false; time = 0.13 min \n",
      "Rep = 24; Nobs = 316; stratified, CV, weighted = false true true; time = 0.27 min \n",
      "Rep = 24; Nobs = 316; stratified, CV, weighted = false true false; time = 0.26 min \n",
      "Rep = 24; Nobs = 316; stratified, CV, weighted = false false true; time = 0.14 min \n",
      "Rep = 24; Nobs = 316; stratified, CV, weighted = false false false; time = 0.13 min \n",
      "Rep = 24; Nobs = 1000; stratified, CV, weighted = false true true; time = 0.28 min \n",
      "Rep = 24; Nobs = 1000; stratified, CV, weighted = false true false; time = 0.26 min \n",
      "Rep = 24; Nobs = 1000; stratified, CV, weighted = false false true; time = 0.14 min \n",
      "Rep = 24; Nobs = 1000; stratified, CV, weighted = false false false; time = 0.13 min \n",
      "Rep = 24; Nobs = 3162; stratified, CV, weighted = false true true; time = 0.3 min \n",
      "Rep = 24; Nobs = 3162; stratified, CV, weighted = false true false; time = 0.26 min \n",
      "Rep = 24; Nobs = 3162; stratified, CV, weighted = false false true; time = 0.16 min \n",
      "Rep = 24; Nobs = 3162; stratified, CV, weighted = false false false; time = 0.13 min \n"
     ]
    },
    {
     "name": "stderr",
     "output_type": "stream",
     "text": [
      "\r",
      "\u001b[32mProgress:  80%|█████████████████████████████████        |  ETA: 0:00:00\u001b[39m\r",
      "\u001b[32mProgress: 100%|█████████████████████████████████████████| Time: 0:00:00\u001b[39m\n"
     ]
    },
    {
     "name": "stdout",
     "output_type": "stream",
     "text": [
      "Rep = 24; Nobs = 10000; stratified, CV, weighted = false true true; time = 0.36 min \n"
     ]
    },
    {
     "name": "stderr",
     "output_type": "stream",
     "text": [
      "\r",
      "\u001b[32mProgress:  80%|█████████████████████████████████        |  ETA: 0:00:00\u001b[39m\r",
      "\u001b[32mProgress: 100%|█████████████████████████████████████████| Time: 0:00:00\u001b[39m\n"
     ]
    },
    {
     "name": "stdout",
     "output_type": "stream",
     "text": [
      "Rep = 24; Nobs = 10000; stratified, CV, weighted = false true false; time = 0.27 min \n",
      "Rep = 24; Nobs = 10000; stratified, CV, weighted = false false true; time = 0.22 min \n",
      "Rep = 24; Nobs = 10000; stratified, CV, weighted = false false false; time = 0.13 min \n"
     ]
    },
    {
     "name": "stderr",
     "output_type": "stream",
     "text": [
      "\u001b[32mProgress: 100%|█████████████████████████████████████████| Time: 0:00:02\u001b[39m\n"
     ]
    },
    {
     "name": "stdout",
     "output_type": "stream",
     "text": [
      "Rep = 24; Nobs = 31622; stratified, CV, weighted = false true true; time = 0.57 min \n"
     ]
    },
    {
     "name": "stderr",
     "output_type": "stream",
     "text": [
      "\u001b[32mProgress: 100%|█████████████████████████████████████████| Time: 0:00:02\u001b[39m\n"
     ]
    },
    {
     "name": "stdout",
     "output_type": "stream",
     "text": [
      "Rep = 24; Nobs = 31622; stratified, CV, weighted = false true false; time = 0.3 min \n",
      "Rep = 24; Nobs = 31622; stratified, CV, weighted = false false true; time = 0.4 min \n",
      "Rep = 24; Nobs = 31622; stratified, CV, weighted = false false false; time = 0.13 min \n",
      "Rep = 25; Nobs = 10; stratified, CV, weighted = false true true; time = 0.26 min \n",
      "Rep = 25; Nobs = 10; stratified, CV, weighted = false true false; time = 0.26 min \n",
      "Rep = 25; Nobs = 10; stratified, CV, weighted = false false true; time = 0.13 min \n",
      "Rep = 25; Nobs = 10; stratified, CV, weighted = false false false; time = 0.13 min \n",
      "Rep = 25; Nobs = 31; stratified, CV, weighted = false true true; time = 0.27 min \n",
      "Rep = 25; Nobs = 31; stratified, CV, weighted = false true false; time = 0.26 min \n",
      "Rep = 25; Nobs = 31; stratified, CV, weighted = false false true; time = 0.13 min \n",
      "Rep = 25; Nobs = 31; stratified, CV, weighted = false false false; time = 0.13 min \n",
      "Rep = 25; Nobs = 100; stratified, CV, weighted = false true true; time = 0.27 min \n",
      "Rep = 25; Nobs = 100; stratified, CV, weighted = false true false; time = 0.26 min \n",
      "Rep = 25; Nobs = 100; stratified, CV, weighted = false false true; time = 0.14 min \n",
      "Rep = 25; Nobs = 100; stratified, CV, weighted = false false false; time = 0.13 min \n",
      "Rep = 25; Nobs = 316; stratified, CV, weighted = false true true; time = 0.27 min \n",
      "Rep = 25; Nobs = 316; stratified, CV, weighted = false true false; time = 0.26 min \n",
      "Rep = 25; Nobs = 316; stratified, CV, weighted = false false true; time = 0.14 min \n",
      "Rep = 25; Nobs = 316; stratified, CV, weighted = false false false; time = 0.13 min \n",
      "Rep = 25; Nobs = 1000; stratified, CV, weighted = false true true; time = 0.28 min \n",
      "Rep = 25; Nobs = 1000; stratified, CV, weighted = false true false; time = 0.26 min \n",
      "Rep = 25; Nobs = 1000; stratified, CV, weighted = false false true; time = 0.14 min \n",
      "Rep = 25; Nobs = 1000; stratified, CV, weighted = false false false; time = 0.13 min \n",
      "Rep = 25; Nobs = 3162; stratified, CV, weighted = false true true; time = 0.3 min \n",
      "Rep = 25; Nobs = 3162; stratified, CV, weighted = false true false; time = 0.26 min \n",
      "Rep = 25; Nobs = 3162; stratified, CV, weighted = false false true; time = 0.16 min \n",
      "Rep = 25; Nobs = 3162; stratified, CV, weighted = false false false; time = 0.13 min \n"
     ]
    },
    {
     "name": "stderr",
     "output_type": "stream",
     "text": [
      "\r",
      "\u001b[32mProgress:  80%|█████████████████████████████████        |  ETA: 0:00:00\u001b[39m\r",
      "\u001b[32mProgress: 100%|█████████████████████████████████████████| Time: 0:00:00\u001b[39m\n"
     ]
    },
    {
     "name": "stdout",
     "output_type": "stream",
     "text": [
      "Rep = 25; Nobs = 10000; stratified, CV, weighted = false true true; time = 0.36 min \n"
     ]
    },
    {
     "name": "stderr",
     "output_type": "stream",
     "text": [
      "\r",
      "\u001b[32mProgress:  80%|█████████████████████████████████        |  ETA: 0:00:00\u001b[39m\r",
      "\u001b[32mProgress: 100%|█████████████████████████████████████████| Time: 0:00:00\u001b[39m\n"
     ]
    },
    {
     "name": "stdout",
     "output_type": "stream",
     "text": [
      "Rep = 25; Nobs = 10000; stratified, CV, weighted = false true false; time = 0.27 min \n",
      "Rep = 25; Nobs = 10000; stratified, CV, weighted = false false true; time = 0.22 min \n",
      "Rep = 25; Nobs = 10000; stratified, CV, weighted = false false false; time = 0.13 min \n"
     ]
    },
    {
     "name": "stderr",
     "output_type": "stream",
     "text": [
      "\u001b[32mProgress: 100%|█████████████████████████████████████████| Time: 0:00:02\u001b[39m\n"
     ]
    },
    {
     "name": "stdout",
     "output_type": "stream",
     "text": [
      "Rep = 25; Nobs = 31622; stratified, CV, weighted = false true true; time = 0.56 min \n"
     ]
    },
    {
     "name": "stderr",
     "output_type": "stream",
     "text": [
      "\u001b[32mProgress: 100%|█████████████████████████████████████████| Time: 0:00:02\u001b[39m\n"
     ]
    },
    {
     "name": "stdout",
     "output_type": "stream",
     "text": [
      "Rep = 25; Nobs = 31622; stratified, CV, weighted = false true false; time = 0.29 min \n",
      "Rep = 25; Nobs = 31622; stratified, CV, weighted = false false true; time = 0.4 min \n",
      "Rep = 25; Nobs = 31622; stratified, CV, weighted = false false false; time = 0.14 min \n",
      "Rep = 26; Nobs = 10; stratified, CV, weighted = false true true; time = 0.26 min \n",
      "Rep = 26; Nobs = 10; stratified, CV, weighted = false true false; time = 0.26 min \n",
      "Rep = 26; Nobs = 10; stratified, CV, weighted = false false true; time = 0.13 min \n",
      "Rep = 26; Nobs = 10; stratified, CV, weighted = false false false; time = 0.13 min \n",
      "Rep = 26; Nobs = 31; stratified, CV, weighted = false true true; time = 0.26 min \n",
      "Rep = 26; Nobs = 31; stratified, CV, weighted = false true false; time = 0.26 min \n",
      "Rep = 26; Nobs = 31; stratified, CV, weighted = false false true; time = 0.13 min \n",
      "Rep = 26; Nobs = 31; stratified, CV, weighted = false false false; time = 0.13 min \n",
      "Rep = 26; Nobs = 100; stratified, CV, weighted = false true true; time = 0.27 min \n",
      "Rep = 26; Nobs = 100; stratified, CV, weighted = false true false; time = 0.26 min \n",
      "Rep = 26; Nobs = 100; stratified, CV, weighted = false false true; time = 0.14 min \n",
      "Rep = 26; Nobs = 100; stratified, CV, weighted = false false false; time = 0.13 min \n",
      "Rep = 26; Nobs = 316; stratified, CV, weighted = false true true; time = 0.27 min \n",
      "Rep = 26; Nobs = 316; stratified, CV, weighted = false true false; time = 0.26 min \n",
      "Rep = 26; Nobs = 316; stratified, CV, weighted = false false true; time = 0.14 min \n",
      "Rep = 26; Nobs = 316; stratified, CV, weighted = false false false; time = 0.13 min \n",
      "Rep = 26; Nobs = 1000; stratified, CV, weighted = false true true; time = 0.27 min \n",
      "Rep = 26; Nobs = 1000; stratified, CV, weighted = false true false; time = 0.26 min \n",
      "Rep = 26; Nobs = 1000; stratified, CV, weighted = false false true; time = 0.14 min \n",
      "Rep = 26; Nobs = 1000; stratified, CV, weighted = false false false; time = 0.13 min \n",
      "Rep = 26; Nobs = 3162; stratified, CV, weighted = false true true; time = 0.29 min \n",
      "Rep = 26; Nobs = 3162; stratified, CV, weighted = false true false; time = 0.26 min \n",
      "Rep = 26; Nobs = 3162; stratified, CV, weighted = false false true; time = 0.16 min \n",
      "Rep = 26; Nobs = 3162; stratified, CV, weighted = false false false; time = 0.13 min \n"
     ]
    },
    {
     "name": "stderr",
     "output_type": "stream",
     "text": [
      "\r",
      "\u001b[32mProgress:  80%|█████████████████████████████████        |  ETA: 0:00:00\u001b[39m\r",
      "\u001b[32mProgress: 100%|█████████████████████████████████████████| Time: 0:00:00\u001b[39m\n"
     ]
    },
    {
     "name": "stdout",
     "output_type": "stream",
     "text": [
      "Rep = 26; Nobs = 10000; stratified, CV, weighted = false true true; time = 0.36 min \n"
     ]
    },
    {
     "name": "stderr",
     "output_type": "stream",
     "text": [
      "\r",
      "\u001b[32mProgress:  80%|█████████████████████████████████        |  ETA: 0:00:00\u001b[39m\r",
      "\u001b[32mProgress: 100%|█████████████████████████████████████████| Time: 0:00:00\u001b[39m\n"
     ]
    },
    {
     "name": "stdout",
     "output_type": "stream",
     "text": [
      "Rep = 26; Nobs = 10000; stratified, CV, weighted = false true false; time = 0.27 min \n",
      "Rep = 26; Nobs = 10000; stratified, CV, weighted = false false true; time = 0.22 min \n",
      "Rep = 26; Nobs = 10000; stratified, CV, weighted = false false false; time = 0.13 min \n"
     ]
    },
    {
     "name": "stderr",
     "output_type": "stream",
     "text": [
      "\u001b[32mProgress:  80%|█████████████████████████████████        |  ETA: 0:00:00\u001b[39m"
     ]
    },
    {
     "name": "stdout",
     "output_type": "stream",
     "text": [
      "Rep = 26; Nobs = 31622; stratified, CV, weighted = false true true; time = 0.56 min \n"
     ]
    },
    {
     "name": "stderr",
     "output_type": "stream",
     "text": [
      "\u001b[32mProgress: 100%|█████████████████████████████████████████| Time: 0:00:02\u001b[39m\n",
      "\u001b[32mProgress: 100%|█████████████████████████████████████████| Time: 0:00:02\u001b[39m\n"
     ]
    },
    {
     "name": "stdout",
     "output_type": "stream",
     "text": [
      "Rep = 26; Nobs = 31622; stratified, CV, weighted = false true false; time = 0.29 min \n",
      "Rep = 26; Nobs = 31622; stratified, CV, weighted = false false true; time = 0.4 min \n",
      "Rep = 26; Nobs = 31622; stratified, CV, weighted = false false false; time = 0.14 min \n",
      "Rep = 27; Nobs = 10; stratified, CV, weighted = false true true; time = 0.27 min \n",
      "Rep = 27; Nobs = 10; stratified, CV, weighted = false true false; time = 0.27 min \n",
      "Rep = 27; Nobs = 10; stratified, CV, weighted = false false true; time = 0.14 min \n",
      "Rep = 27; Nobs = 10; stratified, CV, weighted = false false false; time = 0.14 min \n",
      "Rep = 27; Nobs = 31; stratified, CV, weighted = false true true; time = 0.27 min \n",
      "Rep = 27; Nobs = 31; stratified, CV, weighted = false true false; time = 0.26 min \n",
      "Rep = 27; Nobs = 31; stratified, CV, weighted = false false true; time = 0.14 min \n",
      "Rep = 27; Nobs = 31; stratified, CV, weighted = false false false; time = 0.13 min \n",
      "Rep = 27; Nobs = 100; stratified, CV, weighted = false true true; time = 0.27 min \n",
      "Rep = 27; Nobs = 100; stratified, CV, weighted = false true false; time = 0.26 min \n",
      "Rep = 27; Nobs = 100; stratified, CV, weighted = false false true; time = 0.14 min \n",
      "Rep = 27; Nobs = 100; stratified, CV, weighted = false false false; time = 0.14 min \n",
      "Rep = 27; Nobs = 316; stratified, CV, weighted = false true true; time = 0.28 min \n",
      "Rep = 27; Nobs = 316; stratified, CV, weighted = false true false; time = 0.27 min \n",
      "Rep = 27; Nobs = 316; stratified, CV, weighted = false false true; time = 0.14 min \n",
      "Rep = 27; Nobs = 316; stratified, CV, weighted = false false false; time = 0.14 min \n",
      "Rep = 27; Nobs = 1000; stratified, CV, weighted = false true true; time = 0.29 min \n",
      "Rep = 27; Nobs = 1000; stratified, CV, weighted = false true false; time = 0.27 min \n",
      "Rep = 27; Nobs = 1000; stratified, CV, weighted = false false true; time = 0.15 min \n",
      "Rep = 27; Nobs = 1000; stratified, CV, weighted = false false false; time = 0.14 min \n",
      "Rep = 27; Nobs = 3162; stratified, CV, weighted = false true true; time = 0.31 min \n",
      "Rep = 27; Nobs = 3162; stratified, CV, weighted = false true false; time = 0.27 min \n",
      "Rep = 27; Nobs = 3162; stratified, CV, weighted = false false true; time = 0.17 min \n",
      "Rep = 27; Nobs = 3162; stratified, CV, weighted = false false false; time = 0.14 min \n"
     ]
    },
    {
     "name": "stderr",
     "output_type": "stream",
     "text": [
      "\r",
      "\u001b[32mProgress:  80%|█████████████████████████████████        |  ETA: 0:00:00\u001b[39m\r",
      "\u001b[32mProgress: 100%|█████████████████████████████████████████| Time: 0:00:00\u001b[39m\n"
     ]
    },
    {
     "name": "stdout",
     "output_type": "stream",
     "text": [
      "Rep = 27; Nobs = 10000; stratified, CV, weighted = false true true; time = 0.37 min \n"
     ]
    },
    {
     "name": "stderr",
     "output_type": "stream",
     "text": [
      "\r",
      "\u001b[32mProgress:  80%|█████████████████████████████████        |  ETA: 0:00:00\u001b[39m\r",
      "\u001b[32mProgress: 100%|█████████████████████████████████████████| Time: 0:00:00\u001b[39m\n"
     ]
    },
    {
     "name": "stdout",
     "output_type": "stream",
     "text": [
      "Rep = 27; Nobs = 10000; stratified, CV, weighted = false true false; time = 0.28 min \n",
      "Rep = 27; Nobs = 10000; stratified, CV, weighted = false false true; time = 0.23 min \n",
      "Rep = 27; Nobs = 10000; stratified, CV, weighted = false false false; time = 0.14 min \n"
     ]
    },
    {
     "name": "stderr",
     "output_type": "stream",
     "text": [
      "\u001b[32mProgress: 100%|█████████████████████████████████████████| Time: 0:00:02\u001b[39m\n"
     ]
    },
    {
     "name": "stdout",
     "output_type": "stream",
     "text": [
      "Rep = 27; Nobs = 31622; stratified, CV, weighted = false true true; time = 0.58 min \n"
     ]
    },
    {
     "name": "stderr",
     "output_type": "stream",
     "text": [
      "\u001b[32mProgress:  80%|█████████████████████████████████        |  ETA: 0:00:00\u001b[39m"
     ]
    },
    {
     "name": "stdout",
     "output_type": "stream",
     "text": [
      "Rep = 27; Nobs = 31622; stratified, CV, weighted = false true false; time = 0.3 min \n"
     ]
    },
    {
     "name": "stderr",
     "output_type": "stream",
     "text": [
      "\r",
      "\u001b[32mProgress: 100%|█████████████████████████████████████████| Time: 0:00:02\u001b[39m\n"
     ]
    },
    {
     "name": "stdout",
     "output_type": "stream",
     "text": [
      "Rep = 27; Nobs = 31622; stratified, CV, weighted = false false true; time = 0.41 min \n",
      "Rep = 27; Nobs = 31622; stratified, CV, weighted = false false false; time = 0.14 min \n",
      "Rep = 28; Nobs = 10; stratified, CV, weighted = false true true; time = 0.28 min \n",
      "Rep = 28; Nobs = 10; stratified, CV, weighted = false true false; time = 0.27 min \n",
      "Rep = 28; Nobs = 10; stratified, CV, weighted = false false true; time = 0.14 min \n",
      "Rep = 28; Nobs = 10; stratified, CV, weighted = false false false; time = 0.14 min \n",
      "Rep = 28; Nobs = 31; stratified, CV, weighted = false true true; time = 0.27 min \n",
      "Rep = 28; Nobs = 31; stratified, CV, weighted = false true false; time = 0.27 min \n",
      "Rep = 28; Nobs = 31; stratified, CV, weighted = false false true; time = 0.14 min \n",
      "Rep = 28; Nobs = 31; stratified, CV, weighted = false false false; time = 0.14 min \n",
      "Rep = 28; Nobs = 100; stratified, CV, weighted = false true true; time = 0.28 min \n",
      "Rep = 28; Nobs = 100; stratified, CV, weighted = false true false; time = 0.27 min \n",
      "Rep = 28; Nobs = 100; stratified, CV, weighted = false false true; time = 0.14 min \n",
      "Rep = 28; Nobs = 100; stratified, CV, weighted = false false false; time = 0.14 min \n",
      "Rep = 28; Nobs = 316; stratified, CV, weighted = false true true; time = 0.28 min \n",
      "Rep = 28; Nobs = 316; stratified, CV, weighted = false true false; time = 0.27 min \n",
      "Rep = 28; Nobs = 316; stratified, CV, weighted = false false true; time = 0.14 min \n",
      "Rep = 28; Nobs = 316; stratified, CV, weighted = false false false; time = 0.14 min \n",
      "Rep = 28; Nobs = 1000; stratified, CV, weighted = false true true; time = 0.29 min \n",
      "Rep = 28; Nobs = 1000; stratified, CV, weighted = false true false; time = 0.27 min \n",
      "Rep = 28; Nobs = 1000; stratified, CV, weighted = false false true; time = 0.15 min \n",
      "Rep = 28; Nobs = 1000; stratified, CV, weighted = false false false; time = 0.14 min \n",
      "Rep = 28; Nobs = 3162; stratified, CV, weighted = false true true; time = 0.31 min \n",
      "Rep = 28; Nobs = 3162; stratified, CV, weighted = false true false; time = 0.27 min \n",
      "Rep = 28; Nobs = 3162; stratified, CV, weighted = false false true; time = 0.17 min \n",
      "Rep = 28; Nobs = 3162; stratified, CV, weighted = false false false; time = 0.14 min \n"
     ]
    },
    {
     "name": "stderr",
     "output_type": "stream",
     "text": [
      "\r",
      "\u001b[32mProgress:  80%|█████████████████████████████████        |  ETA: 0:00:00\u001b[39m\r",
      "\u001b[32mProgress: 100%|█████████████████████████████████████████| Time: 0:00:00\u001b[39m\n"
     ]
    },
    {
     "name": "stdout",
     "output_type": "stream",
     "text": [
      "Rep = 28; Nobs = 10000; stratified, CV, weighted = false true true; time = 0.38 min \n"
     ]
    },
    {
     "name": "stderr",
     "output_type": "stream",
     "text": [
      "\r",
      "\u001b[32mProgress:  80%|█████████████████████████████████        |  ETA: 0:00:00\u001b[39m\r",
      "\u001b[32mProgress: 100%|█████████████████████████████████████████| Time: 0:00:00\u001b[39m\n"
     ]
    },
    {
     "name": "stdout",
     "output_type": "stream",
     "text": [
      "Rep = 28; Nobs = 10000; stratified, CV, weighted = false true false; time = 0.28 min \n",
      "Rep = 28; Nobs = 10000; stratified, CV, weighted = false false true; time = 0.23 min \n",
      "Rep = 28; Nobs = 10000; stratified, CV, weighted = false false false; time = 0.14 min \n"
     ]
    },
    {
     "name": "stderr",
     "output_type": "stream",
     "text": [
      "\u001b[32mProgress: 100%|█████████████████████████████████████████| Time: 0:00:02\u001b[39m\n"
     ]
    },
    {
     "name": "stdout",
     "output_type": "stream",
     "text": [
      "Rep = 28; Nobs = 31622; stratified, CV, weighted = false true true; time = 0.59 min \n"
     ]
    },
    {
     "name": "stderr",
     "output_type": "stream",
     "text": [
      "\u001b[32mProgress: 100%|█████████████████████████████████████████| Time: 0:00:02\u001b[39m\n"
     ]
    },
    {
     "name": "stdout",
     "output_type": "stream",
     "text": [
      "Rep = 28; Nobs = 31622; stratified, CV, weighted = false true false; time = 0.31 min \n",
      "Rep = 28; Nobs = 31622; stratified, CV, weighted = false false true; time = 0.41 min \n",
      "Rep = 28; Nobs = 31622; stratified, CV, weighted = false false false; time = 0.14 min \n",
      "Rep = 29; Nobs = 10; stratified, CV, weighted = false true true; time = 0.27 min \n",
      "Rep = 29; Nobs = 10; stratified, CV, weighted = false true false; time = 0.28 min \n",
      "Rep = 29; Nobs = 10; stratified, CV, weighted = false false true; time = 0.14 min \n",
      "Rep = 29; Nobs = 10; stratified, CV, weighted = false false false; time = 0.14 min \n",
      "Rep = 29; Nobs = 31; stratified, CV, weighted = false true true; time = 0.27 min \n",
      "Rep = 29; Nobs = 31; stratified, CV, weighted = false true false; time = 0.27 min \n",
      "Rep = 29; Nobs = 31; stratified, CV, weighted = false false true; time = 0.14 min \n",
      "Rep = 29; Nobs = 31; stratified, CV, weighted = false false false; time = 0.14 min \n",
      "Rep = 29; Nobs = 100; stratified, CV, weighted = false true true; time = 0.27 min \n",
      "Rep = 29; Nobs = 100; stratified, CV, weighted = false true false; time = 0.27 min \n",
      "Rep = 29; Nobs = 100; stratified, CV, weighted = false false true; time = 0.14 min \n",
      "Rep = 29; Nobs = 100; stratified, CV, weighted = false false false; time = 0.14 min \n",
      "Rep = 29; Nobs = 316; stratified, CV, weighted = false true true; time = 0.28 min \n",
      "Rep = 29; Nobs = 316; stratified, CV, weighted = false true false; time = 0.27 min \n",
      "Rep = 29; Nobs = 316; stratified, CV, weighted = false false true; time = 0.14 min \n",
      "Rep = 29; Nobs = 316; stratified, CV, weighted = false false false; time = 0.14 min \n",
      "Rep = 29; Nobs = 1000; stratified, CV, weighted = false true true; time = 0.29 min \n",
      "Rep = 29; Nobs = 1000; stratified, CV, weighted = false true false; time = 0.27 min \n",
      "Rep = 29; Nobs = 1000; stratified, CV, weighted = false false true; time = 0.15 min \n",
      "Rep = 29; Nobs = 1000; stratified, CV, weighted = false false false; time = 0.14 min \n",
      "Rep = 29; Nobs = 3162; stratified, CV, weighted = false true true; time = 0.31 min \n",
      "Rep = 29; Nobs = 3162; stratified, CV, weighted = false true false; time = 0.28 min \n",
      "Rep = 29; Nobs = 3162; stratified, CV, weighted = false false true; time = 0.17 min \n",
      "Rep = 29; Nobs = 3162; stratified, CV, weighted = false false false; time = 0.14 min \n"
     ]
    },
    {
     "name": "stderr",
     "output_type": "stream",
     "text": [
      "\r",
      "\u001b[32mProgress:  80%|█████████████████████████████████        |  ETA: 0:00:00\u001b[39m\r",
      "\u001b[32mProgress: 100%|█████████████████████████████████████████| Time: 0:00:00\u001b[39m\n"
     ]
    },
    {
     "name": "stdout",
     "output_type": "stream",
     "text": [
      "Rep = 29; Nobs = 10000; stratified, CV, weighted = false true true; time = 0.37 min \n"
     ]
    },
    {
     "name": "stderr",
     "output_type": "stream",
     "text": [
      "\r",
      "\u001b[32mProgress:  80%|█████████████████████████████████        |  ETA: 0:00:00\u001b[39m\r",
      "\u001b[32mProgress: 100%|█████████████████████████████████████████| Time: 0:00:00\u001b[39m\n"
     ]
    },
    {
     "name": "stdout",
     "output_type": "stream",
     "text": [
      "Rep = 29; Nobs = 10000; stratified, CV, weighted = false true false; time = 0.29 min \n",
      "Rep = 29; Nobs = 10000; stratified, CV, weighted = false false true; time = 0.24 min \n",
      "Rep = 29; Nobs = 10000; stratified, CV, weighted = false false false; time = 0.14 min \n"
     ]
    },
    {
     "name": "stderr",
     "output_type": "stream",
     "text": [
      "\u001b[32mProgress: 100%|█████████████████████████████████████████| Time: 0:00:02\u001b[39m\n"
     ]
    },
    {
     "name": "stdout",
     "output_type": "stream",
     "text": [
      "Rep = 29; Nobs = 31622; stratified, CV, weighted = false true true; time = 0.6 min \n"
     ]
    },
    {
     "name": "stderr",
     "output_type": "stream",
     "text": [
      "\u001b[32mProgress: 100%|█████████████████████████████████████████| Time: 0:00:02\u001b[39m\n"
     ]
    },
    {
     "name": "stdout",
     "output_type": "stream",
     "text": [
      "Rep = 29; Nobs = 31622; stratified, CV, weighted = false true false; time = 0.3 min \n",
      "Rep = 29; Nobs = 31622; stratified, CV, weighted = false false true; time = 0.41 min \n",
      "Rep = 29; Nobs = 31622; stratified, CV, weighted = false false false; time = 0.14 min \n",
      "Rep = 30; Nobs = 10; stratified, CV, weighted = false true true; time = 0.28 min \n",
      "Rep = 30; Nobs = 10; stratified, CV, weighted = false true false; time = 0.28 min \n",
      "Rep = 30; Nobs = 10; stratified, CV, weighted = false false true; time = 0.14 min \n",
      "Rep = 30; Nobs = 10; stratified, CV, weighted = false false false; time = 0.14 min \n",
      "Rep = 30; Nobs = 31; stratified, CV, weighted = false true true; time = 0.28 min \n",
      "Rep = 30; Nobs = 31; stratified, CV, weighted = false true false; time = 0.28 min \n",
      "Rep = 30; Nobs = 31; stratified, CV, weighted = false false true; time = 0.14 min \n",
      "Rep = 30; Nobs = 31; stratified, CV, weighted = false false false; time = 0.14 min \n",
      "Rep = 30; Nobs = 100; stratified, CV, weighted = false true true; time = 0.28 min \n",
      "Rep = 30; Nobs = 100; stratified, CV, weighted = false true false; time = 0.28 min \n",
      "Rep = 30; Nobs = 100; stratified, CV, weighted = false false true; time = 0.14 min \n",
      "Rep = 30; Nobs = 100; stratified, CV, weighted = false false false; time = 0.14 min \n",
      "Rep = 30; Nobs = 316; stratified, CV, weighted = false true true; time = 0.29 min \n",
      "Rep = 30; Nobs = 316; stratified, CV, weighted = false true false; time = 0.28 min \n",
      "Rep = 30; Nobs = 316; stratified, CV, weighted = false false true; time = 0.14 min \n",
      "Rep = 30; Nobs = 316; stratified, CV, weighted = false false false; time = 0.14 min \n",
      "Rep = 30; Nobs = 1000; stratified, CV, weighted = false true true; time = 0.28 min \n",
      "Rep = 30; Nobs = 1000; stratified, CV, weighted = false true false; time = 0.27 min \n",
      "Rep = 30; Nobs = 1000; stratified, CV, weighted = false false true; time = 0.15 min \n",
      "Rep = 30; Nobs = 1000; stratified, CV, weighted = false false false; time = 0.14 min \n",
      "Rep = 30; Nobs = 3162; stratified, CV, weighted = false true true; time = 0.31 min \n",
      "Rep = 30; Nobs = 3162; stratified, CV, weighted = false true false; time = 0.28 min \n",
      "Rep = 30; Nobs = 3162; stratified, CV, weighted = false false true; time = 0.17 min \n",
      "Rep = 30; Nobs = 3162; stratified, CV, weighted = false false false; time = 0.14 min \n"
     ]
    },
    {
     "name": "stderr",
     "output_type": "stream",
     "text": [
      "\r",
      "\u001b[32mProgress:  80%|█████████████████████████████████        |  ETA: 0:00:00\u001b[39m\r",
      "\u001b[32mProgress: 100%|█████████████████████████████████████████| Time: 0:00:00\u001b[39m\n"
     ]
    },
    {
     "name": "stdout",
     "output_type": "stream",
     "text": [
      "Rep = 30; Nobs = 10000; stratified, CV, weighted = false true true; time = 0.38 min \n"
     ]
    },
    {
     "name": "stderr",
     "output_type": "stream",
     "text": [
      "\r",
      "\u001b[32mProgress:  80%|█████████████████████████████████        |  ETA: 0:00:00\u001b[39m\r",
      "\u001b[32mProgress: 100%|█████████████████████████████████████████| Time: 0:00:00\u001b[39m\n"
     ]
    },
    {
     "name": "stdout",
     "output_type": "stream",
     "text": [
      "Rep = 30; Nobs = 10000; stratified, CV, weighted = false true false; time = 0.29 min \n",
      "Rep = 30; Nobs = 10000; stratified, CV, weighted = false false true; time = 0.24 min \n",
      "Rep = 30; Nobs = 10000; stratified, CV, weighted = false false false; time = 0.15 min \n"
     ]
    },
    {
     "name": "stderr",
     "output_type": "stream",
     "text": [
      "\u001b[32mProgress:  80%|█████████████████████████████████        |  ETA: 0:00:00\u001b[39m"
     ]
    },
    {
     "name": "stdout",
     "output_type": "stream",
     "text": [
      "Rep = 30; Nobs = 31622; stratified, CV, weighted = false true true; time = 0.59 min \n"
     ]
    },
    {
     "name": "stderr",
     "output_type": "stream",
     "text": [
      "\u001b[32mProgress: 100%|█████████████████████████████████████████| Time: 0:00:02\u001b[39m\n",
      "\u001b[32mProgress:  80%|█████████████████████████████████        |  ETA: 0:00:00\u001b[39m"
     ]
    },
    {
     "name": "stdout",
     "output_type": "stream",
     "text": [
      "Rep = 30; Nobs = 31622; stratified, CV, weighted = false true false; time = 0.31 min \n"
     ]
    },
    {
     "name": "stderr",
     "output_type": "stream",
     "text": [
      "\r",
      "\u001b[32mProgress: 100%|█████████████████████████████████████████| Time: 0:00:02\u001b[39m\n"
     ]
    },
    {
     "name": "stdout",
     "output_type": "stream",
     "text": [
      "Rep = 30; Nobs = 31622; stratified, CV, weighted = false false true; time = 0.41 min \n",
      "Rep = 30; Nobs = 31622; stratified, CV, weighted = false false false; time = 0.14 min \n",
      "Rep = 31; Nobs = 10; stratified, CV, weighted = false true true; time = 0.28 min \n",
      "Rep = 31; Nobs = 10; stratified, CV, weighted = false true false; time = 0.28 min \n",
      "Rep = 31; Nobs = 10; stratified, CV, weighted = false false true; time = 0.14 min \n",
      "Rep = 31; Nobs = 10; stratified, CV, weighted = false false false; time = 0.14 min \n",
      "Rep = 31; Nobs = 31; stratified, CV, weighted = false true true; time = 0.29 min \n",
      "Rep = 31; Nobs = 31; stratified, CV, weighted = false true false; time = 0.28 min \n",
      "Rep = 31; Nobs = 31; stratified, CV, weighted = false false true; time = 0.14 min \n",
      "Rep = 31; Nobs = 31; stratified, CV, weighted = false false false; time = 0.14 min \n",
      "Rep = 31; Nobs = 100; stratified, CV, weighted = false true true; time = 0.28 min \n",
      "Rep = 31; Nobs = 100; stratified, CV, weighted = false true false; time = 0.28 min \n",
      "Rep = 31; Nobs = 100; stratified, CV, weighted = false false true; time = 0.14 min \n",
      "Rep = 31; Nobs = 100; stratified, CV, weighted = false false false; time = 0.14 min \n",
      "Rep = 31; Nobs = 316; stratified, CV, weighted = false true true; time = 0.29 min \n",
      "Rep = 31; Nobs = 316; stratified, CV, weighted = false true false; time = 0.28 min \n",
      "Rep = 31; Nobs = 316; stratified, CV, weighted = false false true; time = 0.15 min \n",
      "Rep = 31; Nobs = 316; stratified, CV, weighted = false false false; time = 0.14 min \n",
      "Rep = 31; Nobs = 1000; stratified, CV, weighted = false true true; time = 0.29 min \n",
      "Rep = 31; Nobs = 1000; stratified, CV, weighted = false true false; time = 0.28 min \n",
      "Rep = 31; Nobs = 1000; stratified, CV, weighted = false false true; time = 0.15 min \n",
      "Rep = 31; Nobs = 1000; stratified, CV, weighted = false false false; time = 0.14 min \n",
      "Rep = 31; Nobs = 3162; stratified, CV, weighted = false true true; time = 0.32 min \n",
      "Rep = 31; Nobs = 3162; stratified, CV, weighted = false true false; time = 0.28 min \n",
      "Rep = 31; Nobs = 3162; stratified, CV, weighted = false false true; time = 0.17 min \n",
      "Rep = 31; Nobs = 3162; stratified, CV, weighted = false false false; time = 0.14 min \n"
     ]
    },
    {
     "name": "stderr",
     "output_type": "stream",
     "text": [
      "\r",
      "\u001b[32mProgress:  80%|█████████████████████████████████        |  ETA: 0:00:00\u001b[39m\r",
      "\u001b[32mProgress: 100%|█████████████████████████████████████████| Time: 0:00:00\u001b[39m\n"
     ]
    },
    {
     "name": "stdout",
     "output_type": "stream",
     "text": [
      "Rep = 31; Nobs = 10000; stratified, CV, weighted = false true true; time = 0.39 min \n"
     ]
    },
    {
     "name": "stderr",
     "output_type": "stream",
     "text": [
      "\r",
      "\u001b[32mProgress:  80%|█████████████████████████████████        |  ETA: 0:00:00\u001b[39m\r",
      "\u001b[32mProgress: 100%|█████████████████████████████████████████| Time: 0:00:00\u001b[39m\n"
     ]
    },
    {
     "name": "stdout",
     "output_type": "stream",
     "text": [
      "Rep = 31; Nobs = 10000; stratified, CV, weighted = false true false; time = 0.29 min \n",
      "Rep = 31; Nobs = 10000; stratified, CV, weighted = false false true; time = 0.23 min \n",
      "Rep = 31; Nobs = 10000; stratified, CV, weighted = false false false; time = 0.15 min \n"
     ]
    },
    {
     "name": "stderr",
     "output_type": "stream",
     "text": [
      "\u001b[32mProgress: 100%|█████████████████████████████████████████| Time: 0:00:02\u001b[39m\n"
     ]
    },
    {
     "name": "stdout",
     "output_type": "stream",
     "text": [
      "Rep = 31; Nobs = 31622; stratified, CV, weighted = false true true; time = 0.61 min \n"
     ]
    },
    {
     "name": "stderr",
     "output_type": "stream",
     "text": [
      "\u001b[32mProgress: 100%|█████████████████████████████████████████| Time: 0:00:02\u001b[39m\n"
     ]
    },
    {
     "name": "stdout",
     "output_type": "stream",
     "text": [
      "Rep = 31; Nobs = 31622; stratified, CV, weighted = false true false; time = 0.31 min \n",
      "Rep = 31; Nobs = 31622; stratified, CV, weighted = false false true; time = 0.41 min \n",
      "Rep = 31; Nobs = 31622; stratified, CV, weighted = false false false; time = 0.14 min \n",
      "Rep = 32; Nobs = 10; stratified, CV, weighted = false true true; time = 0.29 min \n",
      "Rep = 32; Nobs = 10; stratified, CV, weighted = false true false; time = 0.29 min \n",
      "Rep = 32; Nobs = 10; stratified, CV, weighted = false false true; time = 0.14 min \n",
      "Rep = 32; Nobs = 10; stratified, CV, weighted = false false false; time = 0.14 min \n",
      "Rep = 32; Nobs = 31; stratified, CV, weighted = false true true; time = 0.28 min \n",
      "Rep = 32; Nobs = 31; stratified, CV, weighted = false true false; time = 0.27 min \n",
      "Rep = 32; Nobs = 31; stratified, CV, weighted = false false true; time = 0.14 min \n",
      "Rep = 32; Nobs = 31; stratified, CV, weighted = false false false; time = 0.14 min \n",
      "Rep = 32; Nobs = 100; stratified, CV, weighted = false true true; time = 0.28 min \n",
      "Rep = 32; Nobs = 100; stratified, CV, weighted = false true false; time = 0.27 min \n",
      "Rep = 32; Nobs = 100; stratified, CV, weighted = false false true; time = 0.14 min \n",
      "Rep = 32; Nobs = 100; stratified, CV, weighted = false false false; time = 0.14 min \n",
      "Rep = 32; Nobs = 316; stratified, CV, weighted = false true true; time = 0.28 min \n",
      "Rep = 32; Nobs = 316; stratified, CV, weighted = false true false; time = 0.28 min \n",
      "Rep = 32; Nobs = 316; stratified, CV, weighted = false false true; time = 0.14 min \n",
      "Rep = 32; Nobs = 316; stratified, CV, weighted = false false false; time = 0.14 min \n",
      "Rep = 32; Nobs = 1000; stratified, CV, weighted = false true true; time = 0.29 min \n",
      "Rep = 32; Nobs = 1000; stratified, CV, weighted = false true false; time = 0.28 min \n",
      "Rep = 32; Nobs = 1000; stratified, CV, weighted = false false true; time = 0.15 min \n",
      "Rep = 32; Nobs = 1000; stratified, CV, weighted = false false false; time = 0.14 min \n",
      "Rep = 32; Nobs = 3162; stratified, CV, weighted = false true true; time = 0.31 min \n",
      "Rep = 32; Nobs = 3162; stratified, CV, weighted = false true false; time = 0.28 min \n",
      "Rep = 32; Nobs = 3162; stratified, CV, weighted = false false true; time = 0.17 min \n",
      "Rep = 32; Nobs = 3162; stratified, CV, weighted = false false false; time = 0.14 min \n"
     ]
    },
    {
     "name": "stderr",
     "output_type": "stream",
     "text": [
      "\r",
      "\u001b[32mProgress:  80%|█████████████████████████████████        |  ETA: 0:00:00\u001b[39m\r",
      "\u001b[32mProgress: 100%|█████████████████████████████████████████| Time: 0:00:00\u001b[39m\n"
     ]
    },
    {
     "name": "stdout",
     "output_type": "stream",
     "text": [
      "Rep = 32; Nobs = 10000; stratified, CV, weighted = false true true; time = 0.38 min \n"
     ]
    },
    {
     "name": "stderr",
     "output_type": "stream",
     "text": [
      "\r",
      "\u001b[32mProgress:  80%|█████████████████████████████████        |  ETA: 0:00:00\u001b[39m\r",
      "\u001b[32mProgress: 100%|█████████████████████████████████████████| Time: 0:00:00\u001b[39m\n"
     ]
    },
    {
     "name": "stdout",
     "output_type": "stream",
     "text": [
      "Rep = 32; Nobs = 10000; stratified, CV, weighted = false true false; time = 0.29 min \n",
      "Rep = 32; Nobs = 10000; stratified, CV, weighted = false false true; time = 0.23 min \n",
      "Rep = 32; Nobs = 10000; stratified, CV, weighted = false false false; time = 0.14 min \n"
     ]
    },
    {
     "name": "stderr",
     "output_type": "stream",
     "text": [
      "\u001b[32mProgress: 100%|█████████████████████████████████████████| Time: 0:00:02\u001b[39m\n"
     ]
    },
    {
     "name": "stdout",
     "output_type": "stream",
     "text": [
      "Rep = 32; Nobs = 31622; stratified, CV, weighted = false true true; time = 0.58 min \n"
     ]
    },
    {
     "name": "stderr",
     "output_type": "stream",
     "text": [
      "\u001b[32mProgress:  80%|█████████████████████████████████        |  ETA: 0:00:00\u001b[39m"
     ]
    },
    {
     "name": "stdout",
     "output_type": "stream",
     "text": [
      "Rep = 32; Nobs = 31622; stratified, CV, weighted = false true false; time = 0.3 min \n"
     ]
    },
    {
     "name": "stderr",
     "output_type": "stream",
     "text": [
      "\r",
      "\u001b[32mProgress: 100%|█████████████████████████████████████████| Time: 0:00:02\u001b[39m\n"
     ]
    },
    {
     "name": "stdout",
     "output_type": "stream",
     "text": [
      "Rep = 32; Nobs = 31622; stratified, CV, weighted = false false true; time = 0.41 min \n",
      "Rep = 32; Nobs = 31622; stratified, CV, weighted = false false false; time = 0.14 min \n",
      "Rep = 33; Nobs = 10; stratified, CV, weighted = false true true; time = 0.27 min \n",
      "Rep = 33; Nobs = 10; stratified, CV, weighted = false true false; time = 0.27 min \n",
      "Rep = 33; Nobs = 10; stratified, CV, weighted = false false true; time = 0.14 min \n",
      "Rep = 33; Nobs = 10; stratified, CV, weighted = false false false; time = 0.14 min \n",
      "Rep = 33; Nobs = 31; stratified, CV, weighted = false true true; time = 0.28 min \n",
      "Rep = 33; Nobs = 31; stratified, CV, weighted = false true false; time = 0.28 min \n",
      "Rep = 33; Nobs = 31; stratified, CV, weighted = false false true; time = 0.15 min \n",
      "Rep = 33; Nobs = 31; stratified, CV, weighted = false false false; time = 0.14 min \n",
      "Rep = 33; Nobs = 100; stratified, CV, weighted = false true true; time = 0.28 min \n",
      "Rep = 33; Nobs = 100; stratified, CV, weighted = false true false; time = 0.28 min \n",
      "Rep = 33; Nobs = 100; stratified, CV, weighted = false false true; time = 0.14 min \n",
      "Rep = 33; Nobs = 100; stratified, CV, weighted = false false false; time = 0.14 min \n",
      "Rep = 33; Nobs = 316; stratified, CV, weighted = false true true; time = 0.28 min \n",
      "Rep = 33; Nobs = 316; stratified, CV, weighted = false true false; time = 0.29 min \n",
      "Rep = 33; Nobs = 316; stratified, CV, weighted = false false true; time = 0.15 min \n",
      "Rep = 33; Nobs = 316; stratified, CV, weighted = false false false; time = 0.14 min \n",
      "Rep = 33; Nobs = 1000; stratified, CV, weighted = false true true; time = 0.29 min \n",
      "Rep = 33; Nobs = 1000; stratified, CV, weighted = false true false; time = 0.28 min \n",
      "Rep = 33; Nobs = 1000; stratified, CV, weighted = false false true; time = 0.15 min \n",
      "Rep = 33; Nobs = 1000; stratified, CV, weighted = false false false; time = 0.14 min \n",
      "Rep = 33; Nobs = 3162; stratified, CV, weighted = false true true; time = 0.32 min \n",
      "Rep = 33; Nobs = 3162; stratified, CV, weighted = false true false; time = 0.28 min \n",
      "Rep = 33; Nobs = 3162; stratified, CV, weighted = false false true; time = 0.17 min \n",
      "Rep = 33; Nobs = 3162; stratified, CV, weighted = false false false; time = 0.14 min \n"
     ]
    },
    {
     "name": "stderr",
     "output_type": "stream",
     "text": [
      "\r",
      "\u001b[32mProgress:  80%|█████████████████████████████████        |  ETA: 0:00:00\u001b[39m\r",
      "\u001b[32mProgress: 100%|█████████████████████████████████████████| Time: 0:00:00\u001b[39m\n"
     ]
    },
    {
     "name": "stdout",
     "output_type": "stream",
     "text": [
      "Rep = 33; Nobs = 10000; stratified, CV, weighted = false true true; time = 0.37 min \n"
     ]
    },
    {
     "name": "stderr",
     "output_type": "stream",
     "text": [
      "\r",
      "\u001b[32mProgress:  80%|█████████████████████████████████        |  ETA: 0:00:00\u001b[39m\r",
      "\u001b[32mProgress: 100%|█████████████████████████████████████████| Time: 0:00:00\u001b[39m\n"
     ]
    },
    {
     "name": "stdout",
     "output_type": "stream",
     "text": [
      "Rep = 33; Nobs = 10000; stratified, CV, weighted = false true false; time = 0.27 min \n",
      "Rep = 33; Nobs = 10000; stratified, CV, weighted = false false true; time = 0.23 min \n",
      "Rep = 33; Nobs = 10000; stratified, CV, weighted = false false false; time = 0.14 min \n"
     ]
    },
    {
     "name": "stderr",
     "output_type": "stream",
     "text": [
      "\u001b[32mProgress: 100%|█████████████████████████████████████████| Time: 0:00:02\u001b[39m\n"
     ]
    },
    {
     "name": "stdout",
     "output_type": "stream",
     "text": [
      "Rep = 33; Nobs = 31622; stratified, CV, weighted = false true true; time = 0.57 min \n"
     ]
    },
    {
     "name": "stderr",
     "output_type": "stream",
     "text": [
      "\u001b[32mProgress:  80%|█████████████████████████████████        |  ETA: 0:00:00\u001b[39m"
     ]
    },
    {
     "name": "stdout",
     "output_type": "stream",
     "text": [
      "Rep = 33; Nobs = 31622; stratified, CV, weighted = false true false; time = 0.3 min \n"
     ]
    },
    {
     "name": "stderr",
     "output_type": "stream",
     "text": [
      "\r",
      "\u001b[32mProgress: 100%|█████████████████████████████████████████| Time: 0:00:02\u001b[39m\n"
     ]
    },
    {
     "name": "stdout",
     "output_type": "stream",
     "text": [
      "Rep = 33; Nobs = 31622; stratified, CV, weighted = false false true; time = 0.4 min \n",
      "Rep = 33; Nobs = 31622; stratified, CV, weighted = false false false; time = 0.14 min \n",
      "Rep = 34; Nobs = 10; stratified, CV, weighted = false true true; time = 0.27 min \n",
      "Rep = 34; Nobs = 10; stratified, CV, weighted = false true false; time = 0.27 min \n",
      "Rep = 34; Nobs = 10; stratified, CV, weighted = false false true; time = 0.14 min \n",
      "Rep = 34; Nobs = 10; stratified, CV, weighted = false false false; time = 0.14 min \n",
      "Rep = 34; Nobs = 31; stratified, CV, weighted = false true true; time = 0.27 min \n",
      "Rep = 34; Nobs = 31; stratified, CV, weighted = false true false; time = 0.27 min \n",
      "Rep = 34; Nobs = 31; stratified, CV, weighted = false false true; time = 0.14 min \n",
      "Rep = 34; Nobs = 31; stratified, CV, weighted = false false false; time = 0.14 min \n",
      "Rep = 34; Nobs = 100; stratified, CV, weighted = false true true; time = 0.27 min \n",
      "Rep = 34; Nobs = 100; stratified, CV, weighted = false true false; time = 0.27 min \n",
      "Rep = 34; Nobs = 100; stratified, CV, weighted = false false true; time = 0.14 min \n",
      "Rep = 34; Nobs = 100; stratified, CV, weighted = false false false; time = 0.14 min \n",
      "Rep = 34; Nobs = 316; stratified, CV, weighted = false true true; time = 0.27 min \n",
      "Rep = 34; Nobs = 316; stratified, CV, weighted = false true false; time = 0.27 min \n",
      "Rep = 34; Nobs = 316; stratified, CV, weighted = false false true; time = 0.14 min \n",
      "Rep = 34; Nobs = 316; stratified, CV, weighted = false false false; time = 0.14 min \n",
      "Rep = 34; Nobs = 1000; stratified, CV, weighted = false true true; time = 0.28 min \n",
      "Rep = 34; Nobs = 1000; stratified, CV, weighted = false true false; time = 0.27 min \n",
      "Rep = 34; Nobs = 1000; stratified, CV, weighted = false false true; time = 0.15 min \n",
      "Rep = 34; Nobs = 1000; stratified, CV, weighted = false false false; time = 0.14 min \n",
      "Rep = 34; Nobs = 3162; stratified, CV, weighted = false true true; time = 0.3 min \n",
      "Rep = 34; Nobs = 3162; stratified, CV, weighted = false true false; time = 0.27 min \n",
      "Rep = 34; Nobs = 3162; stratified, CV, weighted = false false true; time = 0.17 min \n",
      "Rep = 34; Nobs = 3162; stratified, CV, weighted = false false false; time = 0.14 min \n"
     ]
    },
    {
     "name": "stderr",
     "output_type": "stream",
     "text": [
      "\r",
      "\u001b[32mProgress:  80%|█████████████████████████████████        |  ETA: 0:00:00\u001b[39m\r",
      "\u001b[32mProgress: 100%|█████████████████████████████████████████| Time: 0:00:00\u001b[39m\n"
     ]
    },
    {
     "name": "stdout",
     "output_type": "stream",
     "text": [
      "Rep = 34; Nobs = 10000; stratified, CV, weighted = false true true; time = 0.37 min \n"
     ]
    },
    {
     "name": "stderr",
     "output_type": "stream",
     "text": [
      "\r",
      "\u001b[32mProgress:  80%|█████████████████████████████████        |  ETA: 0:00:00\u001b[39m\r",
      "\u001b[32mProgress: 100%|█████████████████████████████████████████| Time: 0:00:00\u001b[39m\n"
     ]
    },
    {
     "name": "stdout",
     "output_type": "stream",
     "text": [
      "Rep = 34; Nobs = 10000; stratified, CV, weighted = false true false; time = 0.27 min \n",
      "Rep = 34; Nobs = 10000; stratified, CV, weighted = false false true; time = 0.22 min \n",
      "Rep = 34; Nobs = 10000; stratified, CV, weighted = false false false; time = 0.14 min \n"
     ]
    },
    {
     "name": "stderr",
     "output_type": "stream",
     "text": [
      "\u001b[32mProgress: 100%|█████████████████████████████████████████| Time: 0:00:02\u001b[39m\n"
     ]
    },
    {
     "name": "stdout",
     "output_type": "stream",
     "text": [
      "Rep = 34; Nobs = 31622; stratified, CV, weighted = false true true; time = 0.57 min \n"
     ]
    },
    {
     "name": "stderr",
     "output_type": "stream",
     "text": [
      "\u001b[32mProgress:  80%|█████████████████████████████████        |  ETA: 0:00:00\u001b[39m"
     ]
    },
    {
     "name": "stdout",
     "output_type": "stream",
     "text": [
      "Rep = 34; Nobs = 31622; stratified, CV, weighted = false true false; time = 0.3 min \n"
     ]
    },
    {
     "name": "stderr",
     "output_type": "stream",
     "text": [
      "\r",
      "\u001b[32mProgress: 100%|█████████████████████████████████████████| Time: 0:00:02\u001b[39m\n"
     ]
    },
    {
     "name": "stdout",
     "output_type": "stream",
     "text": [
      "Rep = 34; Nobs = 31622; stratified, CV, weighted = false false true; time = 0.4 min \n",
      "Rep = 34; Nobs = 31622; stratified, CV, weighted = false false false; time = 0.14 min \n",
      "Rep = 35; Nobs = 10; stratified, CV, weighted = false true true; time = 0.27 min \n",
      "Rep = 35; Nobs = 10; stratified, CV, weighted = false true false; time = 0.27 min \n",
      "Rep = 35; Nobs = 10; stratified, CV, weighted = false false true; time = 0.14 min \n",
      "Rep = 35; Nobs = 10; stratified, CV, weighted = false false false; time = 0.14 min \n",
      "Rep = 35; Nobs = 31; stratified, CV, weighted = false true true; time = 0.27 min \n",
      "Rep = 35; Nobs = 31; stratified, CV, weighted = false true false; time = 0.27 min \n",
      "Rep = 35; Nobs = 31; stratified, CV, weighted = false false true; time = 0.14 min \n",
      "Rep = 35; Nobs = 31; stratified, CV, weighted = false false false; time = 0.14 min \n",
      "Rep = 35; Nobs = 100; stratified, CV, weighted = false true true; time = 0.27 min \n",
      "Rep = 35; Nobs = 100; stratified, CV, weighted = false true false; time = 0.27 min \n",
      "Rep = 35; Nobs = 100; stratified, CV, weighted = false false true; time = 0.14 min \n",
      "Rep = 35; Nobs = 100; stratified, CV, weighted = false false false; time = 0.14 min \n",
      "Rep = 35; Nobs = 316; stratified, CV, weighted = false true true; time = 0.28 min \n",
      "Rep = 35; Nobs = 316; stratified, CV, weighted = false true false; time = 0.27 min \n",
      "Rep = 35; Nobs = 316; stratified, CV, weighted = false false true; time = 0.14 min \n",
      "Rep = 35; Nobs = 316; stratified, CV, weighted = false false false; time = 0.14 min \n",
      "Rep = 35; Nobs = 1000; stratified, CV, weighted = false true true; time = 0.28 min \n",
      "Rep = 35; Nobs = 1000; stratified, CV, weighted = false true false; time = 0.27 min \n",
      "Rep = 35; Nobs = 1000; stratified, CV, weighted = false false true; time = 0.15 min \n",
      "Rep = 35; Nobs = 1000; stratified, CV, weighted = false false false; time = 0.14 min \n",
      "Rep = 35; Nobs = 3162; stratified, CV, weighted = false true true; time = 0.3 min \n",
      "Rep = 35; Nobs = 3162; stratified, CV, weighted = false true false; time = 0.27 min \n",
      "Rep = 35; Nobs = 3162; stratified, CV, weighted = false false true; time = 0.16 min \n",
      "Rep = 35; Nobs = 3162; stratified, CV, weighted = false false false; time = 0.14 min \n"
     ]
    },
    {
     "name": "stderr",
     "output_type": "stream",
     "text": [
      "\r",
      "\u001b[32mProgress:  80%|█████████████████████████████████        |  ETA: 0:00:00\u001b[39m\r",
      "\u001b[32mProgress: 100%|█████████████████████████████████████████| Time: 0:00:00\u001b[39m\n"
     ]
    },
    {
     "name": "stdout",
     "output_type": "stream",
     "text": [
      "Rep = 35; Nobs = 10000; stratified, CV, weighted = false true true; time = 0.37 min \n"
     ]
    },
    {
     "name": "stderr",
     "output_type": "stream",
     "text": [
      "\r",
      "\u001b[32mProgress:  80%|█████████████████████████████████        |  ETA: 0:00:00\u001b[39m\r",
      "\u001b[32mProgress: 100%|█████████████████████████████████████████| Time: 0:00:00\u001b[39m\n"
     ]
    },
    {
     "name": "stdout",
     "output_type": "stream",
     "text": [
      "Rep = 35; Nobs = 10000; stratified, CV, weighted = false true false; time = 0.27 min \n",
      "Rep = 35; Nobs = 10000; stratified, CV, weighted = false false true; time = 0.22 min \n",
      "Rep = 35; Nobs = 10000; stratified, CV, weighted = false false false; time = 0.14 min \n"
     ]
    },
    {
     "name": "stderr",
     "output_type": "stream",
     "text": [
      "\u001b[32mProgress: 100%|█████████████████████████████████████████| Time: 0:00:02\u001b[39m\n"
     ]
    },
    {
     "name": "stdout",
     "output_type": "stream",
     "text": [
      "Rep = 35; Nobs = 31622; stratified, CV, weighted = false true true; time = 0.57 min \n"
     ]
    },
    {
     "name": "stderr",
     "output_type": "stream",
     "text": [
      "\u001b[32mProgress:  80%|█████████████████████████████████        |  ETA: 0:00:00\u001b[39m"
     ]
    },
    {
     "name": "stdout",
     "output_type": "stream",
     "text": [
      "Rep = 35; Nobs = 31622; stratified, CV, weighted = false true false; time = 0.3 min \n"
     ]
    },
    {
     "name": "stderr",
     "output_type": "stream",
     "text": [
      "\r",
      "\u001b[32mProgress: 100%|█████████████████████████████████████████| Time: 0:00:02\u001b[39m\n"
     ]
    },
    {
     "name": "stdout",
     "output_type": "stream",
     "text": [
      "Rep = 35; Nobs = 31622; stratified, CV, weighted = false false true; time = 0.4 min \n",
      "Rep = 35; Nobs = 31622; stratified, CV, weighted = false false false; time = 0.14 min \n",
      "Rep = 36; Nobs = 10; stratified, CV, weighted = false true true; time = 0.27 min \n",
      "Rep = 36; Nobs = 10; stratified, CV, weighted = false true false; time = 0.27 min \n",
      "Rep = 36; Nobs = 10; stratified, CV, weighted = false false true; time = 0.14 min \n",
      "Rep = 36; Nobs = 10; stratified, CV, weighted = false false false; time = 0.14 min \n",
      "Rep = 36; Nobs = 31; stratified, CV, weighted = false true true; time = 0.27 min \n",
      "Rep = 36; Nobs = 31; stratified, CV, weighted = false true false; time = 0.27 min \n",
      "Rep = 36; Nobs = 31; stratified, CV, weighted = false false true; time = 0.14 min \n",
      "Rep = 36; Nobs = 31; stratified, CV, weighted = false false false; time = 0.14 min \n",
      "Rep = 36; Nobs = 100; stratified, CV, weighted = false true true; time = 0.27 min \n",
      "Rep = 36; Nobs = 100; stratified, CV, weighted = false true false; time = 0.27 min \n",
      "Rep = 36; Nobs = 100; stratified, CV, weighted = false false true; time = 0.14 min \n",
      "Rep = 36; Nobs = 100; stratified, CV, weighted = false false false; time = 0.14 min \n",
      "Rep = 36; Nobs = 316; stratified, CV, weighted = false true true; time = 0.28 min \n",
      "Rep = 36; Nobs = 316; stratified, CV, weighted = false true false; time = 0.27 min \n",
      "Rep = 36; Nobs = 316; stratified, CV, weighted = false false true; time = 0.14 min \n",
      "Rep = 36; Nobs = 316; stratified, CV, weighted = false false false; time = 0.14 min \n",
      "Rep = 36; Nobs = 1000; stratified, CV, weighted = false true true; time = 0.28 min \n",
      "Rep = 36; Nobs = 1000; stratified, CV, weighted = false true false; time = 0.27 min \n",
      "Rep = 36; Nobs = 1000; stratified, CV, weighted = false false true; time = 0.15 min \n",
      "Rep = 36; Nobs = 1000; stratified, CV, weighted = false false false; time = 0.14 min \n",
      "Rep = 36; Nobs = 3162; stratified, CV, weighted = false true true; time = 0.3 min \n",
      "Rep = 36; Nobs = 3162; stratified, CV, weighted = false true false; time = 0.27 min \n",
      "Rep = 36; Nobs = 3162; stratified, CV, weighted = false false true; time = 0.17 min \n",
      "Rep = 36; Nobs = 3162; stratified, CV, weighted = false false false; time = 0.14 min \n"
     ]
    },
    {
     "name": "stderr",
     "output_type": "stream",
     "text": [
      "\r",
      "\u001b[32mProgress:  80%|█████████████████████████████████        |  ETA: 0:00:00\u001b[39m\r",
      "\u001b[32mProgress: 100%|█████████████████████████████████████████| Time: 0:00:00\u001b[39m\n"
     ]
    },
    {
     "name": "stdout",
     "output_type": "stream",
     "text": [
      "Rep = 36; Nobs = 10000; stratified, CV, weighted = false true true; time = 0.37 min \n"
     ]
    },
    {
     "name": "stderr",
     "output_type": "stream",
     "text": [
      "\r",
      "\u001b[32mProgress:  80%|█████████████████████████████████        |  ETA: 0:00:00\u001b[39m\r",
      "\u001b[32mProgress: 100%|█████████████████████████████████████████| Time: 0:00:00\u001b[39m\n"
     ]
    },
    {
     "name": "stdout",
     "output_type": "stream",
     "text": [
      "Rep = 36; Nobs = 10000; stratified, CV, weighted = false true false; time = 0.27 min \n",
      "Rep = 36; Nobs = 10000; stratified, CV, weighted = false false true; time = 0.22 min \n",
      "Rep = 36; Nobs = 10000; stratified, CV, weighted = false false false; time = 0.14 min \n"
     ]
    },
    {
     "name": "stderr",
     "output_type": "stream",
     "text": [
      "\u001b[32mProgress:  80%|█████████████████████████████████        |  ETA: 0:00:00\u001b[39m"
     ]
    },
    {
     "name": "stdout",
     "output_type": "stream",
     "text": [
      "Rep = 36; Nobs = 31622; stratified, CV, weighted = false true true; time = 0.57 min \n"
     ]
    },
    {
     "name": "stderr",
     "output_type": "stream",
     "text": [
      "\u001b[32mProgress: 100%|█████████████████████████████████████████| Time: 0:00:02\u001b[39m\n",
      "\u001b[32mProgress: 100%|█████████████████████████████████████████| Time: 0:00:02\u001b[39m\n"
     ]
    },
    {
     "name": "stdout",
     "output_type": "stream",
     "text": [
      "Rep = 36; Nobs = 31622; stratified, CV, weighted = false true false; time = 0.3 min \n",
      "Rep = 36; Nobs = 31622; stratified, CV, weighted = false false true; time = 0.4 min \n",
      "Rep = 36; Nobs = 31622; stratified, CV, weighted = false false false; time = 0.14 min \n",
      "Rep = 37; Nobs = 10; stratified, CV, weighted = false true true; time = 0.27 min \n",
      "Rep = 37; Nobs = 10; stratified, CV, weighted = false true false; time = 0.27 min \n",
      "Rep = 37; Nobs = 10; stratified, CV, weighted = false false true; time = 0.14 min \n",
      "Rep = 37; Nobs = 10; stratified, CV, weighted = false false false; time = 0.14 min \n",
      "Rep = 37; Nobs = 31; stratified, CV, weighted = false true true; time = 0.27 min \n",
      "Rep = 37; Nobs = 31; stratified, CV, weighted = false true false; time = 0.27 min \n",
      "Rep = 37; Nobs = 31; stratified, CV, weighted = false false true; time = 0.14 min \n",
      "Rep = 37; Nobs = 31; stratified, CV, weighted = false false false; time = 0.14 min \n",
      "Rep = 37; Nobs = 100; stratified, CV, weighted = false true true; time = 0.27 min \n",
      "Rep = 37; Nobs = 100; stratified, CV, weighted = false true false; time = 0.27 min \n",
      "Rep = 37; Nobs = 100; stratified, CV, weighted = false false true; time = 0.14 min \n",
      "Rep = 37; Nobs = 100; stratified, CV, weighted = false false false; time = 0.14 min \n",
      "Rep = 37; Nobs = 316; stratified, CV, weighted = false true true; time = 0.27 min \n",
      "Rep = 37; Nobs = 316; stratified, CV, weighted = false true false; time = 0.27 min \n",
      "Rep = 37; Nobs = 316; stratified, CV, weighted = false false true; time = 0.14 min \n",
      "Rep = 37; Nobs = 316; stratified, CV, weighted = false false false; time = 0.14 min \n",
      "Rep = 37; Nobs = 1000; stratified, CV, weighted = false true true; time = 0.28 min \n",
      "Rep = 37; Nobs = 1000; stratified, CV, weighted = false true false; time = 0.27 min \n",
      "Rep = 37; Nobs = 1000; stratified, CV, weighted = false false true; time = 0.15 min \n",
      "Rep = 37; Nobs = 1000; stratified, CV, weighted = false false false; time = 0.14 min \n",
      "Rep = 37; Nobs = 3162; stratified, CV, weighted = false true true; time = 0.3 min \n",
      "Rep = 37; Nobs = 3162; stratified, CV, weighted = false true false; time = 0.27 min \n",
      "Rep = 37; Nobs = 3162; stratified, CV, weighted = false false true; time = 0.17 min \n",
      "Rep = 37; Nobs = 3162; stratified, CV, weighted = false false false; time = 0.14 min \n"
     ]
    },
    {
     "name": "stderr",
     "output_type": "stream",
     "text": [
      "\r",
      "\u001b[32mProgress:  80%|█████████████████████████████████        |  ETA: 0:00:00\u001b[39m\r",
      "\u001b[32mProgress: 100%|█████████████████████████████████████████| Time: 0:00:00\u001b[39m\n"
     ]
    },
    {
     "name": "stdout",
     "output_type": "stream",
     "text": [
      "Rep = 37; Nobs = 10000; stratified, CV, weighted = false true true; time = 0.37 min \n"
     ]
    },
    {
     "name": "stderr",
     "output_type": "stream",
     "text": [
      "\r",
      "\u001b[32mProgress:  80%|█████████████████████████████████        |  ETA: 0:00:00\u001b[39m\r",
      "\u001b[32mProgress: 100%|█████████████████████████████████████████| Time: 0:00:00\u001b[39m\n"
     ]
    },
    {
     "name": "stdout",
     "output_type": "stream",
     "text": [
      "Rep = 37; Nobs = 10000; stratified, CV, weighted = false true false; time = 0.27 min \n",
      "Rep = 37; Nobs = 10000; stratified, CV, weighted = false false true; time = 0.22 min \n",
      "Rep = 37; Nobs = 10000; stratified, CV, weighted = false false false; time = 0.14 min \n"
     ]
    },
    {
     "name": "stderr",
     "output_type": "stream",
     "text": [
      "\u001b[32mProgress: 100%|█████████████████████████████████████████| Time: 0:00:02\u001b[39m\n"
     ]
    },
    {
     "name": "stdout",
     "output_type": "stream",
     "text": [
      "Rep = 37; Nobs = 31622; stratified, CV, weighted = false true true; time = 0.57 min \n"
     ]
    },
    {
     "name": "stderr",
     "output_type": "stream",
     "text": [
      "\u001b[32mProgress: 100%|█████████████████████████████████████████| Time: 0:00:02\u001b[39m\n"
     ]
    },
    {
     "name": "stdout",
     "output_type": "stream",
     "text": [
      "Rep = 37; Nobs = 31622; stratified, CV, weighted = false true false; time = 0.3 min \n",
      "Rep = 37; Nobs = 31622; stratified, CV, weighted = false false true; time = 0.4 min \n",
      "Rep = 37; Nobs = 31622; stratified, CV, weighted = false false false; time = 0.14 min \n",
      "Rep = 38; Nobs = 10; stratified, CV, weighted = false true true; time = 0.27 min \n",
      "Rep = 38; Nobs = 10; stratified, CV, weighted = false true false; time = 0.27 min \n",
      "Rep = 38; Nobs = 10; stratified, CV, weighted = false false true; time = 0.14 min \n",
      "Rep = 38; Nobs = 10; stratified, CV, weighted = false false false; time = 0.14 min \n",
      "Rep = 38; Nobs = 31; stratified, CV, weighted = false true true; time = 0.27 min \n",
      "Rep = 38; Nobs = 31; stratified, CV, weighted = false true false; time = 0.27 min \n",
      "Rep = 38; Nobs = 31; stratified, CV, weighted = false false true; time = 0.14 min \n",
      "Rep = 38; Nobs = 31; stratified, CV, weighted = false false false; time = 0.14 min \n",
      "Rep = 38; Nobs = 100; stratified, CV, weighted = false true true; time = 0.27 min \n",
      "Rep = 38; Nobs = 100; stratified, CV, weighted = false true false; time = 0.27 min \n",
      "Rep = 38; Nobs = 100; stratified, CV, weighted = false false true; time = 0.14 min \n",
      "Rep = 38; Nobs = 100; stratified, CV, weighted = false false false; time = 0.14 min \n",
      "Rep = 38; Nobs = 316; stratified, CV, weighted = false true true; time = 0.28 min \n",
      "Rep = 38; Nobs = 316; stratified, CV, weighted = false true false; time = 0.27 min \n",
      "Rep = 38; Nobs = 316; stratified, CV, weighted = false false true; time = 0.14 min \n",
      "Rep = 38; Nobs = 316; stratified, CV, weighted = false false false; time = 0.14 min \n",
      "Rep = 38; Nobs = 1000; stratified, CV, weighted = false true true; time = 0.28 min \n",
      "Rep = 38; Nobs = 1000; stratified, CV, weighted = false true false; time = 0.27 min \n",
      "Rep = 38; Nobs = 1000; stratified, CV, weighted = false false true; time = 0.15 min \n",
      "Rep = 38; Nobs = 1000; stratified, CV, weighted = false false false; time = 0.14 min \n",
      "Rep = 38; Nobs = 3162; stratified, CV, weighted = false true true; time = 0.3 min \n",
      "Rep = 38; Nobs = 3162; stratified, CV, weighted = false true false; time = 0.27 min \n",
      "Rep = 38; Nobs = 3162; stratified, CV, weighted = false false true; time = 0.17 min \n",
      "Rep = 38; Nobs = 3162; stratified, CV, weighted = false false false; time = 0.14 min \n"
     ]
    },
    {
     "name": "stderr",
     "output_type": "stream",
     "text": [
      "\r",
      "\u001b[32mProgress:  80%|█████████████████████████████████        |  ETA: 0:00:00\u001b[39m\r",
      "\u001b[32mProgress: 100%|█████████████████████████████████████████| Time: 0:00:00\u001b[39m\n"
     ]
    },
    {
     "name": "stdout",
     "output_type": "stream",
     "text": [
      "Rep = 38; Nobs = 10000; stratified, CV, weighted = false true true; time = 0.37 min \n"
     ]
    },
    {
     "name": "stderr",
     "output_type": "stream",
     "text": [
      "\r",
      "\u001b[32mProgress:  80%|█████████████████████████████████        |  ETA: 0:00:00\u001b[39m\r",
      "\u001b[32mProgress: 100%|█████████████████████████████████████████| Time: 0:00:00\u001b[39m\n"
     ]
    },
    {
     "name": "stdout",
     "output_type": "stream",
     "text": [
      "Rep = 38; Nobs = 10000; stratified, CV, weighted = false true false; time = 0.27 min \n",
      "Rep = 38; Nobs = 10000; stratified, CV, weighted = false false true; time = 0.22 min \n",
      "Rep = 38; Nobs = 10000; stratified, CV, weighted = false false false; time = 0.14 min \n"
     ]
    },
    {
     "name": "stderr",
     "output_type": "stream",
     "text": [
      "\u001b[32mProgress: 100%|█████████████████████████████████████████| Time: 0:00:02\u001b[39m\n"
     ]
    },
    {
     "name": "stdout",
     "output_type": "stream",
     "text": [
      "Rep = 38; Nobs = 31622; stratified, CV, weighted = false true true; time = 0.57 min \n"
     ]
    },
    {
     "name": "stderr",
     "output_type": "stream",
     "text": [
      "\u001b[32mProgress: 100%|█████████████████████████████████████████| Time: 0:00:02\u001b[39m\n"
     ]
    },
    {
     "name": "stdout",
     "output_type": "stream",
     "text": [
      "Rep = 38; Nobs = 31622; stratified, CV, weighted = false true false; time = 0.3 min \n",
      "Rep = 38; Nobs = 31622; stratified, CV, weighted = false false true; time = 0.4 min \n",
      "Rep = 38; Nobs = 31622; stratified, CV, weighted = false false false; time = 0.14 min \n",
      "Rep = 39; Nobs = 10; stratified, CV, weighted = false true true; time = 0.27 min \n",
      "Rep = 39; Nobs = 10; stratified, CV, weighted = false true false; time = 0.27 min \n",
      "Rep = 39; Nobs = 10; stratified, CV, weighted = false false true; time = 0.15 min \n",
      "Rep = 39; Nobs = 10; stratified, CV, weighted = false false false; time = 0.14 min \n",
      "Rep = 39; Nobs = 31; stratified, CV, weighted = false true true; time = 0.28 min \n",
      "Rep = 39; Nobs = 31; stratified, CV, weighted = false true false; time = 0.27 min \n",
      "Rep = 39; Nobs = 31; stratified, CV, weighted = false false true; time = 0.14 min \n",
      "Rep = 39; Nobs = 31; stratified, CV, weighted = false false false; time = 0.14 min \n",
      "Rep = 39; Nobs = 100; stratified, CV, weighted = false true true; time = 0.28 min \n",
      "Rep = 39; Nobs = 100; stratified, CV, weighted = false true false; time = 0.27 min \n",
      "Rep = 39; Nobs = 100; stratified, CV, weighted = false false true; time = 0.14 min \n",
      "Rep = 39; Nobs = 100; stratified, CV, weighted = false false false; time = 0.14 min \n",
      "Rep = 39; Nobs = 316; stratified, CV, weighted = false true true; time = 0.29 min \n",
      "Rep = 39; Nobs = 316; stratified, CV, weighted = false true false; time = 0.28 min \n",
      "Rep = 39; Nobs = 316; stratified, CV, weighted = false false true; time = 0.15 min \n",
      "Rep = 39; Nobs = 316; stratified, CV, weighted = false false false; time = 0.14 min \n",
      "Rep = 39; Nobs = 1000; stratified, CV, weighted = false true true; time = 0.29 min \n",
      "Rep = 39; Nobs = 1000; stratified, CV, weighted = false true false; time = 0.28 min \n",
      "Rep = 39; Nobs = 1000; stratified, CV, weighted = false false true; time = 0.15 min \n",
      "Rep = 39; Nobs = 1000; stratified, CV, weighted = false false false; time = 0.14 min \n",
      "Rep = 39; Nobs = 3162; stratified, CV, weighted = false true true; time = 0.32 min \n",
      "Rep = 39; Nobs = 3162; stratified, CV, weighted = false true false; time = 0.28 min \n",
      "Rep = 39; Nobs = 3162; stratified, CV, weighted = false false true; time = 0.17 min \n",
      "Rep = 39; Nobs = 3162; stratified, CV, weighted = false false false; time = 0.14 min \n"
     ]
    },
    {
     "name": "stderr",
     "output_type": "stream",
     "text": [
      "\r",
      "\u001b[32mProgress:  80%|█████████████████████████████████        |  ETA: 0:00:00\u001b[39m\r",
      "\u001b[32mProgress: 100%|█████████████████████████████████████████| Time: 0:00:00\u001b[39m\n"
     ]
    },
    {
     "name": "stdout",
     "output_type": "stream",
     "text": [
      "Rep = 39; Nobs = 10000; stratified, CV, weighted = false true true; time = 0.38 min \n"
     ]
    },
    {
     "name": "stderr",
     "output_type": "stream",
     "text": [
      "\r",
      "\u001b[32mProgress:  80%|█████████████████████████████████        |  ETA: 0:00:00\u001b[39m\r",
      "\u001b[32mProgress: 100%|█████████████████████████████████████████| Time: 0:00:00\u001b[39m\n"
     ]
    },
    {
     "name": "stdout",
     "output_type": "stream",
     "text": [
      "Rep = 39; Nobs = 10000; stratified, CV, weighted = false true false; time = 0.28 min \n",
      "Rep = 39; Nobs = 10000; stratified, CV, weighted = false false true; time = 0.22 min \n",
      "Rep = 39; Nobs = 10000; stratified, CV, weighted = false false false; time = 0.14 min \n"
     ]
    },
    {
     "name": "stderr",
     "output_type": "stream",
     "text": [
      "\u001b[32mProgress: 100%|█████████████████████████████████████████| Time: 0:00:02\u001b[39m\n"
     ]
    },
    {
     "name": "stdout",
     "output_type": "stream",
     "text": [
      "Rep = 39; Nobs = 31622; stratified, CV, weighted = false true true; time = 0.58 min \n"
     ]
    },
    {
     "name": "stderr",
     "output_type": "stream",
     "text": [
      "\u001b[32mProgress: 100%|█████████████████████████████████████████| Time: 0:00:02\u001b[39m\n"
     ]
    },
    {
     "name": "stdout",
     "output_type": "stream",
     "text": [
      "Rep = 39; Nobs = 31622; stratified, CV, weighted = false true false; time = 0.3 min \n",
      "Rep = 39; Nobs = 31622; stratified, CV, weighted = false false true; time = 0.4 min \n",
      "Rep = 39; Nobs = 31622; stratified, CV, weighted = false false false; time = 0.14 min \n",
      "Rep = 40; Nobs = 10; stratified, CV, weighted = false true true; time = 0.28 min \n",
      "Rep = 40; Nobs = 10; stratified, CV, weighted = false true false; time = 0.27 min \n",
      "Rep = 40; Nobs = 10; stratified, CV, weighted = false false true; time = 0.14 min \n",
      "Rep = 40; Nobs = 10; stratified, CV, weighted = false false false; time = 0.14 min \n",
      "Rep = 40; Nobs = 31; stratified, CV, weighted = false true true; time = 0.28 min \n",
      "Rep = 40; Nobs = 31; stratified, CV, weighted = false true false; time = 0.28 min \n",
      "Rep = 40; Nobs = 31; stratified, CV, weighted = false false true; time = 0.15 min \n",
      "Rep = 40; Nobs = 31; stratified, CV, weighted = false false false; time = 0.14 min \n",
      "Rep = 40; Nobs = 100; stratified, CV, weighted = false true true; time = 0.28 min \n",
      "Rep = 40; Nobs = 100; stratified, CV, weighted = false true false; time = 0.27 min \n",
      "Rep = 40; Nobs = 100; stratified, CV, weighted = false false true; time = 0.14 min \n",
      "Rep = 40; Nobs = 100; stratified, CV, weighted = false false false; time = 0.14 min \n",
      "Rep = 40; Nobs = 316; stratified, CV, weighted = false true true; time = 0.29 min \n",
      "Rep = 40; Nobs = 316; stratified, CV, weighted = false true false; time = 0.28 min \n",
      "Rep = 40; Nobs = 316; stratified, CV, weighted = false false true; time = 0.15 min \n",
      "Rep = 40; Nobs = 316; stratified, CV, weighted = false false false; time = 0.14 min \n",
      "Rep = 40; Nobs = 1000; stratified, CV, weighted = false true true; time = 0.3 min \n",
      "Rep = 40; Nobs = 1000; stratified, CV, weighted = false true false; time = 0.28 min \n",
      "Rep = 40; Nobs = 1000; stratified, CV, weighted = false false true; time = 0.16 min \n",
      "Rep = 40; Nobs = 1000; stratified, CV, weighted = false false false; time = 0.14 min \n",
      "Rep = 40; Nobs = 3162; stratified, CV, weighted = false true true; time = 0.32 min \n",
      "Rep = 40; Nobs = 3162; stratified, CV, weighted = false true false; time = 0.28 min \n",
      "Rep = 40; Nobs = 3162; stratified, CV, weighted = false false true; time = 0.17 min \n",
      "Rep = 40; Nobs = 3162; stratified, CV, weighted = false false false; time = 0.14 min \n"
     ]
    },
    {
     "name": "stderr",
     "output_type": "stream",
     "text": [
      "\r",
      "\u001b[32mProgress:  80%|█████████████████████████████████        |  ETA: 0:00:00\u001b[39m\r",
      "\u001b[32mProgress: 100%|█████████████████████████████████████████| Time: 0:00:00\u001b[39m\n"
     ]
    },
    {
     "name": "stdout",
     "output_type": "stream",
     "text": [
      "Rep = 40; Nobs = 10000; stratified, CV, weighted = false true true; time = 0.39 min \n"
     ]
    },
    {
     "name": "stderr",
     "output_type": "stream",
     "text": [
      "\r",
      "\u001b[32mProgress:  80%|█████████████████████████████████        |  ETA: 0:00:00\u001b[39m\r",
      "\u001b[32mProgress: 100%|█████████████████████████████████████████| Time: 0:00:00\u001b[39m\n"
     ]
    },
    {
     "name": "stdout",
     "output_type": "stream",
     "text": [
      "Rep = 40; Nobs = 10000; stratified, CV, weighted = false true false; time = 0.29 min \n",
      "Rep = 40; Nobs = 10000; stratified, CV, weighted = false false true; time = 0.23 min \n",
      "Rep = 40; Nobs = 10000; stratified, CV, weighted = false false false; time = 0.14 min \n"
     ]
    },
    {
     "name": "stderr",
     "output_type": "stream",
     "text": [
      "\u001b[32mProgress: 100%|█████████████████████████████████████████| Time: 0:00:02\u001b[39m\n"
     ]
    },
    {
     "name": "stdout",
     "output_type": "stream",
     "text": [
      "Rep = 40; Nobs = 31622; stratified, CV, weighted = false true true; time = 0.6 min \n"
     ]
    },
    {
     "name": "stderr",
     "output_type": "stream",
     "text": [
      "\u001b[32mProgress: 100%|█████████████████████████████████████████| Time: 0:00:02\u001b[39m\n"
     ]
    },
    {
     "name": "stdout",
     "output_type": "stream",
     "text": [
      "Rep = 40; Nobs = 31622; stratified, CV, weighted = false true false; time = 0.32 min \n",
      "Rep = 40; Nobs = 31622; stratified, CV, weighted = false false true; time = 0.42 min \n",
      "Rep = 40; Nobs = 31622; stratified, CV, weighted = false false false; time = 0.15 min \n",
      "Rep = 41; Nobs = 10; stratified, CV, weighted = false true true; time = 0.28 min \n",
      "Rep = 41; Nobs = 10; stratified, CV, weighted = false true false; time = 0.28 min \n",
      "Rep = 41; Nobs = 10; stratified, CV, weighted = false false true; time = 0.15 min \n",
      "Rep = 41; Nobs = 10; stratified, CV, weighted = false false false; time = 0.14 min \n",
      "Rep = 41; Nobs = 31; stratified, CV, weighted = false true true; time = 0.28 min \n",
      "Rep = 41; Nobs = 31; stratified, CV, weighted = false true false; time = 0.28 min \n",
      "Rep = 41; Nobs = 31; stratified, CV, weighted = false false true; time = 0.15 min \n",
      "Rep = 41; Nobs = 31; stratified, CV, weighted = false false false; time = 0.14 min \n",
      "Rep = 41; Nobs = 100; stratified, CV, weighted = false true true; time = 0.29 min \n",
      "Rep = 41; Nobs = 100; stratified, CV, weighted = false true false; time = 0.28 min \n",
      "Rep = 41; Nobs = 100; stratified, CV, weighted = false false true; time = 0.14 min \n",
      "Rep = 41; Nobs = 100; stratified, CV, weighted = false false false; time = 0.14 min \n",
      "Rep = 41; Nobs = 316; stratified, CV, weighted = false true true; time = 0.29 min \n",
      "Rep = 41; Nobs = 316; stratified, CV, weighted = false true false; time = 0.28 min \n",
      "Rep = 41; Nobs = 316; stratified, CV, weighted = false false true; time = 0.15 min \n",
      "Rep = 41; Nobs = 316; stratified, CV, weighted = false false false; time = 0.14 min \n",
      "Rep = 41; Nobs = 1000; stratified, CV, weighted = false true true; time = 0.3 min \n",
      "Rep = 41; Nobs = 1000; stratified, CV, weighted = false true false; time = 0.28 min \n",
      "Rep = 41; Nobs = 1000; stratified, CV, weighted = false false true; time = 0.15 min \n",
      "Rep = 41; Nobs = 1000; stratified, CV, weighted = false false false; time = 0.14 min \n",
      "Rep = 41; Nobs = 3162; stratified, CV, weighted = false true true; time = 0.32 min \n",
      "Rep = 41; Nobs = 3162; stratified, CV, weighted = false true false; time = 0.28 min \n",
      "Rep = 41; Nobs = 3162; stratified, CV, weighted = false false true; time = 0.17 min \n",
      "Rep = 41; Nobs = 3162; stratified, CV, weighted = false false false; time = 0.14 min \n"
     ]
    },
    {
     "name": "stderr",
     "output_type": "stream",
     "text": [
      "\r",
      "\u001b[32mProgress:  80%|█████████████████████████████████        |  ETA: 0:00:00\u001b[39m\r",
      "\u001b[32mProgress: 100%|█████████████████████████████████████████| Time: 0:00:00\u001b[39m\n"
     ]
    },
    {
     "name": "stdout",
     "output_type": "stream",
     "text": [
      "Rep = 41; Nobs = 10000; stratified, CV, weighted = false true true; time = 0.38 min \n"
     ]
    },
    {
     "name": "stderr",
     "output_type": "stream",
     "text": [
      "\r",
      "\u001b[32mProgress:  80%|█████████████████████████████████        |  ETA: 0:00:00\u001b[39m\r",
      "\u001b[32mProgress: 100%|█████████████████████████████████████████| Time: 0:00:00\u001b[39m\n"
     ]
    },
    {
     "name": "stdout",
     "output_type": "stream",
     "text": [
      "Rep = 41; Nobs = 10000; stratified, CV, weighted = false true false; time = 0.28 min \n",
      "Rep = 41; Nobs = 10000; stratified, CV, weighted = false false true; time = 0.23 min \n",
      "Rep = 41; Nobs = 10000; stratified, CV, weighted = false false false; time = 0.14 min \n"
     ]
    },
    {
     "name": "stderr",
     "output_type": "stream",
     "text": [
      "\u001b[32mProgress:  80%|█████████████████████████████████        |  ETA: 0:00:00\u001b[39m"
     ]
    },
    {
     "name": "stdout",
     "output_type": "stream",
     "text": [
      "Rep = 41; Nobs = 31622; stratified, CV, weighted = false true true; time = 0.59 min \n"
     ]
    },
    {
     "name": "stderr",
     "output_type": "stream",
     "text": [
      "\u001b[32mProgress: 100%|█████████████████████████████████████████| Time: 0:00:02\u001b[39m\n",
      "\u001b[32mProgress: 100%|█████████████████████████████████████████| Time: 0:00:02\u001b[39m\n"
     ]
    },
    {
     "name": "stdout",
     "output_type": "stream",
     "text": [
      "Rep = 41; Nobs = 31622; stratified, CV, weighted = false true false; time = 0.31 min \n",
      "Rep = 41; Nobs = 31622; stratified, CV, weighted = false false true; time = 0.41 min \n",
      "Rep = 41; Nobs = 31622; stratified, CV, weighted = false false false; time = 0.14 min \n",
      "Rep = 42; Nobs = 10; stratified, CV, weighted = false true true; time = 0.28 min \n",
      "Rep = 42; Nobs = 10; stratified, CV, weighted = false true false; time = 0.28 min \n",
      "Rep = 42; Nobs = 10; stratified, CV, weighted = false false true; time = 0.14 min \n",
      "Rep = 42; Nobs = 10; stratified, CV, weighted = false false false; time = 0.14 min \n",
      "Rep = 42; Nobs = 31; stratified, CV, weighted = false true true; time = 0.28 min \n",
      "Rep = 42; Nobs = 31; stratified, CV, weighted = false true false; time = 0.28 min \n",
      "Rep = 42; Nobs = 31; stratified, CV, weighted = false false true; time = 0.14 min \n",
      "Rep = 42; Nobs = 31; stratified, CV, weighted = false false false; time = 0.14 min \n",
      "Rep = 42; Nobs = 100; stratified, CV, weighted = false true true; time = 0.28 min \n",
      "Rep = 42; Nobs = 100; stratified, CV, weighted = false true false; time = 0.28 min \n",
      "Rep = 42; Nobs = 100; stratified, CV, weighted = false false true; time = 0.14 min \n",
      "Rep = 42; Nobs = 100; stratified, CV, weighted = false false false; time = 0.14 min \n",
      "Rep = 42; Nobs = 316; stratified, CV, weighted = false true true; time = 0.28 min \n",
      "Rep = 42; Nobs = 316; stratified, CV, weighted = false true false; time = 0.28 min \n",
      "Rep = 42; Nobs = 316; stratified, CV, weighted = false false true; time = 0.15 min \n",
      "Rep = 42; Nobs = 316; stratified, CV, weighted = false false false; time = 0.14 min \n",
      "Rep = 42; Nobs = 1000; stratified, CV, weighted = false true true; time = 0.3 min \n",
      "Rep = 42; Nobs = 1000; stratified, CV, weighted = false true false; time = 0.28 min \n",
      "Rep = 42; Nobs = 1000; stratified, CV, weighted = false false true; time = 0.15 min \n",
      "Rep = 42; Nobs = 1000; stratified, CV, weighted = false false false; time = 0.14 min \n",
      "Rep = 42; Nobs = 3162; stratified, CV, weighted = false true true; time = 0.31 min \n",
      "Rep = 42; Nobs = 3162; stratified, CV, weighted = false true false; time = 0.28 min \n",
      "Rep = 42; Nobs = 3162; stratified, CV, weighted = false false true; time = 0.17 min \n",
      "Rep = 42; Nobs = 3162; stratified, CV, weighted = false false false; time = 0.14 min \n"
     ]
    },
    {
     "name": "stderr",
     "output_type": "stream",
     "text": [
      "\r",
      "\u001b[32mProgress:  80%|█████████████████████████████████        |  ETA: 0:00:00\u001b[39m\r",
      "\u001b[32mProgress: 100%|█████████████████████████████████████████| Time: 0:00:00\u001b[39m\n"
     ]
    },
    {
     "name": "stdout",
     "output_type": "stream",
     "text": [
      "Rep = 42; Nobs = 10000; stratified, CV, weighted = false true true; time = 0.39 min \n"
     ]
    },
    {
     "name": "stderr",
     "output_type": "stream",
     "text": [
      "\r",
      "\u001b[32mProgress:  80%|█████████████████████████████████        |  ETA: 0:00:00\u001b[39m\r",
      "\u001b[32mProgress: 100%|█████████████████████████████████████████| Time: 0:00:00\u001b[39m\n"
     ]
    },
    {
     "name": "stdout",
     "output_type": "stream",
     "text": [
      "Rep = 42; Nobs = 10000; stratified, CV, weighted = false true false; time = 0.28 min \n",
      "Rep = 42; Nobs = 10000; stratified, CV, weighted = false false true; time = 0.23 min \n",
      "Rep = 42; Nobs = 10000; stratified, CV, weighted = false false false; time = 0.14 min \n"
     ]
    },
    {
     "name": "stderr",
     "output_type": "stream",
     "text": [
      "\u001b[32mProgress: 100%|█████████████████████████████████████████| Time: 0:00:02\u001b[39m\n"
     ]
    },
    {
     "name": "stdout",
     "output_type": "stream",
     "text": [
      "Rep = 42; Nobs = 31622; stratified, CV, weighted = false true true; time = 0.6 min \n"
     ]
    },
    {
     "name": "stderr",
     "output_type": "stream",
     "text": [
      "\u001b[32mProgress: 100%|█████████████████████████████████████████| Time: 0:00:02\u001b[39m\n"
     ]
    },
    {
     "name": "stdout",
     "output_type": "stream",
     "text": [
      "Rep = 42; Nobs = 31622; stratified, CV, weighted = false true false; time = 0.31 min \n",
      "Rep = 42; Nobs = 31622; stratified, CV, weighted = false false true; time = 0.42 min \n",
      "Rep = 42; Nobs = 31622; stratified, CV, weighted = false false false; time = 0.14 min \n",
      "Rep = 43; Nobs = 10; stratified, CV, weighted = false true true; time = 0.29 min \n",
      "Rep = 43; Nobs = 10; stratified, CV, weighted = false true false; time = 0.28 min \n",
      "Rep = 43; Nobs = 10; stratified, CV, weighted = false false true; time = 0.14 min \n",
      "Rep = 43; Nobs = 10; stratified, CV, weighted = false false false; time = 0.14 min \n",
      "Rep = 43; Nobs = 31; stratified, CV, weighted = false true true; time = 0.27 min \n",
      "Rep = 43; Nobs = 31; stratified, CV, weighted = false true false; time = 0.27 min \n",
      "Rep = 43; Nobs = 31; stratified, CV, weighted = false false true; time = 0.14 min \n",
      "Rep = 43; Nobs = 31; stratified, CV, weighted = false false false; time = 0.14 min \n",
      "Rep = 43; Nobs = 100; stratified, CV, weighted = false true true; time = 0.28 min \n",
      "Rep = 43; Nobs = 100; stratified, CV, weighted = false true false; time = 0.27 min \n",
      "Rep = 43; Nobs = 100; stratified, CV, weighted = false false true; time = 0.14 min \n",
      "Rep = 43; Nobs = 100; stratified, CV, weighted = false false false; time = 0.14 min \n",
      "Rep = 43; Nobs = 316; stratified, CV, weighted = false true true; time = 0.27 min \n",
      "Rep = 43; Nobs = 316; stratified, CV, weighted = false true false; time = 0.27 min \n",
      "Rep = 43; Nobs = 316; stratified, CV, weighted = false false true; time = 0.14 min \n",
      "Rep = 43; Nobs = 316; stratified, CV, weighted = false false false; time = 0.14 min \n",
      "Rep = 43; Nobs = 1000; stratified, CV, weighted = false true true; time = 0.28 min \n",
      "Rep = 43; Nobs = 1000; stratified, CV, weighted = false true false; time = 0.27 min \n",
      "Rep = 43; Nobs = 1000; stratified, CV, weighted = false false true; time = 0.15 min \n",
      "Rep = 43; Nobs = 1000; stratified, CV, weighted = false false false; time = 0.14 min \n",
      "Rep = 43; Nobs = 3162; stratified, CV, weighted = false true true; time = 0.3 min \n",
      "Rep = 43; Nobs = 3162; stratified, CV, weighted = false true false; time = 0.27 min \n",
      "Rep = 43; Nobs = 3162; stratified, CV, weighted = false false true; time = 0.16 min \n",
      "Rep = 43; Nobs = 3162; stratified, CV, weighted = false false false; time = 0.14 min \n"
     ]
    },
    {
     "name": "stderr",
     "output_type": "stream",
     "text": [
      "\r",
      "\u001b[32mProgress:  80%|█████████████████████████████████        |  ETA: 0:00:00\u001b[39m\r",
      "\u001b[32mProgress: 100%|█████████████████████████████████████████| Time: 0:00:00\u001b[39m\n"
     ]
    },
    {
     "name": "stdout",
     "output_type": "stream",
     "text": [
      "Rep = 43; Nobs = 10000; stratified, CV, weighted = false true true; time = 0.36 min \n"
     ]
    },
    {
     "name": "stderr",
     "output_type": "stream",
     "text": [
      "\r",
      "\u001b[32mProgress:  80%|█████████████████████████████████        |  ETA: 0:00:00\u001b[39m\r",
      "\u001b[32mProgress: 100%|█████████████████████████████████████████| Time: 0:00:00\u001b[39m\n"
     ]
    },
    {
     "name": "stdout",
     "output_type": "stream",
     "text": [
      "Rep = 43; Nobs = 10000; stratified, CV, weighted = false true false; time = 0.27 min \n",
      "Rep = 43; Nobs = 10000; stratified, CV, weighted = false false true; time = 0.22 min \n",
      "Rep = 43; Nobs = 10000; stratified, CV, weighted = false false false; time = 0.13 min \n"
     ]
    },
    {
     "name": "stderr",
     "output_type": "stream",
     "text": [
      "\u001b[32mProgress:  80%|█████████████████████████████████        |  ETA: 0:00:00\u001b[39m"
     ]
    },
    {
     "name": "stdout",
     "output_type": "stream",
     "text": [
      "Rep = 43; Nobs = 31622; stratified, CV, weighted = false true true; time = 0.57 min \n"
     ]
    },
    {
     "name": "stderr",
     "output_type": "stream",
     "text": [
      "\u001b[32mProgress: 100%|█████████████████████████████████████████| Time: 0:00:02\u001b[39m\n",
      "\u001b[32mProgress: 100%|█████████████████████████████████████████| Time: 0:00:02\u001b[39m\n"
     ]
    },
    {
     "name": "stdout",
     "output_type": "stream",
     "text": [
      "Rep = 43; Nobs = 31622; stratified, CV, weighted = false true false; time = 0.31 min \n",
      "Rep = 43; Nobs = 31622; stratified, CV, weighted = false false true; time = 0.41 min \n",
      "Rep = 43; Nobs = 31622; stratified, CV, weighted = false false false; time = 0.14 min \n",
      "Rep = 44; Nobs = 10; stratified, CV, weighted = false true true; time = 0.28 min \n",
      "Rep = 44; Nobs = 10; stratified, CV, weighted = false true false; time = 0.27 min \n",
      "Rep = 44; Nobs = 10; stratified, CV, weighted = false false true; time = 0.14 min \n",
      "Rep = 44; Nobs = 10; stratified, CV, weighted = false false false; time = 0.14 min \n",
      "Rep = 44; Nobs = 31; stratified, CV, weighted = false true true; time = 0.27 min \n",
      "Rep = 44; Nobs = 31; stratified, CV, weighted = false true false; time = 0.27 min \n",
      "Rep = 44; Nobs = 31; stratified, CV, weighted = false false true; time = 0.14 min \n",
      "Rep = 44; Nobs = 31; stratified, CV, weighted = false false false; time = 0.14 min \n",
      "Rep = 44; Nobs = 100; stratified, CV, weighted = false true true; time = 0.28 min \n",
      "Rep = 44; Nobs = 100; stratified, CV, weighted = false true false; time = 0.27 min \n",
      "Rep = 44; Nobs = 100; stratified, CV, weighted = false false true; time = 0.14 min \n",
      "Rep = 44; Nobs = 100; stratified, CV, weighted = false false false; time = 0.14 min \n",
      "Rep = 44; Nobs = 316; stratified, CV, weighted = false true true; time = 0.28 min \n",
      "Rep = 44; Nobs = 316; stratified, CV, weighted = false true false; time = 0.28 min \n",
      "Rep = 44; Nobs = 316; stratified, CV, weighted = false false true; time = 0.14 min \n",
      "Rep = 44; Nobs = 316; stratified, CV, weighted = false false false; time = 0.14 min \n",
      "Rep = 44; Nobs = 1000; stratified, CV, weighted = false true true; time = 0.28 min \n",
      "Rep = 44; Nobs = 1000; stratified, CV, weighted = false true false; time = 0.27 min \n",
      "Rep = 44; Nobs = 1000; stratified, CV, weighted = false false true; time = 0.15 min \n",
      "Rep = 44; Nobs = 1000; stratified, CV, weighted = false false false; time = 0.14 min \n",
      "Rep = 44; Nobs = 3162; stratified, CV, weighted = false true true; time = 0.3 min \n",
      "Rep = 44; Nobs = 3162; stratified, CV, weighted = false true false; time = 0.27 min \n",
      "Rep = 44; Nobs = 3162; stratified, CV, weighted = false false true; time = 0.16 min \n",
      "Rep = 44; Nobs = 3162; stratified, CV, weighted = false false false; time = 0.13 min \n"
     ]
    },
    {
     "name": "stderr",
     "output_type": "stream",
     "text": [
      "\r",
      "\u001b[32mProgress:  80%|█████████████████████████████████        |  ETA: 0:00:00\u001b[39m\r",
      "\u001b[32mProgress: 100%|█████████████████████████████████████████| Time: 0:00:00\u001b[39m\n"
     ]
    },
    {
     "name": "stdout",
     "output_type": "stream",
     "text": [
      "Rep = 44; Nobs = 10000; stratified, CV, weighted = false true true; time = 0.37 min \n"
     ]
    },
    {
     "name": "stderr",
     "output_type": "stream",
     "text": [
      "\r",
      "\u001b[32mProgress:  80%|█████████████████████████████████        |  ETA: 0:00:00\u001b[39m\r",
      "\u001b[32mProgress: 100%|█████████████████████████████████████████| Time: 0:00:00\u001b[39m\n"
     ]
    },
    {
     "name": "stdout",
     "output_type": "stream",
     "text": [
      "Rep = 44; Nobs = 10000; stratified, CV, weighted = false true false; time = 0.27 min \n",
      "Rep = 44; Nobs = 10000; stratified, CV, weighted = false false true; time = 0.23 min \n",
      "Rep = 44; Nobs = 10000; stratified, CV, weighted = false false false; time = 0.14 min \n"
     ]
    },
    {
     "name": "stderr",
     "output_type": "stream",
     "text": [
      "\u001b[32mProgress: 100%|█████████████████████████████████████████| Time: 0:00:02\u001b[39m\n"
     ]
    },
    {
     "name": "stdout",
     "output_type": "stream",
     "text": [
      "Rep = 44; Nobs = 31622; stratified, CV, weighted = false true true; time = 0.58 min \n"
     ]
    },
    {
     "name": "stderr",
     "output_type": "stream",
     "text": [
      "\u001b[32mProgress: 100%|█████████████████████████████████████████| Time: 0:00:02\u001b[39m\n"
     ]
    },
    {
     "name": "stdout",
     "output_type": "stream",
     "text": [
      "Rep = 44; Nobs = 31622; stratified, CV, weighted = false true false; time = 0.3 min \n",
      "Rep = 44; Nobs = 31622; stratified, CV, weighted = false false true; time = 0.41 min \n",
      "Rep = 44; Nobs = 31622; stratified, CV, weighted = false false false; time = 0.14 min \n",
      "Rep = 45; Nobs = 10; stratified, CV, weighted = false true true; time = 0.27 min \n",
      "Rep = 45; Nobs = 10; stratified, CV, weighted = false true false; time = 0.27 min \n",
      "Rep = 45; Nobs = 10; stratified, CV, weighted = false false true; time = 0.14 min \n",
      "Rep = 45; Nobs = 10; stratified, CV, weighted = false false false; time = 0.14 min \n",
      "Rep = 45; Nobs = 31; stratified, CV, weighted = false true true; time = 0.27 min \n",
      "Rep = 45; Nobs = 31; stratified, CV, weighted = false true false; time = 0.27 min \n",
      "Rep = 45; Nobs = 31; stratified, CV, weighted = false false true; time = 0.14 min \n",
      "Rep = 45; Nobs = 31; stratified, CV, weighted = false false false; time = 0.14 min \n",
      "Rep = 45; Nobs = 100; stratified, CV, weighted = false true true; time = 0.27 min \n",
      "Rep = 45; Nobs = 100; stratified, CV, weighted = false true false; time = 0.26 min \n",
      "Rep = 45; Nobs = 100; stratified, CV, weighted = false false true; time = 0.14 min \n",
      "Rep = 45; Nobs = 100; stratified, CV, weighted = false false false; time = 0.13 min \n",
      "Rep = 45; Nobs = 316; stratified, CV, weighted = false true true; time = 0.28 min \n",
      "Rep = 45; Nobs = 316; stratified, CV, weighted = false true false; time = 0.27 min \n",
      "Rep = 45; Nobs = 316; stratified, CV, weighted = false false true; time = 0.14 min \n",
      "Rep = 45; Nobs = 316; stratified, CV, weighted = false false false; time = 0.14 min \n",
      "Rep = 45; Nobs = 1000; stratified, CV, weighted = false true true; time = 0.28 min \n",
      "Rep = 45; Nobs = 1000; stratified, CV, weighted = false true false; time = 0.27 min \n",
      "Rep = 45; Nobs = 1000; stratified, CV, weighted = false false true; time = 0.14 min \n",
      "Rep = 45; Nobs = 1000; stratified, CV, weighted = false false false; time = 0.14 min \n",
      "Rep = 45; Nobs = 3162; stratified, CV, weighted = false true true; time = 0.3 min \n",
      "Rep = 45; Nobs = 3162; stratified, CV, weighted = false true false; time = 0.27 min \n",
      "Rep = 45; Nobs = 3162; stratified, CV, weighted = false false true; time = 0.17 min \n",
      "Rep = 45; Nobs = 3162; stratified, CV, weighted = false false false; time = 0.14 min \n"
     ]
    },
    {
     "name": "stderr",
     "output_type": "stream",
     "text": [
      "\r",
      "\u001b[32mProgress:  80%|█████████████████████████████████        |  ETA: 0:00:00\u001b[39m\r",
      "\u001b[32mProgress: 100%|█████████████████████████████████████████| Time: 0:00:00\u001b[39m\n"
     ]
    },
    {
     "name": "stdout",
     "output_type": "stream",
     "text": [
      "Rep = 45; Nobs = 10000; stratified, CV, weighted = false true true; time = 0.37 min \n"
     ]
    },
    {
     "name": "stderr",
     "output_type": "stream",
     "text": [
      "\r",
      "\u001b[32mProgress:  80%|█████████████████████████████████        |  ETA: 0:00:00\u001b[39m\r",
      "\u001b[32mProgress: 100%|█████████████████████████████████████████| Time: 0:00:00\u001b[39m\n"
     ]
    },
    {
     "name": "stdout",
     "output_type": "stream",
     "text": [
      "Rep = 45; Nobs = 10000; stratified, CV, weighted = false true false; time = 0.27 min \n",
      "Rep = 45; Nobs = 10000; stratified, CV, weighted = false false true; time = 0.22 min \n",
      "Rep = 45; Nobs = 10000; stratified, CV, weighted = false false false; time = 0.14 min \n"
     ]
    },
    {
     "name": "stderr",
     "output_type": "stream",
     "text": [
      "\u001b[32mProgress: 100%|█████████████████████████████████████████| Time: 0:00:02\u001b[39m\n"
     ]
    },
    {
     "name": "stdout",
     "output_type": "stream",
     "text": [
      "Rep = 45; Nobs = 31622; stratified, CV, weighted = false true true; time = 0.57 min \n"
     ]
    },
    {
     "name": "stderr",
     "output_type": "stream",
     "text": [
      "\u001b[32mProgress: 100%|█████████████████████████████████████████| Time: 0:00:02\u001b[39m\n"
     ]
    },
    {
     "name": "stdout",
     "output_type": "stream",
     "text": [
      "Rep = 45; Nobs = 31622; stratified, CV, weighted = false true false; time = 0.29 min \n",
      "Rep = 45; Nobs = 31622; stratified, CV, weighted = false false true; time = 0.4 min \n",
      "Rep = 45; Nobs = 31622; stratified, CV, weighted = false false false; time = 0.13 min \n",
      "Rep = 46; Nobs = 10; stratified, CV, weighted = false true true; time = 0.28 min \n",
      "Rep = 46; Nobs = 10; stratified, CV, weighted = false true false; time = 0.26 min \n",
      "Rep = 46; Nobs = 10; stratified, CV, weighted = false false true; time = 0.13 min \n",
      "Rep = 46; Nobs = 10; stratified, CV, weighted = false false false; time = 0.13 min \n",
      "Rep = 46; Nobs = 31; stratified, CV, weighted = false true true; time = 0.27 min \n",
      "Rep = 46; Nobs = 31; stratified, CV, weighted = false true false; time = 0.27 min \n",
      "Rep = 46; Nobs = 31; stratified, CV, weighted = false false true; time = 0.14 min \n",
      "Rep = 46; Nobs = 31; stratified, CV, weighted = false false false; time = 0.14 min \n",
      "Rep = 46; Nobs = 100; stratified, CV, weighted = false true true; time = 0.27 min \n",
      "Rep = 46; Nobs = 100; stratified, CV, weighted = false true false; time = 0.27 min \n",
      "Rep = 46; Nobs = 100; stratified, CV, weighted = false false true; time = 0.14 min \n",
      "Rep = 46; Nobs = 100; stratified, CV, weighted = false false false; time = 0.14 min \n",
      "Rep = 46; Nobs = 316; stratified, CV, weighted = false true true; time = 0.28 min \n",
      "Rep = 46; Nobs = 316; stratified, CV, weighted = false true false; time = 0.28 min \n",
      "Rep = 46; Nobs = 316; stratified, CV, weighted = false false true; time = 0.14 min \n",
      "Rep = 46; Nobs = 316; stratified, CV, weighted = false false false; time = 0.14 min \n",
      "Rep = 46; Nobs = 1000; stratified, CV, weighted = false true true; time = 0.28 min \n",
      "Rep = 46; Nobs = 1000; stratified, CV, weighted = false true false; time = 0.27 min \n",
      "Rep = 46; Nobs = 1000; stratified, CV, weighted = false false true; time = 0.15 min \n",
      "Rep = 46; Nobs = 1000; stratified, CV, weighted = false false false; time = 0.14 min \n",
      "Rep = 46; Nobs = 3162; stratified, CV, weighted = false true true; time = 0.31 min \n",
      "Rep = 46; Nobs = 3162; stratified, CV, weighted = false true false; time = 0.28 min \n",
      "Rep = 46; Nobs = 3162; stratified, CV, weighted = false false true; time = 0.16 min \n",
      "Rep = 46; Nobs = 3162; stratified, CV, weighted = false false false; time = 0.14 min \n"
     ]
    },
    {
     "name": "stderr",
     "output_type": "stream",
     "text": [
      "\r",
      "\u001b[32mProgress:  80%|█████████████████████████████████        |  ETA: 0:00:00\u001b[39m\r",
      "\u001b[32mProgress: 100%|█████████████████████████████████████████| Time: 0:00:00\u001b[39m\n"
     ]
    },
    {
     "name": "stdout",
     "output_type": "stream",
     "text": [
      "Rep = 46; Nobs = 10000; stratified, CV, weighted = false true true; time = 0.37 min \n"
     ]
    },
    {
     "name": "stderr",
     "output_type": "stream",
     "text": [
      "\r",
      "\u001b[32mProgress:  80%|█████████████████████████████████        |  ETA: 0:00:00\u001b[39m\r",
      "\u001b[32mProgress: 100%|█████████████████████████████████████████| Time: 0:00:00\u001b[39m\n"
     ]
    },
    {
     "name": "stdout",
     "output_type": "stream",
     "text": [
      "Rep = 46; Nobs = 10000; stratified, CV, weighted = false true false; time = 0.27 min \n",
      "Rep = 46; Nobs = 10000; stratified, CV, weighted = false false true; time = 0.22 min \n",
      "Rep = 46; Nobs = 10000; stratified, CV, weighted = false false false; time = 0.13 min \n"
     ]
    },
    {
     "name": "stderr",
     "output_type": "stream",
     "text": [
      "\u001b[32mProgress: 100%|█████████████████████████████████████████| Time: 0:00:02\u001b[39m\n"
     ]
    },
    {
     "name": "stdout",
     "output_type": "stream",
     "text": [
      "Rep = 46; Nobs = 31622; stratified, CV, weighted = false true true; time = 0.57 min \n"
     ]
    },
    {
     "name": "stderr",
     "output_type": "stream",
     "text": [
      "\u001b[32mProgress:  80%|█████████████████████████████████        |  ETA: 0:00:00\u001b[39m"
     ]
    },
    {
     "name": "stdout",
     "output_type": "stream",
     "text": [
      "Rep = 46; Nobs = 31622; stratified, CV, weighted = false true false; time = 0.29 min \n"
     ]
    },
    {
     "name": "stderr",
     "output_type": "stream",
     "text": [
      "\r",
      "\u001b[32mProgress: 100%|█████████████████████████████████████████| Time: 0:00:02\u001b[39m\n"
     ]
    },
    {
     "name": "stdout",
     "output_type": "stream",
     "text": [
      "Rep = 46; Nobs = 31622; stratified, CV, weighted = false false true; time = 0.4 min \n",
      "Rep = 46; Nobs = 31622; stratified, CV, weighted = false false false; time = 0.14 min \n",
      "Rep = 47; Nobs = 10; stratified, CV, weighted = false true true; time = 0.26 min \n",
      "Rep = 47; Nobs = 10; stratified, CV, weighted = false true false; time = 0.26 min \n",
      "Rep = 47; Nobs = 10; stratified, CV, weighted = false false true; time = 0.14 min \n",
      "Rep = 47; Nobs = 10; stratified, CV, weighted = false false false; time = 0.13 min \n",
      "Rep = 47; Nobs = 31; stratified, CV, weighted = false true true; time = 0.26 min \n",
      "Rep = 47; Nobs = 31; stratified, CV, weighted = false true false; time = 0.26 min \n",
      "Rep = 47; Nobs = 31; stratified, CV, weighted = false false true; time = 0.14 min \n",
      "Rep = 47; Nobs = 31; stratified, CV, weighted = false false false; time = 0.13 min \n",
      "Rep = 47; Nobs = 100; stratified, CV, weighted = false true true; time = 0.27 min \n",
      "Rep = 47; Nobs = 100; stratified, CV, weighted = false true false; time = 0.26 min \n",
      "Rep = 47; Nobs = 100; stratified, CV, weighted = false false true; time = 0.14 min \n",
      "Rep = 47; Nobs = 100; stratified, CV, weighted = false false false; time = 0.14 min \n",
      "Rep = 47; Nobs = 316; stratified, CV, weighted = false true true; time = 0.27 min \n",
      "Rep = 47; Nobs = 316; stratified, CV, weighted = false true false; time = 0.26 min \n",
      "Rep = 47; Nobs = 316; stratified, CV, weighted = false false true; time = 0.14 min \n",
      "Rep = 47; Nobs = 316; stratified, CV, weighted = false false false; time = 0.13 min \n",
      "Rep = 47; Nobs = 1000; stratified, CV, weighted = false true true; time = 0.28 min \n",
      "Rep = 47; Nobs = 1000; stratified, CV, weighted = false true false; time = 0.26 min \n",
      "Rep = 47; Nobs = 1000; stratified, CV, weighted = false false true; time = 0.15 min \n",
      "Rep = 47; Nobs = 1000; stratified, CV, weighted = false false false; time = 0.14 min \n",
      "Rep = 47; Nobs = 3162; stratified, CV, weighted = false true true; time = 0.29 min \n",
      "Rep = 47; Nobs = 3162; stratified, CV, weighted = false true false; time = 0.26 min \n",
      "Rep = 47; Nobs = 3162; stratified, CV, weighted = false false true; time = 0.16 min \n",
      "Rep = 47; Nobs = 3162; stratified, CV, weighted = false false false; time = 0.13 min \n"
     ]
    },
    {
     "name": "stderr",
     "output_type": "stream",
     "text": [
      "\r",
      "\u001b[32mProgress:  80%|█████████████████████████████████        |  ETA: 0:00:00\u001b[39m\r",
      "\u001b[32mProgress: 100%|█████████████████████████████████████████| Time: 0:00:00\u001b[39m\n"
     ]
    },
    {
     "name": "stdout",
     "output_type": "stream",
     "text": [
      "Rep = 47; Nobs = 10000; stratified, CV, weighted = false true true; time = 0.37 min \n"
     ]
    },
    {
     "name": "stderr",
     "output_type": "stream",
     "text": [
      "\r",
      "\u001b[32mProgress:  80%|█████████████████████████████████        |  ETA: 0:00:00\u001b[39m\r",
      "\u001b[32mProgress: 100%|█████████████████████████████████████████| Time: 0:00:00\u001b[39m\n"
     ]
    },
    {
     "name": "stdout",
     "output_type": "stream",
     "text": [
      "Rep = 47; Nobs = 10000; stratified, CV, weighted = false true false; time = 0.28 min \n",
      "Rep = 47; Nobs = 10000; stratified, CV, weighted = false false true; time = 0.23 min \n",
      "Rep = 47; Nobs = 10000; stratified, CV, weighted = false false false; time = 0.14 min \n"
     ]
    },
    {
     "name": "stderr",
     "output_type": "stream",
     "text": [
      "\u001b[32mProgress:  80%|█████████████████████████████████        |  ETA: 0:00:00\u001b[39m"
     ]
    },
    {
     "name": "stdout",
     "output_type": "stream",
     "text": [
      "Rep = 47; Nobs = 31622; stratified, CV, weighted = false true true; time = 0.57 min \n"
     ]
    },
    {
     "name": "stderr",
     "output_type": "stream",
     "text": [
      "\u001b[32mProgress: 100%|█████████████████████████████████████████| Time: 0:00:02\u001b[39m\n",
      "\u001b[32mProgress: 100%|█████████████████████████████████████████| Time: 0:00:02\u001b[39m\n"
     ]
    },
    {
     "name": "stdout",
     "output_type": "stream",
     "text": [
      "Rep = 47; Nobs = 31622; stratified, CV, weighted = false true false; time = 0.31 min \n",
      "Rep = 47; Nobs = 31622; stratified, CV, weighted = false false true; time = 0.41 min \n",
      "Rep = 47; Nobs = 31622; stratified, CV, weighted = false false false; time = 0.14 min \n",
      "Rep = 48; Nobs = 10; stratified, CV, weighted = false true true; time = 0.27 min \n",
      "Rep = 48; Nobs = 10; stratified, CV, weighted = false true false; time = 0.27 min \n",
      "Rep = 48; Nobs = 10; stratified, CV, weighted = false false true; time = 0.14 min \n",
      "Rep = 48; Nobs = 10; stratified, CV, weighted = false false false; time = 0.14 min \n",
      "Rep = 48; Nobs = 31; stratified, CV, weighted = false true true; time = 0.26 min \n",
      "Rep = 48; Nobs = 31; stratified, CV, weighted = false true false; time = 0.27 min \n",
      "Rep = 48; Nobs = 31; stratified, CV, weighted = false false true; time = 0.14 min \n",
      "Rep = 48; Nobs = 31; stratified, CV, weighted = false false false; time = 0.14 min \n",
      "Rep = 48; Nobs = 100; stratified, CV, weighted = false true true; time = 0.27 min \n",
      "Rep = 48; Nobs = 100; stratified, CV, weighted = false true false; time = 0.27 min \n",
      "Rep = 48; Nobs = 100; stratified, CV, weighted = false false true; time = 0.14 min \n",
      "Rep = 48; Nobs = 100; stratified, CV, weighted = false false false; time = 0.14 min \n",
      "Rep = 48; Nobs = 316; stratified, CV, weighted = false true true; time = 0.27 min \n",
      "Rep = 48; Nobs = 316; stratified, CV, weighted = false true false; time = 0.26 min \n",
      "Rep = 48; Nobs = 316; stratified, CV, weighted = false false true; time = 0.14 min \n",
      "Rep = 48; Nobs = 316; stratified, CV, weighted = false false false; time = 0.14 min \n",
      "Rep = 48; Nobs = 1000; stratified, CV, weighted = false true true; time = 0.28 min \n",
      "Rep = 48; Nobs = 1000; stratified, CV, weighted = false true false; time = 0.26 min \n",
      "Rep = 48; Nobs = 1000; stratified, CV, weighted = false false true; time = 0.14 min \n",
      "Rep = 48; Nobs = 1000; stratified, CV, weighted = false false false; time = 0.13 min \n",
      "Rep = 48; Nobs = 3162; stratified, CV, weighted = false true true; time = 0.31 min \n",
      "Rep = 48; Nobs = 3162; stratified, CV, weighted = false true false; time = 0.27 min \n",
      "Rep = 48; Nobs = 3162; stratified, CV, weighted = false false true; time = 0.17 min \n",
      "Rep = 48; Nobs = 3162; stratified, CV, weighted = false false false; time = 0.14 min \n"
     ]
    },
    {
     "name": "stderr",
     "output_type": "stream",
     "text": [
      "\r",
      "\u001b[32mProgress:  80%|█████████████████████████████████        |  ETA: 0:00:00\u001b[39m\r",
      "\u001b[32mProgress: 100%|█████████████████████████████████████████| Time: 0:00:00\u001b[39m\n"
     ]
    },
    {
     "name": "stdout",
     "output_type": "stream",
     "text": [
      "Rep = 48; Nobs = 10000; stratified, CV, weighted = false true true; time = 0.37 min \n"
     ]
    },
    {
     "name": "stderr",
     "output_type": "stream",
     "text": [
      "\r",
      "\u001b[32mProgress:  80%|█████████████████████████████████        |  ETA: 0:00:00\u001b[39m\r",
      "\u001b[32mProgress: 100%|█████████████████████████████████████████| Time: 0:00:00\u001b[39m\n"
     ]
    },
    {
     "name": "stdout",
     "output_type": "stream",
     "text": [
      "Rep = 48; Nobs = 10000; stratified, CV, weighted = false true false; time = 0.29 min \n",
      "Rep = 48; Nobs = 10000; stratified, CV, weighted = false false true; time = 0.23 min \n",
      "Rep = 48; Nobs = 10000; stratified, CV, weighted = false false false; time = 0.14 min \n"
     ]
    },
    {
     "name": "stderr",
     "output_type": "stream",
     "text": [
      "\u001b[32mProgress: 100%|█████████████████████████████████████████| Time: 0:00:02\u001b[39m\n"
     ]
    },
    {
     "name": "stdout",
     "output_type": "stream",
     "text": [
      "Rep = 48; Nobs = 31622; stratified, CV, weighted = false true true; time = 0.6 min \n"
     ]
    },
    {
     "name": "stderr",
     "output_type": "stream",
     "text": [
      "\u001b[32mProgress: 100%|█████████████████████████████████████████| Time: 0:00:02\u001b[39m\n"
     ]
    },
    {
     "name": "stdout",
     "output_type": "stream",
     "text": [
      "Rep = 48; Nobs = 31622; stratified, CV, weighted = false true false; time = 0.31 min \n",
      "Rep = 48; Nobs = 31622; stratified, CV, weighted = false false true; time = 0.41 min \n",
      "Rep = 48; Nobs = 31622; stratified, CV, weighted = false false false; time = 0.14 min \n",
      "Rep = 49; Nobs = 10; stratified, CV, weighted = false true true; time = 0.28 min \n",
      "Rep = 49; Nobs = 10; stratified, CV, weighted = false true false; time = 0.27 min \n",
      "Rep = 49; Nobs = 10; stratified, CV, weighted = false false true; time = 0.14 min \n",
      "Rep = 49; Nobs = 10; stratified, CV, weighted = false false false; time = 0.14 min \n",
      "Rep = 49; Nobs = 31; stratified, CV, weighted = false true true; time = 0.27 min \n",
      "Rep = 49; Nobs = 31; stratified, CV, weighted = false true false; time = 0.27 min \n",
      "Rep = 49; Nobs = 31; stratified, CV, weighted = false false true; time = 0.14 min \n",
      "Rep = 49; Nobs = 31; stratified, CV, weighted = false false false; time = 0.14 min \n",
      "Rep = 49; Nobs = 100; stratified, CV, weighted = false true true; time = 0.27 min \n",
      "Rep = 49; Nobs = 100; stratified, CV, weighted = false true false; time = 0.26 min \n",
      "Rep = 49; Nobs = 100; stratified, CV, weighted = false false true; time = 0.14 min \n",
      "Rep = 49; Nobs = 100; stratified, CV, weighted = false false false; time = 0.13 min \n",
      "Rep = 49; Nobs = 316; stratified, CV, weighted = false true true; time = 0.28 min \n",
      "Rep = 49; Nobs = 316; stratified, CV, weighted = false true false; time = 0.27 min \n",
      "Rep = 49; Nobs = 316; stratified, CV, weighted = false false true; time = 0.14 min \n",
      "Rep = 49; Nobs = 316; stratified, CV, weighted = false false false; time = 0.14 min \n",
      "Rep = 49; Nobs = 1000; stratified, CV, weighted = false true true; time = 0.28 min \n",
      "Rep = 49; Nobs = 1000; stratified, CV, weighted = false true false; time = 0.28 min \n",
      "Rep = 49; Nobs = 1000; stratified, CV, weighted = false false true; time = 0.15 min \n",
      "Rep = 49; Nobs = 1000; stratified, CV, weighted = false false false; time = 0.14 min \n",
      "Rep = 49; Nobs = 3162; stratified, CV, weighted = false true true; time = 0.3 min \n",
      "Rep = 49; Nobs = 3162; stratified, CV, weighted = false true false; time = 0.28 min \n",
      "Rep = 49; Nobs = 3162; stratified, CV, weighted = false false true; time = 0.17 min \n",
      "Rep = 49; Nobs = 3162; stratified, CV, weighted = false false false; time = 0.14 min \n"
     ]
    },
    {
     "name": "stderr",
     "output_type": "stream",
     "text": [
      "\r",
      "\u001b[32mProgress:  80%|█████████████████████████████████        |  ETA: 0:00:00\u001b[39m\r",
      "\u001b[32mProgress: 100%|█████████████████████████████████████████| Time: 0:00:00\u001b[39m\n"
     ]
    },
    {
     "name": "stdout",
     "output_type": "stream",
     "text": [
      "Rep = 49; Nobs = 10000; stratified, CV, weighted = false true true; time = 0.37 min \n"
     ]
    },
    {
     "name": "stderr",
     "output_type": "stream",
     "text": [
      "\r",
      "\u001b[32mProgress:  80%|█████████████████████████████████        |  ETA: 0:00:00\u001b[39m\r",
      "\u001b[32mProgress: 100%|█████████████████████████████████████████| Time: 0:00:00\u001b[39m\n"
     ]
    },
    {
     "name": "stdout",
     "output_type": "stream",
     "text": [
      "Rep = 49; Nobs = 10000; stratified, CV, weighted = false true false; time = 0.27 min \n",
      "Rep = 49; Nobs = 10000; stratified, CV, weighted = false false true; time = 0.22 min \n",
      "Rep = 49; Nobs = 10000; stratified, CV, weighted = false false false; time = 0.13 min \n"
     ]
    },
    {
     "name": "stderr",
     "output_type": "stream",
     "text": [
      "\u001b[32mProgress: 100%|█████████████████████████████████████████| Time: 0:00:02\u001b[39m\n"
     ]
    },
    {
     "name": "stdout",
     "output_type": "stream",
     "text": [
      "Rep = 49; Nobs = 31622; stratified, CV, weighted = false true true; time = 0.55 min \n"
     ]
    },
    {
     "name": "stderr",
     "output_type": "stream",
     "text": [
      "\u001b[32mProgress: 100%|█████████████████████████████████████████| Time: 0:00:02\u001b[39m\n"
     ]
    },
    {
     "name": "stdout",
     "output_type": "stream",
     "text": [
      "Rep = 49; Nobs = 31622; stratified, CV, weighted = false true false; time = 0.3 min \n",
      "Rep = 49; Nobs = 31622; stratified, CV, weighted = false false true; time = 0.4 min \n",
      "Rep = 49; Nobs = 31622; stratified, CV, weighted = false false false; time = 0.14 min \n",
      "Rep = 50; Nobs = 10; stratified, CV, weighted = false true true; time = 0.27 min \n",
      "Rep = 50; Nobs = 10; stratified, CV, weighted = false true false; time = 0.27 min \n",
      "Rep = 50; Nobs = 10; stratified, CV, weighted = false false true; time = 0.14 min \n",
      "Rep = 50; Nobs = 10; stratified, CV, weighted = false false false; time = 0.14 min \n",
      "Rep = 50; Nobs = 31; stratified, CV, weighted = false true true; time = 0.28 min \n",
      "Rep = 50; Nobs = 31; stratified, CV, weighted = false true false; time = 0.26 min \n",
      "Rep = 50; Nobs = 31; stratified, CV, weighted = false false true; time = 0.14 min \n",
      "Rep = 50; Nobs = 31; stratified, CV, weighted = false false false; time = 0.14 min \n",
      "Rep = 50; Nobs = 100; stratified, CV, weighted = false true true; time = 0.27 min \n",
      "Rep = 50; Nobs = 100; stratified, CV, weighted = false true false; time = 0.27 min \n",
      "Rep = 50; Nobs = 100; stratified, CV, weighted = false false true; time = 0.15 min \n",
      "Rep = 50; Nobs = 100; stratified, CV, weighted = false false false; time = 0.15 min \n",
      "Rep = 50; Nobs = 316; stratified, CV, weighted = false true true; time = 0.29 min \n",
      "Rep = 50; Nobs = 316; stratified, CV, weighted = false true false; time = 0.28 min \n",
      "Rep = 50; Nobs = 316; stratified, CV, weighted = false false true; time = 0.14 min \n",
      "Rep = 50; Nobs = 316; stratified, CV, weighted = false false false; time = 0.14 min \n",
      "Rep = 50; Nobs = 1000; stratified, CV, weighted = false true true; time = 0.29 min \n",
      "Rep = 50; Nobs = 1000; stratified, CV, weighted = false true false; time = 0.28 min \n",
      "Rep = 50; Nobs = 1000; stratified, CV, weighted = false false true; time = 0.15 min \n",
      "Rep = 50; Nobs = 1000; stratified, CV, weighted = false false false; time = 0.14 min \n",
      "Rep = 50; Nobs = 3162; stratified, CV, weighted = false true true; time = 0.31 min \n",
      "Rep = 50; Nobs = 3162; stratified, CV, weighted = false true false; time = 0.28 min \n",
      "Rep = 50; Nobs = 3162; stratified, CV, weighted = false false true; time = 0.17 min \n",
      "Rep = 50; Nobs = 3162; stratified, CV, weighted = false false false; time = 0.14 min \n"
     ]
    },
    {
     "name": "stderr",
     "output_type": "stream",
     "text": [
      "\r",
      "\u001b[32mProgress:  80%|█████████████████████████████████        |  ETA: 0:00:00\u001b[39m\r",
      "\u001b[32mProgress: 100%|█████████████████████████████████████████| Time: 0:00:00\u001b[39m\n"
     ]
    },
    {
     "name": "stdout",
     "output_type": "stream",
     "text": [
      "Rep = 50; Nobs = 10000; stratified, CV, weighted = false true true; time = 0.38 min \n"
     ]
    },
    {
     "name": "stderr",
     "output_type": "stream",
     "text": [
      "\r",
      "\u001b[32mProgress:  80%|█████████████████████████████████        |  ETA: 0:00:00\u001b[39m\r",
      "\u001b[32mProgress: 100%|█████████████████████████████████████████| Time: 0:00:00\u001b[39m\n"
     ]
    },
    {
     "name": "stdout",
     "output_type": "stream",
     "text": [
      "Rep = 50; Nobs = 10000; stratified, CV, weighted = false true false; time = 0.26 min \n",
      "Rep = 50; Nobs = 10000; stratified, CV, weighted = false false true; time = 0.22 min \n",
      "Rep = 50; Nobs = 10000; stratified, CV, weighted = false false false; time = 0.14 min \n"
     ]
    },
    {
     "name": "stderr",
     "output_type": "stream",
     "text": [
      "\u001b[32mProgress:  80%|█████████████████████████████████        |  ETA: 0:00:00\u001b[39m"
     ]
    },
    {
     "name": "stdout",
     "output_type": "stream",
     "text": [
      "Rep = 50; Nobs = 31622; stratified, CV, weighted = false true true; time = 0.6 min \n"
     ]
    },
    {
     "name": "stderr",
     "output_type": "stream",
     "text": [
      "\u001b[32mProgress: 100%|█████████████████████████████████████████| Time: 0:00:02\u001b[39m\n",
      "\u001b[32mProgress: 100%|█████████████████████████████████████████| Time: 0:00:02\u001b[39m\n"
     ]
    },
    {
     "name": "stdout",
     "output_type": "stream",
     "text": [
      "Rep = 50; Nobs = 31622; stratified, CV, weighted = false true false; time = 0.3 min \n",
      "Rep = 50; Nobs = 31622; stratified, CV, weighted = false false true; time = 0.41 min \n",
      "Rep = 50; Nobs = 31622; stratified, CV, weighted = false false false; time = 0.14 min \n",
      "\n",
      " Total time = 371.75 mins"
     ]
    }
   ],
   "source": [
    "start = time()\n",
    "for rep in 1:n_reps \n",
    "    for (i,Nobs) in enumerate(Nobs_list)         \n",
    "        my_model, root = generate_model(dim, Nobs, pX_list[i], cov_dist, prior_sigma) \n",
    "        run_mbsamplers(my_model, root, mb_size, attempts[i], pX_list[i], Nobs, varying, rep, \n",
    "                       cov_dist, include_CV, include_stratified, adapt_speed, include_unif_SS, Print)\n",
    "    end\n",
    "end\n",
    "print(\"\\n Total time = \", round((time()-start)/60,2), \" mins\")"
   ]
  },
  {
   "cell_type": "code",
   "execution_count": 4,
   "metadata": {},
   "outputs": [
    {
     "name": "stderr",
     "output_type": "stream",
     "text": [
      "\u001b[32mProgress: 100%|█████████████████████████████████████████| Time: 0:02:00\u001b[39m\n"
     ]
    }
   ],
   "source": [
    "stratified = false\n",
    "d = dim\n",
    "subfolder = \"scaling_Nobs\"\n",
    "bts_Nobs = zeros(length(Nobs_list), n_reps, 4)\n",
    "@showprogress for rep in 1:n_reps\n",
    "    for (i,Nobs) in enumerate(Nobs_list) \n",
    "        for CV in [true,false] \n",
    "            for weighted in [true,false] \n",
    "                filename = \"/xtmp/PDMP_data_revision/\"*subfolder*\"/cov_dist:\"*cov_dist*\"-Nobs:\"*\n",
    "                            string(Nobs)*\"-rep:\"*string(rep)*\"-stratified:\"*string(stratified)*\n",
    "                            \"-CV:\"*string(CV)*\"-weighted:\"*string(weighted)*\"-d:\"*string(d)*\".jld\"\n",
    "                skel, bt = load(filename, \"xt_skeleton\", \"bt_skeleton\")\n",
    "                bts_Nobs[i,rep,1+CV+2*weighted] = bt[end]\n",
    "                skel, bt = nothing, nothing\n",
    "                gc()\n",
    "            end\n",
    "        end\n",
    "    end\n",
    "end"
   ]
  },
  {
   "cell_type": "code",
   "execution_count": 5,
   "metadata": {},
   "outputs": [
    {
     "data": {
      "text/plain": [
       "(8, 50, 4)"
      ]
     },
     "execution_count": 5,
     "metadata": {},
     "output_type": "execute_result"
    }
   ],
   "source": [
    "size(bts_Nobs)"
   ]
  },
  {
   "cell_type": "code",
   "execution_count": 6,
   "metadata": {},
   "outputs": [
    {
     "data": {
      "text/plain": [
       "8×1 Array{Float64,2}:\n",
       " 2.63685\n",
       " 3.41826\n",
       " 4.39128\n",
       " 5.38118\n",
       " 6.26186\n",
       " 7.10401\n",
       " 8.08241\n",
       " 8.98024"
      ]
     },
     "execution_count": 6,
     "metadata": {},
     "output_type": "execute_result"
    }
   ],
   "source": [
    "mean(bts_Nobs[:,:,3]./bts_Nobs[:,:,1],2)"
   ]
  },
  {
   "cell_type": "code",
   "execution_count": 7,
   "metadata": {},
   "outputs": [],
   "source": [
    "p1 = log.(Nobs_list);"
   ]
  },
  {
   "cell_type": "code",
   "execution_count": 8,
   "metadata": {},
   "outputs": [
    {
     "data": {
      "image/png": "[encoded data removed]",
      "text/plain": [
       "PyPlot.Figure(PyObject <Figure size 600x300 with 1 Axes>)"
      ]
     },
     "metadata": {},
     "output_type": "display_data"
    }
   ],
   "source": [
    "fig = figure(figsize=(6,3))\n",
    "plot(Nobs_list, mean(bts_Nobs[:,:,3]./bts_Nobs[:,:,1],2), \"o-\")\n",
    "plot(Nobs_list, p1, \"k--\")\n",
    "grid(true)\n",
    "xscale(\"log\")\n",
    "yscale(\"log\")"
   ]
  },
  {
   "cell_type": "code",
   "execution_count": null,
   "metadata": {
    "collapsed": true
   },
   "outputs": [],
   "source": []
  }
 ],
 "metadata": {
  "kernelspec": {
   "display_name": "Julia 0.6.4",
   "language": "julia",
   "name": "julia-0.6"
  },
  "language_info": {
   "file_extension": ".jl",
   "mimetype": "application/julia",
   "name": "julia",
   "version": "0.6.4"
  }
 },
 "nbformat": 4,
 "nbformat_minor": 2
}
