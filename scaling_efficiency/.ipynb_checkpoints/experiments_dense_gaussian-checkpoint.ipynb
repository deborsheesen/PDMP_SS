{
 "cells": [
  {
   "cell_type": "code",
   "execution_count": 1,
   "metadata": {},
   "outputs": [
    {
     "data": {
      "text/plain": [
       "plot_acfs_all (generic function with 2 methods)"
      ]
     },
     "execution_count": 1,
     "metadata": {},
     "output_type": "execute_result"
    }
   ],
   "source": [
    "using Distributions, TimeIt, ProgressMeter, PyPlot, JLD\n",
    "include(\"/home/postdoc/dsen/Desktop/Biometrika-code/mbsampler.jl\")\n",
    "include(\"temp.jl\")"
   ]
  },
  {
   "cell_type": "code",
   "execution_count": 10,
   "metadata": {},
   "outputs": [
    {
     "data": {
      "text/plain": [
       "false"
      ]
     },
     "execution_count": 10,
     "metadata": {},
     "output_type": "execute_result"
    }
   ],
   "source": [
    "mb_size = 10\n",
    "dim  = 5\n",
    "Nobs_list = Int.(floor.(logspace(1,4.5,8)))\n",
    "pX_list, attempts = fill(1., length(Nobs_list)), fill(10^5, length(Nobs_list))\n",
    "cov_dist = \"Gaussian\"\n",
    "n_reps = 50\n",
    "varying = \"Nobs\"\n",
    "include_stratified, include_unif_SS, include_CV = false, true, true\n",
    "prior_sigma = 1e5\n",
    "adapt_speed = \"none\"\n",
    "Print = false"
   ]
  },
  {
   "cell_type": "code",
   "execution_count": null,
   "metadata": {
    "scrolled": true
   },
   "outputs": [],
   "source": [
    "start = time()\n",
    "for rep in 1:n_reps \n",
    "    for (i,Nobs) in enumerate(Nobs_list)         \n",
    "        my_model, root = generate_model(dim, Nobs, pX_list[i], cov_dist, prior_sigma) \n",
    "        run_mbsamplers(my_model, root, mb_size, attempts[i], pX_list[i], Nobs, varying, rep, \n",
    "                       cov_dist, include_CV, include_stratified, adapt_speed, include_unif_SS, Print)\n",
    "    end\n",
    "end\n",
    "print(\"\\n Total time = \", round((time()-start)/60,2), \" mins\")"
   ]
  },
  {
   "cell_type": "code",
   "execution_count": null,
   "metadata": {
    "collapsed": true
   },
   "outputs": [],
   "source": []
  }
 ],
 "metadata": {
  "kernelspec": {
   "display_name": "Julia 0.6.4",
   "language": "julia",
   "name": "julia-0.6"
  },
  "language_info": {
   "file_extension": ".jl",
   "mimetype": "application/julia",
   "name": "julia",
   "version": "0.6.4"
  }
 },
 "nbformat": 4,
 "nbformat_minor": 2
}
