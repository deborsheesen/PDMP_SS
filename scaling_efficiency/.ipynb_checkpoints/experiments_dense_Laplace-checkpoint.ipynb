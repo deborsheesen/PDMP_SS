{
 "cells": [
  {
   "cell_type": "code",
   "execution_count": null,
   "metadata": {},
   "outputs": [],
   "source": [
    "using Distributions, TimeIt, ProgressMeter, PyPlot, JLD\n",
    "include(\"/home/postdoc/dsen/Desktop/Biometrika-code/mbsampler.jl\")\n",
    "include(\"temp.jl\")"
   ]
  },
  {
   "cell_type": "code",
   "execution_count": null,
   "metadata": {
    "scrolled": true
   },
   "outputs": [],
   "source": [
    "mb_size = 10\n",
    "dim  = 5\n",
    "Nobs_list = Int.(floor.(logspace(1,4.5,8)))\n",
    "pX_list, attempts = fill(1., length(Nobs_list)), fill(10^5, length(Nobs_list))\n",
    "cov_dist = \"Laplace\"\n",
    "n_reps = 50\n",
    "varying = \"Nobs\"\n",
    "include_stratified, include_unif_SS, include_CV = false, true, true\n",
    "prior_sigma = 1e5\n",
    "adapt_speed = \"none\"\n",
    "Print = false"
   ]
  },
  {
   "cell_type": "code",
   "execution_count": null,
   "metadata": {
    "scrolled": true
   },
   "outputs": [],
   "source": [
    "start = time()\n",
    "for rep in 1:n_reps \n",
    "    for (i,Nobs) in enumerate(Nobs_list)         \n",
    "        my_model, root = generate_model(dim, Nobs, pX_list[i], cov_dist, prior_sigma) \n",
    "        run_mbsamplers(my_model, root, mb_size, attempts[i], pX_list[i], Nobs, varying, rep, \n",
    "                       cov_dist, include_CV, include_stratified, adapt_speed, include_unif_SS, Print)\n",
    "    end\n",
    "end\n",
    "print(\"\\n Total time = \", round((time()-start)/60,2), \" mins\")"
   ]
  },
  {
   "cell_type": "code",
   "execution_count": null,
   "metadata": {},
   "outputs": [],
   "source": [
    "stratified = false\n",
    "d = dim\n",
    "subfolder = \"scaling_Nobs\"\n",
    "bts_Nobs = zeros(length(Nobs_list), n_reps, 4)\n",
    "@showprogress for rep in 1:n_reps\n",
    "    for (i,Nobs) in enumerate(Nobs_list) \n",
    "        for CV in [true,false] \n",
    "            for weighted in [true,false] \n",
    "                filename = \"/xtmp/PDMP_data_revision/\"*subfolder*\"/cov_dist:\"*cov_dist*\"-Nobs:\"*\n",
    "                            string(Nobs)*\"-rep:\"*string(rep)*\"-stratified:\"*string(stratified)*\n",
    "                            \"-CV:\"*string(CV)*\"-weighted:\"*string(weighted)*\"-d:\"*string(d)*\".jld\"\n",
    "                skel, bt = load(filename, \"xt_skeleton\", \"bt_skeleton\")\n",
    "                bts_Nobs[i,rep,1+CV+2*weighted] = bt[end]\n",
    "                skel, bt = nothing, nothing\n",
    "                gc()\n",
    "            end\n",
    "        end\n",
    "    end\n",
    "end"
   ]
  },
  {
   "cell_type": "code",
   "execution_count": null,
   "metadata": {},
   "outputs": [],
   "source": [
    "size(bts_Nobs)"
   ]
  },
  {
   "cell_type": "code",
   "execution_count": null,
   "metadata": {},
   "outputs": [],
   "source": [
    "mean(bts_Nobs[:,:,3]./bts_Nobs[:,:,1],2)"
   ]
  },
  {
   "cell_type": "code",
   "execution_count": null,
   "metadata": {},
   "outputs": [],
   "source": [
    "p1 = log.(Nobs_list);"
   ]
  },
  {
   "cell_type": "code",
   "execution_count": null,
   "metadata": {},
   "outputs": [],
   "source": [
    "fig = figure(figsize=(6,3))\n",
    "plot(Nobs_list, mean(bts_Nobs[:,:,3]./bts_Nobs[:,:,1],2), \"o-\")\n",
    "plot(Nobs_list, p1, \"k--\")\n",
    "grid(true)\n",
    "xscale(\"log\")\n",
    "yscale(\"log\")"
   ]
  },
  {
   "cell_type": "code",
   "execution_count": null,
   "metadata": {
    "collapsed": true
   },
   "outputs": [],
   "source": []
  }
 ],
 "metadata": {
  "kernelspec": {
   "display_name": "Julia 0.6.4",
   "language": "julia",
   "name": "julia-0.6"
  },
  "language_info": {
   "file_extension": ".jl",
   "mimetype": "application/julia",
   "name": "julia",
   "version": "0.6.4"
  }
 },
 "nbformat": 4,
 "nbformat_minor": 2
}
