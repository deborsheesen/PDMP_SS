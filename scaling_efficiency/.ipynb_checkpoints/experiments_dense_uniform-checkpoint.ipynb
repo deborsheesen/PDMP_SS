{
 "cells": [
  {
   "cell_type": "code",
   "execution_count": 1,
   "metadata": {},
   "outputs": [
    {
     "data": {
      "text/plain": [
       "plot_acfs_all (generic function with 2 methods)"
      ]
     },
     "execution_count": 1,
     "metadata": {},
     "output_type": "execute_result"
    }
   ],
   "source": [
    "using Distributions, TimeIt, ProgressMeter, PyPlot, JLD\n",
    "include(\"/home/postdoc/dsen/Desktop/Biometrika-code/mbsampler.jl\")\n",
    "include(\"temp.jl\")"
   ]
  },
  {
   "cell_type": "code",
   "execution_count": 2,
   "metadata": {},
   "outputs": [
    {
     "data": {
      "text/plain": [
       "false"
      ]
     },
     "execution_count": 2,
     "metadata": {},
     "output_type": "execute_result"
    }
   ],
   "source": [
    "mb_size = 10\n",
    "dim  = 5\n",
    "Nobs_list = Int.(floor.(logspace(1,4.5,8)))\n",
    "pX_list, attempts = fill(1., length(Nobs_list)), fill(10^5, length(Nobs_list))\n",
    "cov_dist = \"uniform\"\n",
    "n_reps = 50\n",
    "varying = \"Nobs\"\n",
    "include_stratified, include_unif_SS, include_CV = false, true, true\n",
    "prior_sigma = 1e5\n",
    "adapt_speed = \"none\"\n",
    "Print = false"
   ]
  },
  {
   "cell_type": "code",
   "execution_count": null,
   "metadata": {
    "scrolled": true
   },
   "outputs": [
    {
     "name": "stderr",
     "output_type": "stream",
     "text": [
      "\u001b[32mProgress: 100%|█████████████████████████████████████████| Time: 0:00:00\u001b[39m\n"
     ]
    },
    {
     "name": "stdout",
     "output_type": "stream",
     "text": [
      "Rep = 1; Nobs = 10; stratified, CV, weighted = false true true; time = 0.36 min \n",
      "Rep = 1; Nobs = 10; stratified, CV, weighted = false true false; time = 0.3 min \n",
      "Rep = 1; Nobs = 10; stratified, CV, weighted = false false true; time = 0.16 min \n",
      "Rep = 1; Nobs = 10; stratified, CV, weighted = false false false; time = 0.15 min \n",
      "Rep = 1; Nobs = 31; stratified, CV, weighted = false true true; time = 0.31 min \n",
      "Rep = 1; Nobs = 31; stratified, CV, weighted = false true false; time = 0.31 min \n",
      "Rep = 1; Nobs = 31; stratified, CV, weighted = false false true; time = 0.16 min \n",
      "Rep = 1; Nobs = 31; stratified, CV, weighted = false false false; time = 0.17 min \n",
      "Rep = 1; Nobs = 100; stratified, CV, weighted = false true true; time = 0.33 min \n",
      "Rep = 1; Nobs = 100; stratified, CV, weighted = false true false; time = 0.35 min \n",
      "Rep = 1; Nobs = 100; stratified, CV, weighted = false false true; time = 0.19 min \n",
      "Rep = 1; Nobs = 100; stratified, CV, weighted = false false false; time = 0.18 min \n",
      "Rep = 1; Nobs = 316; stratified, CV, weighted = false true true; time = 0.39 min \n",
      "Rep = 1; Nobs = 316; stratified, CV, weighted = false true false; time = 0.38 min \n",
      "Rep = 1; Nobs = 316; stratified, CV, weighted = false false true; time = 0.2 min \n",
      "Rep = 1; Nobs = 316; stratified, CV, weighted = false false false; time = 0.16 min \n",
      "Rep = 1; Nobs = 1000; stratified, CV, weighted = false true true; time = 0.31 min \n",
      "Rep = 1; Nobs = 1000; stratified, CV, weighted = false true false; time = 0.3 min \n",
      "Rep = 1; Nobs = 1000; stratified, CV, weighted = false false true; time = 0.16 min \n",
      "Rep = 1; Nobs = 1000; stratified, CV, weighted = false false false; time = 0.15 min \n"
     ]
    }
   ],
   "source": [
    "start = time()\n",
    "for rep in 1:n_reps \n",
    "    for (i,Nobs) in enumerate(Nobs_list)         \n",
    "        my_model, root = generate_model(dim, Nobs, pX_list[i], cov_dist, prior_sigma) \n",
    "        run_mbsamplers(my_model, root, mb_size, attempts[i], pX_list[i], Nobs, varying, rep, \n",
    "                       cov_dist, include_CV, include_stratified, adapt_speed, include_unif_SS, Print)\n",
    "    end\n",
    "end\n",
    "print(\"\\n Total time = \", round((time()-start)/60,2), \" mins\")"
   ]
  },
  {
   "cell_type": "code",
   "execution_count": null,
   "metadata": {
    "collapsed": true
   },
   "outputs": [],
   "source": []
  }
 ],
 "metadata": {
  "kernelspec": {
   "display_name": "Julia 0.6.4",
   "language": "julia",
   "name": "julia-0.6"
  },
  "language_info": {
   "file_extension": ".jl",
   "mimetype": "application/julia",
   "name": "julia",
   "version": "0.6.4"
  }
 },
 "nbformat": 4,
 "nbformat_minor": 2
}
