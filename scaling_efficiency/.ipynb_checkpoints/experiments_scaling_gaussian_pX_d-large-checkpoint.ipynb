{
 "cells": [
  {
   "cell_type": "code",
   "execution_count": 1,
   "metadata": {},
   "outputs": [
    {
     "data": {
      "text/plain": [
       "plot_acfs_all (generic function with 2 methods)"
      ]
     },
     "execution_count": 1,
     "metadata": {},
     "output_type": "execute_result"
    }
   ],
   "source": [
    "using Distributions, TimeIt, ProgressMeter, PyPlot, JLD\n",
    "include(\"zz_structures.jl\")\n",
    "include(\"mbsampler.jl\")\n",
    "include(\"temp.jl\")"
   ]
  },
  {
   "cell_type": "markdown",
   "metadata": {
    "collapsed": true
   },
   "source": [
    "### Scaling with pX:"
   ]
  },
  {
   "cell_type": "code",
   "execution_count": 4,
   "metadata": {
    "collapsed": true
   },
   "outputs": [],
   "source": [
    "mb_size = 1\n",
    "pX_list = logspace(-2,0,8)\n",
    "Nobs_list = repeat([5000], length(pX_list))\n",
    "attempts = repeat([5*10^6], length(pX_list))\n",
    "cov_dist = \"Gaussian\"\n",
    "n_reps = 1\n",
    "varying = \"pX\"\n",
    "include_CV, include_stratified = true, false\n",
    "prior_sigma = 1e0;"
   ]
  },
  {
   "cell_type": "code",
   "execution_count": 5,
   "metadata": {},
   "outputs": [
    {
     "name": "stdout",
     "output_type": "stream",
     "text": [
      "Rep = 1; pX = 0.01; stratified, CV, weighted = false true true; time = 16.77 min \n",
      "Rep = 1; pX = 0.01; stratified, CV, weighted = false true false; time = 16.62 min \n",
      "Rep = 1; pX = 0.01; stratified, CV, weighted = false false true; time = 31.17 min \n",
      "Rep = 1; pX = 0.01; stratified, CV, weighted = false false false; time = 15.89 min \n",
      "Rep = 1; pX = 0.019306977288832506; stratified, CV, weighted = false true true; time = 18.12 min \n",
      "Rep = 1; pX = 0.019306977288832506; stratified, CV, weighted = false true false; time = 18.25 min \n",
      "Rep = 1; pX = 0.019306977288832506; stratified, CV, weighted = false false true; time = 27.04 min \n",
      "Rep = 1; pX = 0.019306977288832506; stratified, CV, weighted = false false false; time = 11.49 min \n",
      "Rep = 1; pX = 0.0372759372031494; stratified, CV, weighted = false true true; time = 13.61 min \n",
      "Rep = 1; pX = 0.0372759372031494; stratified, CV, weighted = false true false; time = 15.34 min \n",
      "Rep = 1; pX = 0.0372759372031494; stratified, CV, weighted = false false true; time = 27.62 min \n",
      "Rep = 1; pX = 0.0372759372031494; stratified, CV, weighted = false false false; time = 15.77 min \n",
      "Rep = 1; pX = 0.07196856730011521; stratified, CV, weighted = false true true; time = 19.25 min \n",
      "Rep = 1; pX = 0.07196856730011521; stratified, CV, weighted = false true false; time = 13.19 min \n",
      "Rep = 1; pX = 0.07196856730011521; stratified, CV, weighted = false false true; time = 22.02 min \n",
      "Rep = 1; pX = 0.07196856730011521; stratified, CV, weighted = false false false; time = 17.01 min \n"
     ]
    },
    {
     "name": "stderr",
     "output_type": "stream",
     "text": [
      "\r",
      "\u001b[32mProgress:  80%|█████████████████████████████████        |  ETA: 0:00:00\u001b[39m\r",
      "\u001b[32mProgress: 100%|█████████████████████████████████████████| Time: 0:00:00\u001b[39m\n"
     ]
    },
    {
     "name": "stdout",
     "output_type": "stream",
     "text": [
      "Rep = 1; pX = 0.13894954943731377; stratified, CV, weighted = false true true; time = 19.13 min \n"
     ]
    },
    {
     "name": "stderr",
     "output_type": "stream",
     "text": [
      "\r",
      "\u001b[32mProgress:  70%|█████████████████████████████            |  ETA: 0:00:00\u001b[39m\r",
      "\u001b[32mProgress: 100%|█████████████████████████████████████████| Time: 0:00:00\u001b[39m\n"
     ]
    },
    {
     "name": "stdout",
     "output_type": "stream",
     "text": [
      "Rep = 1; pX = 0.13894954943731377; stratified, CV, weighted = false true false; time = 18.06 min \n",
      "Rep = 1; pX = 0.13894954943731377; stratified, CV, weighted = false false true; time = 20.9 min \n",
      "Rep = 1; pX = 0.13894954943731377; stratified, CV, weighted = false false false; time = 15.83 min \n"
     ]
    },
    {
     "name": "stderr",
     "output_type": "stream",
     "text": [
      "\u001b[32mProgress: 100%|█████████████████████████████████████████| Time: 0:00:00\u001b[39m\n"
     ]
    },
    {
     "name": "stdout",
     "output_type": "stream",
     "text": [
      "Rep = 1; pX = 0.2682695795279726; stratified, CV, weighted = false true true; time = 18.93 min \n"
     ]
    },
    {
     "name": "stderr",
     "output_type": "stream",
     "text": [
      "\u001b[32mProgress: 100%|█████████████████████████████████████████| Time: 0:00:00\u001b[39m\n"
     ]
    },
    {
     "name": "stdout",
     "output_type": "stream",
     "text": [
      "Rep = 1; pX = 0.2682695795279726; stratified, CV, weighted = false true false; time = 17.13 min \n",
      "Rep = 1; pX = 0.2682695795279726; stratified, CV, weighted = false false true; time = 19.79 min \n",
      "Rep = 1; pX = 0.2682695795279726; stratified, CV, weighted = false false false; time = 15.52 min \n"
     ]
    },
    {
     "name": "stderr",
     "output_type": "stream",
     "text": [
      "\u001b[32mProgress: 100%|█████████████████████████████████████████| Time: 0:00:02\u001b[39m\n"
     ]
    },
    {
     "name": "stdout",
     "output_type": "stream",
     "text": [
      "Rep = 1; pX = 0.5179474679231212; stratified, CV, weighted = false true true; time = 18.47 min \n"
     ]
    },
    {
     "name": "stderr",
     "output_type": "stream",
     "text": [
      "\u001b[32mProgress: 100%|█████████████████████████████████████████| Time: 0:00:02\u001b[39m\n"
     ]
    },
    {
     "name": "stdout",
     "output_type": "stream",
     "text": [
      "Rep = 1; pX = 0.5179474679231212; stratified, CV, weighted = false true false; time = 18.67 min \n",
      "Rep = 1; pX = 0.5179474679231212; stratified, CV, weighted = false false true; time = 20.5 min \n",
      "Rep = 1; pX = 0.5179474679231212; stratified, CV, weighted = false false false; time = 13.26 min \n"
     ]
    },
    {
     "name": "stderr",
     "output_type": "stream",
     "text": [
      "\u001b[32mProgress: 100%|█████████████████████████████████████████| Time: 0:00:07\u001b[39m\n"
     ]
    },
    {
     "name": "stdout",
     "output_type": "stream",
     "text": [
      "Rep = 1; pX = 1.0; stratified, CV, weighted = false true true; time = 13.29 min \n"
     ]
    },
    {
     "name": "stderr",
     "output_type": "stream",
     "text": [
      "\u001b[32mProgress: 100%|█████████████████████████████████████████| Time: 0:00:05\u001b[39m\n"
     ]
    },
    {
     "name": "stdout",
     "output_type": "stream",
     "text": [
      "Rep = 1; pX = 1.0; stratified, CV, weighted = false true false; time = 9.99 min \n",
      "Rep = 1; pX = 1.0; stratified, CV, weighted = false false true; time = 10.77 min \n",
      "Rep = 1; pX = 1.0; stratified, CV, weighted = false false false; time = 8.62 min \n",
      "\n",
      " Total time = 558.36 mins"
     ]
    }
   ],
   "source": [
    "start = time()\n",
    "for i in 1:length(pX_list) \n",
    "    my_model, root = generate_model(50, Nobs_list[i], pX_list[i], cov_dist, prior_sigma) \n",
    "    for rep in 1:n_reps \n",
    "        run_mbsamplers(my_model, root, mb_size, attempts[i], pX_list[i], \n",
    "                       Nobs_list[i], varying, rep, cov_dist, include_CV, include_stratified)\n",
    "    end\n",
    "end\n",
    "print(\"\\n Total time = \", round((time()-start)/60,2), \" mins\")"
   ]
  },
  {
   "cell_type": "code",
   "execution_count": null,
   "metadata": {
    "collapsed": true
   },
   "outputs": [],
   "source": []
  },
  {
   "cell_type": "code",
   "execution_count": null,
   "metadata": {
    "collapsed": true
   },
   "outputs": [],
   "source": []
  },
  {
   "cell_type": "code",
   "execution_count": null,
   "metadata": {
    "collapsed": true
   },
   "outputs": [],
   "source": []
  }
 ],
 "metadata": {
  "kernelspec": {
   "display_name": "Julia 0.6.4",
   "language": "julia",
   "name": "julia-0.6"
  },
  "language_info": {
   "file_extension": ".jl",
   "mimetype": "application/julia",
   "name": "julia",
   "version": "0.6.4"
  }
 },
 "nbformat": 4,
 "nbformat_minor": 2
}
