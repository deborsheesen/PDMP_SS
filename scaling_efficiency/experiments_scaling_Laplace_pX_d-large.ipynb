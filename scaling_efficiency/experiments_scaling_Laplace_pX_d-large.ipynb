{
 "cells": [
  {
   "cell_type": "code",
   "execution_count": 1,
   "metadata": {},
   "outputs": [
    {
     "data": {
      "text/plain": [
       "plot_acfs_all (generic function with 2 methods)"
      ]
     },
     "execution_count": 1,
     "metadata": {},
     "output_type": "execute_result"
    }
   ],
   "source": [
    "using Distributions, TimeIt, ProgressMeter, PyPlot, JLD\n",
    "include(\"zz_structures.jl\")\n",
    "include(\"mbsampler.jl\")\n",
    "include(\"temp.jl\")"
   ]
  },
  {
   "cell_type": "markdown",
   "metadata": {
    "collapsed": true
   },
   "source": [
    "### Scaling with pX:"
   ]
  },
  {
   "cell_type": "code",
   "execution_count": 4,
   "metadata": {
    "collapsed": true,
    "scrolled": true
   },
   "outputs": [],
   "source": [
    "mb_size = 1\n",
    "pX_list = logspace(-2,0,8)\n",
    "Nobs_list = repeat([5000], length(pX_list))\n",
    "attempts = repeat([5*10^6], length(pX_list))\n",
    "cov_dist = \"Laplace\"\n",
    "n_reps = 1\n",
    "varying = \"pX\"\n",
    "include_CV, include_stratified = true, false\n",
    "prior_sigma = 1e0;"
   ]
  },
  {
   "cell_type": "code",
   "execution_count": 5,
   "metadata": {},
   "outputs": [
    {
     "name": "stdout",
     "output_type": "stream",
     "text": [
      "Rep = 1; pX = 0.01; stratified, CV, weighted = false true true; time = 15.58 min \n",
      "Rep = 1; pX = 0.01; stratified, CV, weighted = false true false; time = 11.94 min \n",
      "Rep = 1; pX = 0.01; stratified, CV, weighted = false false true; time = 19.39 min \n",
      "Rep = 1; pX = 0.01; stratified, CV, weighted = false false false; time = 11.17 min \n",
      "Rep = 1; pX = 0.019306977288832506; stratified, CV, weighted = false true true; time = 13.31 min \n",
      "Rep = 1; pX = 0.019306977288832506; stratified, CV, weighted = false true false; time = 12.3 min \n",
      "Rep = 1; pX = 0.019306977288832506; stratified, CV, weighted = false false true; time = 25.52 min \n",
      "Rep = 1; pX = 0.019306977288832506; stratified, CV, weighted = false false false; time = 15.69 min \n",
      "Rep = 1; pX = 0.0372759372031494; stratified, CV, weighted = false true true; time = 19.22 min \n",
      "Rep = 1; pX = 0.0372759372031494; stratified, CV, weighted = false true false; time = 17.68 min \n",
      "Rep = 1; pX = 0.0372759372031494; stratified, CV, weighted = false false true; time = 22.36 min \n",
      "Rep = 1; pX = 0.0372759372031494; stratified, CV, weighted = false false false; time = 15.27 min \n",
      "Rep = 1; pX = 0.07196856730011521; stratified, CV, weighted = false true true; time = 18.7 min \n",
      "Rep = 1; pX = 0.07196856730011521; stratified, CV, weighted = false true false; time = 17.53 min \n",
      "Rep = 1; pX = 0.07196856730011521; stratified, CV, weighted = false false true; time = 23.28 min \n",
      "Rep = 1; pX = 0.07196856730011521; stratified, CV, weighted = false false false; time = 15.4 min \n"
     ]
    },
    {
     "name": "stderr",
     "output_type": "stream",
     "text": [
      "\r",
      "\u001b[32mProgress:  94%|███████████████████████████████████████  |  ETA: 0:00:00\u001b[39m\r",
      "\u001b[32mProgress: 100%|█████████████████████████████████████████| Time: 0:00:00\u001b[39m\n"
     ]
    },
    {
     "name": "stdout",
     "output_type": "stream",
     "text": [
      "Rep = 1; pX = 0.13894954943731377; stratified, CV, weighted = false true true; time = 17.58 min \n"
     ]
    },
    {
     "name": "stderr",
     "output_type": "stream",
     "text": [
      "\r",
      "\u001b[32mProgress:  78%|████████████████████████████████         |  ETA: 0:00:00\u001b[39m\r",
      "\u001b[32mProgress: 100%|█████████████████████████████████████████| Time: 0:00:00\u001b[39m\n"
     ]
    },
    {
     "name": "stdout",
     "output_type": "stream",
     "text": [
      "Rep = 1; pX = 0.13894954943731377; stratified, CV, weighted = false true false; time = 18.66 min \n",
      "Rep = 1; pX = 0.13894954943731377; stratified, CV, weighted = false false true; time = 22.88 min \n",
      "Rep = 1; pX = 0.13894954943731377; stratified, CV, weighted = false false false; time = 15.62 min \n"
     ]
    },
    {
     "name": "stderr",
     "output_type": "stream",
     "text": [
      "\u001b[32mProgress: 100%|█████████████████████████████████████████| Time: 0:00:01\u001b[39m\n"
     ]
    },
    {
     "name": "stdout",
     "output_type": "stream",
     "text": [
      "Rep = 1; pX = 0.2682695795279726; stratified, CV, weighted = false true true; time = 19.34 min \n"
     ]
    },
    {
     "name": "stderr",
     "output_type": "stream",
     "text": [
      "\u001b[32mProgress: 100%|█████████████████████████████████████████| Time: 0:00:00\u001b[39m\n"
     ]
    },
    {
     "name": "stdout",
     "output_type": "stream",
     "text": [
      "Rep = 1; pX = 0.2682695795279726; stratified, CV, weighted = false true false; time = 12.41 min \n",
      "Rep = 1; pX = 0.2682695795279726; stratified, CV, weighted = false false true; time = 15.0 min \n",
      "Rep = 1; pX = 0.2682695795279726; stratified, CV, weighted = false false false; time = 16.32 min \n"
     ]
    },
    {
     "name": "stderr",
     "output_type": "stream",
     "text": [
      "\u001b[32mProgress: 100%|█████████████████████████████████████████| Time: 0:00:02\u001b[39m\n"
     ]
    },
    {
     "name": "stdout",
     "output_type": "stream",
     "text": [
      "Rep = 1; pX = 0.5179474679231212; stratified, CV, weighted = false true true; time = 17.96 min \n"
     ]
    },
    {
     "name": "stderr",
     "output_type": "stream",
     "text": [
      "\u001b[32mProgress: 100%|█████████████████████████████████████████| Time: 0:00:02\u001b[39m\n"
     ]
    },
    {
     "name": "stdout",
     "output_type": "stream",
     "text": [
      "Rep = 1; pX = 0.5179474679231212; stratified, CV, weighted = false true false; time = 18.14 min \n",
      "Rep = 1; pX = 0.5179474679231212; stratified, CV, weighted = false false true; time = 19.53 min \n",
      "Rep = 1; pX = 0.5179474679231212; stratified, CV, weighted = false false false; time = 15.29 min \n"
     ]
    },
    {
     "name": "stderr",
     "output_type": "stream",
     "text": [
      "\u001b[32mProgress: 100%|█████████████████████████████████████████| Time: 0:00:07\u001b[39m\n"
     ]
    },
    {
     "name": "stdout",
     "output_type": "stream",
     "text": [
      "Rep = 1; pX = 1.0; stratified, CV, weighted = false true true; time = 18.66 min \n"
     ]
    },
    {
     "name": "stderr",
     "output_type": "stream",
     "text": [
      "\u001b[32mProgress: 100%|█████████████████████████████████████████| Time: 0:00:08\u001b[39m\n"
     ]
    },
    {
     "name": "stdout",
     "output_type": "stream",
     "text": [
      "Rep = 1; pX = 1.0; stratified, CV, weighted = false true false; time = 16.19 min \n",
      "Rep = 1; pX = 1.0; stratified, CV, weighted = false false true; time = 12.64 min \n",
      "Rep = 1; pX = 1.0; stratified, CV, weighted = false false false; time = 9.04 min \n",
      "\n",
      " Total time = 539.92 mins"
     ]
    }
   ],
   "source": [
    "start = time()\n",
    "for i in 1:length(pX_list) \n",
    "    my_model, root = generate_model(50, Nobs_list[i], pX_list[i], cov_dist, prior_sigma) \n",
    "    for rep in 1:n_reps \n",
    "        run_mbsamplers(my_model, root, mb_size, attempts[i], pX_list[i], \n",
    "                       Nobs_list[i], varying, rep, cov_dist, include_CV, include_stratified)\n",
    "    end\n",
    "end\n",
    "print(\"\\n Total time = \", round((time()-start)/60,2), \" mins\")"
   ]
  },
  {
   "cell_type": "code",
   "execution_count": null,
   "metadata": {
    "collapsed": true
   },
   "outputs": [],
   "source": []
  },
  {
   "cell_type": "code",
   "execution_count": null,
   "metadata": {
    "collapsed": true
   },
   "outputs": [],
   "source": []
  }
 ],
 "metadata": {
  "kernelspec": {
   "display_name": "Julia 0.6.4",
   "language": "julia",
   "name": "julia-0.6"
  },
  "language_info": {
   "file_extension": ".jl",
   "mimetype": "application/julia",
   "name": "julia",
   "version": "0.6.4"
  }
 },
 "nbformat": 4,
 "nbformat_minor": 2
}
