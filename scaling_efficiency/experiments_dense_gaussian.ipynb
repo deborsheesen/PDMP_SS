{
 "cells": [
  {
   "cell_type": "code",
   "execution_count": 1,
   "metadata": {},
   "outputs": [
    {
     "data": {
      "text/plain": [
       "plot_acfs_all (generic function with 2 methods)"
      ]
     },
     "execution_count": 1,
     "metadata": {},
     "output_type": "execute_result"
    }
   ],
   "source": [
    "using Distributions, TimeIt, ProgressMeter, PyPlot, JLD\n",
    "include(\"mbsampler.jl\")\n",
    "include(\"temp.jl\")"
   ]
  },
  {
   "cell_type": "code",
   "execution_count": 4,
   "metadata": {
    "collapsed": true
   },
   "outputs": [],
   "source": [
    "mb_size = 50\n",
    "dim  = 50\n",
    "Nobs_list = [500]\n",
    "pX_list = [1.]\n",
    "attempts = [10^8]\n",
    "cov_dist = \"Gaussian\"\n",
    "n_reps = 1\n",
    "varying = \"Nobs\"\n",
    "include_CV, include_stratified = true, false\n",
    "prior_sigma = 1e0\n",
    "adapt_speed = \"by_var\";"
   ]
  },
  {
   "cell_type": "code",
   "execution_count": 5,
   "metadata": {
    "scrolled": false
   },
   "outputs": [
    {
     "name": "stdout",
     "output_type": "stream",
     "text": [
      "Rep = 1; Nobs = 500; stratified, CV, weighted = false true true; time = 260.46 min \n",
      "Rep = 1; Nobs = 500; stratified, CV, weighted = false false true; time = 278.78 min \n",
      "\n",
      " Total time = 539.27 mins"
     ]
    }
   ],
   "source": [
    "start = time()\n",
    "for rep in 1:n_reps \n",
    "    for i in 1:length(Nobs_list) \n",
    "        my_model, root = generate_model(dim, Nobs_list[i], pX_list[i], cov_dist, prior_sigma) \n",
    "        run_mbsamplers(my_model, root, mb_size, attempts[i], pX_list[i], Nobs_list[i], \n",
    "                       varying, rep, cov_dist, include_CV, include_stratified, adapt_speed)\n",
    "    end\n",
    "end\n",
    "print(\"\\n Total time = \", round((time()-start)/60,2), \" mins\")"
   ]
  },
  {
   "cell_type": "code",
   "execution_count": 6,
   "metadata": {},
   "outputs": [
    {
     "name": "stdout",
     "output_type": "stream",
     "text": [
      "Rep = 1; Nobs = 500; stratified, CV, weighted = false true true; time = 22.94 min \n",
      "Rep = 1; Nobs = 500; stratified, CV, weighted = false false true; time = 21.89 min \n",
      "\n",
      " Total time = 44.84 mins"
     ]
    }
   ],
   "source": [
    "attempts = [10^7]\n",
    "dim = 10\n",
    "start = time()\n",
    "for rep in 1:n_reps \n",
    "    for i in 1:length(Nobs_list) \n",
    "        my_model, root = generate_model(dim, Nobs_list[i], pX_list[i], cov_dist, prior_sigma) \n",
    "        run_mbsamplers(my_model, root, mb_size, attempts[i], pX_list[i], Nobs_list[i], \n",
    "                       varying, rep, cov_dist, include_CV, include_stratified, adapt_speed)\n",
    "    end\n",
    "end\n",
    "print(\"\\n Total time = \", round((time()-start)/60,2), \" mins\")"
   ]
  },
  {
   "cell_type": "code",
   "execution_count": null,
   "metadata": {
    "collapsed": true
   },
   "outputs": [],
   "source": []
  }
 ],
 "metadata": {
  "kernelspec": {
   "display_name": "Julia 0.6.4",
   "language": "julia",
   "name": "julia-0.6"
  },
  "language_info": {
   "file_extension": ".jl",
   "mimetype": "application/julia",
   "name": "julia",
   "version": "0.6.4"
  }
 },
 "nbformat": 4,
 "nbformat_minor": 2
}
